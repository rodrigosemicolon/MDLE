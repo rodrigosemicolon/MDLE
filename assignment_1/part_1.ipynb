{
 "cells": [
  {
   "cell_type": "markdown",
   "id": "expensive-visit",
   "metadata": {},
   "source": [
    "#### Imports"
   ]
  },
  {
   "cell_type": "code",
   "execution_count": 1,
   "id": "foster-bracelet",
   "metadata": {},
   "outputs": [],
   "source": [
    "from pyspark import SparkContext\n",
    "from datetime import datetime"
   ]
  },
  {
   "cell_type": "markdown",
   "id": "strange-trail",
   "metadata": {},
   "source": [
    "### Spark\n",
    "\n",
    "\n",
    "Create a new SparkContext"
   ]
  },
  {
   "cell_type": "code",
   "execution_count": 2,
   "id": "assisted-arnold",
   "metadata": {},
   "outputs": [],
   "source": [
    "#local spark\n",
    "sc = SparkContext(appName=\"Conditions\")\n",
    "#vocareum\n",
    "#sc = spark.sparkContext"
   ]
  },
  {
   "cell_type": "code",
   "execution_count": 3,
   "id": "industrial-speaking",
   "metadata": {},
   "outputs": [],
   "source": [
    "threshold=1000\n",
    "min_std_lift=0.2"
   ]
  },
  {
   "cell_type": "markdown",
   "id": "aggressive-government",
   "metadata": {},
   "source": [
    "#### Read data\n",
    "\n",
    "Here we read the test data and map it by splitting by \",\" and ignoring the header row."
   ]
  },
  {
   "cell_type": "code",
   "execution_count": 4,
   "id": "unsigned-stanford",
   "metadata": {},
   "outputs": [
    {
     "data": {
      "text/plain": [
       "[['2017-01-14',\n",
       "  '2017-03-30',\n",
       "  '09e4e8cb-29c2-4ef4-86c0-a6ff0ba25d2a',\n",
       "  '88e540ab-a7d7-47de-93c1-720a06f3d601',\n",
       "  '65363002',\n",
       "  'Otitis media'],\n",
       " ['2012-09-15',\n",
       "  '2012-09-16',\n",
       "  'b0a03e8c-8d0f-4242-9548-40f4d294eba8',\n",
       "  'e89414dc-d0c6-478f-86c0-d08bac6ad0a2',\n",
       "  '241929008',\n",
       "  'Acute allergic reaction']]"
      ]
     },
     "execution_count": 4,
     "metadata": {},
     "output_type": "execute_result"
    }
   ],
   "source": [
    "data = sc.textFile(\"conditions.csv\")\n",
    "data = data.map(lambda line: line.split(\",\")).filter(lambda v: v[0]!=\"START\")\n",
    "data.take(2)\n"
   ]
  },
  {
   "cell_type": "markdown",
   "id": "convenient-helping",
   "metadata": {},
   "source": [
    "### Reorganize data\n",
    "\n",
    "Next we map the unique conditions by their code and respective description"
   ]
  },
  {
   "cell_type": "code",
   "execution_count": 5,
   "id": "acceptable-silver",
   "metadata": {},
   "outputs": [
    {
     "data": {
      "text/plain": [
       "[(40275004, 'Contact dermatitis'),\n",
       " (126906006, 'Neoplasm of prostate'),\n",
       " (399211009, 'History of myocardial infarction (situation)'),\n",
       " (97331000119101,\n",
       "  'Macular edema and retinopathy due to type 2 diabetes mellitus (disorder)'),\n",
       " (241929008, 'Acute allergic reaction')]"
      ]
     },
     "execution_count": 5,
     "metadata": {},
     "output_type": "execute_result"
    }
   ],
   "source": [
    "condition_map = data.map(lambda line: (int(line[4]),line[5])) \\\n",
    ".distinct()\n",
    "\n",
    "condition_map.take(5)"
   ]
  },
  {
   "cell_type": "markdown",
   "id": "cordless-chess",
   "metadata": {},
   "source": [
    "And save the data  to new file"
   ]
  },
  {
   "cell_type": "code",
   "execution_count": 6,
   "id": "fixed-multimedia",
   "metadata": {},
   "outputs": [],
   "source": [
    "format_time = datetime.now().strftime(\"%Y-%m-%dT%H:%M:%S\")\n",
    "condition_map.saveAsTextFile(\"{0}/{1}\".format(\"condition_map\", format_time))\n"
   ]
  },
  {
   "cell_type": "markdown",
   "id": "heavy-chambers",
   "metadata": {},
   "source": [
    "Here we get all the unique patient-condition pairs to a map.\n",
    "\n",
    "We map by patient-(condition) code"
   ]
  },
  {
   "cell_type": "code",
   "execution_count": 7,
   "id": "incident-buddy",
   "metadata": {},
   "outputs": [
    {
     "data": {
      "text/plain": [
       "[[65966004, 55822004, 162864005, 24079001],\n",
       " [446096008,\n",
       "  44465007,\n",
       "  284549007,\n",
       "  72892002,\n",
       "  198992004,\n",
       "  53741008,\n",
       "  444814009,\n",
       "  43878008]]"
      ]
     },
     "execution_count": 7,
     "metadata": {},
     "output_type": "execute_result"
    }
   ],
   "source": [
    "#Map by PATIENT-(CONDITION)CODE, \n",
    "patient_rdd2 = data.map(lambda line: (line[2],line[4])) \\\n",
    ".groupByKey() \\\n",
    ".map(lambda tp: [int(j) for j in set(tp[1])]) \n",
    "\n",
    "patient_rdd2.cache()\n",
    "n_buckets = patient_rdd2.count()\n",
    "patient_rdd2.take(2)"
   ]
  },
  {
   "cell_type": "markdown",
   "id": "integrated-vessel",
   "metadata": {},
   "source": [
    "### Most frequent"
   ]
  },
  {
   "cell_type": "markdown",
   "id": "german-syndication",
   "metadata": {},
   "source": [
    "Here we map the most frequent conditions and their counts.\n",
    "\n",
    "flatMap: We flatmap them by key, and set their value to 1;\n",
    "reduceByKey: We reduce by key and make all keys unique and their values their respective counts;\n",
    "sortBy: We sort it by decreasingly by their count;\n",
    "filter: And finally we apply the threshold, keeping only the ones that have higher counts than it. "
   ]
  },
  {
   "cell_type": "code",
   "execution_count": 8,
   "id": "alternative-package",
   "metadata": {},
   "outputs": [
    {
     "data": {
      "text/plain": [
       "[(444814009, 751940),\n",
       " (195662009, 524692),\n",
       " (10509002, 461495),\n",
       " (162864005, 365567),\n",
       " (271737000, 355372),\n",
       " (15777000, 354315),\n",
       " (59621000, 305134),\n",
       " (40055000, 250239),\n",
       " (72892002, 205390),\n",
       " (19169002, 201894)]"
      ]
     },
     "execution_count": 8,
     "metadata": {},
     "output_type": "execute_result"
    }
   ],
   "source": [
    "frequent_singles = patient_rdd2 \\\n",
    ".flatMap(lambda l: [(i,1) for i in l]) \\\n",
    ".reduceByKey(lambda v1,v2:v1+v2) \\\n",
    ".sortBy(lambda a:a[1],False) \\\n",
    ".filter(lambda k: k[1]>threshold)\n",
    "\n",
    "frequent_singles.take(10)"
   ]
  },
  {
   "cell_type": "markdown",
   "id": "german-billion",
   "metadata": {},
   "source": [
    "Once we have the most frequent items we create a set with them"
   ]
  },
  {
   "cell_type": "code",
   "execution_count": 9,
   "id": "consecutive-section",
   "metadata": {},
   "outputs": [
    {
     "data": {
      "text/plain": [
       "{1734006,\n",
       " 5602001,\n",
       " 6072007,\n",
       " 7200002,\n",
       " 10509002,\n",
       " 15724005,\n",
       " 15777000,\n",
       " 16114001,\n",
       " 19169002,\n",
       " 22298006,\n",
       " 24079001,\n",
       " 26929004,\n",
       " 30832001,\n",
       " 33737001,\n",
       " 35999006,\n",
       " 36971009,\n",
       " 38822007,\n",
       " 39848009,\n",
       " 40055000,\n",
       " 40275004,\n",
       " 43878008,\n",
       " 44054006,\n",
       " 44465007,\n",
       " 47505003,\n",
       " 47693006,\n",
       " 49436004,\n",
       " 53741008,\n",
       " 55680006,\n",
       " 55822004,\n",
       " 58150001,\n",
       " 59621000,\n",
       " 62106007,\n",
       " 62564004,\n",
       " 64859006,\n",
       " 65275009,\n",
       " 65363002,\n",
       " 65966004,\n",
       " 68496003,\n",
       " 69896004,\n",
       " 70704007,\n",
       " 72892002,\n",
       " 74400008,\n",
       " 75498004,\n",
       " 79586000,\n",
       " 80394007,\n",
       " 82423001,\n",
       " 83664006,\n",
       " 84757009,\n",
       " 87433001,\n",
       " 88805009,\n",
       " 90560007,\n",
       " 92691004,\n",
       " 93761005,\n",
       " 94260004,\n",
       " 95417003,\n",
       " 109838007,\n",
       " 110030002,\n",
       " 126906006,\n",
       " 127013003,\n",
       " 128613002,\n",
       " 156073000,\n",
       " 162573006,\n",
       " 162864005,\n",
       " 185086009,\n",
       " 192127007,\n",
       " 195662009,\n",
       " 195967001,\n",
       " 196416002,\n",
       " 197927001,\n",
       " 198992004,\n",
       " 201834006,\n",
       " 230265002,\n",
       " 230690007,\n",
       " 232353008,\n",
       " 233604007,\n",
       " 233678006,\n",
       " 235919008,\n",
       " 236077008,\n",
       " 237602007,\n",
       " 239720000,\n",
       " 239872002,\n",
       " 239873007,\n",
       " 241929008,\n",
       " 254632001,\n",
       " 254637007,\n",
       " 254837009,\n",
       " 262574004,\n",
       " 263102004,\n",
       " 271737000,\n",
       " 275272006,\n",
       " 283371005,\n",
       " 283385000,\n",
       " 284549007,\n",
       " 284551006,\n",
       " 301011002,\n",
       " 302870006,\n",
       " 307731004,\n",
       " 314994000,\n",
       " 359817006,\n",
       " 363406005,\n",
       " 367498001,\n",
       " 370143000,\n",
       " 370247008,\n",
       " 398254007,\n",
       " 399211009,\n",
       " 403190006,\n",
       " 403191005,\n",
       " 403192003,\n",
       " 408512008,\n",
       " 410429000,\n",
       " 422034002,\n",
       " 424132000,\n",
       " 428251008,\n",
       " 429007001,\n",
       " 431855005,\n",
       " 431856006,\n",
       " 443165006,\n",
       " 444448004,\n",
       " 444470001,\n",
       " 444814009,\n",
       " 446096008,\n",
       " 449868002,\n",
       " 703151001,\n",
       " 713197008,\n",
       " 1501000119109,\n",
       " 1551000119108,\n",
       " 67811000119102,\n",
       " 90781000119102,\n",
       " 97331000119101,\n",
       " 124171000119105,\n",
       " 368581000119106}"
      ]
     },
     "execution_count": 9,
     "metadata": {},
     "output_type": "execute_result"
    }
   ],
   "source": [
    "frequent_single_rdd = frequent_singles.map(lambda a: a[0])\n",
    "frequent_single_set = sc.broadcast(set(frequent_single_rdd.collect()))\n",
    "frequent_singles.saveAsTextFile(\"{0}/{1}\".format(\"frequent_singles_count\", format_time))\n",
    "frequent_single_set.value"
   ]
  },
  {
   "cell_type": "markdown",
   "id": "civil-auction",
   "metadata": {},
   "source": [
    "### Build Pairs"
   ]
  },
  {
   "cell_type": "code",
   "execution_count": 10,
   "id": "dressed-killing",
   "metadata": {},
   "outputs": [],
   "source": [
    "def pair_forming(l):\n",
    "    pairs=[]\n",
    "    l.sort()\n",
    "    for i in range(0,len(l)):\n",
    "        if l[i] in frequent_single_set.value:\n",
    "            for j in range(i+1,len(l)):\n",
    "                if  l[i]!=l[j] and l[j] in frequent_single_set.value:\n",
    "                    pairs.append((l[i],l[j]))\n",
    "    return pairs"
   ]
  },
  {
   "cell_type": "markdown",
   "id": "abandoned-alias",
   "metadata": {},
   "source": [
    "### Build Triples"
   ]
  },
  {
   "cell_type": "code",
   "execution_count": 11,
   "id": "casual-breed",
   "metadata": {},
   "outputs": [],
   "source": [
    "def triple_forming(l):\n",
    "    triples=[]\n",
    "    pairs = pair_forming(l)\n",
    "    for i,j in pairs:\n",
    "        for k in l:\n",
    "            if (i,j) in frequent_pair_set.value and (i,k) in frequent_pair_set.value and (j,k) in frequent_pair_set.value and k!=i and k!=j:#or (j,i) in frequent_pairs#prob unecessary\n",
    "                  triples.append(tuple(sorted([i,j,k])))\n",
    "    return triples"
   ]
  },
  {
   "cell_type": "code",
   "execution_count": 12,
   "id": "minor-brunswick",
   "metadata": {},
   "outputs": [],
   "source": [
    "conds = sc.broadcast(condition_map.collectAsMap())"
   ]
  },
  {
   "cell_type": "markdown",
   "id": "increased-gibson",
   "metadata": {},
   "source": [
    "### Count the pairs"
   ]
  },
  {
   "cell_type": "markdown",
   "id": "bridal-cincinnati",
   "metadata": {},
   "source": [
    "10 Most frequent itemsets of size 2"
   ]
  },
  {
   "cell_type": "code",
   "execution_count": 13,
   "id": "fossil-haiti",
   "metadata": {},
   "outputs": [
    {
     "name": "stdout",
     "output_type": "stream",
     "text": [
      "['Acute viral pharyngitis (disorder)', 'Viral sinusitis (disorder)']  with count  343651\n",
      "['Acute bronchitis (disorder)', 'Viral sinusitis (disorder)']  with count  302516\n",
      "['Prediabetes', 'Anemia (disorder)']  with count  289176\n",
      "['Body mass index 30+ - obesity (finding)', 'Viral sinusitis (disorder)']  with count  243812\n",
      "['Anemia (disorder)', 'Viral sinusitis (disorder)']  with count  236847\n",
      "['Prediabetes', 'Viral sinusitis (disorder)']  with count  236320\n",
      "['Acute bronchitis (disorder)', 'Acute viral pharyngitis (disorder)']  with count  211065\n",
      "['Hypertension', 'Viral sinusitis (disorder)']  with count  203450\n",
      "['Body mass index 30+ - obesity (finding)', 'Acute viral pharyngitis (disorder)']  with count  167438\n",
      "['Chronic sinusitis (disorder)', 'Viral sinusitis (disorder)']  with count  165530\n"
     ]
    }
   ],
   "source": [
    "pair_count = patient_rdd2.flatMap(pair_forming).map(lambda p:(p,1)).reduceByKey(lambda v1,v2: v1+v2).filter(lambda tp:tp[1]>=threshold)\\\n",
    ".sortBy(lambda a: a[1],False)\n",
    "frequent_pair_set = sc.broadcast(set(pair_count.map(lambda a: a[0]).collect()))\n",
    "pair_count.saveAsTextFile(\"{0}/{1}\".format(\"frequent_pairs_count\", format_time))\n",
    "\n",
    "ten_most_frequent_pairs = pair_count.take(10)\n",
    "for pair in ten_most_frequent_pairs:\n",
    "    print([conds.value[i] for i in list(pair[0])],\" with count \", pair[1])"
   ]
  },
  {
   "cell_type": "markdown",
   "id": "beneficial-alexandria",
   "metadata": {},
   "source": [
    "### Count the triples"
   ]
  },
  {
   "cell_type": "markdown",
   "id": "accessible-waterproof",
   "metadata": {},
   "source": [
    "10 Most frequent itemsets of size 3"
   ]
  },
  {
   "cell_type": "code",
   "execution_count": 14,
   "id": "postal-editor",
   "metadata": {},
   "outputs": [
    {
     "name": "stdout",
     "output_type": "stream",
     "text": [
      "['Prediabetes', 'Anemia (disorder)', 'Viral sinusitis (disorder)']  with count  192819\n",
      "['Acute bronchitis (disorder)', 'Acute viral pharyngitis (disorder)', 'Viral sinusitis (disorder)']  with count  139174\n",
      "['Prediabetes', 'Acute viral pharyngitis (disorder)', 'Anemia (disorder)']  with count  132583\n",
      "['Acute bronchitis (disorder)', 'Prediabetes', 'Anemia (disorder)']  with count  115510\n",
      "['Body mass index 30+ - obesity (finding)', 'Acute viral pharyngitis (disorder)', 'Viral sinusitis (disorder)']  with count  111860\n",
      "['Acute viral pharyngitis (disorder)', 'Anemia (disorder)', 'Viral sinusitis (disorder)']  with count  108560\n",
      "['Prediabetes', 'Acute viral pharyngitis (disorder)', 'Viral sinusitis (disorder)']  with count  108083\n",
      "['Prediabetes', 'Hypertension', 'Anemia (disorder)']  with count  99818\n",
      "['Acute bronchitis (disorder)', 'Body mass index 30+ - obesity (finding)', 'Viral sinusitis (disorder)']  with count  97384\n",
      "['Acute bronchitis (disorder)', 'Anemia (disorder)', 'Viral sinusitis (disorder)']  with count  94793\n"
     ]
    }
   ],
   "source": [
    "triple_count = patient_rdd2.flatMap(triple_forming).map(lambda p:(p,1)).reduceByKey(lambda v1,v2: v1+v2).filter(lambda tp:tp[1]>=threshold)\\\n",
    ".sortBy(lambda a: a[1], False)\n",
    "ten_most_frequent_triples = triple_count.take(10)\n",
    "for triple in ten_most_frequent_triples:\n",
    "    print([conds.value[i] for i in list(triple[0])],\" with count \", triple[1])"
   ]
  },
  {
   "cell_type": "markdown",
   "id": "looking-oliver",
   "metadata": {},
   "source": [
    "## Association Rules: Confidence\n"
   ]
  },
  {
   "cell_type": "code",
   "execution_count": 15,
   "id": "brilliant-vinyl",
   "metadata": {},
   "outputs": [],
   "source": [
    "def confidence_pairs(single_1, single_2,count):\n",
    "    den = single_counts_dict.value[single_1] #had  0 in case miss\n",
    "    if den==0:\n",
    "        return 0\n",
    "    else:\n",
    "        return count/den"
   ]
  },
  {
   "cell_type": "code",
   "execution_count": 16,
   "id": "funny-trauma",
   "metadata": {},
   "outputs": [],
   "source": [
    "def confidence_triples(pair,single, count):\n",
    "    den = pair_counts_dict.value.get(pair,0)\n",
    "    if den==0:\n",
    "        return 0\n",
    "    else:\n",
    "        return count/den"
   ]
  },
  {
   "cell_type": "markdown",
   "id": "spatial-kitty",
   "metadata": {},
   "source": [
    "## Association Rules: Interest\n",
    "\n",
    "    interestI -> j = p(j|I) − p(j)\n",
    "    interestI -> j = confidence(I -> j)−baskets containing j / baskets\n",
    "\n",
    "high positive interest: presence of I indicates the presence of j.\n",
    "\n",
    "high negative interest: presence of I discourages the presence of j"
   ]
  },
  {
   "cell_type": "code",
   "execution_count": 17,
   "id": "improved-yorkshire",
   "metadata": {},
   "outputs": [],
   "source": [
    "def interest_pairs(single_1, single_2,count):\n",
    "    return confidence_pairs(single_1, single_2,count) - (single_counts_dict.value[single_2]/n_buckets)"
   ]
  },
  {
   "cell_type": "code",
   "execution_count": 18,
   "id": "latest-proposition",
   "metadata": {},
   "outputs": [],
   "source": [
    "def interest_triples(pair,single,count):\n",
    "    return confidence_triples(pair,single,count) - (single_counts_dict.value[single]/n_buckets)"
   ]
  },
  {
   "cell_type": "markdown",
   "id": "reflected-evanescence",
   "metadata": {},
   "source": [
    "## Association rules: Lift\n",
    "\n",
    "    Lift(I) -> j = confidence(I -> j)/P(j) =P(I, j)/P(I)*P(j)\n",
    "\n",
    "Lift (also known as the observed/expected ratio) is a measure of the degree of dependence between I and j. \n",
    "\n",
    "A lift of 1 indicates that I and j are independent"
   ]
  },
  {
   "cell_type": "code",
   "execution_count": 19,
   "id": "beautiful-brush",
   "metadata": {},
   "outputs": [],
   "source": [
    "def lift_pairs(single_1, single_2,count):\n",
    "    return confidence_pairs(single_1, single_2,count)/(single_counts_dict.value[single_2]/n_buckets)"
   ]
  },
  {
   "cell_type": "code",
   "execution_count": 20,
   "id": "social-acceptance",
   "metadata": {},
   "outputs": [],
   "source": [
    "def lift_triples(pair,single,count):\n",
    "    return confidence_triples(pair,single,count)/(single_counts_dict.value[single]/n_buckets)"
   ]
  },
  {
   "cell_type": "markdown",
   "id": "tutorial-newark",
   "metadata": {},
   "source": [
    "## Association rules: Standardised lift\n",
    "\n",
    "Standardised lift ranges from 0 to 1.\n",
    "\n",
    "This facilitates setting a fixed threshold for selecting the rules"
   ]
  },
  {
   "cell_type": "code",
   "execution_count": 21,
   "id": "widespread-millennium",
   "metadata": {},
   "outputs": [],
   "source": [
    "def std_lift_pairs(single_1, single_2,count):\n",
    "    p_single_1 = single_counts_dict.value[single_1]/n_buckets\n",
    "    p_single_2 = single_counts_dict.value[single_2]/n_buckets\n",
    "    \n",
    "    if p_single_1!=0 and p_single_2!=0:\n",
    "        num = lift_pairs(single_1,single_2, count) - (max(p_single_1+p_single_2-1,1/n_buckets)/(p_single_1*p_single_2))\n",
    "        den = (1/(p_single_1*p_single_2)) - (max(p_single_1+p_single_2-1,1/n_buckets))/(p_single_1*p_single_2)\n",
    "        if den!=0:\n",
    "            return num/den\n",
    "        else:\n",
    "            return 0\n",
    "    else:\n",
    "        return 0"
   ]
  },
  {
   "cell_type": "code",
   "execution_count": 22,
   "id": "opening-looking",
   "metadata": {},
   "outputs": [],
   "source": [
    "def std_lift_triples(pair,single,count):\n",
    "    p_pair = pair_counts_dict.value.get(pair,0)/n_buckets\n",
    "    p_single = single_counts_dict.value[single]/n_buckets\n",
    "    if p_pair!=0 and p_single!=0:\n",
    "        num = lift_triples(pair,single, count) - (max(p_pair+p_single-1,1/n_buckets))/(p_pair*p_single)\n",
    "        den = (1/(p_pair*p_single)) - (max(p_pair+p_single-1,1/n_buckets))/(p_pair*p_single)\n",
    "        if den!=0:\n",
    "            return num/den\n",
    "        else:\n",
    "            return 0\n",
    "    else:\n",
    "        return 0"
   ]
  },
  {
   "cell_type": "markdown",
   "id": "martial-reality",
   "metadata": {},
   "source": [
    "Breaking frequent itemsets into rules with respective counts"
   ]
  },
  {
   "cell_type": "code",
   "execution_count": 23,
   "id": "seasonal-midnight",
   "metadata": {},
   "outputs": [],
   "source": [
    "def break_doubles(pair):\n",
    "    single_1 = pair[0][0]\n",
    "    single_2 = pair[0][1]\n",
    "    count = pair[1]\n",
    "    return [((single_1,single_2),count),((single_2,single_1),count)]"
   ]
  },
  {
   "cell_type": "code",
   "execution_count": 24,
   "id": "exterior-toddler",
   "metadata": {},
   "outputs": [],
   "source": [
    "def break_triples(triple_count):\n",
    "    \n",
    "    triple=triple_count[0]\n",
    "    count = triple_count[1]\n",
    "    first_pair = (triple[0],triple[1])\n",
    "    second_pair = (triple[0],triple[2])\n",
    "    third_pair = (triple[1],triple[2])\n",
    "    pairs = [first_pair, second_pair, third_pair]\n",
    "    singles = [2,1,0]\n",
    "    candidate_rules=[]\n",
    "    for i in range(3):\n",
    "        candidate_rules.append(((pairs[i],triple[singles[i]],count)))\n",
    "    \n",
    "    return candidate_rules"
   ]
  },
  {
   "cell_type": "markdown",
   "id": "latin-radius",
   "metadata": {},
   "source": [
    "Getting metrics for the rules in the format:\n",
    "left side of the rule,right side,standard lift,lift,confidence,interest"
   ]
  },
  {
   "cell_type": "code",
   "execution_count": 25,
   "id": "normal-correspondence",
   "metadata": {},
   "outputs": [],
   "source": [
    "single_counts_dict = sc.broadcast(frequent_singles.collectAsMap())\n",
    "pair_counts_dict = sc.broadcast(pair_count.collectAsMap())\n"
   ]
  },
  {
   "cell_type": "code",
   "execution_count": 26,
   "id": "irish-guyana",
   "metadata": {},
   "outputs": [],
   "source": [
    "def get_metrics_double(pair):\n",
    "    single_1 = pair[0][0]\n",
    "    single_2 = pair[0][1]\n",
    "    count = pair[1]\n",
    "    \n",
    "    confidence = confidence_pairs(single_1, single_2,count)\n",
    "    interest = interest_pairs(single_1, single_2,count)\n",
    "    lift = lift_pairs(single_1, single_2,count)\n",
    "    std_lift = std_lift_pairs(single_1, single_2,count)\n",
    "    return ([single_1],single_2,std_lift,lift,confidence,interest)"
   ]
  },
  {
   "cell_type": "code",
   "execution_count": 27,
   "id": "corporate-healing",
   "metadata": {},
   "outputs": [],
   "source": [
    "def get_metrics_triple(triple):\n",
    "    pair = triple[0]\n",
    "    single = triple[1]\n",
    "    count = triple[2]\n",
    "    confidence = confidence_triples(pair, single,count)\n",
    "    interest = interest_triples(pair, single,count)\n",
    "    lift = lift_triples(pair, single,count)\n",
    "    std_lift = std_lift_triples(pair, single,count)\n",
    "    return (list(pair),single,std_lift,lift,confidence,interest)"
   ]
  },
  {
   "cell_type": "markdown",
   "id": "dimensional-pollution",
   "metadata": {},
   "source": [
    "Generating candidate 3 element rules and respective counts (occurrence of all elements)"
   ]
  },
  {
   "cell_type": "code",
   "execution_count": 28,
   "id": "becoming-vaccine",
   "metadata": {},
   "outputs": [
    {
     "data": {
      "text/plain": [
       "[((15777000, 271737000), 444814009, 192819),\n",
       " ((15777000, 444814009), 271737000, 192819),\n",
       " ((271737000, 444814009), 15777000, 192819),\n",
       " ((10509002, 195662009), 444814009, 139174),\n",
       " ((10509002, 444814009), 195662009, 139174),\n",
       " ((195662009, 444814009), 10509002, 139174),\n",
       " ((15777000, 195662009), 271737000, 132583),\n",
       " ((15777000, 271737000), 195662009, 132583),\n",
       " ((195662009, 271737000), 15777000, 132583),\n",
       " ((10509002, 15777000), 271737000, 115510)]"
      ]
     },
     "execution_count": 28,
     "metadata": {},
     "output_type": "execute_result"
    }
   ],
   "source": [
    "possible_triple_rules = triple_count.flatMap(break_triples)\n",
    "possible_triple_rules.take(10)"
   ]
  },
  {
   "cell_type": "markdown",
   "id": "unauthorized-scene",
   "metadata": {},
   "source": [
    "Triples that passed the minimum standard lift condition"
   ]
  },
  {
   "cell_type": "code",
   "execution_count": 29,
   "id": "acute-adelaide",
   "metadata": {},
   "outputs": [
    {
     "data": {
      "text/plain": [
       "[]"
      ]
     },
     "execution_count": 29,
     "metadata": {},
     "output_type": "execute_result"
    }
   ],
   "source": [
    "resulting_triples = possible_triple_rules.map(get_metrics_triple).filter(lambda a: a[2]>=min_std_lift).sortBy(lambda a: a[2], False)\n",
    "resulting_triples.take(10)"
   ]
  },
  {
   "cell_type": "markdown",
   "id": "configured-seeking",
   "metadata": {},
   "source": [
    "Generating candidate 2 element rules and respective counts (occurrence of all elements)"
   ]
  },
  {
   "cell_type": "code",
   "execution_count": 30,
   "id": "thirty-devon",
   "metadata": {},
   "outputs": [
    {
     "data": {
      "text/plain": [
       "[((195662009, 444814009), 343651),\n",
       " ((444814009, 195662009), 343651),\n",
       " ((10509002, 444814009), 302516),\n",
       " ((444814009, 10509002), 302516),\n",
       " ((15777000, 271737000), 289176),\n",
       " ((271737000, 15777000), 289176),\n",
       " ((162864005, 444814009), 243812),\n",
       " ((444814009, 162864005), 243812),\n",
       " ((271737000, 444814009), 236847),\n",
       " ((444814009, 271737000), 236847)]"
      ]
     },
     "execution_count": 30,
     "metadata": {},
     "output_type": "execute_result"
    }
   ],
   "source": [
    "candidate_double_rules = pair_count.flatMap(break_doubles)\n",
    "candidate_double_rules.take(10)"
   ]
  },
  {
   "cell_type": "markdown",
   "id": "united-crest",
   "metadata": {},
   "source": [
    "Pairs that passed the minimum standard lift condition"
   ]
  },
  {
   "cell_type": "code",
   "execution_count": 31,
   "id": "incorrect-sword",
   "metadata": {},
   "outputs": [
    {
     "data": {
      "text/plain": [
       "[([15777000],\n",
       "  271737000,\n",
       "  0.24981059575302555,\n",
       "  2.6585189804270324,\n",
       "  0.816155116210152,\n",
       "  0.5091589569880521),\n",
       " ([271737000],\n",
       "  15777000,\n",
       "  0.24981059575302555,\n",
       "  2.6585189804270324,\n",
       "  0.81372758686672,\n",
       "  0.5076445410590077),\n",
       " ([10509002],\n",
       "  444814009,\n",
       "  0.22388517601098637,\n",
       "  1.0091330397505829,\n",
       "  0.6555130608132266,\n",
       "  0.0059326437700554235),\n",
       " ([444814009],\n",
       "  10509002,\n",
       "  0.22388517601098631,\n",
       "  1.0091330397505827,\n",
       "  0.4023140144160438,\n",
       "  0.0036410956148917317),\n",
       " ([195662009],\n",
       "  444814009,\n",
       "  0.21626558461816975,\n",
       "  1.0082778943553083,\n",
       "  0.6549575751107316,\n",
       "  0.00537715806756045),\n",
       " ([444814009],\n",
       "  195662009,\n",
       "  0.21626558461816975,\n",
       "  1.0082778943553083,\n",
       "  0.4570191770619996,\n",
       "  0.003752097003463628),\n",
       " ([162864005],\n",
       "  444814009,\n",
       "  0.21062184200273504,\n",
       "  1.0267274389531114,\n",
       "  0.6669420379848291,\n",
       "  0.01736162094165794),\n",
       " ([444814009],\n",
       "  162864005,\n",
       "  0.21062184200273498,\n",
       "  1.0267274389531111,\n",
       "  0.3242439556347581,\n",
       "  0.008440614520811573),\n",
       " ([271737000],\n",
       "  444814009,\n",
       "  0.20460496364388717,\n",
       "  1.0260103882146394,\n",
       "  0.6664762558670914,\n",
       "  0.016895838823920206),\n",
       " ([444814009],\n",
       "  271737000,\n",
       "  0.20460496364388717,\n",
       "  1.0260103882146394,\n",
       "  0.31498124850387,\n",
       "  0.007985089281770053)]"
      ]
     },
     "execution_count": 31,
     "metadata": {},
     "output_type": "execute_result"
    }
   ],
   "source": [
    "resulting_pairs = candidate_double_rules.map(get_metrics_double).filter(lambda a: a[2] >=min_std_lift).sortBy(lambda a: a[2], False)\n",
    "resulting_pairs.take(10)"
   ]
  },
  {
   "cell_type": "markdown",
   "id": "abstract-motor",
   "metadata": {},
   "source": [
    "Uniting both types of rules X -> Y and X,Y -> Z to a single rdd"
   ]
  },
  {
   "cell_type": "code",
   "execution_count": 32,
   "id": "insured-humanitarian",
   "metadata": {},
   "outputs": [
    {
     "data": {
      "text/plain": [
       "[([15777000],\n",
       "  444814009,\n",
       "  0.20414970235241373,\n",
       "  1.0267814536509203,\n",
       "  0.6669771248747584,\n",
       "  0.0173967078315872),\n",
       " ([444814009],\n",
       "  15777000,\n",
       "  0.20414970235241378,\n",
       "  1.0267814536509206,\n",
       "  0.3142803947123441,\n",
       "  0.008197348904631807),\n",
       " ([271737000],\n",
       "  444814009,\n",
       "  0.20460496364388717,\n",
       "  1.0260103882146394,\n",
       "  0.6664762558670914,\n",
       "  0.016895838823920206),\n",
       " ([444814009],\n",
       "  271737000,\n",
       "  0.20460496364388717,\n",
       "  1.0260103882146394,\n",
       "  0.31498124850387,\n",
       "  0.007985089281770053),\n",
       " ([444814009],\n",
       "  162864005,\n",
       "  0.21062184200273498,\n",
       "  1.0267274389531111,\n",
       "  0.3242439556347581,\n",
       "  0.008440614520811573),\n",
       " ([162864005],\n",
       "  444814009,\n",
       "  0.21062184200273504,\n",
       "  1.0267274389531114,\n",
       "  0.6669420379848291,\n",
       "  0.01736162094165794),\n",
       " ([195662009],\n",
       "  444814009,\n",
       "  0.21626558461816975,\n",
       "  1.0082778943553083,\n",
       "  0.6549575751107316,\n",
       "  0.00537715806756045),\n",
       " ([444814009],\n",
       "  195662009,\n",
       "  0.21626558461816975,\n",
       "  1.0082778943553083,\n",
       "  0.4570191770619996,\n",
       "  0.003752097003463628),\n",
       " ([444814009],\n",
       "  10509002,\n",
       "  0.22388517601098631,\n",
       "  1.0091330397505827,\n",
       "  0.4023140144160438,\n",
       "  0.0036410956148917317),\n",
       " ([10509002],\n",
       "  444814009,\n",
       "  0.22388517601098637,\n",
       "  1.0091330397505829,\n",
       "  0.6555130608132266,\n",
       "  0.0059326437700554235)]"
      ]
     },
     "execution_count": 32,
     "metadata": {},
     "output_type": "execute_result"
    }
   ],
   "source": [
    "final_rules = resulting_triples.union(resulting_pairs).sortBy(lambda a: a[2])\n",
    "final_rules.take(10)"
   ]
  },
  {
   "cell_type": "markdown",
   "id": "caring-bracelet",
   "metadata": {},
   "source": [
    "Function to translate condition ids to names"
   ]
  },
  {
   "cell_type": "code",
   "execution_count": 33,
   "id": "fantastic-booth",
   "metadata": {},
   "outputs": [],
   "source": [
    "def translate_conditions(line):\n",
    "    temp_list = list(line)\n",
    "    left_side = line[0]\n",
    "    right_side = line[1]\n",
    "    translated_left = [conds.value[i] for i in left_side]\n",
    "    translated_right = conds.value[right_side]\n",
    "    temp_list[0] = translated_left\n",
    "    temp_list[1] = translated_right\n",
    "    return tuple(temp_list)\n",
    "    "
   ]
  },
  {
   "cell_type": "markdown",
   "id": "foreign-consultation",
   "metadata": {},
   "source": [
    "Translating condition ids to their name in the final rules rdd"
   ]
  },
  {
   "cell_type": "code",
   "execution_count": 34,
   "id": "weighted-lancaster",
   "metadata": {},
   "outputs": [
    {
     "data": {
      "text/plain": [
       "[(['Prediabetes'],\n",
       "  'Anemia (disorder)',\n",
       "  0.24981059575302555,\n",
       "  2.6585189804270324,\n",
       "  0.816155116210152,\n",
       "  0.5091589569880521),\n",
       " (['Anemia (disorder)'],\n",
       "  'Prediabetes',\n",
       "  0.24981059575302555,\n",
       "  2.6585189804270324,\n",
       "  0.81372758686672,\n",
       "  0.5076445410590077),\n",
       " (['Acute bronchitis (disorder)'],\n",
       "  'Viral sinusitis (disorder)',\n",
       "  0.22388517601098637,\n",
       "  1.0091330397505829,\n",
       "  0.6555130608132266,\n",
       "  0.0059326437700554235),\n",
       " (['Viral sinusitis (disorder)'],\n",
       "  'Acute bronchitis (disorder)',\n",
       "  0.22388517601098631,\n",
       "  1.0091330397505827,\n",
       "  0.4023140144160438,\n",
       "  0.0036410956148917317),\n",
       " (['Acute viral pharyngitis (disorder)'],\n",
       "  'Viral sinusitis (disorder)',\n",
       "  0.21626558461816975,\n",
       "  1.0082778943553083,\n",
       "  0.6549575751107316,\n",
       "  0.00537715806756045),\n",
       " (['Viral sinusitis (disorder)'],\n",
       "  'Acute viral pharyngitis (disorder)',\n",
       "  0.21626558461816975,\n",
       "  1.0082778943553083,\n",
       "  0.4570191770619996,\n",
       "  0.003752097003463628),\n",
       " (['Body mass index 30+ - obesity (finding)'],\n",
       "  'Viral sinusitis (disorder)',\n",
       "  0.21062184200273504,\n",
       "  1.0267274389531114,\n",
       "  0.6669420379848291,\n",
       "  0.01736162094165794),\n",
       " (['Viral sinusitis (disorder)'],\n",
       "  'Body mass index 30+ - obesity (finding)',\n",
       "  0.21062184200273498,\n",
       "  1.0267274389531111,\n",
       "  0.3242439556347581,\n",
       "  0.008440614520811573),\n",
       " (['Anemia (disorder)'],\n",
       "  'Viral sinusitis (disorder)',\n",
       "  0.20460496364388717,\n",
       "  1.0260103882146394,\n",
       "  0.6664762558670914,\n",
       "  0.016895838823920206),\n",
       " (['Viral sinusitis (disorder)'],\n",
       "  'Anemia (disorder)',\n",
       "  0.20460496364388717,\n",
       "  1.0260103882146394,\n",
       "  0.31498124850387,\n",
       "  0.007985089281770053)]"
      ]
     },
     "execution_count": 34,
     "metadata": {},
     "output_type": "execute_result"
    }
   ],
   "source": [
    "final_rules = final_rules.map(translate_conditions).sortBy(lambda a: a[2],False)\n",
    "final_rules.take(10)"
   ]
  },
  {
   "cell_type": "markdown",
   "id": "heard-fruit",
   "metadata": {},
   "source": [
    "Saving results to a folder and stopping spark context"
   ]
  },
  {
   "cell_type": "code",
   "execution_count": 35,
   "id": "linear-architect",
   "metadata": {},
   "outputs": [],
   "source": [
    "#FILES ARE STRUCTURED AS left_rule_side,right_rule_side,std_lift,lift,confidence,interest\n",
    "final_rules.saveAsTextFile(\"{0}/{1}\".format(\"extracted_rules\", format_time))"
   ]
  },
  {
   "cell_type": "markdown",
   "id": "impressed-cursor",
   "metadata": {},
   "source": [
    "Printing sorted rules with minimum std lift of 0.2 to single file as requested"
   ]
  },
  {
   "cell_type": "code",
   "execution_count": 36,
   "id": "artistic-range",
   "metadata": {},
   "outputs": [],
   "source": [
    "final_rules.coalesce(1).saveAsTextFile(\"{0}/{1}\".format(\"results\", format_time))"
   ]
  },
  {
   "cell_type": "code",
   "execution_count": 37,
   "id": "crazy-fisher",
   "metadata": {},
   "outputs": [],
   "source": [
    "sc.stop()"
   ]
  },
  {
   "cell_type": "code",
   "execution_count": null,
   "id": "corrected-fluid",
   "metadata": {},
   "outputs": [],
   "source": []
  },
  {
   "cell_type": "code",
   "execution_count": null,
   "id": "rational-melbourne",
   "metadata": {},
   "outputs": [],
   "source": []
  }
 ],
 "metadata": {
  "kernelspec": {
   "display_name": "Python 3",
   "language": "python",
   "name": "python3"
  },
  "language_info": {
   "codemirror_mode": {
    "name": "ipython",
    "version": 3
   },
   "file_extension": ".py",
   "mimetype": "text/x-python",
   "name": "python",
   "nbconvert_exporter": "python",
   "pygments_lexer": "ipython3",
   "version": "3.8.8"
  }
 },
 "nbformat": 4,
 "nbformat_minor": 5
}
