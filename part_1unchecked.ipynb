{
 "cells": [
  {
   "cell_type": "markdown",
   "id": "expensive-visit",
   "metadata": {},
   "source": [
    "#### Imports"
   ]
  },
  {
   "cell_type": "code",
   "execution_count": 38,
   "id": "foster-bracelet",
   "metadata": {},
   "outputs": [
    {
     "data": {
      "application/vnd.jupyter.widget-view+json": {
       "model_id": "f4b7854cb6984998a88481f5be06a7e0",
       "version_major": 2,
       "version_minor": 0
      },
      "text/plain": [
       "VBox()"
      ]
     },
     "metadata": {},
     "output_type": "display_data"
    },
    {
     "data": {
      "application/vnd.jupyter.widget-view+json": {
       "model_id": "",
       "version_major": 2,
       "version_minor": 0
      },
      "text/plain": [
       "FloatProgress(value=0.0, bar_style='info', description='Progress:', layout=Layout(height='25px', width='50%'),…"
      ]
     },
     "metadata": {},
     "output_type": "display_data"
    }
   ],
   "source": [
    "from pyspark import SparkContext\n",
    "from datetime import datetime"
   ]
  },
  {
   "cell_type": "markdown",
   "id": "strange-trail",
   "metadata": {},
   "source": [
    "### Spark\n",
    "\n",
    "\n",
    "Create a new SparkContext"
   ]
  },
  {
   "cell_type": "code",
   "execution_count": 39,
   "id": "assisted-arnold",
   "metadata": {},
   "outputs": [
    {
     "data": {
      "application/vnd.jupyter.widget-view+json": {
       "model_id": "2b5b41f321d44d6ea0115207a78e34be",
       "version_major": 2,
       "version_minor": 0
      },
      "text/plain": [
       "VBox()"
      ]
     },
     "metadata": {},
     "output_type": "display_data"
    },
    {
     "data": {
      "application/vnd.jupyter.widget-view+json": {
       "model_id": "",
       "version_major": 2,
       "version_minor": 0
      },
      "text/plain": [
       "FloatProgress(value=0.0, bar_style='info', description='Progress:', layout=Layout(height='25px', width='50%'),…"
      ]
     },
     "metadata": {},
     "output_type": "display_data"
    }
   ],
   "source": [
    "sc = spark.sparkContext"
   ]
  },
  {
   "cell_type": "code",
   "execution_count": 40,
   "id": "industrial-speaking",
   "metadata": {},
   "outputs": [
    {
     "data": {
      "application/vnd.jupyter.widget-view+json": {
       "model_id": "589ee6c7874e4128a83e7ff3622294a8",
       "version_major": 2,
       "version_minor": 0
      },
      "text/plain": [
       "VBox()"
      ]
     },
     "metadata": {},
     "output_type": "display_data"
    },
    {
     "data": {
      "application/vnd.jupyter.widget-view+json": {
       "model_id": "",
       "version_major": 2,
       "version_minor": 0
      },
      "text/plain": [
       "FloatProgress(value=0.0, bar_style='info', description='Progress:', layout=Layout(height='25px', width='50%'),…"
      ]
     },
     "metadata": {},
     "output_type": "display_data"
    }
   ],
   "source": [
    "threshold=1000\n",
    "min_std_lift=0.2"
   ]
  },
  {
   "cell_type": "markdown",
   "id": "aggressive-government",
   "metadata": {},
   "source": [
    "#### Read data\n",
    "\n",
    "Here we read the test data and map it by splitting by \",\" and ignoring the header row."
   ]
  },
  {
   "cell_type": "code",
   "execution_count": 41,
   "id": "unsigned-stanford",
   "metadata": {},
   "outputs": [
    {
     "data": {
      "application/vnd.jupyter.widget-view+json": {
       "model_id": "bf99aabca01245049606acfb8abf238f",
       "version_major": 2,
       "version_minor": 0
      },
      "text/plain": [
       "VBox()"
      ]
     },
     "metadata": {},
     "output_type": "display_data"
    },
    {
     "data": {
      "application/vnd.jupyter.widget-view+json": {
       "model_id": "",
       "version_major": 2,
       "version_minor": 0
      },
      "text/plain": [
       "FloatProgress(value=0.0, bar_style='info', description='Progress:', layout=Layout(height='25px', width='50%'),…"
      ]
     },
     "metadata": {},
     "output_type": "display_data"
    },
    {
     "name": "stdout",
     "output_type": "stream",
     "text": [
      "[['2017-01-14', '2017-03-30', '09e4e8cb-29c2-4ef4-86c0-a6ff0ba25d2a', '88e540ab-a7d7-47de-93c1-720a06f3d601', '65363002', 'Otitis media'], ['2012-09-15', '2012-09-16', 'b0a03e8c-8d0f-4242-9548-40f4d294eba8', 'e89414dc-d0c6-478f-86c0-d08bac6ad0a2', '241929008', 'Acute allergic reaction']]"
     ]
    }
   ],
   "source": [
    "data = sc.textFile(\"s3://diomdle2021/conditions.csv\")\n",
    "data = data.map(lambda line: line.split(\",\")).filter(lambda v: v[0]!=\"START\")\n",
    "data.take(2)\n"
   ]
  },
  {
   "cell_type": "markdown",
   "id": "convenient-helping",
   "metadata": {},
   "source": [
    "### Reorganize data\n",
    "\n",
    "Next we map the unique conditions by their code and respective description"
   ]
  },
  {
   "cell_type": "code",
   "execution_count": 42,
   "id": "acceptable-silver",
   "metadata": {},
   "outputs": [
    {
     "data": {
      "application/vnd.jupyter.widget-view+json": {
       "model_id": "5e5aefd3f9234950a3088ed45fd0ab3e",
       "version_major": 2,
       "version_minor": 0
      },
      "text/plain": [
       "VBox()"
      ]
     },
     "metadata": {},
     "output_type": "display_data"
    },
    {
     "data": {
      "application/vnd.jupyter.widget-view+json": {
       "model_id": "",
       "version_major": 2,
       "version_minor": 0
      },
      "text/plain": [
       "FloatProgress(value=0.0, bar_style='info', description='Progress:', layout=Layout(height='25px', width='50%'),…"
      ]
     },
     "metadata": {},
     "output_type": "display_data"
    },
    {
     "name": "stdout",
     "output_type": "stream",
     "text": [
      "[(15777000, 'Prediabetes'), (40275004, 'Contact dermatitis'), (49436004, 'Atrial Fibrillation'), (126906006, 'Neoplasm of prostate'), (444470001, 'Injury of anterior cruciate ligament')]"
     ]
    }
   ],
   "source": [
    "condition_map = data.map(lambda line: (int(line[4]),line[5])) \\\n",
    ".distinct()\n",
    "\n",
    "condition_map.take(5)"
   ]
  },
  {
   "cell_type": "markdown",
   "id": "cordless-chess",
   "metadata": {},
   "source": [
    "And save the data  to new file"
   ]
  },
  {
   "cell_type": "code",
   "execution_count": 43,
   "id": "fixed-multimedia",
   "metadata": {},
   "outputs": [
    {
     "data": {
      "application/vnd.jupyter.widget-view+json": {
       "model_id": "cbd509ff31b0407ab072f8a8a601ce21",
       "version_major": 2,
       "version_minor": 0
      },
      "text/plain": [
       "VBox()"
      ]
     },
     "metadata": {},
     "output_type": "display_data"
    },
    {
     "data": {
      "application/vnd.jupyter.widget-view+json": {
       "model_id": "",
       "version_major": 2,
       "version_minor": 0
      },
      "text/plain": [
       "FloatProgress(value=0.0, bar_style='info', description='Progress:', layout=Layout(height='25px', width='50%'),…"
      ]
     },
     "metadata": {},
     "output_type": "display_data"
    }
   ],
   "source": [
    "format_time = datetime.now().strftime(\"%Y-%m-%dT%H:%M:%S\")\n",
    "condition_map.saveAsTextFile(\"{0}/{1}\".format(\"s3://diomdle2021/condition_map\", format_time))\n"
   ]
  },
  {
   "cell_type": "markdown",
   "id": "heavy-chambers",
   "metadata": {},
   "source": [
    "Here we get all the unique patient-condition pairs to a map.\n",
    "\n",
    "We map by patient-(condition) code"
   ]
  },
  {
   "cell_type": "code",
   "execution_count": 44,
   "id": "incident-buddy",
   "metadata": {},
   "outputs": [
    {
     "data": {
      "application/vnd.jupyter.widget-view+json": {
       "model_id": "38f0dea75db048708295701c962fe38d",
       "version_major": 2,
       "version_minor": 0
      },
      "text/plain": [
       "VBox()"
      ]
     },
     "metadata": {},
     "output_type": "display_data"
    },
    {
     "data": {
      "application/vnd.jupyter.widget-view+json": {
       "model_id": "",
       "version_major": 2,
       "version_minor": 0
      },
      "text/plain": [
       "FloatProgress(value=0.0, bar_style='info', description='Progress:', layout=Layout(height='25px', width='50%'),…"
      ]
     },
     "metadata": {},
     "output_type": "display_data"
    },
    {
     "name": "stdout",
     "output_type": "stream",
     "text": [
      "[[65966004, 55822004, 162864005, 24079001], [156073000, 19169002, 55822004, 82423001, 15777000, 10509002, 40055000, 72892002, 444814009, 75498004]]"
     ]
    }
   ],
   "source": [
    "#Map by PATIENT-(CONDITION)CODE, \n",
    "patient_rdd2 = data.map(lambda line: (line[2],line[4])) \\\n",
    ".groupByKey() \\\n",
    ".map(lambda tp: [int(j) for j in set(tp[1])]) \n",
    "\n",
    "patient_rdd2.cache()\n",
    "n_buckets = patient_rdd2.count()\n",
    "patient_rdd2.take(2)"
   ]
  },
  {
   "cell_type": "markdown",
   "id": "integrated-vessel",
   "metadata": {},
   "source": [
    "### Most frequent"
   ]
  },
  {
   "cell_type": "markdown",
   "id": "german-syndication",
   "metadata": {},
   "source": [
    "Here we map the most frequent conditions and their counts.\n",
    "\n",
    "flatMap: We flatmap them by key, and set their value to 1;\n",
    "reduceByKey: We reduce by key and make all keys unique and their values their respective counts;\n",
    "sortBy: We sort it by decreasingly by their count;\n",
    "filter: And finally we apply the threshold, keeping only the ones that have higher counts than it. "
   ]
  },
  {
   "cell_type": "code",
   "execution_count": 45,
   "id": "alternative-package",
   "metadata": {},
   "outputs": [
    {
     "data": {
      "application/vnd.jupyter.widget-view+json": {
       "model_id": "14806fa0e5994cd49809873710f7bfad",
       "version_major": 2,
       "version_minor": 0
      },
      "text/plain": [
       "VBox()"
      ]
     },
     "metadata": {},
     "output_type": "display_data"
    },
    {
     "data": {
      "application/vnd.jupyter.widget-view+json": {
       "model_id": "",
       "version_major": 2,
       "version_minor": 0
      },
      "text/plain": [
       "FloatProgress(value=0.0, bar_style='info', description='Progress:', layout=Layout(height='25px', width='50%'),…"
      ]
     },
     "metadata": {},
     "output_type": "display_data"
    },
    {
     "name": "stdout",
     "output_type": "stream",
     "text": [
      "[(444814009, 751940), (195662009, 524692), (10509002, 461495), (162864005, 365567), (271737000, 355372), (15777000, 354315), (59621000, 305134), (40055000, 250239), (72892002, 205390), (19169002, 201894)]"
     ]
    }
   ],
   "source": [
    "frequent_singles = patient_rdd2 \\\n",
    ".flatMap(lambda l: [(i,1) for i in l]) \\\n",
    ".reduceByKey(lambda v1,v2:v1+v2) \\\n",
    ".sortBy(lambda a:a[1],False) \\\n",
    ".filter(lambda k: k[1]>threshold)\n",
    "\n",
    "frequent_singles.take(10)"
   ]
  },
  {
   "cell_type": "markdown",
   "id": "german-billion",
   "metadata": {},
   "source": [
    "Once we have the most frequent items we create a set with them"
   ]
  },
  {
   "cell_type": "code",
   "execution_count": 46,
   "id": "consecutive-section",
   "metadata": {},
   "outputs": [
    {
     "data": {
      "application/vnd.jupyter.widget-view+json": {
       "model_id": "4f545b8307c84365b0c94112d068a7cf",
       "version_major": 2,
       "version_minor": 0
      },
      "text/plain": [
       "VBox()"
      ]
     },
     "metadata": {},
     "output_type": "display_data"
    },
    {
     "data": {
      "application/vnd.jupyter.widget-view+json": {
       "model_id": "",
       "version_major": 2,
       "version_minor": 0
      },
      "text/plain": [
       "FloatProgress(value=0.0, bar_style='info', description='Progress:', layout=Layout(height='25px', width='50%'),…"
      ]
     },
     "metadata": {},
     "output_type": "display_data"
    },
    {
     "name": "stdout",
     "output_type": "stream",
     "text": [
      "{36971009, 196416002, 239872002, 399211009, 55680006, 90560007, 408512008, 84757009, 75498004, 201834006, 195967001, 192127007, 156073000, 263102004, 185086009, 301011002, 65363002, 92691004, 307731004, 40275004, 239720000, 254632001, 410429000, 39848009, 422034002, 197927001, 72892002, 47505003, 58150001, 38822007, 43878008, 65275009, 68496003, 198992004, 83664006, 59621000, 446096008, 128613002, 127013003, 88805009, 126906006, 429007001, 24079001, 235919008, 62564004, 271737000, 283385000, 230265002, 95417003, 110030002, 55822004, 363406005, 233678006, 109838007, 195662009, 444814009, 403192003, 6072007, 10509002, 47693006, 162573006, 79586000, 5602001, 237602007, 40055000, 230690007, 82423001, 403191005, 449868002, 15777000, 19169002, 232353008, 444470001, 403190006, 7200002, 444448004, 74400008, 254837009, 367498001, 80394007, 370143000, 35999006, 94260004, 87433001, 33737001, 359817006, 241929008, 97331000119101, 90781000119102, 67811000119102, 124171000119105, 368581000119106, 1551000119108, 69896004, 275272006, 1501000119109, 443165006, 314994000, 16114001, 284551006, 370247008, 49436004, 26929004, 44465007, 1734006, 64859006, 428251008, 30832001, 162864005, 431856006, 70704007, 284549007, 22298006, 62106007, 703151001, 431855005, 424132000, 233604007, 65966004, 262574004, 398254007, 254637007, 53741008, 713197008, 236077008, 15724005, 93761005, 239873007, 44054006, 302870006, 283371005}"
     ]
    }
   ],
   "source": [
    "frequent_single_rdd = frequent_singles.map(lambda a: a[0])\n",
    "frequent_single_set = sc.broadcast(set(frequent_single_rdd.collect()))\n",
    "frequent_singles.saveAsTextFile(\"{0}/{1}\".format(\"s3://diomdle2021/frequent_singles_count\", format_time))\n",
    "frequent_single_set.value"
   ]
  },
  {
   "cell_type": "markdown",
   "id": "civil-auction",
   "metadata": {},
   "source": [
    "### Build Pairs"
   ]
  },
  {
   "cell_type": "code",
   "execution_count": 47,
   "id": "dressed-killing",
   "metadata": {},
   "outputs": [
    {
     "data": {
      "application/vnd.jupyter.widget-view+json": {
       "model_id": "afee641270354d36b723091f055d6916",
       "version_major": 2,
       "version_minor": 0
      },
      "text/plain": [
       "VBox()"
      ]
     },
     "metadata": {},
     "output_type": "display_data"
    },
    {
     "data": {
      "application/vnd.jupyter.widget-view+json": {
       "model_id": "",
       "version_major": 2,
       "version_minor": 0
      },
      "text/plain": [
       "FloatProgress(value=0.0, bar_style='info', description='Progress:', layout=Layout(height='25px', width='50%'),…"
      ]
     },
     "metadata": {},
     "output_type": "display_data"
    }
   ],
   "source": [
    "def pair_forming(l):\n",
    "    pairs=[]\n",
    "    l.sort()\n",
    "    for i in range(0,len(l)):\n",
    "        if l[i] in frequent_single_set.value:\n",
    "            for j in range(i+1,len(l)):\n",
    "                if  l[i]!=l[j] and l[j] in frequent_single_set.value:\n",
    "                    pairs.append((l[i],l[j]))\n",
    "    return pairs"
   ]
  },
  {
   "cell_type": "markdown",
   "id": "abandoned-alias",
   "metadata": {},
   "source": [
    "### Build Triples"
   ]
  },
  {
   "cell_type": "code",
   "execution_count": 48,
   "id": "casual-breed",
   "metadata": {},
   "outputs": [
    {
     "data": {
      "application/vnd.jupyter.widget-view+json": {
       "model_id": "c8e7f290d7b84e82a3e045baea78a13a",
       "version_major": 2,
       "version_minor": 0
      },
      "text/plain": [
       "VBox()"
      ]
     },
     "metadata": {},
     "output_type": "display_data"
    },
    {
     "data": {
      "application/vnd.jupyter.widget-view+json": {
       "model_id": "",
       "version_major": 2,
       "version_minor": 0
      },
      "text/plain": [
       "FloatProgress(value=0.0, bar_style='info', description='Progress:', layout=Layout(height='25px', width='50%'),…"
      ]
     },
     "metadata": {},
     "output_type": "display_data"
    }
   ],
   "source": [
    "def triple_forming(l):\n",
    "    triples=[]\n",
    "    pairs = pair_forming(l)\n",
    "    for i,j in pairs:\n",
    "        for k in l:\n",
    "            if (i,j) in frequent_pair_set.value and (i,k) in frequent_pair_set.value and (j,k) in frequent_pair_set.value and k!=i and k!=j:#or (j,i) in frequent_pairs#prob unecessary\n",
    "                  triples.append(tuple(sorted([i,j,k])))\n",
    "    return triples"
   ]
  },
  {
   "cell_type": "markdown",
   "id": "increased-gibson",
   "metadata": {},
   "source": [
    "### Count the pairs"
   ]
  },
  {
   "cell_type": "code",
   "execution_count": 49,
   "id": "fossil-haiti",
   "metadata": {},
   "outputs": [
    {
     "data": {
      "application/vnd.jupyter.widget-view+json": {
       "model_id": "00c2f5b9cbba443ca7bbc62dc2c8dabf",
       "version_major": 2,
       "version_minor": 0
      },
      "text/plain": [
       "VBox()"
      ]
     },
     "metadata": {},
     "output_type": "display_data"
    },
    {
     "data": {
      "application/vnd.jupyter.widget-view+json": {
       "model_id": "",
       "version_major": 2,
       "version_minor": 0
      },
      "text/plain": [
       "FloatProgress(value=0.0, bar_style='info', description='Progress:', layout=Layout(height='25px', width='50%'),…"
      ]
     },
     "metadata": {},
     "output_type": "display_data"
    },
    {
     "name": "stdout",
     "output_type": "stream",
     "text": [
      "[((195662009, 444814009), 343651), ((10509002, 444814009), 302516), ((15777000, 271737000), 289176), ((162864005, 444814009), 243812), ((271737000, 444814009), 236847), ((15777000, 444814009), 236320), ((10509002, 195662009), 211065), ((59621000, 444814009), 203450), ((162864005, 195662009), 167438), ((40055000, 444814009), 165530)]"
     ]
    }
   ],
   "source": [
    "pair_count = patient_rdd2.flatMap(pair_forming).map(lambda p:(p,1)).reduceByKey(lambda v1,v2: v1+v2).filter(lambda tp:tp[1]>=threshold).sortBy(lambda a: a[1],False)\n",
    "frequent_pair_set = sc.broadcast(set(pair_count.map(lambda a: a[0]).collect()))\n",
    "pair_count.saveAsTextFile(\"{0}/{1}\".format(\"s3://diomdle2021/frequent_pairs_count\", format_time))\n",
    "\n",
    "pair_count.take(10)"
   ]
  },
  {
   "cell_type": "markdown",
   "id": "beneficial-alexandria",
   "metadata": {},
   "source": [
    "### Count the triples"
   ]
  },
  {
   "cell_type": "code",
   "execution_count": 50,
   "id": "postal-editor",
   "metadata": {},
   "outputs": [
    {
     "data": {
      "application/vnd.jupyter.widget-view+json": {
       "model_id": "d1c1d5c87f344b0ab9fb740ac04f5739",
       "version_major": 2,
       "version_minor": 0
      },
      "text/plain": [
       "VBox()"
      ]
     },
     "metadata": {},
     "output_type": "display_data"
    },
    {
     "data": {
      "application/vnd.jupyter.widget-view+json": {
       "model_id": "",
       "version_major": 2,
       "version_minor": 0
      },
      "text/plain": [
       "FloatProgress(value=0.0, bar_style='info', description='Progress:', layout=Layout(height='25px', width='50%'),…"
      ]
     },
     "metadata": {},
     "output_type": "display_data"
    },
    {
     "name": "stdout",
     "output_type": "stream",
     "text": [
      "[((15777000, 271737000, 444814009), 192819), ((10509002, 195662009, 444814009), 139174), ((15777000, 195662009, 271737000), 132583), ((10509002, 15777000, 271737000), 115510), ((162864005, 195662009, 444814009), 111860), ((195662009, 271737000, 444814009), 108560), ((15777000, 195662009, 444814009), 108083), ((15777000, 59621000, 271737000), 99818), ((10509002, 162864005, 444814009), 97384), ((10509002, 271737000, 444814009), 94793)]"
     ]
    }
   ],
   "source": [
    "triple_count = patient_rdd2.flatMap(triple_forming).map(lambda p:(p,1)).reduceByKey(lambda v1,v2: v1+v2).filter(lambda tp:tp[1]>=threshold)\n",
    "triple_count.sortBy(lambda a: a[1], False).take(10)"
   ]
  },
  {
   "cell_type": "code",
   "execution_count": 51,
   "id": "agreed-bangkok",
   "metadata": {},
   "outputs": [
    {
     "data": {
      "application/vnd.jupyter.widget-view+json": {
       "model_id": "97a6bacf7f2349c6a0060f3cbf282db1",
       "version_major": 2,
       "version_minor": 0
      },
      "text/plain": [
       "VBox()"
      ]
     },
     "metadata": {},
     "output_type": "display_data"
    },
    {
     "data": {
      "application/vnd.jupyter.widget-view+json": {
       "model_id": "",
       "version_major": 2,
       "version_minor": 0
      },
      "text/plain": [
       "FloatProgress(value=0.0, bar_style='info', description='Progress:', layout=Layout(height='25px', width='50%'),…"
      ]
     },
     "metadata": {},
     "output_type": "display_data"
    }
   ],
   "source": [
    "###FREQUENT TRIPLE SET (PROBABLY NOT NEEDED)\n",
    "#frequent_triples_dict = triple_count.collectAsMap()\n",
    "#print(frequent_triples_dict.keys())"
   ]
  },
  {
   "cell_type": "code",
   "execution_count": 52,
   "id": "forward-david",
   "metadata": {},
   "outputs": [
    {
     "data": {
      "application/vnd.jupyter.widget-view+json": {
       "model_id": "f7f926cfb1d04be59f71fdb880e47c3f",
       "version_major": 2,
       "version_minor": 0
      },
      "text/plain": [
       "VBox()"
      ]
     },
     "metadata": {},
     "output_type": "display_data"
    },
    {
     "data": {
      "application/vnd.jupyter.widget-view+json": {
       "model_id": "",
       "version_major": 2,
       "version_minor": 0
      },
      "text/plain": [
       "FloatProgress(value=0.0, bar_style='info', description='Progress:', layout=Layout(height='25px', width='50%'),…"
      ]
     },
     "metadata": {},
     "output_type": "display_data"
    }
   ],
   "source": [
    "min_std_lift = 0.2"
   ]
  },
  {
   "cell_type": "markdown",
   "id": "looking-oliver",
   "metadata": {},
   "source": [
    "## Association Rules: Confidence\n"
   ]
  },
  {
   "cell_type": "code",
   "execution_count": 53,
   "id": "brilliant-vinyl",
   "metadata": {},
   "outputs": [
    {
     "data": {
      "application/vnd.jupyter.widget-view+json": {
       "model_id": "42e47226aab842b58ed656810f554f67",
       "version_major": 2,
       "version_minor": 0
      },
      "text/plain": [
       "VBox()"
      ]
     },
     "metadata": {},
     "output_type": "display_data"
    },
    {
     "data": {
      "application/vnd.jupyter.widget-view+json": {
       "model_id": "",
       "version_major": 2,
       "version_minor": 0
      },
      "text/plain": [
       "FloatProgress(value=0.0, bar_style='info', description='Progress:', layout=Layout(height='25px', width='50%'),…"
      ]
     },
     "metadata": {},
     "output_type": "display_data"
    }
   ],
   "source": [
    "def confidence_pairs(single_1, single_2,count):\n",
    "    den = single_counts_dict.value[single_1] #had  0 in case miss\n",
    "    if den==0:\n",
    "        return 0\n",
    "    else:\n",
    "        return count/den"
   ]
  },
  {
   "cell_type": "code",
   "execution_count": 54,
   "id": "funny-trauma",
   "metadata": {},
   "outputs": [
    {
     "data": {
      "application/vnd.jupyter.widget-view+json": {
       "model_id": "9c18f08d10ee40f89b81da024d6f0b19",
       "version_major": 2,
       "version_minor": 0
      },
      "text/plain": [
       "VBox()"
      ]
     },
     "metadata": {},
     "output_type": "display_data"
    },
    {
     "data": {
      "application/vnd.jupyter.widget-view+json": {
       "model_id": "",
       "version_major": 2,
       "version_minor": 0
      },
      "text/plain": [
       "FloatProgress(value=0.0, bar_style='info', description='Progress:', layout=Layout(height='25px', width='50%'),…"
      ]
     },
     "metadata": {},
     "output_type": "display_data"
    }
   ],
   "source": [
    "def confidence_triples(pair,single, count):\n",
    "    den = pair_counts_dict.value.get(pair,0)\n",
    "    if den==0:\n",
    "        return 0\n",
    "    else:\n",
    "        return count/den"
   ]
  },
  {
   "cell_type": "markdown",
   "id": "spatial-kitty",
   "metadata": {},
   "source": [
    "## Association Rules: Interest\n",
    "\n",
    "    interestI -> j = p(j|I) − p(j)\n",
    "    interestI -> j = confidence(I -> j)−baskets containing j / baskets\n",
    "\n",
    "high positive interest: presence of I indicates the presence of j.\n",
    "\n",
    "high negative interest: presence of I discourages the presence of j"
   ]
  },
  {
   "cell_type": "code",
   "execution_count": 55,
   "id": "improved-yorkshire",
   "metadata": {},
   "outputs": [
    {
     "data": {
      "application/vnd.jupyter.widget-view+json": {
       "model_id": "7c85d1147e69481d9ab7ea746e10bab6",
       "version_major": 2,
       "version_minor": 0
      },
      "text/plain": [
       "VBox()"
      ]
     },
     "metadata": {},
     "output_type": "display_data"
    },
    {
     "data": {
      "application/vnd.jupyter.widget-view+json": {
       "model_id": "",
       "version_major": 2,
       "version_minor": 0
      },
      "text/plain": [
       "FloatProgress(value=0.0, bar_style='info', description='Progress:', layout=Layout(height='25px', width='50%'),…"
      ]
     },
     "metadata": {},
     "output_type": "display_data"
    }
   ],
   "source": [
    "def interest_pairs(single_1, single_2,count):\n",
    "    return confidence_pairs(single_1, single_2,count) - (single_counts_dict.value[single_2]/n_buckets)"
   ]
  },
  {
   "cell_type": "code",
   "execution_count": 56,
   "id": "latest-proposition",
   "metadata": {},
   "outputs": [
    {
     "data": {
      "application/vnd.jupyter.widget-view+json": {
       "model_id": "9d963956540245d3851a124216af2c25",
       "version_major": 2,
       "version_minor": 0
      },
      "text/plain": [
       "VBox()"
      ]
     },
     "metadata": {},
     "output_type": "display_data"
    },
    {
     "data": {
      "application/vnd.jupyter.widget-view+json": {
       "model_id": "",
       "version_major": 2,
       "version_minor": 0
      },
      "text/plain": [
       "FloatProgress(value=0.0, bar_style='info', description='Progress:', layout=Layout(height='25px', width='50%'),…"
      ]
     },
     "metadata": {},
     "output_type": "display_data"
    }
   ],
   "source": [
    "def interest_triples(pair,single,count):\n",
    "    return confidence_triples(pair,single,count) - (single_counts_dict.value[single]/n_buckets)"
   ]
  },
  {
   "cell_type": "markdown",
   "id": "reflected-evanescence",
   "metadata": {},
   "source": [
    "## Association rules: Lift\n",
    "\n",
    "    Lift(I) -> j = confidence(I -> j)/P(j) =P(I, j)/P(I)*P(j)\n",
    "\n",
    "Lift (also known as the observed/expected ratio) is a measure of the degree of dependence between I and j. \n",
    "\n",
    "A lift of 1 indicates that I and j are independent"
   ]
  },
  {
   "cell_type": "code",
   "execution_count": 57,
   "id": "beautiful-brush",
   "metadata": {},
   "outputs": [
    {
     "data": {
      "application/vnd.jupyter.widget-view+json": {
       "model_id": "531e54f635d344d281503bd09ce60a8e",
       "version_major": 2,
       "version_minor": 0
      },
      "text/plain": [
       "VBox()"
      ]
     },
     "metadata": {},
     "output_type": "display_data"
    },
    {
     "data": {
      "application/vnd.jupyter.widget-view+json": {
       "model_id": "",
       "version_major": 2,
       "version_minor": 0
      },
      "text/plain": [
       "FloatProgress(value=0.0, bar_style='info', description='Progress:', layout=Layout(height='25px', width='50%'),…"
      ]
     },
     "metadata": {},
     "output_type": "display_data"
    }
   ],
   "source": [
    "def lift_pairs(single_1, single_2,count):\n",
    "    return confidence_pairs(single_1, single_2,count)/(single_counts_dict.value[single_2]/n_buckets)"
   ]
  },
  {
   "cell_type": "code",
   "execution_count": 58,
   "id": "social-acceptance",
   "metadata": {},
   "outputs": [
    {
     "data": {
      "application/vnd.jupyter.widget-view+json": {
       "model_id": "f16cbc172b50413d9ece12b703326030",
       "version_major": 2,
       "version_minor": 0
      },
      "text/plain": [
       "VBox()"
      ]
     },
     "metadata": {},
     "output_type": "display_data"
    },
    {
     "data": {
      "application/vnd.jupyter.widget-view+json": {
       "model_id": "",
       "version_major": 2,
       "version_minor": 0
      },
      "text/plain": [
       "FloatProgress(value=0.0, bar_style='info', description='Progress:', layout=Layout(height='25px', width='50%'),…"
      ]
     },
     "metadata": {},
     "output_type": "display_data"
    }
   ],
   "source": [
    "def lift_triples(pair,single,count):\n",
    "    return confidence_triples(pair,single,count)/(single_counts_dict.value[single]/n_buckets)"
   ]
  },
  {
   "cell_type": "markdown",
   "id": "tutorial-newark",
   "metadata": {},
   "source": [
    "## Association rules: Standardised lift\n",
    "\n",
    "Standardised lift ranges from 0 to 1.\n",
    "\n",
    "This facilitates setting a fixed threshold for selecting the rules"
   ]
  },
  {
   "cell_type": "code",
   "execution_count": 59,
   "id": "widespread-millennium",
   "metadata": {},
   "outputs": [
    {
     "data": {
      "application/vnd.jupyter.widget-view+json": {
       "model_id": "509011b61e95411e8d2f5c612b3d2b8b",
       "version_major": 2,
       "version_minor": 0
      },
      "text/plain": [
       "VBox()"
      ]
     },
     "metadata": {},
     "output_type": "display_data"
    },
    {
     "data": {
      "application/vnd.jupyter.widget-view+json": {
       "model_id": "",
       "version_major": 2,
       "version_minor": 0
      },
      "text/plain": [
       "FloatProgress(value=0.0, bar_style='info', description='Progress:', layout=Layout(height='25px', width='50%'),…"
      ]
     },
     "metadata": {},
     "output_type": "display_data"
    }
   ],
   "source": [
    "def std_lift_pairs(single_1, single_2,count):\n",
    "    p_single_1 = single_counts_dict.value[single_1]/n_buckets\n",
    "    p_single_2 = single_counts_dict.value[single_2]/n_buckets\n",
    "    \n",
    "    if p_single_1!=0 and p_single_2!=0:\n",
    "        num = lift_pairs(single_1,single_2, count) - (max(p_single_1+p_single_2-1,1/n_buckets)/(p_single_1*p_single_2))\n",
    "        den = (1/p_single_1*p_single_2) - (max(p_single_1+p_single_2-1,1/n_buckets)/(p_single_1*p_single_2))\n",
    "        if den!=0:\n",
    "            return num/den\n",
    "        else:\n",
    "            return 0\n",
    "    else:\n",
    "        return 0"
   ]
  },
  {
   "cell_type": "code",
   "execution_count": 60,
   "id": "opening-looking",
   "metadata": {},
   "outputs": [
    {
     "data": {
      "application/vnd.jupyter.widget-view+json": {
       "model_id": "aef040604efb443494c4ce6bddc06712",
       "version_major": 2,
       "version_minor": 0
      },
      "text/plain": [
       "VBox()"
      ]
     },
     "metadata": {},
     "output_type": "display_data"
    },
    {
     "data": {
      "application/vnd.jupyter.widget-view+json": {
       "model_id": "",
       "version_major": 2,
       "version_minor": 0
      },
      "text/plain": [
       "FloatProgress(value=0.0, bar_style='info', description='Progress:', layout=Layout(height='25px', width='50%'),…"
      ]
     },
     "metadata": {},
     "output_type": "display_data"
    }
   ],
   "source": [
    "def std_lift_triples(pair,single,count):\n",
    "    p_pair = pair_counts_dict.value.get(pair,0)/n_buckets\n",
    "    p_single = single_counts_dict.value[single]/n_buckets\n",
    "    if p_pair!=0 and p_single!=0:\n",
    "        num = lift_triples(pair,single, count) - (max(p_pair+p_single-1,1/n_buckets)/(p_pair*p_single))\n",
    "        den = (1/p_pair*p_single) - (max(p_pair+p_single-1,1/n_buckets)/(p_pair*p_single))\n",
    "        if den!=0:\n",
    "            return num/den\n",
    "        else:\n",
    "            return 0\n",
    "    else:\n",
    "        return 0"
   ]
  },
  {
   "cell_type": "markdown",
   "id": "martial-reality",
   "metadata": {},
   "source": [
    "Breaking frequent itemsets into rules with respective counts"
   ]
  },
  {
   "cell_type": "code",
   "execution_count": 61,
   "id": "seasonal-midnight",
   "metadata": {},
   "outputs": [
    {
     "data": {
      "application/vnd.jupyter.widget-view+json": {
       "model_id": "f6ec9ed87d4f42a18121b1b445e6fe23",
       "version_major": 2,
       "version_minor": 0
      },
      "text/plain": [
       "VBox()"
      ]
     },
     "metadata": {},
     "output_type": "display_data"
    },
    {
     "data": {
      "application/vnd.jupyter.widget-view+json": {
       "model_id": "",
       "version_major": 2,
       "version_minor": 0
      },
      "text/plain": [
       "FloatProgress(value=0.0, bar_style='info', description='Progress:', layout=Layout(height='25px', width='50%'),…"
      ]
     },
     "metadata": {},
     "output_type": "display_data"
    }
   ],
   "source": [
    "def break_doubles(pair):\n",
    "    single_1 = pair[0][0]\n",
    "    single_2 = pair[0][1]\n",
    "    count = pair[1]\n",
    "    return [((single_1,single_2),count),((single_2,single_1),count)]"
   ]
  },
  {
   "cell_type": "code",
   "execution_count": 62,
   "id": "exterior-toddler",
   "metadata": {},
   "outputs": [
    {
     "data": {
      "application/vnd.jupyter.widget-view+json": {
       "model_id": "d509f41b97004f99a766a3687a6a3ede",
       "version_major": 2,
       "version_minor": 0
      },
      "text/plain": [
       "VBox()"
      ]
     },
     "metadata": {},
     "output_type": "display_data"
    },
    {
     "data": {
      "application/vnd.jupyter.widget-view+json": {
       "model_id": "",
       "version_major": 2,
       "version_minor": 0
      },
      "text/plain": [
       "FloatProgress(value=0.0, bar_style='info', description='Progress:', layout=Layout(height='25px', width='50%'),…"
      ]
     },
     "metadata": {},
     "output_type": "display_data"
    }
   ],
   "source": [
    "def break_triples(triple_count):\n",
    "    \n",
    "    triple=triple_count[0]\n",
    "    count = triple_count[1]\n",
    "    first_pair = (triple[0],triple[1])\n",
    "    second_pair = (triple[0],triple[2])\n",
    "    third_pair = (triple[1],triple[2])\n",
    "    pairs = [first_pair, second_pair, third_pair]\n",
    "    singles = [2,1,0]\n",
    "    candidate_rules=[]\n",
    "    for i in range(3):\n",
    "        candidate_rules.append(((pairs[i],triple[singles[i]],count)))\n",
    "    \n",
    "    return candidate_rules"
   ]
  },
  {
   "cell_type": "markdown",
   "id": "latin-radius",
   "metadata": {},
   "source": [
    "Getting metrics for the rules in the format:\n",
    "left side of the rule,right side,standard lift,lift,confidence,interest"
   ]
  },
  {
   "cell_type": "code",
   "execution_count": 63,
   "id": "normal-correspondence",
   "metadata": {},
   "outputs": [
    {
     "data": {
      "application/vnd.jupyter.widget-view+json": {
       "model_id": "d804e2cf11a9435ca3f58501888864ac",
       "version_major": 2,
       "version_minor": 0
      },
      "text/plain": [
       "VBox()"
      ]
     },
     "metadata": {},
     "output_type": "display_data"
    },
    {
     "data": {
      "application/vnd.jupyter.widget-view+json": {
       "model_id": "",
       "version_major": 2,
       "version_minor": 0
      },
      "text/plain": [
       "FloatProgress(value=0.0, bar_style='info', description='Progress:', layout=Layout(height='25px', width='50%'),…"
      ]
     },
     "metadata": {},
     "output_type": "display_data"
    },
    {
     "name": "stdout",
     "output_type": "stream",
     "text": [
      "{(195662009, 444814009): 343651, (10509002, 444814009): 302516, (15777000, 271737000): 289176, (162864005, 444814009): 243812, (271737000, 444814009): 236847, (15777000, 444814009): 236320, (10509002, 195662009): 211065, (59621000, 444814009): 203450, (162864005, 195662009): 167438, (40055000, 444814009): 165530, (195662009, 271737000): 162925, (15777000, 195662009): 162227, (10509002, 162864005): 146077, (10509002, 271737000): 142085, (10509002, 15777000): 141106, (59621000, 195662009): 140139, (72892002, 444814009): 136986, (19169002, 444814009): 134867, (59621000, 271737000): 126551, (10509002, 59621000): 122910, (15777000, 59621000): 119842, (40055000, 195662009): 114470, (59621000, 162864005): 110177, (40055000, 162864005): 103517, (15777000, 162864005): 103371, (15777000, 40055000): 101659, (162864005, 271737000): 101419, (10509002, 40055000): 100115, (40055000, 271737000): 98993, (43878008, 444814009): 98873, (72892002, 195662009): 94716, (19169002, 162864005): 93672, (19169002, 195662009): 92648, (15777000, 19169002): 89856, (55822004, 444814009): 89004, (10509002, 72892002): 82771, (10509002, 19169002): 80162, (19169002, 72892002): 78260, (44465007, 444814009): 77379, (40055000, 59621000): 77283, (65363002, 444814009): 75356, (44054006, 302870006): 75309, (237602007, 302870006): 74395, (44054006, 237602007): 74200, (19169002, 271737000): 70846, (43878008, 195662009): 69364, (15777000, 55822004): 69164, (55822004, 162864005): 68835, (72892002, 271737000): 65812, (19169002, 59621000): 64743, (55822004, 271737000): 64616, (59621000, 72892002): 63403, (10509002, 43878008): 62291, (44054006, 271737000): 61884, (55822004, 195662009): 61415, (271737000, 302870006): 61324, (237602007, 271737000): 60019, (19169002, 40055000): 57095, (68496003, 444814009): 57041, (65363002, 195662009): 54907, (72892002, 162864005): 54739, (44465007, 195662009): 54330, (74400008, 428251008): 53933, (10509002, 55822004): 53252, (44054006, 444814009): 51536, (15777000, 72892002): 51423, (302870006, 444814009): 50706, (237602007, 444814009): 49662, (10509002, 65363002): 48784, (10509002, 44465007): 47982, (15777000, 302870006): 46593, (15777000, 44054006): 46480, (44054006, 59621000): 46087, (15777000, 237602007): 45819, (53741008, 444814009): 45719, (68496003, 271737000): 45522, (59621000, 302870006): 45472, (59621000, 237602007): 44820, (15777000, 68496003): 44780, (68496003, 162864005): 44652, (62106007, 444814009): 44000, (40055000, 55822004): 43735, (36971009, 40055000): 43703, (55822004, 59621000): 43473, (75498004, 444814009): 43281, (410429000, 429007001): 43157, (36971009, 444814009): 42978, (128613002, 703151001): 42693, (196416002, 124171000119105): 42493, (82423001, 196416002): 42462, (82423001, 124171000119105): 42460, (239873007, 444814009): 40810, (40055000, 72892002): 39540, (230690007, 444814009): 39106, (68496003, 195662009): 38982, (19169002, 55822004): 38254, (43878008, 162864005): 38100, (40055000, 75498004): 38018, (88805009, 444814009): 37809, (55680006, 196416002): 37793, (55680006, 82423001): 37785, (55680006, 124171000119105): 37769, (64859006, 444814009): 36927, (196416002, 444814009): 36648, (43878008, 271737000): 36590, (444814009, 124171000119105): 36557, (82423001, 444814009): 36552, (39848009, 444814009): 36145, (15777000, 43878008): 36138, (72892002, 156073000): 35983, (19169002, 156073000): 35983, (428251008, 444814009): 35703, (74400008, 444814009): 35703, (44054006, 195662009): 35497, (55680006, 444814009): 35494, (80394007, 302870006): 35226, (44054006, 80394007): 35226, (80394007, 237602007): 35226, (195662009, 302870006): 34901, (44054006, 127013003): 34609, (127013003, 302870006): 34590, (127013003, 237602007): 34562, (70704007, 444814009): 34213, (195662009, 237602007): 34155, (10509002, 68496003): 33897, (43878008, 59621000): 33183, (15777000, 80394007): 32951, (44465007, 162864005): 32848, (44054006, 431855005): 32321, (127013003, 431855005): 32321, (302870006, 431855005): 32303, (237602007, 431855005): 32277, (44465007, 271737000): 32052, (15777000, 44465007): 31738, (53741008, 195662009): 31371, (53741008, 271737000): 31076, (162864005, 239873007): 31033, (10509002, 44054006): 30851, (15777000, 239873007): 30817, (62106007, 195662009): 30772, (75498004, 195662009): 30626, (36971009, 195662009): 30459, (10509002, 302870006): 30360, (88805009, 271737000): 30359, (15777000, 88805009): 30249, (15777000, 230690007): 29980, (10509002, 237602007): 29739, (15777000, 64859006): 29324, (15777000, 53741008): 29127, (88805009, 162864005): 28990, (44465007, 59621000): 28978, (64859006, 162864005): 28973, (162864005, 230690007): 28879, (239873007, 271737000): 28872, (65966004, 444814009): 28769, (230690007, 271737000): 28748, (410429000, 444814009): 28679, (429007001, 444814009): 28679, (80394007, 271737000): 28505, (59621000, 68496003): 28257, (40055000, 43878008): 28249, (53741008, 162864005): 28147, (40055000, 68496003): 28063, (195662009, 239873007): 28055, (49436004, 444814009): 27916, (127013003, 271737000): 27541, (10509002, 53741008): 27358, (10509002, 62106007): 27118, (10509002, 75498004): 26989, (43878008, 65363002): 26959, (10509002, 36971009): 26944, (195662009, 230690007): 26884, (44054006, 368581000119106): 26779, (302870006, 368581000119106): 26722, (237602007, 368581000119106): 26611, (92691004, 126906006): 26353, (68496003, 713197008): 25903, (88805009, 195662009): 25797, (19169002, 79586000): 25783, (271737000, 431855005): 25769, (64859006, 271737000): 25514, (444814009, 703151001): 25509, (128613002, 444814009): 25509, (39848009, 195662009): 25335, (195662009, 196416002): 25277, (82423001, 195662009): 25267, (64859006, 195662009): 25254, (195662009, 124171000119105): 25152, (58150001, 444814009): 25007, (22298006, 399211009): 24672, (195662009, 428251008): 24591, (74400008, 195662009): 24591, (10509002, 239873007): 24462, (55680006, 195662009): 24404, (19169002, 68496003): 24337, (53741008, 59621000): 24188, (55822004, 68496003): 24152, (156073000, 444814009): 24114, (70704007, 195662009): 24000, (22298006, 53741008): 23747, (53741008, 399211009): 23747, (80394007, 444814009): 23558, (40055000, 44465007): 23509, (10509002, 230690007): 23418, (26929004, 444814009): 23161, (127013003, 444814009): 23093, (370247008, 444814009): 23003, (284551006, 444814009): 22991, (72892002, 398254007): 22959, (283371005, 444814009): 22866, (283385000, 444814009): 22771, (72892002, 198992004): 22738, (43878008, 72892002): 22693, (284549007, 444814009): 22669, (40055000, 44054006): 22571, (263102004, 444814009): 22538, (10509002, 88805009): 22464, (40055000, 302870006): 22438, (84757009, 703151001): 22352, (84757009, 128613002): 22352, (15777000, 49436004): 22348, (16114001, 444814009): 22347, (10509002, 196416002): 22281, (74400008, 162864005): 22262, (162864005, 428251008): 22262, (55680006, 162864005): 22226, (10509002, 82423001): 22199, (10509002, 124171000119105): 22173, (10509002, 39848009): 22153, (271737000, 368581000119106): 22142, (49436004, 162864005): 22098, (40055000, 237602007): 22070, (49436004, 271737000): 22057, (59621000, 230690007): 22057, (10509002, 64859006): 22033, (75498004, 162864005): 22024, (36971009, 162864005): 21883, (15777000, 428251008): 21809, (15777000, 74400008): 21809, (271737000, 428251008): 21736, (74400008, 271737000): 21736, (10509002, 428251008): 21652, (10509002, 74400008): 21652, (15777000, 55680006): 21624, (431855005, 444814009): 21573, (10509002, 55680006): 21519, (36971009, 271737000): 21314, (15777000, 36971009): 21313, (19169002, 64859006): 21280, (10509002, 70704007): 21128, (75498004, 271737000): 21121, (15777000, 75498004): 21098, (55680006, 271737000): 21017, (82423001, 162864005): 20939, (162864005, 196416002): 20914, (59621000, 127013003): 20851, (162864005, 124171000119105): 20832, (19169002, 43878008): 20772, (44054006, 422034002): 20456, (302870006, 422034002): 20413, (59621000, 80394007): 20376, (15777000, 124171000119105): 20366, (65966004, 195662009): 20347, (237602007, 422034002): 20342, (44465007, 72892002): 20273, (15777000, 82423001): 20253, (15777000, 196416002): 20174, (62106007, 162864005): 20146, (40055000, 64859006): 20144, (126906006, 271737000): 20126, (301011002, 444814009): 20097, (59621000, 239873007): 20060, (232353008, 444814009): 20031, (271737000, 124171000119105): 20018, (444814009, 446096008): 20008, (195662009, 429007001): 19910, (195662009, 410429000): 19910, (82423001, 271737000): 19907, (196416002, 271737000): 19886, (44054006, 162864005): 19885, (62106007, 271737000): 19837, (40055000, 230690007): 19826, (59621000, 431855005): 19666, (55822004, 64859006): 19595, (162864005, 237602007): 19589, (162864005, 302870006): 19589, (15777000, 62106007): 19580, (40055000, 53741008): 19443, (49436004, 195662009): 19260, (126906006, 444814009): 19198, (40055000, 88805009): 19191, (15777000, 127013003): 19006, (40055000, 239873007): 18995, (59621000, 88805009): 18676, (15777000, 26929004): 18450, (92691004, 271737000): 18341, (59621000, 64859006): 18295, (36971009, 59621000): 18265, (19169002, 44465007): 18225, (59621000, 75498004): 18121, (26929004, 162864005): 18065, (39848009, 162864005): 18000, (195662009, 703151001): 17936, (128613002, 195662009): 17936, (444814009, 368581000119106): 17935, (35999006, 72892002): 17873, (19169002, 35999006): 17873, (162864005, 429007001): 17848, (162864005, 410429000): 17848, (15777000, 368581000119106): 17749, (10509002, 65966004): 17676, (43878008, 44465007): 17670, (19169002, 239873007): 17667, (15777000, 431855005): 17662, (39848009, 271737000): 17611, (15777000, 410429000): 17594, (15777000, 429007001): 17594, (19169002, 44054006): 17583, (59621000, 62106007): 17527, (58150001, 195662009): 17513, (19169002, 302870006): 17478, (92691004, 444814009): 17461, (15777000, 39848009): 17460, (271737000, 410429000): 17400, (271737000, 429007001): 17400, (10509002, 410429000): 17353, (10509002, 429007001): 17353, (403190006, 444814009): 17320, (64859006, 443165006): 17268, (79586000, 444814009): 17253, (19169002, 88805009): 17251, (444814009, 713197008): 17235, (15777000, 126906006): 17233, (19169002, 237602007): 17199, (55822004, 88805009): 17173, (201834006, 444814009): 17038, (271737000, 422034002): 16953, (55822004, 230690007): 16945, (55680006, 59621000): 16875, (59621000, 196416002): 16869, (59621000, 82423001): 16857, (26929004, 271737000): 16811, (59621000, 124171000119105): 16773, (10509002, 49436004): 16676, (156073000, 195662009): 16636, (59621000, 428251008): 16528, (59621000, 74400008): 16528, (49436004, 59621000): 16516, (19169002, 230690007): 16486, (399211009, 444814009): 16446, (22298006, 444814009): 16446, (80394007, 195662009): 16142, (47693006, 428251008): 16103, (195662009, 370247008): 16103, (47693006, 74400008): 16103, (44465007, 65363002): 16075, (195662009, 284551006): 16043, (127013003, 195662009): 16023, (195662009, 283371005): 15998, (59621000, 368581000119106): 15989, (195662009, 283385000): 15986, (233678006, 444814009): 15977, (195662009, 284549007): 15940, (72892002, 301011002): 15846, (26929004, 195662009): 15807, (10509002, 128613002): 15802, (10509002, 703151001): 15802, (195662009, 263102004): 15801, (271737000, 713197008): 15726, (15777000, 92691004): 15673, (16114001, 195662009): 15670, (55822004, 302870006): 15599, (10509002, 58150001): 15545, (55822004, 237602007): 15453, (44054006, 55822004): 15432, (398254007, 444814009): 15260, (40055000, 49436004): 15247, (39848009, 59621000): 15169, (198992004, 444814009): 15082, (239872002, 444814009): 15077, (195662009, 431855005): 14975, (55822004, 239873007): 14841, (53741008, 55822004): 14811, (65966004, 162864005): 14646, (70704007, 162864005): 14538, (49436004, 55822004): 14508, (15777000, 65966004): 14411, (254837009, 444814009): 14392, (10509002, 156073000): 14331, (40055000, 428251008): 14249, (40055000, 74400008): 14249, (10509002, 370247008): 14160, (10509002, 80394007): 14154, (70704007, 271737000): 14150, (10509002, 283385000): 14116, (195662009, 446096008): 14106, (40055000, 55680006): 14106, (10509002, 284549007): 14038, (195662009, 232353008): 14032, (10509002, 283371005): 13980, (80394007, 368581000119106): 13980, (15777000, 70704007): 13971, (10509002, 284551006): 13960, (40055000, 62106007): 13890, (10509002, 16114001): 13884, (10509002, 263102004): 13876, (65966004, 271737000): 13862, (10509002, 26929004): 13850, (10509002, 127013003): 13840, (422034002, 444814009): 13722, (195662009, 301011002): 13703, (15777000, 422034002): 13662, (40055000, 196416002): 13646, (40055000, 124171000119105): 13620, (43878008, 55822004): 13590, (38822007, 444814009): 13580, (80394007, 162864005): 13567, (40055000, 82423001): 13564, (162864005, 713197008): 13535, (26929004, 55822004): 13526, (15777000, 713197008): 13525, (59621000, 429007001): 13464, (59621000, 410429000): 13464, (84757009, 444814009): 13408, (126906006, 162864005): 13334, (126906006, 195662009): 13318, (80394007, 127013003): 13116, (26929004, 40055000): 12999, (162864005, 201834006): 12986, (87433001, 444814009): 12973, (10509002, 431855005): 12929, (156073000, 162864005): 12928, (59621000, 70704007): 12906, (162573006, 254637007): 12751, (162573006, 424132000): 12747, (254637007, 424132000): 12747, (15777000, 201834006): 12711, (10509002, 446096008): 12673, (10509002, 232353008): 12626, (62106007, 72892002): 12619, (24079001, 444814009): 12522, (19169002, 55680006): 12482, (72892002, 75498004): 12360, (79586000, 162864005): 12349, (39848009, 40055000): 12280, (36971009, 72892002): 12243, (195662009, 368581000119106): 12233, (192127007, 444814009): 12223, (59621000, 422034002): 12219, (156073000, 271737000): 12202, (40055000, 65363002): 12160, (92691004, 195662009): 12142, (80394007, 431855005): 12133, (92691004, 162864005): 12114, (195662009, 403190006): 12108, (15777000, 156073000): 12063, (62564004, 444814009): 12054, (19169002, 36971009): 12050, (19169002, 75498004): 11971, (35999006, 444814009): 11950, (49436004, 230690007): 11916, (15777000, 79586000): 11894, (10509002, 301011002): 11840, (79586000, 195662009): 11824, (201834006, 271737000): 11822, (44465007, 55822004): 11776, (195662009, 713197008): 11764, (195662009, 233678006): 11723, (44054006, 1551000119108): 11705, (302870006, 1551000119108): 11705, (422034002, 1551000119108): 11705, (64859006, 230690007): 11691, (19169002, 124171000119105): 11688, (237602007, 1551000119108): 11683, (19169002, 82423001): 11658, (19169002, 196416002): 11651, (403191005, 444814009): 11631, (195662009, 201834006): 11621, (443165006, 444814009): 11581, (40055000, 429007001): 11573, (40055000, 410429000): 11573, (162864005, 283371005): 11566, (58150001, 162864005): 11553, (162864005, 370247008): 11527, (162864005, 284551006): 11525, (10509002, 126906006): 11518, (307731004, 444814009): 11499, (162864005, 301011002): 11493, (162864005, 239872002): 11449, (26929004, 59621000): 11443, (162864005, 284549007): 11432, (59621000, 156073000): 11389, (162864005, 283385000): 11382, (162864005, 703151001): 11375, (128613002, 162864005): 11375, (19169002, 254837009): 11343, (33737001, 444814009): 11329, (15777000, 239872002): 11325, (72892002, 124171000119105): 11296, (72892002, 82423001): 11292, (72892002, 196416002): 11261, (195662009, 399211009): 11251, (22298006, 195662009): 11251, (271737000, 370247008): 11243, (15777000, 370247008): 11218, (59621000, 65966004): 11215, (185086009, 444814009): 11212, (15777000, 283371005): 11203, (19169002, 301011002): 11168, (19169002, 62106007): 11118, (271737000, 283371005): 11118, (271737000, 284549007): 11078, (19169002, 26929004): 11067, (15777000, 284549007): 11066, (271737000, 284551006): 11060, (15777000, 58150001): 11050, (15777000, 284551006): 11024, (15777000, 283385000): 11017, (64859006, 68496003): 11014, (271737000, 703151001): 11009, (128613002, 271737000): 11009, (271737000, 283385000): 10987, (58150001, 271737000): 10981, (15777000, 301011002): 10940, (40055000, 127013003): 10914, (68496003, 88805009): 10909, (40055000, 65966004): 10884, (15777000, 703151001): 10863, (15777000, 128613002): 10863, (65363002, 162864005): 10831, (40055000, 80394007): 10807, (162573006, 271737000): 10799, (271737000, 301011002): 10795, (80394007, 422034002): 10794, (19169002, 428251008): 10771, (19169002, 74400008): 10771, (162864005, 254837009): 10770, (10509002, 368581000119106): 10748, (47693006, 444814009): 10739, (38822007, 72892002): 10700, (10509002, 403190006): 10691, (59621000, 126906006): 10637, (195662009, 398254007): 10632, (10509002, 233678006): 10616, (44054006, 72892002): 10559, (239872002, 271737000): 10558, (10509002, 92691004): 10505, (195662009, 198992004): 10502, (49436004, 64859006): 10476, (55680006, 72892002): 10452, (15777000, 254837009): 10439, (40055000, 70704007): 10418, (40055000, 126906006): 10402, (195662009, 239872002): 10367, (127013003, 368581000119106): 10365, (162864005, 263102004): 10363, (16114001, 162864005): 10303, (10509002, 713197008): 10288, (65363002, 271737000): 10192, (40055000, 431855005): 10169, (15777000, 263102004): 10157, (87433001, 271737000): 10151, (271737000, 399211009): 10135, (22298006, 271737000): 10135, (10509002, 79586000): 10093, (15777000, 16114001): 10092, (26929004, 64859006): 10082, (39848009, 72892002): 10076, (162573006, 444814009): 10048, (422034002, 368581000119106): 10004, (19169002, 39848009): 9963, (16114001, 271737000): 9954, (263102004, 271737000): 9915, (10509002, 201834006): 9909, (195662009, 254837009): 9901, (10509002, 399211009): 9880, (10509002, 22298006): 9880, (68496003, 239873007): 9858, (367498001, 444814009): 9849, (68496003, 302870006): 9835, (431855005, 368581000119106): 9829, (72892002, 302870006): 9818, (64859006, 88805009): 9816, (55822004, 126906006): 9796, (68496003, 237602007): 9750, (68496003, 230690007): 9741, (44054006, 68496003): 9733, (15777000, 65363002): 9725, (271737000, 1551000119108): 9716, (59621000, 284551006): 9715, (59621000, 92691004): 9712, (59621000, 301011002): 9695, (19169002, 49436004): 9637, (59621000, 284549007): 9595, (59621000, 370247008): 9572, (40055000, 92691004): 9549, (241929008, 444814009): 9494, (59621000, 283371005): 9457, (72892002, 79586000): 9448, (59621000, 283385000): 9430, (59621000, 65363002): 9387, (72892002, 237602007): 9384, (84757009, 195662009): 9374, (53741008, 230690007): 9326, (38822007, 195662009): 9309, (53741008, 302870006): 9304, (44054006, 53741008): 9271, (43878008, 62106007): 9257, (59621000, 128613002): 9252, (59621000, 703151001): 9252, (195662009, 422034002): 9247, (10509002, 398254007): 9239, (53741008, 237602007): 9202, (15777000, 22298006): 9201, (15777000, 399211009): 9201, (254637007, 271737000): 9165, (271737000, 424132000): 9162, (79586000, 271737000): 9150, (19169002, 53741008): 9149, (58150001, 59621000): 9139, (15777000, 443165006): 9108, (444814009, 449868002): 9104, (55822004, 92691004): 9072, (55822004, 74400008): 9058, (55822004, 428251008): 9058, (10509002, 198992004): 9053, (24079001, 195662009): 9038, (271737000, 449868002): 9019, (10509002, 239872002): 9019, (162864005, 443165006): 9011, (192127007, 195662009): 8976, (53741008, 68496003): 8967, (19169002, 410429000): 8946, (19169002, 429007001): 8946, (64859006, 65966004): 8931, (43878008, 75498004): 8905, (162864005, 399211009): 8882, (22298006, 162864005): 8882, (19169002, 80394007): 8882, (70704007, 72892002): 8861, (87433001, 195662009): 8843, (15777000, 87433001): 8834, (26929004, 233604007): 8812, (230690007, 302870006): 8805, (19169002, 65966004): 8761, (162864005, 403190006): 8756, (44054006, 230690007): 8749, (230690007, 237602007): 8734, (55822004, 127013003): 8729, (36971009, 43878008): 8715, (10509002, 254837009): 8706, (87433001, 162864005): 8690, (43878008, 68496003): 8683, (40055000, 58150001): 8664, (40055000, 713197008): 8653, (359817006, 444814009): 8644, (185086009, 271737000): 8620, (55680006, 55822004): 8584, (254637007, 444814009): 8534, (424132000, 444814009): 8531, (59621000, 713197008): 8527, (271737000, 398254007): 8429, (53741008, 410429000): 8420, (53741008, 429007001): 8420, (62564004, 195662009): 8385, (198992004, 271737000): 8372, (59621000, 201834006): 8368, (271737000, 403190006): 8366, (55822004, 65966004): 8314, (59621000, 263102004): 8308, (10509002, 84757009): 8248, (35999006, 195662009): 8235, (16114001, 59621000): 8219, (65966004, 443165006): 8209, (15777000, 403190006): 8204, (15777000, 162573006): 8199, (10509002, 192127007): 8181, (40055000, 368581000119106): 8169, (68496003, 109838007): 8153, (59621000, 79586000): 8146, (127013003, 162864005): 8138, (55822004, 431855005): 8115, (10509002, 38822007): 8111, (15777000, 1551000119108): 8075, (22298006, 59621000): 8065, (59621000, 399211009): 8065, (49436004, 68496003): 8063, (10509002, 422034002): 8049, (53741008, 64859006): 8021, (10509002, 24079001): 8018, (36971009, 55822004): 8002, (195662009, 443165006): 7999, (43878008, 44054006): 7993, (195662009, 403191005): 7982, (254837009, 271737000): 7977, (19169002, 70704007): 7976, (55822004, 75498004): 7973, (55822004, 80394007): 7953, (33737001, 195662009): 7949, (40055000, 128613002): 7948, (40055000, 703151001): 7948, (195662009, 307731004): 7932, (271737000, 443165006): 7920, (40055000, 201834006): 7904, (26929004, 68496003): 7903, (40055000, 156073000): 7868, (43878008, 302870006): 7861, (444814009, 1551000119108): 7851, (55822004, 410429000): 7849, (55822004, 429007001): 7849, (127013003, 422034002): 7829, (15777000, 449868002): 7820, (40055000, 283371005): 7813, (40055000, 370247008): 7811, (40055000, 284551006): 7776, (65363002, 233678006): 7774, (40055000, 283385000): 7771, (55822004, 82423001): 7761, (55822004, 124171000119105): 7759, (38822007, 162864005): 7710, (72892002, 74400008): 7706, (72892002, 428251008): 7706, (10509002, 87433001): 7701, (43878008, 53741008): 7680, (40055000, 284549007): 7676, (40055000, 263102004): 7669, (16114001, 40055000): 7668, (43878008, 237602007): 7668, (162864005, 185086009): 7660, (55822004, 713197008): 7651, (55822004, 196416002): 7650, (185086009, 195662009): 7648, (19169002, 713197008): 7632, (62106007, 65363002): 7606, (44465007, 68496003): 7601, (162864005, 431855005): 7581, (43878008, 70704007): 7567, (40055000, 79586000): 7540, (19169002, 38822007): 7534, (10509002, 62564004): 7521, (19169002, 398254007): 7495, (15777000, 185086009): 7475, (19169002, 198992004): 7450, (422034002, 431855005): 7441, (59621000, 239872002): 7428, (233604007, 444814009): 7421, (162573006, 162864005): 7402, (15777000, 38822007): 7359, (38822007, 271737000): 7348, (26929004, 230690007): 7346, (47693006, 195662009): 7330, (19169002, 201834006): 7271, (59621000, 403190006): 7257, (39848009, 43878008): 7161, (88805009, 230690007): 7135, (59621000, 1551000119108): 7127, (10509002, 403191005): 7108, (88805009, 302870006): 7106, (40055000, 239872002): 7091, (10509002, 35999006): 7082, (195662009, 367498001): 7080, (126906006, 302870006): 7072, (65363002, 72892002): 7068, (59621000, 398254007): 7063, (19169002, 368581000119106): 7056, (88805009, 237602007): 7044, (10509002, 307731004): 7039, (126906006, 237602007): 7036, (10509002, 33737001): 7036, (59621000, 198992004): 7026, (44054006, 126906006): 7013, (26929004, 49436004): 7013, (44054006, 88805009): 7010, (49436004, 53741008): 6993, (65363002, 70704007): 6968, (15777000, 254637007): 6953, (15777000, 424132000): 6950, (65363002, 703151001): 6945, (65363002, 128613002): 6945, (40055000, 301011002): 6942, (19169002, 127013003): 6930, (363406005, 713197008): 6924, (68496003, 363406005): 6924, (10509002, 443165006): 6904, (44054006, 44465007): 6902, (162573006, 195662009): 6876, (126906006, 449868002): 6869, (195662009, 241929008): 6853, (19169002, 443165006): 6847, (36971009, 44465007): 6838, (239873007, 302870006): 6800, (44465007, 75498004): 6799, (49436004, 88805009): 6780, (59621000, 254837009): 6778, (44054006, 239873007): 6771, (44465007, 302870006): 6753, (64859006, 239873007): 6747, (197927001, 444814009): 6732, (237602007, 239873007): 6717, (40055000, 254837009): 6703, (88805009, 239873007): 6703, (47693006, 162864005): 6692, (7200002, 271737000): 6689, (7200002, 444814009): 6681, (10509002, 185086009): 6639, (55822004, 62106007): 6633, (15777000, 47693006): 6609, (44465007, 237602007): 6601, (39848009, 55822004): 6580, (40055000, 443165006): 6580, (59621000, 446096008): 6572, (55822004, 443165006): 6563, (1551000119108, 368581000119106): 6555, (47693006, 271737000): 6543, (59621000, 232353008): 6539, (44465007, 53741008): 6535, (64859006, 302870006): 6530, (126906006, 127013003): 6514, (72892002, 283371005): 6483, (35999006, 162864005): 6479, (38822007, 59621000): 6466, (19169002, 431855005): 6462, (64859006, 237602007): 6458, (92691004, 302870006): 6451, (19169002, 239872002): 6444, (72892002, 284549007): 6443, (72892002, 446096008): 6443, (80394007, 1551000119108): 6429, (44054006, 64859006): 6420, (92691004, 237602007): 6416, (55822004, 72892002): 6416, (230690007, 239873007): 6408, (10509002, 47693006): 6397, (44054006, 92691004): 6393, (44465007, 62106007): 6393, (19169002, 58150001): 6391, (72892002, 283385000): 6391, (72892002, 232353008): 6388, (40055000, 422034002): 6381, (72892002, 284551006): 6359, (65363002, 75498004): 6359, (59621000, 87433001): 6358, (232353008, 233678006): 6346, (19169002, 284549007): 6325, (19169002, 283371005): 6319, (65363002, 241929008): 6314, (19169002, 370247008): 6308, (36971009, 65363002): 6307, (195662009, 449868002): 6300, (92691004, 449868002): 6287, (19169002, 284551006): 6286, (72892002, 370247008): 6270, (162864005, 368581000119106): 6247, (233678006, 446096008): 6236, (10509002, 367498001): 6235, (43878008, 65966004): 6233, (109838007, 713197008): 6230, (43878008, 196416002): 6226, (43878008, 82423001): 6217, (162864005, 254637007): 6214, (162864005, 424132000): 6211, (162864005, 449868002): 6209, (10509002, 241929008): 6195, (43878008, 124171000119105): 6177, (43878008, 239873007): 6175, (19169002, 283385000): 6165, (24079001, 233678006): 6160, (55822004, 201834006): 6159, (162864005, 233604007): 6146, (55822004, 368581000119106): 6110, (15777000, 35999006): 6100, (53741008, 126906006): 6099, (195662009, 359817006): 6071, (40055000, 399211009): 6070, (22298006, 40055000): 6070, (35999006, 271737000): 6070, (126906006, 431855005): 6054, (10509002, 162573006): 6023, (43878008, 428251008): 6017, (43878008, 74400008): 6017, (232353008, 271737000): 6002, (49436004, 126906006): 5989, (72892002, 429007001): 5982, (72892002, 410429000): 5982, (84757009, 162864005): 5981, (92691004, 127013003): 5963, (271737000, 446096008): 5948, (68496003, 126906006): 5923, (90560007, 444814009): 5917, (43878008, 230690007): 5875, (162864005, 446096008): 5868, (40055000, 403190006): 5862, (19169002, 263102004): 5856, (126906006, 230690007): 5849, (24079001, 232353008): 5847, (16114001, 19169002): 5841, (195662009, 254637007): 5826, (7200002, 15777000): 5825, (195662009, 424132000): 5824, (68496003, 428251008): 5809, (68496003, 74400008): 5809, (53741008, 92691004): 5799, (65363002, 232353008): 5790, (84757009, 271737000): 5783, (65363002, 446096008): 5775, (15777000, 233604007): 5771, (24079001, 446096008): 5762, (43878008, 58150001): 5751, (49436004, 92691004): 5751, (162864005, 307731004): 5745, (162864005, 232353008): 5724, (53741008, 127013003): 5719, (49436004, 302870006): 5697, (35999006, 59621000): 5687, (15777000, 84757009): 5686, (19169002, 703151001): 5674, (19169002, 128613002): 5674, (162864005, 403191005): 5667, (444448004, 444814009): 5661, (43878008, 703151001): 5660, (43878008, 128613002): 5660, (59621000, 443165006): 5652, (49436004, 237602007): 5644, (162864005, 398254007): 5641, (55822004, 58150001): 5639, (44054006, 49436004): 5618, (43878008, 64859006): 5617, (271737000, 363406005): 5615, (43878008, 88805009): 5610, (92691004, 230690007): 5596, (19169002, 65363002): 5596, (53741008, 239873007): 5594, (43878008, 55680006): 5586, (162864005, 198992004): 5578, (55822004, 254837009): 5557, (10509002, 449868002): 5554, (92691004, 431855005): 5544, (55822004, 239872002): 5544, (62564004, 162864005): 5533, (271737000, 403191005): 5529, (363406005, 444814009): 5520, (15777000, 232353008): 5507, (40055000, 87433001): 5491, (83664006, 444814009): 5467, (44465007, 239873007): 5461, (19169002, 422034002): 5455, (68496003, 127013003): 5451, (15777000, 403191005): 5449, (68496003, 92691004): 5440, (62564004, 271737000): 5429, (15777000, 398254007): 5426, (271737000, 307731004): 5419, (15777000, 446096008): 5417, (109838007, 444814009): 5408, (15777000, 198992004): 5388, (26929004, 53741008): 5382, (15777000, 307731004): 5373, (53741008, 88805009): 5371, (15777000, 62564004): 5346, (44465007, 124171000119105): 5340, (53741008, 431855005): 5338, (44465007, 82423001): 5333, (59621000, 185086009): 5331, (10509002, 359817006): 5323, (65363002, 65966004): 5322, (55680006, 68496003): 5319, (44465007, 230690007): 5319, (24079001, 65363002): 5318, (195662009, 1551000119108): 5302, (59621000, 162573006): 5302, (44465007, 196416002): 5279, (72892002, 703151001): 5276, (72892002, 128613002): 5276, (127013003, 230690007): 5268, (55822004, 79586000): 5263, (58150001, 65363002): 5238, (43878008, 233678006): 5229, (33737001, 162864005): 5228, (16114001, 55822004): 5220, (55822004, 263102004): 5207, (44465007, 70704007): 5199, (109838007, 271737000): 5178, (39848009, 65363002): 5163, (55822004, 70704007): 5147, (15777000, 33737001): 5134, (64859006, 126906006): 5131, (68496003, 75498004): 5125, (36971009, 68496003): 5121, (16114001, 43878008): 5112, (33737001, 271737000): 5111, (19169002, 197927001): 5108, (7200002, 126906006): 5107, (10509002, 254637007): 5099, (10509002, 424132000): 5098, (68496003, 431855005): 5093, (43878008, 263102004): 5090, (44465007, 428251008): 5086, (44465007, 74400008): 5086, (59621000, 449868002): 5071, (195662009, 233604007): 5056, (88805009, 126906006): 5055, (43878008, 446096008): 5051, (72892002, 239873007): 5050, (43878008, 232353008): 5039, (49436004, 239873007): 5038, (162864005, 359817006): 5038, (39848009, 44465007): 5026, (64859006, 359817006): 5018, (68496003, 80394007): 5014, (44465007, 88805009): 5012, (126906006, 162573006): 4981, (19169002, 87433001): 4965, (88805009, 92691004): 4954, (230690007, 431855005): 4944, (47693006, 59621000): 4934, (5602001, 271737000): 4932, (40055000, 232353008): 4931, (43878008, 410429000): 4931, (43878008, 429007001): 4931, (59621000, 84757009): 4929, (275272006, 444814009): 4910, (44054006, 74400008): 4906, (44054006, 428251008): 4906, (162864005, 197927001): 4889, (5602001, 444814009): 4888, (64859006, 92691004): 4888, (44465007, 55680006): 4884, (359817006, 443165006): 4881, (15777000, 359817006): 4880, (74400008, 302870006): 4876, (302870006, 428251008): 4876, (44054006, 90781000119102): 4861, (127013003, 90781000119102): 4861, (302870006, 90781000119102): 4860, (68496003, 196416002): 4856, (237602007, 90781000119102): 4856, (55822004, 422034002): 4848, (44465007, 64859006): 4846, (68496003, 429007001): 4841, (68496003, 410429000): 4841, (68496003, 82423001): 4840, (233604007, 271737000): 4839, (40055000, 446096008): 4838, (68496003, 124171000119105): 4828, (72892002, 403190006): 4827, (65966004, 68496003): 4827, (92691004, 162573006): 4825, (26929004, 126906006): 4814, (126906006, 314994000): 4802, (237602007, 428251008): 4800, (74400008, 237602007): 4800, (262574004, 444814009): 4795, (162864005, 408512008): 4790, (162864005, 422034002): 4766, (38822007, 40055000): 4764, (59621000, 403191005): 4751, (19169002, 403190006): 4744, (26929004, 92691004): 4720, (65363002, 263102004): 4715, (233678006, 241929008): 4715, (44054006, 431856006): 4714, (431856006, 90781000119102): 4714, (127013003, 431856006): 4714, (302870006, 431856006): 4713, (237602007, 431856006): 4710, (16114001, 65363002): 4705, (40055000, 162573006): 4703, (59621000, 307731004): 4686, (230265002, 444814009): 4685, (43878008, 283385000): 4684, (59621000, 62564004): 4682, (30832001, 444814009): 4677, (7200002, 92691004): 4658, (40055000, 185086009): 4654, (36971009, 44054006): 4631, (10509002, 1551000119108): 4603, (7200002, 195662009): 4600, (44054006, 55680006): 4597, (15777000, 197927001): 4596, (44054006, 75498004): 4571, (43878008, 370247008): 4570, (36971009, 302870006): 4566, (55680006, 302870006): 4540, (43878008, 283371005): 4535, (7200002, 162864005): 4515, (195662009, 197927001): 4506, (75498004, 302870006): 4504, (43878008, 284551006): 4503, (90560007, 271737000): 4502, (271737000, 359817006): 4501, (59621000, 254637007): 4497, (59621000, 424132000): 4496, (43878008, 284549007): 4473, (55680006, 237602007): 4470, (36971009, 237602007): 4462, (53741008, 72892002): 4454, (58150001, 72892002): 4450, (40055000, 449868002): 4446, (65966004, 72892002): 4423, (90560007, 162864005): 4423, (80394007, 230690007): 4423, (6072007, 236077008): 4422, (65966004, 230690007): 4413, (75498004, 237602007): 4407, (10509002, 233604007): 4401, (26929004, 88805009): 4396, (83664006, 162864005): 4367, (38822007, 301011002): 4364, (72892002, 230690007): 4364, (230690007, 443165006): 4345, (40055000, 398254007): 4341, (109838007, 162864005): 4306, (88805009, 127013003): 4297, (62106007, 68496003): 4295, (40055000, 198992004): 4292, (44054006, 97331000119101): 4291, (302870006, 97331000119101): 4291, (1551000119108, 97331000119101): 4291, (422034002, 97331000119101): 4291, (237602007, 97331000119101): 4290, (40055000, 47693006): 4288, (53741008, 74400008): 4272, (53741008, 428251008): 4272, (15777000, 90560007): 4269, (19169002, 185086009): 4266, (44465007, 128613002): 4264, (44465007, 703151001): 4264, (162864005, 363406005): 4258, (55822004, 703151001): 4250, (55822004, 128613002): 4250, (26929004, 239873007): 4248, (44054006, 82423001): 4245, (55822004, 284551006): 4244, (44054006, 62106007): 4235, (44465007, 65966004): 4234, (44054006, 124171000119105): 4229, (39848009, 68496003): 4224, (5602001, 15777000): 4222, (44054006, 196416002): 4211, (126906006, 254637007): 4211, (126906006, 424132000): 4208, (15777000, 363406005): 4202, (44465007, 410429000): 4201, (44465007, 429007001): 4201, (82423001, 302870006): 4192, (26929004, 302870006): 4186, (33737001, 59621000): 4184, (15777000, 83664006): 4179, (55822004, 370247008): 4174, (302870006, 124171000119105): 4171, (43878008, 49436004): 4165, (83664006, 271737000): 4163, (55822004, 283371005): 4152, (196416002, 302870006): 4150, (15777000, 109838007): 4148, (55822004, 283385000): 4146, (55822004, 284549007): 4144, (62106007, 302870006): 4140, (72892002, 233678006): 4138, (26929004, 237602007): 4136, (40055000, 84757009): 4127, (82423001, 237602007): 4124, (40275004, 444814009): 4121, (44054006, 410429000): 4119, (44054006, 429007001): 4119, (26929004, 44054006): 4115, (43878008, 192127007): 4113, (237602007, 124171000119105): 4096, (49436004, 443165006): 4092, (53741008, 75498004): 4087, (302870006, 410429000): 4086, (302870006, 429007001): 4086, (92691004, 254637007): 4086, (92691004, 424132000): 4083, (241929008, 446096008): 4082, (196416002, 237602007): 4081, (55680006, 64859006): 4081, (24079001, 241929008): 4078, (64859006, 127013003): 4072, (7200002, 10509002): 4058, (62106007, 237602007): 4057, (90560007, 195662009): 4050, (444470001, 444814009): 4048, (237602007, 429007001): 4036, (237602007, 410429000): 4036, (10509002, 197927001): 4029, (68496003, 201834006): 4026, (232353008, 241929008): 4025, (19169002, 83664006): 4024, (36971009, 53741008): 4007, (110030002, 444814009): 4007, (40055000, 233604007): 4004, (62106007, 75498004): 3994, (195662009, 444448004): 3986, (53741008, 65966004): 3981, (230690007, 428251008): 3979, (127013003, 1551000119108): 3979, (74400008, 230690007): 3979, (40055000, 254637007): 3977, (40055000, 424132000): 3976, (88805009, 431855005): 3974, (74400008, 239873007): 3971, (239873007, 428251008): 3971, (22298006, 55822004): 3956, (55822004, 399211009): 3956, (33737001, 40055000): 3953, (55822004, 233604007): 3953, (40055000, 403191005): 3929, (36971009, 62106007): 3924, (26929004, 65966004): 3913, (370143000, 444814009): 3911, (64859006, 713197008): 3902, (49436004, 65966004): 3891, (72892002, 263102004): 3876, (65363002, 192127007): 3875, (53741008, 80394007): 3868, (16114001, 72892002): 3866, (55680006, 239873007): 3866, (64859006, 428251008): 3858, (64859006, 74400008): 3858, (65966004, 88805009): 3858, (74400008, 88805009): 3857, (88805009, 428251008): 3857, (55822004, 162573006): 3856, (55680006, 230690007): 3852, (26929004, 443165006): 3841, (43878008, 156073000): 3840, (35999006, 40055000): 3826, (68496003, 368581000119106): 3825, (431855005, 1551000119108): 3823, (24079001, 43878008): 3819, (64859006, 431855005): 3808, (198992004, 398254007): 3806, (271737000, 90781000119102): 3804, (195662009, 363406005): 3803, (39848009, 44054006): 3803, (40055000, 62564004): 3795, (19169002, 233604007): 3788, (7200002, 59621000): 3776, (162864005, 230265002): 3769, (40055000, 1551000119108): 3758, (39848009, 302870006): 3753, (44465007, 49436004): 3748, (40055000, 307731004): 3742, (36971009, 239873007): 3737, (36971009, 75498004): 3736, (55822004, 449868002): 3719, (15777000, 230265002): 3708, (197927001, 271737000): 3707, (49436004, 127013003): 3703, (109838007, 195662009): 3701, (44465007, 58150001): 3698, (5602001, 126906006): 3692, (271737000, 431856006): 3687, (39848009, 237602007): 3684, (83664006, 195662009): 3683, (75498004, 239873007): 3673, (64859006, 429007001): 3665, (64859006, 410429000): 3665, (53741008, 62106007): 3658, (55822004, 87433001): 3656, (239720000, 444814009): 3637, (44465007, 446096008): 3634, (58150001, 68496003): 3629, (65363002, 84757009): 3624, (80394007, 88805009): 3623, (72892002, 80394007): 3620, (43878008, 127013003): 3599, (43878008, 80394007): 3592, (40055000, 359817006): 3592, (53741008, 65363002): 3579, (68496003, 239872002): 3567, (230690007, 429007001): 3564, (230690007, 410429000): 3564, (55822004, 65363002): 3555, (230690007, 368581000119106): 3552, (44465007, 232353008): 3544, (239873007, 124171000119105): 3541, (36971009, 230690007): 3529, (10509002, 90560007): 3521, (271737000, 97331000119101): 3517, (127013003, 239873007): 3516, (53741008, 55680006): 3508, (35999006, 156073000): 3508, (10509002, 444448004): 3506, (196416002, 239873007): 3505, (82423001, 239873007): 3502, (59621000, 359817006): 3502, (43878008, 403190006): 3480, (68496003, 254837009): 3458, (26929004, 43878008): 3458, (49436004, 431855005): 3453, (44465007, 233678006): 3452, (68496003, 70704007): 3431, (75498004, 230690007): 3430, (5602001, 195662009): 3415, (16114001, 68496003): 3414, (44465007, 156073000): 3410, (75498004, 196416002): 3408, (68496003, 79586000): 3406, (62564004, 72892002): 3404, (44465007, 263102004): 3404, (75498004, 124171000119105): 3395, (16114001, 44465007): 3394, (64859006, 80394007): 3393, (5602001, 92691004): 3387, (126906006, 239873007): 3386, (75498004, 82423001): 3386, (7200002, 40055000): 3381, (59621000, 233678006): 3379, (19169002, 1551000119108): 3377, (39848009, 53741008): 3376, (64859006, 254837009): 3373, (53741008, 196416002): 3373, (68496003, 93761005): 3359, (195662009, 262574004): 3356, (80394007, 239873007): 3354, (75498004, 88805009): 3350, (43878008, 431855005): 3345, (230265002, 271737000): 3343, (230690007, 124171000119105): 3342, (65363002, 283385000): 3342, (72892002, 254837009): 3337, (10509002, 363406005): 3335, (53741008, 82423001): 3335, (53741008, 124171000119105): 3331, (196416002, 230690007): 3330, (5602001, 162864005): 3327, (64859006, 124171000119105): 3325, (64859006, 196416002): 3323, (302870006, 449868002): 3318, (68496003, 263102004): 3315, (59621000, 233604007): 3315, (36971009, 88805009): 3307, (44054006, 449868002): 3306, (195662009, 275272006): 3305, (237602007, 449868002): 3304, (230690007, 713197008): 3298, (68496003, 443165006): 3296, (239873007, 429007001): 3294, (239873007, 431855005): 3294, (239873007, 410429000): 3294, (82423001, 230690007): 3289, (271737000, 314994000): 3283, (64859006, 82423001): 3283, (36971009, 124171000119105): 3282, (195662009, 230265002): 3274, (59621000, 197927001): 3272, (30832001, 195662009): 3271, (24079001, 72892002): 3264, (10509002, 83664006): 3259, (55822004, 424132000): 3256, (55822004, 254637007): 3256, (62106007, 239873007): 3254, (65363002, 284549007): 3254, (36971009, 82423001): 3246, (53741008, 368581000119106): 3243, (64859006, 75498004): 3242, (55822004, 403190006): 3241, (444814009, 90781000119102): 3240, (88805009, 443165006): 3237, (74400008, 75498004): 3237, (75498004, 428251008): 3237, (44465007, 284551006): 3234, (408512008, 444814009): 3229, (65363002, 283371005): 3226, (36971009, 196416002): 3226, (10509002, 109838007): 3225, (44465007, 284549007): 3221, (19169002, 232353008): 3219, (39848009, 75498004): 3218, (36971009, 74400008): 3215, (36971009, 428251008): 3215, (19169002, 47693006): 3211, (19169002, 446096008): 3210, (59621000, 367498001): 3208, (36971009, 64859006): 3205, (65363002, 370247008): 3204, (72892002, 367498001): 3203, (36971009, 39848009): 3201, (36971009, 55680006): 3201, (19169002, 359817006): 3198, (72892002, 403191005): 3197, (44465007, 370247008): 3196, (314994000, 444814009): 3192, (156073000, 398254007): 3188, (68496003, 72892002): 3183, (55680006, 75498004): 3177, (65363002, 284551006): 3177, (62106007, 196416002): 3166, (44465007, 283385000): 3166, (271737000, 370143000): 3165, (236077008, 271737000): 3164, (6072007, 271737000): 3164, (88805009, 713197008): 3159, (43878008, 241929008): 3157, (55822004, 185086009): 3157, (62106007, 124171000119105): 3152, (19169002, 403191005): 3151, (72892002, 307731004): 3143, (431856006, 444814009): 3139, (233678006, 367498001): 3130, (44465007, 283371005): 3123, (62106007, 82423001): 3119, (70704007, 75498004): 3118, (88805009, 429007001): 3117, (88805009, 410429000): 3117, (44465007, 80394007): 3114, (65966004, 302870006): 3112, (64859006, 79586000): 3111, (26929004, 44465007): 3107, (156073000, 198992004): 3105, (19169002, 307731004): 3104, (44054006, 65966004): 3099, (49436004, 74400008): 3084, (49436004, 428251008): 3084, (92691004, 239873007): 3081, (302870006, 713197008): 3078, (72892002, 87433001): 3077, (19169002, 62564004): 3073, (24079001, 59621000): 3060, (44465007, 127013003): 3056, (44054006, 70704007): 3055, (156073000, 301011002): 3052, (43878008, 301011002): 3051, (65966004, 237602007): 3050, (237602007, 713197008): 3044, (55822004, 1551000119108): 3037, (44054006, 713197008): 3037, (19169002, 84757009): 3037, (237602007, 1501000119109): 3035, (1501000119109, 1551000119108): 3035, (44054006, 1501000119109): 3035, (302870006, 1501000119109): 3035, (422034002, 1501000119109): 3035, (68496003, 422034002): 3034, (40055000, 197927001): 3032, (162864005, 275272006): 3029, (22298006, 43878008): 3025, (43878008, 399211009): 3025, (22298006, 44054006): 3024, (44054006, 399211009): 3024, (70704007, 302870006): 3023, (36971009, 70704007): 3022, (22298006, 302870006): 3020, (302870006, 399211009): 3020, (10509002, 262574004): 3013, (15777000, 97331000119101): 3010, (55680006, 74400008): 3006, (55680006, 428251008): 3006, (55680006, 88805009): 3004, (49436004, 55680006): 3000, (239873007, 713197008): 3000, (65966004, 239873007): 2997, (43878008, 84757009): 2990, (55680006, 62106007): 2990, (237602007, 399211009): 2981, (22298006, 237602007): 2981, (65363002, 367498001): 2981, (127013003, 449868002): 2963, (62106007, 74400008): 2961, (62106007, 428251008): 2961, (55822004, 359817006): 2946, (15777000, 275272006): 2945, (70704007, 237602007): 2944, (43878008, 126906006): 2942, (10509002, 275272006): 2942, (6072007, 444814009): 2941, (236077008, 444814009): 2941, (5602001, 10509002): 2940, (74400008, 124171000119105): 2939, (428251008, 124171000119105): 2939, (39848009, 239873007): 2938, (53741008, 443165006): 2937, (49436004, 80394007): 2935, (64859006, 233604007): 2935, (10509002, 30832001): 2930, (74400008, 196416002): 2928, (196416002, 428251008): 2928, (82423001, 428251008): 2923, (271737000, 367498001): 2923, (74400008, 82423001): 2923, (62106007, 70704007): 2906, (59621000, 90560007): 2901, (64859006, 201834006): 2899, (444814009, 97331000119101): 2895, (15777000, 314994000): 2894, (40275004, 195662009): 2890, (58150001, 64859006): 2890, (39848009, 230690007): 2890, (10509002, 230265002): 2889, (80394007, 126906006): 2879, (44465007, 431855005): 2878, (271737000, 275272006): 2876, (195662009, 444470001): 2876, (24079001, 367498001): 2873, (44465007, 192127007): 2866, (53741008, 713197008): 2858, (16114001, 64859006): 2854, (110030002, 195662009): 2854, (64859006, 263102004): 2853, (201834006, 302870006): 2853, (58150001, 230690007): 2852, (44054006, 201834006): 2850, (15777000, 370143000): 2841, (62106007, 230690007): 2837, (201834006, 237602007): 2837, (39848009, 88805009): 2827, (162864005, 444448004): 2824, (72892002, 368581000119106): 2822, (49436004, 713197008): 2822, (19169002, 33737001): 2822, (64859006, 368581000119106): 2820, (39848009, 64859006): 2819, (39848009, 82423001): 2814, (88805009, 201834006): 2805, (49436004, 410429000): 2804, (49436004, 429007001): 2804, (39848009, 124171000119105): 2799, (72892002, 84757009): 2799, (88805009, 196416002): 2799, (7200002, 55822004): 2793, (88805009, 368581000119106): 2791, (230690007, 422034002): 2790, (39848009, 196416002): 2790, (43878008, 368581000119106): 2789, (26929004, 127013003): 2783, (40055000, 83664006): 2782, (162864005, 367498001): 2782, (47693006, 55822004): 2780, (53741008, 70704007): 2780, (195662009, 370143000): 2780, (162573006, 302870006): 2778, (5602001, 59621000): 2771, (68496003, 703151001): 2768, (68496003, 128613002): 2768, (44054006, 162573006): 2766, (82423001, 88805009): 2765, (44465007, 301011002): 2765, (271737000, 444448004): 2764, (162573006, 237602007): 2761, (431855005, 449868002): 2756, (53741008, 58150001): 2750, (59621000, 363406005): 2749, (55822004, 301011002): 2740, (39848009, 62106007): 2734, (15777000, 90781000119102): 2731, (88805009, 124171000119105): 2731, (40275004, 72892002): 2730, (97331000119101, 368581000119106): 2725, (68496003, 284549007): 2722, (15777000, 444448004): 2722, (26929004, 713197008): 2720, (40055000, 90560007): 2720, (62106007, 88805009): 2719, (68496003, 284551006): 2707, (68496003, 283371005): 2702, (58150001, 88805009): 2698, (59621000, 192127007): 2696, (72892002, 197927001): 2694, (201834006, 230690007): 2687, (33737001, 55822004): 2679, (59621000, 90781000119102): 2676, (79586000, 88805009): 2675, (39848009, 428251008): 2674, (39848009, 74400008): 2674, (230690007, 263102004): 2671, (65275009, 235919008): 2668, (15777000, 367498001): 2667, (43878008, 92691004): 2664, (68496003, 370247008): 2660, (16114001, 230690007): 2652, (39848009, 55680006): 2651, (59621000, 109838007): 2646, (68496003, 283385000): 2641, (53741008, 263102004): 2639, (26929004, 58150001): 2635, (40055000, 109838007): 2631, (15777000, 431856006): 2628, (59621000, 97331000119101): 2627, (65966004, 75498004): 2626, (43878008, 201834006): 2624, (80394007, 92691004): 2618, (16114001, 53741008): 2618, (40055000, 363406005): 2617, (43878008, 79586000): 2606, (43878008, 62564004): 2598, (59621000, 431856006): 2597, (79586000, 156073000): 2591, (33737001, 43878008): 2591, (43878008, 713197008): 2585, (26929004, 431855005): 2583, (239873007, 368581000119106): 2578, (195662009, 239720000): 2576, (431855005, 90781000119102): 2573, (72892002, 185086009): 2570, (68496003, 162573006): 2558, (26929004, 428251008): 2555, (26929004, 74400008): 2555, (162864005, 1551000119108): 2552, (59621000, 83664006): 2550, (36971009, 49436004): 2548, (43878008, 367498001): 2545, (44465007, 126906006): 2544, (26929004, 55680006): 2543, (10509002, 444470001): 2535, (44054006, 156073000): 2534, (53741008, 422034002): 2533, (43878008, 398254007): 2530, (49436004, 124171000119105): 2529, (36971009, 65966004): 2521, (36971009, 429007001): 2516, (36971009, 410429000): 2516, (65363002, 428251008): 2515, (65363002, 74400008): 2515, (44054006, 128613002): 2509, (44054006, 703151001): 2509, (271737000, 1501000119109): 2505, (49436004, 196416002): 2502, (5602001, 40055000): 2501, (239872002, 302870006): 2500, (44054006, 283371005): 2496, (431855005, 431856006): 2495, (55680006, 65966004): 2492, (64859006, 239872002): 2490, (49436004, 75498004): 2490, (10509002, 40275004): 2486, (410429000, 428251008): 2481, (74400008, 410429000): 2481, (10509002, 110030002): 2481, (428251008, 429007001): 2481, (74400008, 429007001): 2481, (55822004, 83664006): 2476, (22298006, 44465007): 2473, (44465007, 399211009): 2473, (44054006, 239872002): 2472, (128613002, 302870006): 2466, (302870006, 703151001): 2466, (16114001, 88805009): 2464, (44054006, 283385000): 2463, (237602007, 239872002): 2460, (75498004, 410429000): 2459, (75498004, 429007001): 2459, (49436004, 82423001): 2458, (283371005, 302870006): 2457, (43878008, 198992004): 2456, (72892002, 127013003): 2453, (44054006, 58150001): 2453, (62106007, 64859006): 2451, (40055000, 233678006): 2449, (68496003, 449868002): 2448, (95417003, 444814009): 2440, (65363002, 403190006): 2438, (74400008, 127013003): 2436, (127013003, 428251008): 2436, (156073000, 302870006): 2435, (88805009, 263102004): 2434, (16114001, 26929004): 2434, (283385000, 302870006): 2431, (24079001, 44465007): 2428, (7200002, 302870006): 2424, (44465007, 403190006): 2424, (53741008, 449868002): 2423, (88805009, 254837009): 2421, (88805009, 239872002): 2420, (79586000, 239873007): 2417, (237602007, 703151001): 2416, (128613002, 237602007): 2416, (53741008, 201834006): 2415, (7200002, 44054006): 2414, (10509002, 370143000): 2411, (26929004, 263102004): 2410, (24079001, 40055000): 2409, (58150001, 302870006): 2408, (7200002, 237602007): 2405, (80394007, 97331000119101): 2403, (7200002, 449868002): 2402, (237602007, 283371005): 2399, (68496003, 399211009): 2399, (22298006, 68496003): 2399, (70704007, 239873007): 2397, (44465007, 368581000119106): 2394, (70704007, 82423001): 2390, (254637007, 302870006): 2388, (302870006, 424132000): 2388, (49436004, 58150001): 2386, (230690007, 239872002): 2386, (44054006, 370247008): 2384, (30832001, 162864005): 2383, (197927001, 301011002): 2381, (59621000, 230265002): 2380, (44054006, 424132000): 2379, (26929004, 429007001): 2379, (44054006, 254637007): 2379, (26929004, 410429000): 2379, (19169002, 109838007): 2379, (74400008, 126906006): 2375, (237602007, 254637007): 2375, (126906006, 428251008): 2375, (237602007, 283385000): 2375, (237602007, 424132000): 2375, (70704007, 196416002): 2373, (230690007, 254837009): 2371, (156073000, 237602007): 2371, (58150001, 237602007): 2367, (33737001, 65363002): 2367, (15777000, 30832001): 2364, (230265002, 233604007): 2363, (62106007, 410429000): 2360, (62106007, 429007001): 2360, (44054006, 284549007): 2351, (302870006, 370247008): 2349, (44054006, 284551006): 2349, (30832001, 271737000): 2344, (49436004, 263102004): 2342, (55680006, 410429000): 2340, (55680006, 429007001): 2340, (59621000, 444448004): 2340, (70704007, 124171000119105): 2339, (43878008, 239872002): 2334, (79586000, 230690007): 2332, (49436004, 368581000119106): 2329, (44465007, 92691004): 2327, (43878008, 403191005): 2319, (68496003, 233604007): 2317, (47693006, 72892002): 2317, (284551006, 302870006): 2316, (65966004, 126906006): 2315, (284549007, 302870006): 2315, (40055000, 367498001): 2315, (72892002, 431855005): 2314, (44465007, 713197008): 2311, (65363002, 68496003): 2310, (19169002, 363406005): 2308, (44054006, 79586000): 2302, (162864005, 370143000): 2299, (44054006, 301011002): 2297, (44465007, 79586000): 2297, (79586000, 302870006): 2296, (70704007, 74400008): 2296, (70704007, 428251008): 2296, (237602007, 370247008): 2295, (24079001, 271737000): 2285, (10509002, 239720000): 2281, (58150001, 75498004): 2280, (237602007, 284551006): 2276, (80394007, 428251008): 2273, (74400008, 80394007): 2273, (428251008, 431855005): 2271, (74400008, 431855005): 2271, (410429000, 124171000119105): 2270, (429007001, 124171000119105): 2270, (195662009, 408512008): 2269, (36971009, 58150001): 2266, (237602007, 284549007): 2264, (59621000, 275272006): 2263, (16114001, 443165006): 2261, (64859006, 422034002): 2260, (79586000, 237602007): 2259, (68496003, 87433001): 2257, (162864005, 314994000): 2256, (43878008, 254837009): 2254, (263102004, 443165006): 2253, (16114001, 49436004): 2252, (162573006, 254632001): 2250, (162573006, 67811000119102): 2249, (254632001, 67811000119102): 2249, (36971009, 128613002): 2245, (196416002, 429007001): 2245, (196416002, 410429000): 2245, (36971009, 703151001): 2245, (70704007, 230690007): 2245, (239873007, 254837009): 2243, (26929004, 124171000119105): 2240, (62106007, 128613002): 2234, (65966004, 428251008): 2234, (62106007, 703151001): 2234, (65966004, 74400008): 2234, (26929004, 196416002): 2233, (82423001, 410429000): 2232, (82423001, 429007001): 2232, (55822004, 109838007): 2229, (301011002, 302870006): 2225, (43878008, 307731004): 2223, (93761005, 444814009): 2221, (195662009, 314994000): 2221, (22298006, 230690007): 2218, (44465007, 84757009): 2218, (230690007, 399211009): 2218, (65966004, 92691004): 2213, (69896004, 444814009): 2210, (55822004, 84757009): 2210, (58150001, 239873007): 2209, (53741008, 703151001): 2204, (88805009, 422034002): 2204, (53741008, 128613002): 2204, (195662009, 90781000119102): 2203, (92691004, 314994000): 2201, (59621000, 370143000): 2201, (26929004, 82423001): 2201, (16114001, 44054006): 2197, (58150001, 443165006): 2196, (68496003, 254637007): 2193, (16114001, 302870006): 2192, (68496003, 424132000): 2191, (263102004, 302870006): 2191, (75498004, 703151001): 2187, (75498004, 128613002): 2187, (44054006, 263102004): 2186, (55680006, 80394007): 2182, (24079001, 162864005): 2182, (53741008, 283385000): 2181, (127013003, 162573006): 2179, (162864005, 236077008): 2179, (6072007, 162864005): 2179, (44465007, 201834006): 2178, (36971009, 156073000): 2178, (237602007, 301011002): 2174, (39848009, 70704007): 2167, (74400008, 92691004): 2167, (92691004, 428251008): 2167, (44465007, 198992004): 2164, (239873007, 443165006): 2163, (53741008, 283371005): 2155, (15777000, 1501000119109): 2155, (65966004, 196416002): 2153, (16114001, 237602007): 2152, (65966004, 124171000119105): 2150, (53741008, 370247008): 2147, (40055000, 230265002): 2146, (237602007, 263102004): 2145, (62106007, 65966004): 2140, (44054006, 65363002): 2138, (44465007, 398254007): 2138, (75498004, 156073000): 2137, (55680006, 58150001): 2134, (195662009, 431856006): 2134, (302870006, 443165006): 2131, (7200002, 127013003): 2131, (26929004, 80394007): 2130, (127013003, 410429000): 2128, (88805009, 449868002): 2128, (127013003, 429007001): 2128, (65966004, 82423001): 2127, (53741008, 239872002): 2125, (39848009, 410429000): 2118, (39848009, 429007001): 2118, (64859006, 70704007): 2117, (49436004, 201834006): 2116, (55680006, 70704007): 2115, (43878008, 422034002): 2110, (62106007, 156073000): 2103, (55822004, 197927001): 2102, (237602007, 443165006): 2102, (53741008, 284551006): 2101, (72892002, 201834006): 2094, (65363002, 429007001): 2093, (65363002, 302870006): 2093, (65363002, 410429000): 2093, (62564004, 65363002): 2091, (36971009, 80394007): 2088, (70704007, 88805009): 2088, (53741008, 284549007): 2087, (44054006, 443165006): 2087, (75498004, 80394007): 2086, (55822004, 156073000): 2085, (38822007, 43878008): 2079, (93761005, 271737000): 2077, (26929004, 75498004): 2076, (68496003, 403190006): 2074, (36971009, 370247008): 2072, (38822007, 156073000): 2072, (55822004, 90560007): 2069, (36971009, 127013003): 2068, (126906006, 410429000): 2068, (126906006, 429007001): 2068, (39848009, 49436004): 2065, (6072007, 195662009): 2061, (195662009, 236077008): 2061, (26929004, 36971009): 2058, (75498004, 283385000): 2055, (55822004, 403191005): 2054, (254837009, 302870006): 2051, (6072007, 94260004): 2049, (94260004, 236077008): 2049, (162573006, 449868002): 2045, (44054006, 254837009): 2037, (162573006, 431855005): 2029, (55680006, 127013003): 2028, (239873007, 422034002): 2027, (62106007, 446096008): 2027, (36971009, 283371005): 2026, (444814009, 1501000119109): 2024, (16114001, 239873007): 2023, (15777000, 236077008): 2023, (6072007, 15777000): 2023, (237602007, 254837009): 2022, (75498004, 283371005): 2017, (19169002, 230265002): 2015, (65363002, 237602007): 2014, (36971009, 284551006): 2013, (44465007, 239872002): 2009, (16114001, 36971009): 2009, (75498004, 370247008): 2008, (75498004, 284549007): 2007, (72892002, 422034002): 2006, (36971009, 283385000): 2006, (5602001, 55822004): 2005, (75498004, 127013003): 2005, (80394007, 82423001): 2001, (36971009, 263102004): 2000, (82423001, 156073000): 1997, (16114001, 75498004): 1997, (410429000, 431855005): 1995, (65363002, 124171000119105): 1995, (429007001, 431855005): 1995, (15777000, 24079001): 1991, (80394007, 124171000119105): 1990, (44465007, 241929008): 1987, (239873007, 263102004): 1983, (36971009, 284549007): 1983, (156073000, 196416002): 1983, (55822004, 307731004): 1983, (80394007, 196416002): 1981, (239873007, 370247008): 1979, (162864005, 444470001): 1977, (10509002, 408512008): 1977, (55822004, 363406005): 1976, (30832001, 59621000): 1973, (7200002, 431855005): 1973, (75498004, 263102004): 1967, (156073000, 124171000119105): 1965, (43878008, 87433001): 1963, (15777000, 444470001): 1962, (65363002, 196416002): 1962, (241929008, 367498001): 1959, (65363002, 82423001): 1958, (239873007, 284549007): 1958, (68496003, 185086009): 1956, (1501000119109, 368581000119106): 1955, (195662009, 97331000119101): 1951, (271737000, 444470001): 1946, (36971009, 431855005): 1946, (62106007, 232353008): 1945, (33737001, 72892002): 1935, (55680006, 156073000): 1932, (75498004, 284551006): 1932, (92691004, 410429000): 1927, (44054006, 87433001): 1927, (92691004, 429007001): 1927, (80394007, 90781000119102): 1926, (87433001, 302870006): 1926, (26929004, 254837009): 1920, (58150001, 62106007): 1917, (55680006, 431855005): 1916, (230690007, 449868002): 1915, (40055000, 275272006): 1915, (10509002, 90781000119102): 1914, (239873007, 283385000): 1913, (126906006, 713197008): 1911, (40055000, 444448004): 1907, (230690007, 233604007): 1907, (58150001, 65966004): 1902, (239873007, 284551006): 1899, (80394007, 429007001): 1898, (80394007, 410429000): 1898, (239873007, 283371005): 1897, (44465007, 254837009): 1895, (49436004, 233604007): 1894, (65966004, 429007001): 1893, (126906006, 443165006): 1893, (65966004, 410429000): 1893, (62106007, 80394007): 1891, (128613002, 239873007): 1889, (87433001, 237602007): 1889, (10509002, 314994000): 1889, (239873007, 703151001): 1889, (127013003, 424132000): 1884, (127013003, 254637007): 1884, (40055000, 192127007): 1873, (49436004, 239872002): 1871, (65966004, 70704007): 1871, (128613002, 230690007): 1868, (230690007, 703151001): 1868, (75498004, 431855005): 1867, (40275004, 59621000): 1867, (49436004, 449868002): 1865, (22298006, 127013003): 1864, (39848009, 65966004): 1864, (127013003, 399211009): 1864, (62106007, 284549007): 1862, (10509002, 431856006): 1858, (49436004, 62106007): 1858, (38822007, 44465007): 1854, (70704007, 128613002): 1850, (70704007, 703151001): 1850, (55822004, 62564004): 1847, (62106007, 284551006): 1846, (80394007, 431856006): 1845, (38822007, 197927001): 1844, (36971009, 301011002): 1843, (38822007, 55822004): 1842, (72892002, 239872002): 1842, (44465007, 422034002): 1838, (92691004, 443165006): 1838, (58150001, 428251008): 1836, (58150001, 74400008): 1836, (68496003, 1551000119108): 1833, (5602001, 44054006): 1832, (5602001, 302870006): 1832, (198992004, 301011002): 1831, (62106007, 370247008): 1829, (35999006, 43878008): 1827, (62106007, 283385000): 1827, (62106007, 283371005): 1826, (44054006, 403190006): 1826, (230690007, 283385000): 1826, (230690007, 283371005): 1825, (68496003, 301011002): 1822, (39848009, 128613002): 1819, (39848009, 703151001): 1819, (5602001, 237602007): 1818, (82423001, 127013003): 1817, (126906006, 399211009): 1815, (22298006, 126906006): 1815, (239720000, 271737000): 1813, (95417003, 162864005): 1812, (44465007, 367498001): 1811, (230690007, 284549007): 1811, (7200002, 53741008): 1810, (58150001, 124171000119105): 1810, (301011002, 398254007): 1809, (75498004, 301011002): 1809, (230690007, 284551006): 1809, (59621000, 1501000119109): 1804, (283385000, 124171000119105): 1803, (127013003, 124171000119105): 1802, (230690007, 1551000119108): 1801, (82423001, 283385000): 1798, (75498004, 232353008): 1797, (62106007, 127013003): 1797, (196416002, 283385000): 1795, (235919008, 444814009): 1794, (62106007, 301011002): 1794, (65275009, 444814009): 1794, (302870006, 403190006): 1793, (88805009, 128613002): 1792, (127013003, 196416002): 1792, (88805009, 703151001): 1792, (230690007, 370247008): 1791, (49436004, 422034002): 1791, (15777000, 93761005): 1789, (92691004, 713197008): 1784, (16114001, 62106007): 1781, (72892002, 192127007): 1779, (36971009, 126906006): 1779, (262574004, 271737000): 1779, (92691004, 399211009): 1778, (22298006, 92691004): 1778, (15777000, 239720000): 1778, (88805009, 283371005): 1777, (58150001, 82423001): 1777, (7200002, 68496003): 1773, (64859006, 284549007): 1771, (196416002, 284551006): 1770, (55680006, 263102004): 1769, (74400008, 713197008): 1768, (428251008, 713197008): 1768, (26929004, 201834006): 1768, (6072007, 10509002): 1765, (10509002, 236077008): 1765, (58150001, 196416002): 1763, (26929004, 79586000): 1763, (162864005, 239720000): 1762, (65966004, 127013003): 1762, (43878008, 47693006): 1760, (75498004, 446096008): 1759, (88805009, 283385000): 1756, (47693006, 68496003): 1755, (237602007, 403190006): 1754, (36971009, 232353008): 1754, (64859006, 128613002): 1751, (64859006, 703151001): 1751, (55680006, 283385000): 1750, (254637007, 431855005): 1750, (424132000, 431855005): 1750, (36971009, 446096008): 1749, (93761005, 162864005): 1749, (70704007, 410429000): 1749, (70704007, 429007001): 1749, (22298006, 65363002): 1748, (82423001, 284551006): 1748, (65363002, 399211009): 1748, (26929004, 368581000119106): 1746, (59621000, 314994000): 1744, (64859006, 399211009): 1744, (22298006, 64859006): 1744, (196416002, 284549007): 1744, (127013003, 713197008): 1744, (43878008, 443165006): 1743, (284549007, 428251008): 1742, (64859006, 283371005): 1742, (74400008, 284549007): 1742, (128613002, 428251008): 1741, (74400008, 128613002): 1741, (428251008, 703151001): 1741, (74400008, 703151001): 1741, (254637007, 449868002): 1740, (22298006, 49436004): 1737, (162864005, 262574004): 1737, (424132000, 449868002): 1737, (49436004, 399211009): 1737, (196416002, 370247008): 1734, (64859006, 283385000): 1732, (230690007, 359817006): 1730, (59621000, 262574004): 1730, (62106007, 263102004): 1729, (284549007, 124171000119105): 1728, (62106007, 233678006): 1728, (64859006, 370247008): 1727, (19169002, 162573006): 1727, (5602001, 449868002): 1726, (82423001, 283371005): 1725, (399211009, 431855005): 1723, (22298006, 431855005): 1723, (64859006, 284551006): 1719, (284551006, 124171000119105): 1719, (126906006, 368581000119106): 1716, (284551006, 428251008): 1715, (74400008, 284551006): 1715, (88805009, 370247008): 1714, (16114001, 55680006): 1714, (80394007, 1501000119109): 1709, (15777000, 95417003): 1709, (44465007, 62564004): 1707, (19169002, 22298006): 1706, (19169002, 399211009): 1706, (370247008, 124171000119105): 1706, (43878008, 359817006): 1705, (431855005, 124171000119105): 1705, (82423001, 431855005): 1705, (65966004, 263102004): 1704, (74400008, 368581000119106): 1703, (428251008, 368581000119106): 1703, (49436004, 254837009): 1703, (283385000, 428251008): 1700, (74400008, 283385000): 1700, (19169002, 95417003): 1700, (39848009, 156073000): 1699, (196416002, 431855005): 1698, (283371005, 124171000119105): 1696, (55680006, 368581000119106): 1696, (39848009, 127013003): 1696, (39848009, 80394007): 1695, (65363002, 403191005): 1695, (88805009, 284551006): 1694, (26929004, 39848009): 1694, (239873007, 301011002): 1690, (58150001, 126906006): 1687, (82423001, 370247008): 1684, (62106007, 431855005): 1683, (196416002, 301011002): 1682, (82423001, 284549007): 1681, (196416002, 283371005): 1681, (44054006, 185086009): 1680, (263102004, 124171000119105): 1680, (39848009, 58150001): 1679, (16114001, 65966004): 1679, (75498004, 126906006): 1676, (44465007, 87433001): 1674, (65363002, 239873007): 1674, (33737001, 68496003): 1673, (55680006, 370247008): 1671, (185086009, 302870006): 1671, (43878008, 185086009): 1670, (74400008, 201834006): 1669, (55680006, 301011002): 1669, (201834006, 428251008): 1669, (15777000, 262574004): 1666, (301011002, 124171000119105): 1665, (88805009, 284549007): 1663, (65966004, 713197008): 1658, (185086009, 237602007): 1653, (196416002, 263102004): 1652, (53741008, 403190006): 1651, (55680006, 283371005): 1651, (55680006, 284551006): 1650, (35999006, 44465007): 1650, (55680006, 284549007): 1648, (58150001, 70704007): 1647, (65363002, 307731004): 1646, (16114001, 196416002): 1645, (19169002, 275272006): 1644, (65966004, 431855005): 1644, (10509002, 97331000119101): 1642, (44465007, 403191005): 1640, (82423001, 263102004): 1638, (64859006, 83664006): 1637, (33737001, 44465007): 1636, (74400008, 370247008): 1635, (370247008, 428251008): 1635, (1501000119109, 97331000119101): 1633, (49436004, 359817006): 1633, (70704007, 446096008): 1632, (82423001, 301011002): 1631, (110030002, 162864005): 1630, (16114001, 124171000119105): 1626, (87433001, 239873007): 1624, (254632001, 271737000): 1624, (271737000, 67811000119102): 1623, (431855005, 713197008): 1622, (36971009, 92691004): 1618, (16114001, 82423001): 1617, (283371005, 428251008): 1616, (74400008, 283371005): 1616, (59621000, 241929008): 1613, (26929004, 359817006): 1613, (5602001, 127013003): 1611, (49436004, 70704007): 1605, (75498004, 403190006): 1604, (271737000, 408512008): 1604, (74400008, 263102004): 1603, (263102004, 428251008): 1603, (68496003, 83664006): 1602, (72892002, 444448004): 1601, (68496003, 359817006): 1600, (126906006, 263102004): 1599, (59621000, 444470001): 1599, (72892002, 241929008): 1598, (65966004, 128613002): 1596, (82423001, 368581000119106): 1596, (65966004, 703151001): 1596, (55680006, 201834006): 1590, (80394007, 713197008): 1590, (16114001, 74400008): 1589, (55680006, 79586000): 1589, (16114001, 428251008): 1589, (19169002, 367498001): 1588, (58150001, 92691004): 1586, (64859006, 449868002): 1585, (70704007, 232353008): 1585, (95417003, 195662009): 1584, (162573006, 239873007): 1582, (15777000, 408512008): 1580, (69896004, 162864005): 1578, (19169002, 444448004): 1577, (128613002, 196416002): 1577, (196416002, 703151001): 1577, (703151001, 124171000119105): 1576, (64859006, 87433001): 1576, (128613002, 124171000119105): 1576, (39848009, 431855005): 1573, (39848009, 370247008): 1570, (55680006, 65363002): 1566, (30832001, 40055000): 1566, (92691004, 368581000119106): 1564, (7200002, 162573006): 1558, (124171000119105, 368581000119106): 1558, (79586000, 254837009): 1554, (40055000, 314994000): 1551, (65966004, 80394007): 1549, (65363002, 88805009): 1549, (26929004, 239872002): 1548, (55680006, 713197008): 1548, (110030002, 271737000): 1547, (156073000, 428251008): 1547, (74400008, 156073000): 1547, (40055000, 90781000119102): 1546, (75498004, 713197008): 1546, (59621000, 239720000): 1545, (94260004, 271737000): 1545, (7200002, 88805009): 1544, (82423001, 703151001): 1543, (36971009, 403190006): 1543, (82423001, 128613002): 1543, (70704007, 233678006): 1542, (75498004, 368581000119106): 1541, (36971009, 368581000119106): 1541, (55822004, 230265002): 1539, (55680006, 443165006): 1537, (22298006, 239873007): 1536, (239873007, 399211009): 1536, (55680006, 128613002): 1535, (55680006, 703151001): 1535, (15777000, 69896004): 1534, (44465007, 307731004): 1533, (39848009, 283385000): 1530, (59621000, 236077008): 1529, (196416002, 368581000119106): 1529, (6072007, 59621000): 1529, (39848009, 263102004): 1529, (233678006, 271737000): 1528, (15777000, 110030002): 1527, (39848009, 284549007): 1526, (53741008, 1551000119108): 1523, (35999006, 398254007): 1520, (35999006, 198992004): 1516, (65363002, 230690007): 1516, (44465007, 47693006): 1515, (74400008, 239872002): 1514, (239872002, 428251008): 1514, (39848009, 301011002): 1513, (75498004, 92691004): 1512, (36971009, 79586000): 1512, (40055000, 370143000): 1510, (55680006, 126906006): 1509, (43878008, 162573006): 1509, (36971009, 713197008): 1509, (5602001, 431855005): 1506, (70704007, 156073000): 1506, (254632001, 444814009): 1505, (87433001, 230690007): 1505, (64859006, 1551000119108): 1504, (39848009, 283371005): 1504, (444814009, 67811000119102): 1504, (40055000, 431856006): 1503, (110030002, 275272006): 1502, (36971009, 201834006): 1502, (93761005, 195662009): 1501, (92691004, 263102004): 1501, (59621000, 408512008): 1499, (16114001, 126906006): 1498, (22298006, 410429000): 1497, (399211009, 429007001): 1497, (22298006, 429007001): 1497, (399211009, 410429000): 1497, (72892002, 262574004): 1496, (79586000, 124171000119105): 1496, (75498004, 79586000): 1495, (55680006, 87433001): 1494, (79586000, 82423001): 1492, (35999006, 301011002): 1491, (87433001, 196416002): 1490, (40055000, 241929008): 1489, (79586000, 196416002): 1489, (38822007, 44054006): 1488, (239873007, 403190006): 1485, (127013003, 201834006): 1485, (69896004, 195662009): 1484, (75498004, 201834006): 1483, (39848009, 232353008): 1483, (69896004, 271737000): 1478, (156073000, 239873007): 1477, (410429000, 713197008): 1476, (429007001, 713197008): 1476, (40275004, 271737000): 1476, (53741008, 162573006): 1475, (70704007, 284551006): 1473, (70704007, 263102004): 1471, (82423001, 87433001): 1468, (19169002, 424132000): 1467, (19169002, 254637007): 1467, (44054006, 47693006): 1465, (62106007, 79586000): 1465, (59621000, 110030002): 1463, (22298006, 75498004): 1463, (75498004, 399211009): 1463, (87433001, 124171000119105): 1462, (410429000, 368581000119106): 1457, (429007001, 368581000119106): 1457, (68496003, 84757009): 1455, (7200002, 230690007): 1455, (58150001, 429007001): 1453, (58150001, 410429000): 1453, (47693006, 302870006): 1451, (70704007, 284549007): 1449, (82423001, 201834006): 1448, (80394007, 201834006): 1448, (88805009, 359817006): 1445, (239873007, 449868002): 1442, (62106007, 398254007): 1438, (22298006, 74400008): 1435, (126906006, 201834006): 1435, (22298006, 428251008): 1435, (74400008, 399211009): 1435, (399211009, 428251008): 1435, (40055000, 97331000119101): 1432, (44465007, 185086009): 1431, (38822007, 302870006): 1428, (47693006, 237602007): 1427, (82423001, 713197008): 1424, (62106007, 368581000119106): 1424, (196416002, 713197008): 1423, (49436004, 79586000): 1423, (55680006, 239872002): 1422, (55680006, 92691004): 1418, (201834006, 124171000119105): 1417, (16114001, 92691004): 1415, (70704007, 283371005): 1414, (44465007, 443165006): 1414, (53741008, 359817006): 1413, (36971009, 233678006): 1412, (283371005, 429007001): 1411, (75498004, 233678006): 1411, (196416002, 201834006): 1411, (53741008, 87433001): 1411, (283371005, 410429000): 1411, (16114001, 39848009): 1410, (713197008, 124171000119105): 1410, (26929004, 422034002): 1409, (33737001, 64859006): 1408, (10509002, 95417003): 1406, (127013003, 443165006): 1406, (26929004, 449868002): 1405, (64859006, 65363002): 1401, (230690007, 403190006): 1401, (22298006, 72892002): 1400, (72892002, 399211009): 1400, (58150001, 263102004): 1399, (39848009, 446096008): 1399, (38822007, 237602007): 1398, (201834006, 431855005): 1398, (39848009, 284551006): 1397, (26929004, 70704007): 1395, (36971009, 399211009): 1393, (70704007, 283385000): 1393, (22298006, 36971009): 1393, (49436004, 370247008): 1391, (16114001, 70704007): 1388, (16114001, 58150001): 1387, (39848009, 126906006): 1386, (74400008, 79586000): 1385, (79586000, 428251008): 1385, (5602001, 53741008): 1384, (70704007, 370247008): 1382, (301011002, 428251008): 1381, (16114001, 429007001): 1381, (16114001, 410429000): 1381, (74400008, 301011002): 1381, (233604007, 239873007): 1378, (128613002, 410429000): 1375, (75498004, 398254007): 1375, (429007001, 703151001): 1375, (128613002, 429007001): 1375, (26929004, 62106007): 1375, (410429000, 703151001): 1375, (43878008, 449868002): 1371, (88805009, 1551000119108): 1368, (95417003, 271737000): 1367, (75498004, 239872002): 1366, (70704007, 127013003): 1365, (195662009, 1501000119109): 1365, (58150001, 703151001): 1365, (49436004, 284551006): 1365, (40055000, 262574004): 1365, (58150001, 128613002): 1365, (53741008, 254837009): 1365, (284549007, 429007001): 1364, (62106007, 403190006): 1364, (284549007, 410429000): 1364, (370247008, 410429000): 1361, (370247008, 429007001): 1361, (70704007, 80394007): 1359, (40055000, 444470001): 1359, (68496003, 403191005): 1358, (94260004, 444814009): 1357, (64859006, 185086009): 1355, (36971009, 239872002): 1355, (283385000, 410429000): 1354, (283385000, 429007001): 1354, (49436004, 128613002): 1352, (49436004, 703151001): 1352, (19169002, 97331000119101): 1351, (185086009, 239873007): 1350, (49436004, 283385000): 1350, (55680006, 254837009): 1349, (74400008, 422034002): 1348, (422034002, 428251008): 1348, (162573006, 230690007): 1348, (36971009, 398254007): 1347, (201834006, 410429000): 1344, (126906006, 196416002): 1344, (201834006, 429007001): 1344, (62106007, 201834006): 1344, (126906006, 124171000119105): 1343, (7200002, 49436004): 1341, (62106007, 198992004): 1341, (239873007, 254637007): 1340, (239873007, 424132000): 1340, (35999006, 79586000): 1339, (68496003, 90560007): 1335, (80394007, 449868002): 1333, (75498004, 198992004): 1332, (55680006, 422034002): 1330, (6072007, 363406005): 1330, (236077008, 363406005): 1330, (55822004, 314994000): 1328, (79586000, 301011002): 1328, (62106007, 126906006): 1326, (263102004, 410429000): 1325, (263102004, 429007001): 1325, (36971009, 198992004): 1324, (44054006, 84757009): 1324, (33737001, 230690007): 1322, (39848009, 368581000119106): 1321, (58150001, 127013003): 1320, (7200002, 424132000): 1320, (7200002, 254637007): 1320, (49436004, 284549007): 1320, (62106007, 192127007): 1319, (74400008, 403190006): 1318, (403190006, 428251008): 1318, (239872002, 124171000119105): 1318, (44465007, 162573006): 1318, (53741008, 79586000): 1317, (92691004, 201834006): 1317, (403190006, 124171000119105): 1317, (53741008, 233604007): 1315, (10509002, 93761005): 1313, (33737001, 53741008): 1312, (65275009, 162864005): 1311, (162864005, 235919008): 1311, (68496003, 197927001): 1310, (431855005, 443165006): 1310, (62106007, 399211009): 1309, (22298006, 62106007): 1309, (49436004, 283371005): 1309, (82423001, 403190006): 1308, (55822004, 275272006): 1307, (15777000, 235919008): 1306, (82423001, 126906006): 1306, (15777000, 65275009): 1306, (88805009, 403190006): 1301, (65363002, 359817006): 1300, (84757009, 302870006): 1300, (39848009, 79586000): 1298, (35999006, 44054006): 1296, (49436004, 162573006): 1294, (64859006, 403190006): 1292, (284551006, 410429000): 1291, (284551006, 429007001): 1291, (5602001, 7200002): 1290, (196416002, 239872002): 1289, (43878008, 254637007): 1289, (185086009, 230690007): 1288, (43878008, 424132000): 1288, (82423001, 239872002): 1288, (127013003, 239872002): 1285, (72892002, 88805009): 1284, (19169002, 30832001): 1283, (196416002, 446096008): 1282, (126906006, 422034002): 1282, (68496003, 307731004): 1282, (127013003, 97331000119101): 1281, (403192003, 444814009): 1281, (39848009, 713197008): 1279, (196416002, 403190006): 1278, (84757009, 237602007): 1277, (55822004, 90781000119102): 1276, (65966004, 254837009): 1274, (126906006, 239872002): 1273, (232353008, 124171000119105): 1273, (196416002, 232353008): 1272, (44054006, 370143000): 1270, (10509002, 69896004): 1270, (5602001, 68496003): 1270, (62106007, 713197008): 1270, (39848009, 201834006): 1268, (70704007, 431855005): 1267, (75498004, 254837009): 1267, (92691004, 196416002): 1264, (40055000, 236077008): 1263, (6072007, 40055000): 1263, (30832001, 72892002): 1263, (65966004, 284551006): 1261, (36971009, 254837009): 1259, (39848009, 92691004): 1258, (82423001, 446096008): 1258, (53741008, 254637007): 1258, (35999006, 302870006): 1257, (53741008, 424132000): 1257, (55822004, 232353008): 1256, (55680006, 403190006): 1256, (92691004, 124171000119105): 1256, (65966004, 79586000): 1255, (47693006, 53741008): 1255, (82423001, 198992004): 1255, (65966004, 368581000119106): 1254, (192127007, 233678006): 1254, (82423001, 232353008): 1254, (428251008, 443165006): 1251, (302870006, 370143000): 1251, (74400008, 443165006): 1251, (65966004, 201834006): 1250, (410429000, 443165006): 1250, (38822007, 398254007): 1250, (429007001, 443165006): 1250, (198992004, 124171000119105): 1247, (446096008, 124171000119105): 1247, (55822004, 446096008): 1246, (16114001, 703151001): 1244, (16114001, 128613002): 1244, (36971009, 38822007): 1242, (237602007, 370143000): 1242, (82423001, 398254007): 1240, (443165006, 713197008): 1240, (239872002, 410429000): 1237, (239872002, 429007001): 1237, (58150001, 431855005): 1236, (16114001, 263102004): 1236, (15777000, 254632001): 1236, (44054006, 403191005): 1236, (15777000, 67811000119102): 1235, (44465007, 449868002): 1235, (55822004, 431856006): 1234, (26929004, 33737001): 1234, (239873007, 1551000119108): 1234, (80394007, 239872002): 1233, (65275009, 195662009): 1232, (87433001, 88805009): 1232, (195662009, 235919008): 1232, (128613002, 263102004): 1231, (263102004, 703151001): 1231, (162864005, 241929008): 1231, (38822007, 68496003): 1229, (33737001, 88805009): 1228, (431855005, 97331000119101): 1227, (196416002, 198992004): 1227, (398254007, 124171000119105): 1226, (70704007, 192127007): 1223, (82423001, 92691004): 1223, (70704007, 301011002): 1219, (302870006, 403191005): 1217, (53741008, 185086009): 1215, (128613002, 283371005): 1213, (283371005, 703151001): 1213, (40055000, 239720000): 1213, (196416002, 398254007): 1212, (74400008, 87433001): 1212, (87433001, 428251008): 1212, (74400008, 254837009): 1211, (254837009, 428251008): 1211, (39848009, 399211009): 1211, (22298006, 39848009): 1211, (43878008, 1551000119108): 1210, (65363002, 262574004): 1210, (36971009, 422034002): 1209, (35999006, 237602007): 1209, (127013003, 263102004): 1208, (75498004, 422034002): 1208, (241929008, 271737000): 1207, (55822004, 97331000119101): 1206, (43878008, 444448004): 1205, (47693006, 230690007): 1205, (62106007, 92691004): 1204, (55680006, 403191005): 1202, (44465007, 359817006): 1201, (196416002, 254837009): 1201, (79586000, 429007001): 1199, (24079001, 62106007): 1199, (79586000, 410429000): 1199, (239872002, 431855005): 1197, (36971009, 87433001): 1196, (47693006, 88805009): 1196, (62106007, 84757009): 1194, (38822007, 62106007): 1194, (16114001, 127013003): 1193, (195967001, 444814009): 1193, (58150001, 713197008): 1192, (38822007, 198992004): 1192, (6072007, 19169002): 1191, (19169002, 236077008): 1191, (82423001, 254837009): 1191, (5602001, 88805009): 1191, (65966004, 359817006): 1190, (82423001, 422034002): 1189, (59621000, 95417003): 1188, (22298006, 80394007): 1188, (237602007, 403191005): 1188, (80394007, 399211009): 1188, (80394007, 162573006): 1188, (370247008, 703151001): 1187, (47693006, 239873007): 1187, (128613002, 370247008): 1187, (196416002, 422034002): 1186, (10509002, 1501000119109): 1186, (33737001, 44054006): 1186, (162864005, 67811000119102): 1184, (162864005, 254632001): 1184, (713197008, 368581000119106): 1183, (126906006, 233604007): 1182, (49436004, 87433001): 1178, (201834006, 713197008): 1177, (19169002, 90560007): 1176, (92691004, 233604007): 1176, (83664006, 88805009): 1176, (92691004, 239872002): 1176, (33737001, 302870006): 1174, (24079001, 70704007): 1173, (36971009, 84757009): 1173, (128613002, 284549007): 1172, (127013003, 703151001): 1172, (284549007, 703151001): 1172, (127013003, 128613002): 1172, (38822007, 75498004): 1170, (80394007, 283371005): 1170, (302870006, 314994000): 1170, (162864005, 90781000119102): 1169, (65966004, 283385000): 1169, (422034002, 124171000119105): 1168, (65966004, 370247008): 1167, (80394007, 283385000): 1167, (237602007, 314994000): 1166, (72892002, 444470001): 1166, (254837009, 124171000119105): 1166, (75498004, 87433001): 1165, (44054006, 314994000): 1165, (65966004, 284549007): 1164, (40055000, 408512008): 1162, (62564004, 68496003): 1161, (49436004, 1551000119108): 1161, (235919008, 271737000): 1160, (65275009, 271737000): 1160, (33737001, 237602007): 1159, (59621000, 93761005): 1157, (44054006, 446096008): 1157, (92691004, 422034002): 1157, (26929004, 128613002): 1156, (26929004, 703151001): 1156, (156073000, 429007001): 1155, (156073000, 410429000): 1155, (39848009, 233678006): 1155, (44054006, 307731004): 1154, (64859006, 162573006): 1153, (55680006, 198992004): 1153, (156073000, 284549007): 1152, (38822007, 239873007): 1149, (44054006, 232353008): 1148, (16114001, 713197008): 1146, (230690007, 424132000): 1146, (65966004, 283371005): 1146, (230690007, 254637007): 1146, (53741008, 84757009): 1145, (43878008, 262574004): 1145, (79586000, 80394007): 1145, (19169002, 24079001): 1145, (62106007, 254837009): 1145, (58150001, 80394007): 1144, (162573006, 428251008): 1143, (74400008, 162573006): 1143, (40055000, 110030002): 1141, (55680006, 398254007): 1140, (33737001, 49436004): 1140, (284551006, 703151001): 1138, (7200002, 64859006): 1138, (128613002, 284551006): 1138, (47693006, 64859006): 1137, (156073000, 370247008): 1136, (72892002, 110030002): 1135, (44054006, 62564004): 1134, (162864005, 233678006): 1133, (314994000, 449868002): 1133, (39848009, 239872002): 1132, (39848009, 398254007): 1132, (302870006, 307731004): 1132, (22298006, 65966004): 1132, (65966004, 399211009): 1132, (254837009, 443165006): 1132, (263102004, 431855005): 1130, (127013003, 283371005): 1130, (162864005, 431856006): 1129, (75498004, 192127007): 1129, (43878008, 233604007): 1129, (62106007, 239872002): 1129, (75498004, 84757009): 1128, (80394007, 128613002): 1127, (80394007, 703151001): 1127, (39848009, 403190006): 1127, (38822007, 55680006): 1125, (64859006, 197927001): 1124, (156073000, 283385000): 1121, (156073000, 283371005): 1120, (26929004, 284549007): 1119, (58150001, 233678006): 1117, (80394007, 370247008): 1115, (196416002, 443165006): 1115, (44465007, 254637007): 1115, (44465007, 424132000): 1115, (422034002, 429007001): 1114, (410429000, 422034002): 1114, (49436004, 254637007): 1113, (16114001, 431855005): 1113, (44054006, 198992004): 1113, (49436004, 424132000): 1112, (38822007, 124171000119105): 1112, (33737001, 443165006): 1111, (38822007, 196416002): 1111, (283385000, 703151001): 1110, (128613002, 283385000): 1110, (237602007, 307731004): 1109, (302870006, 446096008): 1109, (201834006, 368581000119106): 1109, (26929004, 370247008): 1107, (65966004, 233604007): 1107, (40055000, 95417003): 1106, (62564004, 302870006): 1106, (232353008, 302870006): 1105, (5602001, 162573006): 1104, (301011002, 429007001): 1103, (301011002, 410429000): 1103, (70704007, 126906006): 1101, (302870006, 359817006): 1101, (36971009, 62564004): 1101, (428251008, 446096008): 1101, (74400008, 446096008): 1101, (19169002, 444470001): 1100, (39848009, 198992004): 1099, (68496003, 230265002): 1098, (68496003, 156073000): 1098, (44054006, 359817006): 1097, (80394007, 254837009): 1097, (49436004, 65363002): 1097, (254837009, 429007001): 1096, (72892002, 275272006): 1096, (254837009, 410429000): 1096, (80394007, 443165006): 1095, (128613002, 431855005): 1094, (40055000, 93761005): 1094, (40275004, 162864005): 1094, (431855005, 703151001): 1094, (254837009, 713197008): 1093, (44054006, 398254007): 1093, (35999006, 55822004): 1092, (239872002, 713197008): 1092, (156073000, 284551006): 1092, (263102004, 713197008): 1091, (443165006, 124171000119105): 1091, (35999006, 62106007): 1091, (38822007, 82423001): 1090, (62564004, 237602007): 1090, (65966004, 239872002): 1089, (70704007, 403190006): 1087, (83664006, 230690007): 1087, (26929004, 283371005): 1086, (24079001, 75498004): 1085, (237602007, 359817006): 1085, (62564004, 75498004): 1083, (7200002, 26929004): 1083, (230690007, 301011002): 1081, (70704007, 713197008): 1079, (24079001, 36971009): 1079, (49436004, 185086009): 1078, (88805009, 185086009): 1078, (233604007, 443165006): 1078, (127013003, 283385000): 1076, (58150001, 284551006): 1076, (22298006, 70704007): 1075, (70704007, 399211009): 1075, (80394007, 156073000): 1075, (36971009, 192127007): 1074, (15777000, 40275004): 1074, (237602007, 446096008): 1074, (62106007, 87433001): 1073, (53741008, 403191005): 1073, (232353008, 237602007): 1071, (62106007, 422034002): 1070, (65966004, 446096008): 1069, (80394007, 284551006): 1069, (5602001, 230690007): 1068, (79586000, 713197008): 1068, (80394007, 284549007): 1067, (7200002, 239873007): 1066, (156073000, 230690007): 1065, (80394007, 263102004): 1063, (35999006, 75498004): 1062, (127013003, 284549007): 1061, (55680006, 232353008): 1059, (127013003, 314994000): 1057, (127013003, 370247008): 1057, (53741008, 90560007): 1057, (239873007, 359817006): 1055, (58150001, 283371005): 1055, (65363002, 156073000): 1054, (26929004, 284551006): 1052, (283371005, 431855005): 1051, (10509002, 65275009): 1049, (26929004, 283385000): 1049, (10509002, 235919008): 1049, (82423001, 443165006): 1048, (74400008, 232353008): 1048, (72892002, 239720000): 1048, (232353008, 428251008): 1048, (44465007, 1551000119108): 1046, (35999006, 196416002): 1046, (90560007, 302870006): 1045, (58150001, 232353008): 1045, (58150001, 370247008): 1043, (195662009, 67811000119102): 1043, (126906006, 128613002): 1043, (195662009, 254632001): 1043, (126906006, 703151001): 1043, (59621000, 69896004): 1042, (44054006, 90560007): 1041, (58150001, 283385000): 1041, (39848009, 254837009): 1040, (35999006, 36971009): 1039, (127013003, 284551006): 1038, (127013003, 370143000): 1037, (35999006, 55680006): 1033, (90560007, 237602007): 1033, (40055000, 1501000119109): 1033, (79586000, 443165006): 1031, (65966004, 233678006): 1031, (55680006, 446096008): 1030, (36971009, 443165006): 1030, (65966004, 232353008): 1028, (70704007, 368581000119106): 1028, (16114001, 80394007): 1027, (5602001, 49436004): 1025, (35999006, 124171000119105): 1025, (33737001, 75498004): 1023, (79586000, 201834006): 1022, (75498004, 307731004): 1022, (39848009, 422034002): 1020, (19169002, 262574004): 1020, (35999006, 82423001): 1019, (65363002, 110030002): 1019, (19169002, 239720000): 1019, (58150001, 446096008): 1018, (80394007, 424132000): 1016, (283371005, 370247008): 1016, (198992004, 302870006): 1016, (80394007, 254637007): 1016, (15777000, 241929008): 1013, (70704007, 79586000): 1011, (75498004, 403191005): 1011, (84757009, 230690007): 1011, (74400008, 449868002): 1010, (428251008, 449868002): 1010, (232353008, 703151001): 1009, (53741008, 307731004): 1009, (128613002, 232353008): 1009, (302870006, 398254007): 1007, (70704007, 201834006): 1004, (36971009, 403191005): 1004, (283385000, 431855005): 1003, (36971009, 307731004): 1003, (19169002, 65275009): 1003, (19169002, 235919008): 1003, (36971009, 185086009): 1001}"
     ]
    }
   ],
   "source": [
    "single_counts_dict = sc.broadcast(frequent_singles.collectAsMap())\n",
    "pair_counts_dict = sc.broadcast(pair_count.collectAsMap())\n",
    "pair_counts_dict.value\n"
   ]
  },
  {
   "cell_type": "code",
   "execution_count": 64,
   "id": "irish-guyana",
   "metadata": {},
   "outputs": [
    {
     "data": {
      "application/vnd.jupyter.widget-view+json": {
       "model_id": "fa770485a603401fa117839ca26cf05d",
       "version_major": 2,
       "version_minor": 0
      },
      "text/plain": [
       "VBox()"
      ]
     },
     "metadata": {},
     "output_type": "display_data"
    },
    {
     "data": {
      "application/vnd.jupyter.widget-view+json": {
       "model_id": "",
       "version_major": 2,
       "version_minor": 0
      },
      "text/plain": [
       "FloatProgress(value=0.0, bar_style='info', description='Progress:', layout=Layout(height='25px', width='50%'),…"
      ]
     },
     "metadata": {},
     "output_type": "display_data"
    }
   ],
   "source": [
    "def get_metrics_double(pair):\n",
    "    single_1 = pair[0][0]\n",
    "    single_2 = pair[0][1]\n",
    "    count = pair[1]\n",
    "    \n",
    "    confidence = confidence_pairs(single_1, single_2,count)\n",
    "    interest = interest_pairs(single_1, single_2,count)\n",
    "    lift = lift_pairs(single_1, single_2,count)\n",
    "    std_lift = std_lift_pairs(single_1, single_2,count)\n",
    "    return ([single_1],single_2,std_lift,lift,confidence,interest)"
   ]
  },
  {
   "cell_type": "code",
   "execution_count": 65,
   "id": "corporate-healing",
   "metadata": {},
   "outputs": [
    {
     "data": {
      "application/vnd.jupyter.widget-view+json": {
       "model_id": "114cf690b69841d8854ad209afb96d8f",
       "version_major": 2,
       "version_minor": 0
      },
      "text/plain": [
       "VBox()"
      ]
     },
     "metadata": {},
     "output_type": "display_data"
    },
    {
     "data": {
      "application/vnd.jupyter.widget-view+json": {
       "model_id": "",
       "version_major": 2,
       "version_minor": 0
      },
      "text/plain": [
       "FloatProgress(value=0.0, bar_style='info', description='Progress:', layout=Layout(height='25px', width='50%'),…"
      ]
     },
     "metadata": {},
     "output_type": "display_data"
    }
   ],
   "source": [
    "def get_metrics_triple(triple):\n",
    "    pair = triple[0]\n",
    "    single = triple[1]\n",
    "    count = triple[2]\n",
    "    confidence = confidence_triples(pair, single,count)\n",
    "    interest = interest_triples(pair, single,count)\n",
    "    lift = lift_triples(pair, single,count)\n",
    "    std_lift = std_lift_triples(pair, single,count)\n",
    "    return (list(pair),single,std_lift,lift,confidence,interest)"
   ]
  },
  {
   "cell_type": "code",
   "execution_count": 66,
   "id": "becoming-vaccine",
   "metadata": {},
   "outputs": [
    {
     "data": {
      "application/vnd.jupyter.widget-view+json": {
       "model_id": "913b4f0508ea4fc2a7ea7c01af739668",
       "version_major": 2,
       "version_minor": 0
      },
      "text/plain": [
       "VBox()"
      ]
     },
     "metadata": {},
     "output_type": "display_data"
    },
    {
     "data": {
      "application/vnd.jupyter.widget-view+json": {
       "model_id": "",
       "version_major": 2,
       "version_minor": 0
      },
      "text/plain": [
       "FloatProgress(value=0.0, bar_style='info', description='Progress:', layout=Layout(height='25px', width='50%'),…"
      ]
     },
     "metadata": {},
     "output_type": "display_data"
    },
    {
     "name": "stdout",
     "output_type": "stream",
     "text": [
      "[((15777000, 40055000), 82423001, 5866), ((15777000, 82423001), 40055000, 5866), ((40055000, 82423001), 15777000, 5866), ((15777000, 40055000), 444814009, 67378), ((15777000, 444814009), 40055000, 67378), ((40055000, 444814009), 15777000, 67378), ((15777000, 156073000), 444814009, 8025), ((15777000, 444814009), 156073000, 8025), ((156073000, 444814009), 15777000, 8025), ((40055000, 156073000), 444814009, 5185)]"
     ]
    }
   ],
   "source": [
    "possible_triple_rules = triple_count.flatMap(break_triples)\n",
    "possible_triple_rules.take(10)"
   ]
  },
  {
   "cell_type": "code",
   "execution_count": 67,
   "id": "acute-adelaide",
   "metadata": {},
   "outputs": [
    {
     "data": {
      "application/vnd.jupyter.widget-view+json": {
       "model_id": "74f9ce6f5cf94a1c927900479a123e58",
       "version_major": 2,
       "version_minor": 0
      },
      "text/plain": [
       "VBox()"
      ]
     },
     "metadata": {},
     "output_type": "display_data"
    },
    {
     "data": {
      "application/vnd.jupyter.widget-view+json": {
       "model_id": "",
       "version_major": 2,
       "version_minor": 0
      },
      "text/plain": [
       "FloatProgress(value=0.0, bar_style='info', description='Progress:', layout=Layout(height='25px', width='50%'),…"
      ]
     },
     "metadata": {},
     "output_type": "display_data"
    },
    {
     "name": "stdout",
     "output_type": "stream",
     "text": [
      "[([6072007, 236077008], 94260004, 779.6309564877665, 261.77702397105384, 0.4633649932157395, 0.4615949181106494), ([162573006, 254632001], 67811000119102, 667.1674697846876, 514.4791111111111, 0.9995555555555555, 0.9976127059160496), ([162573006, 67811000119102], 254632001, 666.3988023320313, 514.4791111111111, 1.0, 0.998056286487822), ([6072007, 271737000], 94260004, 587.7686507896054, 275.8673575158306, 0.48830594184576487, 0.4865358667406748), ([236077008, 271737000], 94260004, 587.7686507896054, 275.8673575158306, 0.48830594184576487, 0.4865358667406748), ([6072007, 444814009], 94260004, 516.2009653307674, 260.67124673649283, 0.46140768446106767, 0.4596376093559776), ([236077008, 444814009], 94260004, 516.2009653307674, 260.67124673649283, 0.46140768446106767, 0.4596376093559776), ([162573006, 271737000], 67811000119102, 481.3815106720477, 77.35631755505251, 0.15029169367534032, 0.14834884403583437), ([254632001, 271737000], 67811000119102, 481.3815106720477, 514.3909318208202, 0.999384236453202, 0.997441386813696), ([162573006, 271737000], 254632001, 481.1233346018179, 77.36957833544258, 0.15038429484211502, 0.148440581329937)]"
     ]
    }
   ],
   "source": [
    "resulting_triples = possible_triple_rules.map(get_metrics_triple).filter(lambda a: a[2]>=min_std_lift).sortBy(lambda a: a[2], False)\n",
    "resulting_triples.take(10)"
   ]
  },
  {
   "cell_type": "code",
   "execution_count": 68,
   "id": "thirty-devon",
   "metadata": {},
   "outputs": [
    {
     "data": {
      "application/vnd.jupyter.widget-view+json": {
       "model_id": "c88b930c53804ae9a57a7e7460e1b08b",
       "version_major": 2,
       "version_minor": 0
      },
      "text/plain": [
       "VBox()"
      ]
     },
     "metadata": {},
     "output_type": "display_data"
    },
    {
     "data": {
      "application/vnd.jupyter.widget-view+json": {
       "model_id": "",
       "version_major": 2,
       "version_minor": 0
      },
      "text/plain": [
       "FloatProgress(value=0.0, bar_style='info', description='Progress:', layout=Layout(height='25px', width='50%'),…"
      ]
     },
     "metadata": {},
     "output_type": "display_data"
    }
   ],
   "source": [
    "candidate_double_rules = pair_count.flatMap(break_doubles)"
   ]
  },
  {
   "cell_type": "code",
   "execution_count": 69,
   "id": "incorrect-sword",
   "metadata": {},
   "outputs": [
    {
     "data": {
      "application/vnd.jupyter.widget-view+json": {
       "model_id": "d0d4f6afdf9f4763ae02510591fa49bb",
       "version_major": 2,
       "version_minor": 0
      },
      "text/plain": [
       "VBox()"
      ]
     },
     "metadata": {},
     "output_type": "display_data"
    },
    {
     "data": {
      "application/vnd.jupyter.widget-view+json": {
       "model_id": "",
       "version_major": 2,
       "version_minor": 0
      },
      "text/plain": [
       "FloatProgress(value=0.0, bar_style='info', description='Progress:', layout=Layout(height='25px', width='50%'),…"
      ]
     },
     "metadata": {},
     "output_type": "display_data"
    },
    {
     "name": "stdout",
     "output_type": "stream",
     "text": [
      "[([195967001], 444814009, 0.002440400092434995, 1.0124421961931973, 0.6576626240352812, 0.008082206992110041), ([403192003], 444814009, 0.0026205638576483167, 1.013903448922831, 0.658611825192802, 0.009031408149630882), ([94260004], 444814009, 0.0027761598366961853, 1.0195416345081063, 0.662274280136652, 0.012693863093480862), ([67811000119102], 444814009, 0.0030771152172229836, 1.029497881117422, 0.6687416629613161, 0.019161245918144942), ([254632001], 444814009, 0.0030791625327367712, 1.0297245288483419, 0.6688888888888889, 0.019308471845717712), ([65275009], 444814009, 0.0036708367162214305, 1.0351509612377363, 0.6724137931034483, 0.022833376060277133), ([235919008], 444814009, 0.0036708367162214305, 1.0351509612377363, 0.6724137931034483, 0.022833376060277133), ([1501000119109], 444814009, 0.004141719284392613, 1.0266416731434154, 0.6668863261943987, 0.01730590915122754), ([67811000119102], 195662009, 0.004381380028862513, 1.0231532186150958, 0.4637616718541574, 0.0104945917956214), ([254632001], 195662009, 0.004381380028862514, 1.022698483851267, 0.46355555555555555, 0.010288475497019556)]"
     ]
    }
   ],
   "source": [
    "resulting_pairs = candidate_double_rules.map(get_metrics_double).filter(lambda a: a[2]).sortBy(lambda a: a[2])\n",
    "resulting_pairs.take(10)"
   ]
  },
  {
   "cell_type": "markdown",
   "id": "abstract-motor",
   "metadata": {},
   "source": [
    "Uniting both types of rules X -> Y and X,Y -> Z to a single rdd"
   ]
  },
  {
   "cell_type": "code",
   "execution_count": 70,
   "id": "insured-humanitarian",
   "metadata": {},
   "outputs": [
    {
     "data": {
      "application/vnd.jupyter.widget-view+json": {
       "model_id": "450b4ec95cf74b4194cf40862e597888",
       "version_major": 2,
       "version_minor": 0
      },
      "text/plain": [
       "VBox()"
      ]
     },
     "metadata": {},
     "output_type": "display_data"
    },
    {
     "data": {
      "application/vnd.jupyter.widget-view+json": {
       "model_id": "",
       "version_major": 2,
       "version_minor": 0
      },
      "text/plain": [
       "FloatProgress(value=0.0, bar_style='info', description='Progress:', layout=Layout(height='25px', width='50%'),…"
      ]
     },
     "metadata": {},
     "output_type": "display_data"
    },
    {
     "name": "stdout",
     "output_type": "stream",
     "text": [
      "[([195967001], 444814009, 0.002440400092434995, 1.0124421961931973, 0.6576626240352812, 0.008082206992110041), ([403192003], 444814009, 0.0026205638576483167, 1.013903448922831, 0.658611825192802, 0.009031408149630882), ([94260004], 444814009, 0.0027761598366961853, 1.0195416345081063, 0.662274280136652, 0.012693863093480862), ([67811000119102], 444814009, 0.0030771152172229836, 1.029497881117422, 0.6687416629613161, 0.019161245918144942), ([254632001], 444814009, 0.0030791625327367712, 1.0297245288483419, 0.6688888888888889, 0.019308471845717712), ([65275009], 444814009, 0.0036708367162214305, 1.0351509612377363, 0.6724137931034483, 0.022833376060277133), ([235919008], 444814009, 0.0036708367162214305, 1.0351509612377363, 0.6724137931034483, 0.022833376060277133), ([1501000119109], 444814009, 0.004141719284392613, 1.0266416731434154, 0.6668863261943987, 0.01730590915122754), ([67811000119102], 195662009, 0.004381380028862513, 1.0231532186150958, 0.4637616718541574, 0.0104945917956214), ([254632001], 195662009, 0.004381380028862514, 1.022698483851267, 0.46355555555555555, 0.010288475497019556)]"
     ]
    }
   ],
   "source": [
    "final_rules = resulting_triples.union(resulting_pairs).sortBy(lambda a: a[2])\n",
    "final_rules.take(10)"
   ]
  },
  {
   "cell_type": "code",
   "execution_count": 71,
   "id": "minor-brunswick",
   "metadata": {},
   "outputs": [
    {
     "data": {
      "application/vnd.jupyter.widget-view+json": {
       "model_id": "5bbaa227b04a474dace732c69f833cd7",
       "version_major": 2,
       "version_minor": 0
      },
      "text/plain": [
       "VBox()"
      ]
     },
     "metadata": {},
     "output_type": "display_data"
    },
    {
     "data": {
      "application/vnd.jupyter.widget-view+json": {
       "model_id": "",
       "version_major": 2,
       "version_minor": 0
      },
      "text/plain": [
       "FloatProgress(value=0.0, bar_style='info', description='Progress:', layout=Layout(height='25px', width='50%'),…"
      ]
     },
     "metadata": {},
     "output_type": "display_data"
    }
   ],
   "source": [
    "conds = sc.broadcast(condition_map.collectAsMap())"
   ]
  },
  {
   "cell_type": "markdown",
   "id": "caring-bracelet",
   "metadata": {},
   "source": [
    "Function to translate condition ids to names"
   ]
  },
  {
   "cell_type": "code",
   "execution_count": 72,
   "id": "fantastic-booth",
   "metadata": {},
   "outputs": [
    {
     "data": {
      "application/vnd.jupyter.widget-view+json": {
       "model_id": "555b9b328dc74608803e67954c7283fa",
       "version_major": 2,
       "version_minor": 0
      },
      "text/plain": [
       "VBox()"
      ]
     },
     "metadata": {},
     "output_type": "display_data"
    },
    {
     "data": {
      "application/vnd.jupyter.widget-view+json": {
       "model_id": "",
       "version_major": 2,
       "version_minor": 0
      },
      "text/plain": [
       "FloatProgress(value=0.0, bar_style='info', description='Progress:', layout=Layout(height='25px', width='50%'),…"
      ]
     },
     "metadata": {},
     "output_type": "display_data"
    }
   ],
   "source": [
    "def translate_conditions(line):\n",
    "    temp_list = list(line)\n",
    "    left_side = line[0]\n",
    "    right_side = line[1]\n",
    "    translated_left = [conds.value[i] for i in left_side]\n",
    "    translated_right = conds.value[right_side]\n",
    "    temp_list[0] = translated_left\n",
    "    temp_list[1] = translated_right\n",
    "    return tuple(temp_list)\n",
    "    "
   ]
  },
  {
   "cell_type": "markdown",
   "id": "foreign-consultation",
   "metadata": {},
   "source": [
    "Translating condition ids to their name in the final rules rdd"
   ]
  },
  {
   "cell_type": "code",
   "execution_count": 73,
   "id": "weighted-lancaster",
   "metadata": {},
   "outputs": [
    {
     "data": {
      "application/vnd.jupyter.widget-view+json": {
       "model_id": "1ed4be26c13f4122935ddc4e20385002",
       "version_major": 2,
       "version_minor": 0
      },
      "text/plain": [
       "VBox()"
      ]
     },
     "metadata": {},
     "output_type": "display_data"
    },
    {
     "data": {
      "application/vnd.jupyter.widget-view+json": {
       "model_id": "",
       "version_major": 2,
       "version_minor": 0
      },
      "text/plain": [
       "FloatProgress(value=0.0, bar_style='info', description='Progress:', layout=Layout(height='25px', width='50%'),…"
      ]
     },
     "metadata": {},
     "output_type": "display_data"
    },
    {
     "name": "stdout",
     "output_type": "stream",
     "text": [
      "[(['Bleeding from anus', 'Protracted diarrhea'], 'Secondary malignant neoplasm of colon', 779.6309564877665, 261.77702397105384, 0.4633649932157395, 0.4615949181106494), (['Bleeding from anus'], 'Secondary malignant neoplasm of colon', 779.6309564877665, 261.77702397105384, 0.4633649932157395, 0.4615949181106494), (['Protracted diarrhea'], 'Secondary malignant neoplasm of colon', 779.6309564877665, 261.77702397105384, 0.4633649932157395, 0.4615949181106494), (['Suspected lung cancer (situation)', 'Small cell carcinoma of lung (disorder)'], 'Primary small cell malignant neoplasm of lung  TNM stage 1 (disorder)', 667.1674697846876, 514.4791111111111, 0.9995555555555555, 0.9976127059160496), (['Small cell carcinoma of lung (disorder)'], 'Primary small cell malignant neoplasm of lung  TNM stage 1 (disorder)', 667.1674697846876, 514.4791111111111, 0.9995555555555555, 0.9976127059160496), (['Suspected lung cancer (situation)'], 'Primary small cell malignant neoplasm of lung  TNM stage 1 (disorder)', 667.1674697846875, 77.08450422854098, 0.14976360125191449, 0.14782075161240854), (['Suspected lung cancer (situation)'], 'Small cell carcinoma of lung (disorder)', 666.6952430803997, 77.084504228541, 0.1498301924485583, 0.1478864789363803), (['Suspected lung cancer (situation)', 'Primary small cell malignant neoplasm of lung  TNM stage 1 (disorder)'], 'Small cell carcinoma of lung (disorder)', 666.3988023320313, 514.4791111111111, 1.0, 0.998056286487822), (['Primary small cell malignant neoplasm of lung  TNM stage 1 (disorder)'], 'Small cell carcinoma of lung (disorder)', 666.3988023320313, 514.4791111111111, 1.0, 0.998056286487822), (['Viral sinusitis (disorder)'], 'Asthma', 646.8923262719771, 1.0124421961931973, 0.0015865627576668352, 1.9497730515317122e-05)]"
     ]
    }
   ],
   "source": [
    "final_rules = final_rules.map(translate_conditions).sortBy(lambda a: a[2],False)\n",
    "final_rules.take(10)"
   ]
  },
  {
   "cell_type": "markdown",
   "id": "heard-fruit",
   "metadata": {},
   "source": [
    "Saving results to a folder and stopping spark context"
   ]
  },
  {
   "cell_type": "code",
   "execution_count": 74,
   "id": "linear-architect",
   "metadata": {},
   "outputs": [
    {
     "data": {
      "application/vnd.jupyter.widget-view+json": {
       "model_id": "45ebbb42ef804aa28f7bd1980c509a01",
       "version_major": 2,
       "version_minor": 0
      },
      "text/plain": [
       "VBox()"
      ]
     },
     "metadata": {},
     "output_type": "display_data"
    },
    {
     "data": {
      "application/vnd.jupyter.widget-view+json": {
       "model_id": "",
       "version_major": 2,
       "version_minor": 0
      },
      "text/plain": [
       "FloatProgress(value=0.0, bar_style='info', description='Progress:', layout=Layout(height='25px', width='50%'),…"
      ]
     },
     "metadata": {},
     "output_type": "display_data"
    }
   ],
   "source": [
    "#FILES ARE STRUCTURED AS left_rule_side,right_rule_side,std_lift,lift,confidence,interest\n",
    "final_rules.saveAsTextFile(\"{0}/{1}\".format(\"s3://diomdle2021/extracted_rules\", format_time))"
   ]
  },
  {
   "cell_type": "code",
   "execution_count": 75,
   "id": "crazy-fisher",
   "metadata": {},
   "outputs": [
    {
     "data": {
      "application/vnd.jupyter.widget-view+json": {
       "model_id": "ae39268013ea4e45b24691e80adf941a",
       "version_major": 2,
       "version_minor": 0
      },
      "text/plain": [
       "VBox()"
      ]
     },
     "metadata": {},
     "output_type": "display_data"
    },
    {
     "data": {
      "application/vnd.jupyter.widget-view+json": {
       "model_id": "",
       "version_major": 2,
       "version_minor": 0
      },
      "text/plain": [
       "FloatProgress(value=0.0, bar_style='info', description='Progress:', layout=Layout(height='25px', width='50%'),…"
      ]
     },
     "metadata": {},
     "output_type": "display_data"
    }
   ],
   "source": [
    "sc.stop()"
   ]
  },
  {
   "cell_type": "code",
   "execution_count": null,
   "id": "artistic-range",
   "metadata": {},
   "outputs": [],
   "source": []
  },
  {
   "cell_type": "code",
   "execution_count": null,
   "id": "corrected-fluid",
   "metadata": {},
   "outputs": [],
   "source": []
  },
  {
   "cell_type": "code",
   "execution_count": null,
   "id": "rational-melbourne",
   "metadata": {},
   "outputs": [],
   "source": []
  }
 ],
 "metadata": {
  "kernelspec": {
   "display_name": "PySpark",
   "language": "",
   "name": "pysparkkernel"
  },
  "language_info": {
   "codemirror_mode": {
    "name": "python",
    "version": 3
   },
   "mimetype": "text/x-python",
   "name": "pyspark",
   "pygments_lexer": "python3"
  }
 },
 "nbformat": 4,
 "nbformat_minor": 5
}
