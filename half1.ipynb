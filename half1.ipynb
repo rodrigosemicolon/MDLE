{
 "cells": [
  {
   "cell_type": "code",
   "execution_count": 1,
   "id": "developmental-girlfriend",
   "metadata": {},
   "outputs": [
    {
     "data": {
      "application/vnd.jupyter.widget-view+json": {
       "model_id": "88fdbece1e574f7b8a30355f4096e499",
       "version_major": 2,
       "version_minor": 0
      },
      "text/plain": [
       "VBox()"
      ]
     },
     "metadata": {},
     "output_type": "display_data"
    },
    {
     "name": "stdout",
     "output_type": "stream",
     "text": [
      "Starting Spark application\n"
     ]
    },
    {
     "data": {
      "text/html": [
       "<table>\n",
       "<tr><th>ID</th><th>YARN Application ID</th><th>Kind</th><th>State</th><th>Spark UI</th><th>Driver log</th><th>Current session?</th></tr><tr><td>25</td><td>application_1618594989241_0026</td><td>pyspark</td><td>idle</td><td><a target=\"_blank\" href=\"http://ip-172-31-78-159.ec2.internal:20888/proxy/application_1618594989241_0026/\" >Link</a></td><td><a target=\"_blank\" href=\"http://ip-172-31-79-133.ec2.internal:8042/node/containerlogs/container_1618594989241_0026_01_000001/livy\" >Link</a></td><td>✔</td></tr></table>"
      ],
      "text/plain": [
       "<IPython.core.display.HTML object>"
      ]
     },
     "metadata": {},
     "output_type": "display_data"
    },
    {
     "data": {
      "application/vnd.jupyter.widget-view+json": {
       "model_id": "",
       "version_major": 2,
       "version_minor": 0
      },
      "text/plain": [
       "FloatProgress(value=0.0, bar_style='info', description='Progress:', layout=Layout(height='25px', width='50%'),…"
      ]
     },
     "metadata": {},
     "output_type": "display_data"
    },
    {
     "name": "stdout",
     "output_type": "stream",
     "text": [
      "SparkSession available as 'spark'.\n"
     ]
    },
    {
     "data": {
      "application/vnd.jupyter.widget-view+json": {
       "model_id": "",
       "version_major": 2,
       "version_minor": 0
      },
      "text/plain": [
       "FloatProgress(value=0.0, bar_style='info', description='Progress:', layout=Layout(height='25px', width='50%'),…"
      ]
     },
     "metadata": {},
     "output_type": "display_data"
    }
   ],
   "source": [
    "# import pip\n",
    "\n",
    "# pip.main(['install', 'mmh3'])"
   ]
  },
  {
   "cell_type": "code",
   "execution_count": 3,
   "id": "nutritional-vaccine",
   "metadata": {},
   "outputs": [
    {
     "data": {
      "application/vnd.jupyter.widget-view+json": {
       "model_id": "0f4e828015c94f3aa86a4271e17c7f59",
       "version_major": 2,
       "version_minor": 0
      },
      "text/plain": [
       "VBox()"
      ]
     },
     "metadata": {},
     "output_type": "display_data"
    },
    {
     "data": {
      "application/vnd.jupyter.widget-view+json": {
       "model_id": "",
       "version_major": 2,
       "version_minor": 0
      },
      "text/plain": [
       "FloatProgress(value=0.0, bar_style='info', description='Progress:', layout=Layout(height='25px', width='50%'),…"
      ]
     },
     "metadata": {},
     "output_type": "display_data"
    }
   ],
   "source": [
    "from pyspark import SparkContext\n",
    "from datetime import datetime\n",
    "import random\n",
    "import math"
   ]
  },
  {
   "cell_type": "code",
   "execution_count": 4,
   "id": "broken-director",
   "metadata": {},
   "outputs": [
    {
     "data": {
      "application/vnd.jupyter.widget-view+json": {
       "model_id": "ad329c6b76aa45a2a7e804583993980a",
       "version_major": 2,
       "version_minor": 0
      },
      "text/plain": [
       "VBox()"
      ]
     },
     "metadata": {},
     "output_type": "display_data"
    },
    {
     "data": {
      "application/vnd.jupyter.widget-view+json": {
       "model_id": "",
       "version_major": 2,
       "version_minor": 0
      },
      "text/plain": [
       "FloatProgress(value=0.0, bar_style='info', description='Progress:', layout=Layout(height='25px', width='50%'),…"
      ]
     },
     "metadata": {},
     "output_type": "display_data"
    },
    {
     "name": "stdout",
     "output_type": "stream",
     "text": [
      "Collecting mmh3\n",
      "  Using cached https://files.pythonhosted.org/packages/25/2b/a402183507dea33ecce49caca52839c6d00552c0f556853af13884fee605/mmh3-3.0.0-cp37-cp37m-manylinux1_x86_64.whl\n",
      "Installing collected packages: mmh3\n",
      "Successfully installed mmh3-3.0.0"
     ]
    }
   ],
   "source": [
    "sc = spark.sparkContext\n",
    "sc.install_pypi_package(\"mmh3\")\n",
    "import mmh3\n"
   ]
  },
  {
   "cell_type": "code",
   "execution_count": 5,
   "id": "tough-milton",
   "metadata": {},
   "outputs": [
    {
     "data": {
      "application/vnd.jupyter.widget-view+json": {
       "model_id": "d3774b7bf31f4de18d81c4f9867dcf63",
       "version_major": 2,
       "version_minor": 0
      },
      "text/plain": [
       "VBox()"
      ]
     },
     "metadata": {},
     "output_type": "display_data"
    },
    {
     "data": {
      "application/vnd.jupyter.widget-view+json": {
       "model_id": "",
       "version_major": 2,
       "version_minor": 0
      },
      "text/plain": [
       "FloatProgress(value=0.0, bar_style='info', description='Progress:', layout=Layout(height='25px', width='50%'),…"
      ]
     },
     "metadata": {},
     "output_type": "display_data"
    }
   ],
   "source": [
    "metadata = sc.textFile(\"s3://diomdle2021/movie.metadata.tsv\")"
   ]
  },
  {
   "cell_type": "code",
   "execution_count": 6,
   "id": "difficult-disease",
   "metadata": {},
   "outputs": [
    {
     "data": {
      "application/vnd.jupyter.widget-view+json": {
       "model_id": "4ca009056042470e8ef42414e4d6371e",
       "version_major": 2,
       "version_minor": 0
      },
      "text/plain": [
       "VBox()"
      ]
     },
     "metadata": {},
     "output_type": "display_data"
    },
    {
     "data": {
      "application/vnd.jupyter.widget-view+json": {
       "model_id": "",
       "version_major": 2,
       "version_minor": 0
      },
      "text/plain": [
       "FloatProgress(value=0.0, bar_style='info', description='Progress:', layout=Layout(height='25px', width='50%'),…"
      ]
     },
     "metadata": {},
     "output_type": "display_data"
    }
   ],
   "source": [
    "k_gram_size=9"
   ]
  },
  {
   "cell_type": "code",
   "execution_count": 7,
   "id": "indian-jacob",
   "metadata": {},
   "outputs": [
    {
     "data": {
      "application/vnd.jupyter.widget-view+json": {
       "model_id": "dd5ad82077fd49e5a88f415ac1538df6",
       "version_major": 2,
       "version_minor": 0
      },
      "text/plain": [
       "VBox()"
      ]
     },
     "metadata": {},
     "output_type": "display_data"
    },
    {
     "data": {
      "application/vnd.jupyter.widget-view+json": {
       "model_id": "",
       "version_major": 2,
       "version_minor": 0
      },
      "text/plain": [
       "FloatProgress(value=0.0, bar_style='info', description='Progress:', layout=Layout(height='25px', width='50%'),…"
      ]
     },
     "metadata": {},
     "output_type": "display_data"
    }
   ],
   "source": [
    " metadata = metadata.map(lambda line: line.split(\"\\t\")).map(lambda a: (int(a[0]),a[2]))"
   ]
  },
  {
   "cell_type": "code",
   "execution_count": 8,
   "id": "extreme-interim",
   "metadata": {},
   "outputs": [
    {
     "data": {
      "application/vnd.jupyter.widget-view+json": {
       "model_id": "3a36a20a84c14c4a9fe247d022701a54",
       "version_major": 2,
       "version_minor": 0
      },
      "text/plain": [
       "VBox()"
      ]
     },
     "metadata": {},
     "output_type": "display_data"
    },
    {
     "data": {
      "application/vnd.jupyter.widget-view+json": {
       "model_id": "",
       "version_major": 2,
       "version_minor": 0
      },
      "text/plain": [
       "FloatProgress(value=0.0, bar_style='info', description='Progress:', layout=Layout(height='25px', width='50%'),…"
      ]
     },
     "metadata": {},
     "output_type": "display_data"
    },
    {
     "name": "stdout",
     "output_type": "stream",
     "text": [
      "[(975900, 'Ghosts of Mars'), (3196793, 'Getting Away with Murder: The JonBenét Ramsey Mystery'), (28463795, 'Brun bitter'), (9363483, 'White Of The Eye'), (261236, 'A Woman in Flames'), (13696889, 'The Gangsters'), (18998739, \"The Sorcerer's Apprentice\"), (10408933, \"Alexander's Ragtime Band\"), (9997961, 'Contigo y aquí'), (2345652, 'City of the Dead')]"
     ]
    }
   ],
   "source": [
    "metadata.take(10)"
   ]
  },
  {
   "cell_type": "code",
   "execution_count": 9,
   "id": "smooth-edward",
   "metadata": {},
   "outputs": [
    {
     "data": {
      "application/vnd.jupyter.widget-view+json": {
       "model_id": "0185678defcc4775a6751b8ead680b01",
       "version_major": 2,
       "version_minor": 0
      },
      "text/plain": [
       "VBox()"
      ]
     },
     "metadata": {},
     "output_type": "display_data"
    },
    {
     "data": {
      "application/vnd.jupyter.widget-view+json": {
       "model_id": "",
       "version_major": 2,
       "version_minor": 0
      },
      "text/plain": [
       "FloatProgress(value=0.0, bar_style='info', description='Progress:', layout=Layout(height='25px', width='50%'),…"
      ]
     },
     "metadata": {},
     "output_type": "display_data"
    }
   ],
   "source": [
    "movie_plots = sc.textFile(\"s3://diomdle2021/plot_summaries.txt\")"
   ]
  },
  {
   "cell_type": "code",
   "execution_count": 10,
   "id": "coordinate-retrieval",
   "metadata": {},
   "outputs": [
    {
     "data": {
      "application/vnd.jupyter.widget-view+json": {
       "model_id": "9e4df2bd67fa4e55af6d3ed9959f33a3",
       "version_major": 2,
       "version_minor": 0
      },
      "text/plain": [
       "VBox()"
      ]
     },
     "metadata": {},
     "output_type": "display_data"
    },
    {
     "data": {
      "application/vnd.jupyter.widget-view+json": {
       "model_id": "",
       "version_major": 2,
       "version_minor": 0
      },
      "text/plain": [
       "FloatProgress(value=0.0, bar_style='info', description='Progress:', layout=Layout(height='25px', width='50%'),…"
      ]
     },
     "metadata": {},
     "output_type": "display_data"
    }
   ],
   "source": [
    "movie_plots = movie_plots.map(lambda line: line.split(\"\\t\")).map(lambda a: (int(a[0]),a[1]))\n",
    "movie_plots = movie_plots.sample(withReplacement=False, fraction=0.25)"
   ]
  },
  {
   "cell_type": "code",
   "execution_count": 11,
   "id": "turned-cherry",
   "metadata": {},
   "outputs": [
    {
     "data": {
      "application/vnd.jupyter.widget-view+json": {
       "model_id": "8887da75788648b39d621c3e7c59c0b8",
       "version_major": 2,
       "version_minor": 0
      },
      "text/plain": [
       "VBox()"
      ]
     },
     "metadata": {},
     "output_type": "display_data"
    },
    {
     "data": {
      "application/vnd.jupyter.widget-view+json": {
       "model_id": "",
       "version_major": 2,
       "version_minor": 0
      },
      "text/plain": [
       "FloatProgress(value=0.0, bar_style='info', description='Progress:', layout=Layout(height='25px', width='50%'),…"
      ]
     },
     "metadata": {},
     "output_type": "display_data"
    },
    {
     "name": "stdout",
     "output_type": "stream",
     "text": [
      "[(595909, 'Seventh-day Adventist Church pastor Michael Chamberlain, his wife Lindy, their two sons, and their nine-week-old daughter Azaria are on a camping holiday in the Outback. With the baby sleeping in their tent, the family is enjoying a barbecue with their fellow campers when a cry is heard. Lindy returns to the tent to check on Azaria and is certain she sees a dingo with something in its mouth running off as she approaches. When she discovers the infant is missing, everyone joins forces to search for her, without success. It is assumed what Lindy saw was the animal carrying off the child, and a subsequent inquest rules her account of events is true. The tide of public opinion soon turns against the Chamberlains. For many, Lindy seems too stoic, too cold-hearted, and too accepting of the disaster that has befallen her. Gossip about her begins to swell and soon is accepted as statements of fact. The couple\\'s beliefs are not widely practised in the country, and when the media report a rumour that the name Azaria means \"sacrifice in the wilderness\" , the public is quick to believe they decapitated their baby with a pair of scissors as part of a bizarre religious rite. Law-enforcement officials find new witnesses, forensics experts, and a lot of circumstantial evidence—including a small wooden coffin Michael uses as a receptacle for his parishioners\\' packs of un-smoked cigarettes—and reopen the investigation, and eventually Lindy is charged with murder. Seven months pregnant, she ignores her attorneys\\' advice to play on the jury\\'s sympathy and appears emotionless on the stand, convincing onlookers she is guilty of the crime of which she is accused. As the trial progresses, Michael\\'s faith in his religion and his belief in his wife disintegrate, and he stumbles through his testimony, suggesting he is concealing the truth. In October 1982, Lindy is found guilty and sentenced to life imprisonment with hard labour, while Michael is found guilty as an accessory and given an 18-month suspended sentence. More than three years later, while searching for the body of an English tourist who fell from Uluru, police discover a small item of clothing that is identified as the jacket Lindy had insisted Azaria was wearing over her jumpsuit, which had been recovered early in the investigation. She is immediately released from prison, the case reopened and all convictions against the Chamberlains overturned.')]"
     ]
    }
   ],
   "source": [
    "movie_plots.take(1)"
   ]
  },
  {
   "cell_type": "code",
   "execution_count": 16,
   "id": "generous-pizza",
   "metadata": {},
   "outputs": [
    {
     "data": {
      "application/vnd.jupyter.widget-view+json": {
       "model_id": "d1b10bfcf6d741d38ca6915b02601ea2",
       "version_major": 2,
       "version_minor": 0
      },
      "text/plain": [
       "VBox()"
      ]
     },
     "metadata": {},
     "output_type": "display_data"
    },
    {
     "data": {
      "application/vnd.jupyter.widget-view+json": {
       "model_id": "",
       "version_major": 2,
       "version_minor": 0
      },
      "text/plain": [
       "FloatProgress(value=0.0, bar_style='info', description='Progress:', layout=Layout(height='25px', width='50%'),…"
      ]
     },
     "metadata": {},
     "output_type": "display_data"
    }
   ],
   "source": [
    "def break_k_grams(plot):\n",
    "    shingles = []\n",
    "    for i in range(len(plot)-k_gram_size+1):\n",
    "        shingles.append(plot[i:i+k_gram_size])\n",
    "        \n",
    "    return shingles"
   ]
  },
  {
   "cell_type": "code",
   "execution_count": 17,
   "id": "respiratory-aquarium",
   "metadata": {},
   "outputs": [
    {
     "data": {
      "application/vnd.jupyter.widget-view+json": {
       "model_id": "e6baab7ff2ae420dbda209cf3504c503",
       "version_major": 2,
       "version_minor": 0
      },
      "text/plain": [
       "VBox()"
      ]
     },
     "metadata": {},
     "output_type": "display_data"
    },
    {
     "data": {
      "application/vnd.jupyter.widget-view+json": {
       "model_id": "",
       "version_major": 2,
       "version_minor": 0
      },
      "text/plain": [
       "FloatProgress(value=0.0, bar_style='info', description='Progress:', layout=Layout(height='25px', width='50%'),…"
      ]
     },
     "metadata": {},
     "output_type": "display_data"
    }
   ],
   "source": [
    "movie_shingles = movie_plots.mapValues(break_k_grams)"
   ]
  },
  {
   "cell_type": "code",
   "execution_count": 18,
   "id": "confidential-anger",
   "metadata": {},
   "outputs": [
    {
     "data": {
      "application/vnd.jupyter.widget-view+json": {
       "model_id": "620fa15ec25349569ac120af6813718a",
       "version_major": 2,
       "version_minor": 0
      },
      "text/plain": [
       "VBox()"
      ]
     },
     "metadata": {},
     "output_type": "display_data"
    },
    {
     "data": {
      "application/vnd.jupyter.widget-view+json": {
       "model_id": "",
       "version_major": 2,
       "version_minor": 0
      },
      "text/plain": [
       "FloatProgress(value=0.0, bar_style='info', description='Progress:', layout=Layout(height='25px', width='50%'),…"
      ]
     },
     "metadata": {},
     "output_type": "display_data"
    },
    {
     "name": "stdout",
     "output_type": "stream",
     "text": [
      "[(595909, ['Seventh-d', 'eventh-da', 'venth-day', 'enth-day ', 'nth-day A', 'th-day Ad', 'h-day Adv', '-day Adve', 'day Adven', 'ay Advent', 'y Adventi', ' Adventis', 'Adventist', 'dventist ', 'ventist C', 'entist Ch', 'ntist Chu', 'tist Chur', 'ist Churc', 'st Church', 't Church ', ' Church p', 'Church pa', 'hurch pas', 'urch past', 'rch pasto', 'ch pastor', 'h pastor ', ' pastor M', 'pastor Mi', 'astor Mic', 'stor Mich', 'tor Micha', 'or Michae', 'r Michael', ' Michael ', 'Michael C', 'ichael Ch', 'chael Cha', 'hael Cham', 'ael Chamb', 'el Chambe', 'l Chamber', ' Chamberl', 'Chamberla', 'hamberlai', 'amberlain', 'mberlain,', 'berlain, ', 'erlain, h', 'rlain, hi', 'lain, his', 'ain, his ', 'in, his w', 'n, his wi', ', his wif', ' his wife', 'his wife ', 'is wife L', 's wife Li', ' wife Lin', 'wife Lind', 'ife Lindy', 'fe Lindy,', 'e Lindy, ', ' Lindy, t', 'Lindy, th', 'indy, the', 'ndy, thei', 'dy, their', 'y, their ', ', their t', ' their tw', 'their two', 'heir two ', 'eir two s', 'ir two so', 'r two son', ' two sons', 'two sons,', 'wo sons, ', 'o sons, a', ' sons, an', 'sons, and', 'ons, and ', 'ns, and t', 's, and th', ', and the', ' and thei', 'and their', 'nd their ', 'd their n', ' their ni', 'their nin', 'heir nine', 'eir nine-', 'ir nine-w', 'r nine-we', ' nine-wee', 'nine-week', 'ine-week-', 'ne-week-o', 'e-week-ol', '-week-old', 'week-old ', 'eek-old d', 'ek-old da', 'k-old dau', '-old daug', 'old daugh', 'ld daught', 'd daughte', ' daughter', 'daughter ', 'aughter A', 'ughter Az', 'ghter Aza', 'hter Azar', 'ter Azari', 'er Azaria', 'r Azaria ', ' Azaria a', 'Azaria ar', 'zaria are', 'aria are ', 'ria are o', 'ia are on', 'a are on ', ' are on a', 'are on a ', 're on a c', 'e on a ca', ' on a cam', 'on a camp', 'n a campi', ' a campin', 'a camping', ' camping ', 'camping h', 'amping ho', 'mping hol', 'ping holi', 'ing holid', 'ng holida', 'g holiday', ' holiday ', 'holiday i', 'oliday in', 'liday in ', 'iday in t', 'day in th', 'ay in the', 'y in the ', ' in the O', 'in the Ou', 'n the Out', ' the Outb', 'the Outba', 'he Outbac', 'e Outback', ' Outback.', 'Outback. ', 'utback. W', 'tback. Wi', 'back. Wit', 'ack. With', 'ck. With ', 'k. With t', '. With th', ' With the', 'With the ', 'ith the b', 'th the ba', 'h the bab', ' the baby', 'the baby ', 'he baby s', 'e baby sl', ' baby sle', 'baby slee', 'aby sleep', 'by sleepi', 'y sleepin', ' sleeping', 'sleeping ', 'leeping i', 'eeping in', 'eping in ', 'ping in t', 'ing in th', 'ng in the', 'g in thei', ' in their', 'in their ', 'n their t', ' their te', 'their ten', 'heir tent', 'eir tent,', 'ir tent, ', 'r tent, t', ' tent, th', 'tent, the', 'ent, the ', 'nt, the f', 't, the fa', ', the fam', ' the fami', 'the famil', 'he family', 'e family ', ' family i', 'family is', 'amily is ', 'mily is e', 'ily is en', 'ly is enj', 'y is enjo', ' is enjoy', 'is enjoyi', 's enjoyin', ' enjoying', 'enjoying ', 'njoying a', 'joying a ', 'oying a b', 'ying a ba', 'ing a bar', 'ng a barb', 'g a barbe', ' a barbec', 'a barbecu', ' barbecue', 'barbecue ', 'arbecue w', 'rbecue wi', 'becue wit', 'ecue with', 'cue with ', 'ue with t', 'e with th', ' with the', 'with thei', 'ith their', 'th their ', 'h their f', ' their fe', 'their fel', 'heir fell', 'eir fello', 'ir fellow', 'r fellow ', ' fellow c', 'fellow ca', 'ellow cam', 'llow camp', 'low campe', 'ow camper', 'w campers', ' campers ', 'campers w', 'ampers wh', 'mpers whe', 'pers when', 'ers when ', 'rs when a', 's when a ', ' when a c', 'when a cr', 'hen a cry', 'en a cry ', 'n a cry i', ' a cry is', 'a cry is ', ' cry is h', 'cry is he', 'ry is hea', 'y is hear', ' is heard', 'is heard.', 's heard. ', ' heard. L', 'heard. Li', 'eard. Lin', 'ard. Lind', 'rd. Lindy', 'd. Lindy ', '. Lindy r', ' Lindy re', 'Lindy ret', 'indy retu', 'ndy retur', 'dy return', 'y returns', ' returns ', 'returns t', 'eturns to', 'turns to ', 'urns to t', 'rns to th', 'ns to the', 's to the ', ' to the t', 'to the te', 'o the ten', ' the tent', 'the tent ', 'he tent t', 'e tent to', ' tent to ', 'tent to c', 'ent to ch', 'nt to che', 't to chec', ' to check', 'to check ', 'o check o', ' check on', 'check on ', 'heck on A', 'eck on Az', 'ck on Aza', 'k on Azar', ' on Azari', 'on Azaria', 'n Azaria ', ' Azaria a', 'Azaria an', 'zaria and', 'aria and ', 'ria and i', 'ia and is', 'a and is ', ' and is c', 'and is ce', 'nd is cer', 'd is cert', ' is certa', 'is certai', 's certain', ' certain ', 'certain s', 'ertain sh', 'rtain she', 'tain she ', 'ain she s', 'in she se', 'n she see', ' she sees', 'she sees ', 'he sees a', 'e sees a ', ' sees a d', 'sees a di', 'ees a din', 'es a ding', 's a dingo', ' a dingo ', 'a dingo w', ' dingo wi', 'dingo wit', 'ingo with', 'ngo with ', 'go with s', 'o with so', ' with som', 'with some', 'ith somet', 'th someth', 'h somethi', ' somethin', 'something', 'omething ', 'mething i', 'ething in', 'thing in ', 'hing in i', 'ing in it', 'ng in its', 'g in its ', ' in its m', 'in its mo', 'n its mou', ' its mout', 'its mouth', 'ts mouth ', 's mouth r', ' mouth ru', 'mouth run', 'outh runn', 'uth runni', 'th runnin', 'h running', ' running ', 'running o', 'unning of', 'nning off', 'ning off ', 'ing off a', 'ng off as', 'g off as ', ' off as s', 'off as sh', 'ff as she', 'f as she ', ' as she a', 'as she ap', 's she app', ' she appr', 'she appro', 'he approa', 'e approac', ' approach', 'approache', 'pproaches', 'proaches.', 'roaches. ', 'oaches. W', 'aches. Wh', 'ches. Whe', 'hes. When', 'es. When ', 's. When s', '. When sh', ' When she', 'When she ', 'hen she d', 'en she di', 'n she dis', ' she disc', 'she disco', 'he discov', 'e discove', ' discover', 'discovers', 'iscovers ', 'scovers t', 'covers th', 'overs the', 'vers the ', 'ers the i', 'rs the in', 's the inf', ' the infa', 'the infan', 'he infant', 'e infant ', ' infant i', 'infant is', 'nfant is ', 'fant is m', 'ant is mi', 'nt is mis', 't is miss', ' is missi', 'is missin', 's missing', ' missing,', 'missing, ', 'issing, e', 'ssing, ev', 'sing, eve', 'ing, ever', 'ng, every', 'g, everyo', ', everyon', ' everyone', 'everyone ', 'veryone j', 'eryone jo', 'ryone joi', 'yone join', 'one joins', 'ne joins ', 'e joins f', ' joins fo', 'joins for', 'oins forc', 'ins force', 'ns forces', 's forces ', ' forces t', 'forces to', 'orces to ', 'rces to s', 'ces to se', 'es to sea', 's to sear', ' to searc', 'to search', 'o search ', ' search f', 'search fo', 'earch for', 'arch for ', 'rch for h', 'ch for he', 'h for her', ' for her,', 'for her, ', 'or her, w', 'r her, wi', ' her, wit', 'her, with', 'er, witho', 'r, withou', ', without', ' without ', 'without s', 'ithout su', 'thout suc', 'hout succ', 'out succe', 'ut succes', 't success', ' success.', 'success. ', 'uccess. I', 'ccess. It', 'cess. It ', 'ess. It i', 'ss. It is', 's. It is ', '. It is a', ' It is as', 'It is ass', 't is assu', ' is assum', 'is assume', 's assumed', ' assumed ', 'assumed w', 'ssumed wh', 'sumed wha', 'umed what', 'med what ', 'ed what L', 'd what Li', ' what Lin', 'what Lind', 'hat Lindy', 'at Lindy ', 't Lindy s', ' Lindy sa', 'Lindy saw', 'indy saw ', 'ndy saw w', 'dy saw wa', 'y saw was', ' saw was ', 'saw was t', 'aw was th', 'w was the', ' was the ', 'was the a', 'as the an', 's the ani', ' the anim', 'the anima', 'he animal', 'e animal ', ' animal c', 'animal ca', 'nimal car', 'imal carr', 'mal carry', 'al carryi', 'l carryin', ' carrying', 'carrying ', 'arrying o', 'rrying of', 'rying off', 'ying off ', 'ing off t', 'ng off th', 'g off the', ' off the ', 'off the c', 'ff the ch', 'f the chi', ' the chil', 'the child', 'he child,', 'e child, ', ' child, a', 'child, an', 'hild, and', 'ild, and ', 'ld, and a', 'd, and a ', ', and a s', ' and a su', 'and a sub', 'nd a subs', 'd a subse', ' a subseq', 'a subsequ', ' subseque', 'subsequen', 'ubsequent', 'bsequent ', 'sequent i', 'equent in', 'quent inq', 'uent inqu', 'ent inque', 'nt inques', 't inquest', ' inquest ', 'inquest r', 'nquest ru', 'quest rul', 'uest rule', 'est rules', 'st rules ', 't rules h', ' rules he', 'rules her', 'ules her ', 'les her a', 'es her ac', 's her acc', ' her acco', 'her accou', 'er accoun', 'r account', ' account ', 'account o', 'ccount of', 'count of ', 'ount of e', 'unt of ev', 'nt of eve', 't of even', ' of event', 'of events', 'f events ', ' events i', 'events is', 'vents is ', 'ents is t', 'nts is tr', 'ts is tru', 's is true', ' is true.', 'is true. ', 's true. T', ' true. Th', 'true. The', 'rue. The ', 'ue. The t', 'e. The ti', '. The tid', ' The tide', 'The tide ', 'he tide o', 'e tide of', ' tide of ', 'tide of p', 'ide of pu', 'de of pub', 'e of publ', ' of publi', 'of public', 'f public ', ' public o', 'public op', 'ublic opi', 'blic opin', 'lic opini', 'ic opinio', 'c opinion', ' opinion ', 'opinion s', 'pinion so', 'inion soo', 'nion soon', 'ion soon ', 'on soon t', 'n soon tu', ' soon tur', 'soon turn', 'oon turns', 'on turns ', 'n turns a', ' turns ag', 'turns aga', 'urns agai', 'rns again', 'ns agains', 's against', ' against ', 'against t', 'gainst th', 'ainst the', 'inst the ', 'nst the C', 'st the Ch', 't the Cha', ' the Cham', 'the Chamb', 'he Chambe', 'e Chamber', ' Chamberl', 'Chamberla', 'hamberlai', 'amberlain', 'mberlains', 'berlains.', 'erlains. ', 'rlains. F', 'lains. Fo', 'ains. For', 'ins. For ', 'ns. For m', 's. For ma', '. For man', ' For many', 'For many,', 'or many, ', 'r many, L', ' many, Li', 'many, Lin', 'any, Lind', 'ny, Lindy', 'y, Lindy ', ', Lindy s', ' Lindy se', 'Lindy see', 'indy seem', 'ndy seems', 'dy seems ', 'y seems t', ' seems to', 'seems too', 'eems too ', 'ems too s', 'ms too st', 's too sto', ' too stoi', 'too stoic', 'oo stoic,', 'o stoic, ', ' stoic, t', 'stoic, to', 'toic, too', 'oic, too ', 'ic, too c', 'c, too co', ', too col', ' too cold', 'too cold-', 'oo cold-h', 'o cold-he', ' cold-hea', 'cold-hear', 'old-heart', 'ld-hearte', 'd-hearted', '-hearted,', 'hearted, ', 'earted, a', 'arted, an', 'rted, and', 'ted, and ', 'ed, and t', 'd, and to', ', and too', ' and too ', 'and too a', 'nd too ac', 'd too acc', ' too acce', 'too accep', 'oo accept', 'o accepti', ' acceptin', 'accepting', 'ccepting ', 'cepting o', 'epting of', 'pting of ', 'ting of t', 'ing of th', 'ng of the', 'g of the ', ' of the d', 'of the di', 'f the dis', ' the disa', 'the disas', 'he disast', 'e disaste', ' disaster', 'disaster ', 'isaster t', 'saster th', 'aster tha', 'ster that', 'ter that ', 'er that h', 'r that ha', ' that has', 'that has ', 'hat has b', 'at has be', 't has bef', ' has befa', 'has befal', 'as befall', 's befalle', ' befallen', 'befallen ', 'efallen h', 'fallen he', 'allen her', 'llen her.', 'len her. ', 'en her. G', 'n her. Go', ' her. Gos', 'her. Goss', 'er. Gossi', 'r. Gossip', '. Gossip ', ' Gossip a', 'Gossip ab', 'ossip abo', 'ssip abou', 'sip about', 'ip about ', 'p about h', ' about he', 'about her', 'bout her ', 'out her b', 'ut her be', 't her beg', ' her begi', 'her begin', 'er begins', 'r begins ', ' begins t', 'begins to', 'egins to ', 'gins to s', 'ins to sw', 'ns to swe', 's to swel', ' to swell', 'to swell ', 'o swell a', ' swell an', 'swell and', 'well and ', 'ell and s', 'll and so', 'l and soo', ' and soon', 'and soon ', 'nd soon i', 'd soon is', ' soon is ', 'soon is a', 'oon is ac', 'on is acc', 'n is acce', ' is accep', 'is accept', 's accepte', ' accepted', 'accepted ', 'ccepted a', 'cepted as', 'epted as ', 'pted as s', 'ted as st', 'ed as sta', 'd as stat', ' as state', 'as statem', 's stateme', ' statemen', 'statement', 'tatements', 'atements ', 'tements o', 'ements of', 'ments of ', 'ents of f', 'nts of fa', 'ts of fac', 's of fact', ' of fact.', 'of fact. ', 'f fact. T', ' fact. Th', 'fact. The', 'act. The ', 'ct. The c', 't. The co', '. The cou', ' The coup', 'The coupl', 'he couple', \"e couple'\", \" couple's\", \"couple's \", \"ouple's b\", \"uple's be\", \"ple's bel\", \"le's beli\", \"e's belie\", \"'s belief\", 's beliefs', ' beliefs ', 'beliefs a', 'eliefs ar', 'liefs are', 'iefs are ', 'efs are n', 'fs are no', 's are not', ' are not ', 'are not w', 're not wi', 'e not wid', ' not wide', 'not widel', 'ot widely', 't widely ', ' widely p', 'widely pr', 'idely pra', 'dely prac', 'ely pract', 'ly practi', 'y practis', ' practise', 'practised', 'ractised ', 'actised i', 'ctised in', 'tised in ', 'ised in t', 'sed in th', 'ed in the', 'd in the ', ' in the c', 'in the co', 'n the cou', ' the coun', 'the count', 'he countr', 'e country', ' country,', 'country, ', 'ountry, a', 'untry, an', 'ntry, and', 'try, and ', 'ry, and w', 'y, and wh', ', and whe', ' and when', 'and when ', 'nd when t', 'd when th', ' when the', 'when the ', 'hen the m', 'en the me', 'n the med', ' the medi', 'the media', 'he media ', 'e media r', ' media re', 'media rep', 'edia repo', 'dia repor', 'ia report', 'a report ', ' report a', 'report a ', 'eport a r', 'port a ru', 'ort a rum', 'rt a rumo', 't a rumou', ' a rumour', 'a rumour ', ' rumour t', 'rumour th', 'umour tha', 'mour that', 'our that ', 'ur that t', 'r that th', ' that the', 'that the ', 'hat the n', 'at the na', 't the nam', ' the name', 'the name ', 'he name A', 'e name Az', ' name Aza', 'name Azar', 'ame Azari', 'me Azaria', 'e Azaria ', ' Azaria m', 'Azaria me', 'zaria mea', 'aria mean', 'ria means', 'ia means ', 'a means \"', ' means \"s', 'means \"sa', 'eans \"sac', 'ans \"sacr', 'ns \"sacri', 's \"sacrif', ' \"sacrifi', '\"sacrific', 'sacrifice', 'acrifice ', 'crifice i', 'rifice in', 'ifice in ', 'fice in t', 'ice in th', 'ce in the', 'e in the ', ' in the w', 'in the wi', 'n the wil', ' the wild', 'the wilde', 'he wilder', 'e wildern', ' wilderne', 'wildernes', 'ilderness', 'lderness\"', 'derness\" ', 'erness\" ,', 'rness\" , ', 'ness\" , t', 'ess\" , th', 'ss\" , the', 's\" , the ', '\" , the p', ' , the pu', ', the pub', ' the publ', 'the publi', 'he public', 'e public ', ' public i', 'public is', 'ublic is ', 'blic is q', 'lic is qu', 'ic is qui', 'c is quic', ' is quick', 'is quick ', 's quick t', ' quick to', 'quick to ', 'uick to b', 'ick to be', 'ck to bel', 'k to beli', ' to belie', 'to believ', 'o believe', ' believe ', 'believe t', 'elieve th', 'lieve the', 'ieve they', 'eve they ', 've they d', 'e they de', ' they dec', 'they deca', 'hey decap', 'ey decapi', 'y decapit', ' decapita', 'decapitat', 'ecapitate', 'capitated', 'apitated ', 'pitated t', 'itated th', 'tated the', 'ated thei', 'ted their', 'ed their ', 'd their b', ' their ba', 'their bab', 'heir baby', 'eir baby ', 'ir baby w', 'r baby wi', ' baby wit', 'baby with', 'aby with ', 'by with a', 'y with a ', ' with a p', 'with a pa', 'ith a pai', 'th a pair', 'h a pair ', ' a pair o', 'a pair of', ' pair of ', 'pair of s', 'air of sc', 'ir of sci', 'r of scis', ' of sciss', 'of scisso', 'f scissor', ' scissors', 'scissors ', 'cissors a', 'issors as', 'ssors as ', 'sors as p', 'ors as pa', 'rs as par', 's as part', ' as part ', 'as part o', 's part of', ' part of ', 'part of a', 'art of a ', 'rt of a b', 't of a bi', ' of a biz', 'of a biza', 'f a bizar', ' a bizarr', 'a bizarre', ' bizarre ', 'bizarre r', 'izarre re', 'zarre rel', 'arre reli', 'rre relig', 're religi', 'e religio', ' religiou', 'religious', 'eligious ', 'ligious r', 'igious ri', 'gious rit', 'ious rite', 'ous rite.', 'us rite. ', 's rite. L', ' rite. La', 'rite. Law', 'ite. Law-', 'te. Law-e', 'e. Law-en', '. Law-enf', ' Law-enfo', 'Law-enfor', 'aw-enforc', 'w-enforce', '-enforcem', 'enforceme', 'nforcemen', 'forcement', 'orcement ', 'rcement o', 'cement of', 'ement off', 'ment offi', 'ent offic', 'nt offici', 't officia', ' official', 'officials', 'fficials ', 'ficials f', 'icials fi', 'cials fin', 'ials find', 'als find ', 'ls find n', 's find ne', ' find new', 'find new ', 'ind new w', 'nd new wi', 'd new wit', ' new witn', 'new witne', 'ew witnes', 'w witness', ' witnesse', 'witnesses', 'itnesses,', 'tnesses, ', 'nesses, f', 'esses, fo', 'sses, for', 'ses, fore', 'es, foren', 's, forens', ', forensi', ' forensic', 'forensics', 'orensics ', 'rensics e', 'ensics ex', 'nsics exp', 'sics expe', 'ics exper', 'cs expert', 's experts', ' experts,', 'experts, ', 'xperts, a', 'perts, an', 'erts, and', 'rts, and ', 'ts, and a', 's, and a ', ', and a l', ' and a lo', 'and a lot', 'nd a lot ', 'd a lot o', ' a lot of', 'a lot of ', ' lot of c', 'lot of ci', 'ot of cir', 't of circ', ' of circu', 'of circum', 'f circums', ' circumst', 'circumsta', 'ircumstan', 'rcumstant', 'cumstanti', 'umstantia', 'mstantial', 'stantial ', 'tantial e', 'antial ev', 'ntial evi', 'tial evid', 'ial evide', 'al eviden', 'l evidenc', ' evidence', 'evidence—', 'vidence—i', 'idence—in', 'dence—inc', 'ence—incl', 'nce—inclu', 'ce—includ', 'e—includi', '—includin', 'including', 'ncluding ', 'cluding a', 'luding a ', 'uding a s', 'ding a sm', 'ing a sma', 'ng a smal', 'g a small', ' a small ', 'a small w', ' small wo', 'small woo', 'mall wood', 'all woode', 'll wooden', 'l wooden ', ' wooden c', 'wooden co', 'ooden cof', 'oden coff', 'den coffi', 'en coffin', 'n coffin ', ' coffin M', 'coffin Mi', 'offin Mic', 'ffin Mich', 'fin Micha', 'in Michae', 'n Michael', ' Michael ', 'Michael u', 'ichael us', 'chael use', 'hael uses', 'ael uses ', 'el uses a', 'l uses as', ' uses as ', 'uses as a', 'ses as a ', 'es as a r', 's as a re', ' as a rec', 'as a rece', 's a recep', ' a recept', 'a recepta', ' receptac', 'receptacl', 'eceptacle', 'ceptacle ', 'eptacle f', 'ptacle fo', 'tacle for', 'acle for ', 'cle for h', 'le for hi', 'e for his', ' for his ', 'for his p', 'or his pa', 'r his par', ' his pari', 'his paris', 'is parish', 's parishi', ' parishio', 'parishion', 'arishione', 'rishioner', 'ishioners', \"shioners'\", \"hioners' \", \"ioners' p\", \"oners' pa\", \"ners' pac\", \"ers' pack\", \"rs' packs\", \"s' packs \", \"' packs o\", ' packs of', 'packs of ', 'acks of u', 'cks of un', 'ks of un-', 's of un-s', ' of un-sm', 'of un-smo', 'f un-smok', ' un-smoke', 'un-smoked', 'n-smoked ', '-smoked c', 'smoked ci', 'moked cig', 'oked ciga', 'ked cigar', 'ed cigare', 'd cigaret', ' cigarett', 'cigarette', 'igarettes', 'garettes—', 'arettes—a', 'rettes—an', 'ettes—and', 'ttes—and ', 'tes—and r', 'es—and re', 's—and reo', '—and reop', 'and reope', 'nd reopen', 'd reopen ', ' reopen t', 'reopen th', 'eopen the', 'open the ', 'pen the i', 'en the in', 'n the inv', ' the inve', 'the inves', 'he invest', 'e investi', ' investig', 'investiga', 'nvestigat', 'vestigati', 'estigatio', 'stigation', 'tigation,', 'igation, ', 'gation, a', 'ation, an', 'tion, and', 'ion, and ', 'on, and e', 'n, and ev', ', and eve', ' and even', 'and event', 'nd eventu', 'd eventua', ' eventual', 'eventuall', 'ventually', 'entually ', 'ntually L', 'tually Li', 'ually Lin', 'ally Lind', 'lly Lindy', 'ly Lindy ', 'y Lindy i', ' Lindy is', 'Lindy is ', 'indy is c', 'ndy is ch', 'dy is cha', 'y is char', ' is charg', 'is charge', 's charged', ' charged ', 'charged w', 'harged wi', 'arged wit', 'rged with', 'ged with ', 'ed with m', 'd with mu', ' with mur', 'with murd', 'ith murde', 'th murder', 'h murder.', ' murder. ', 'murder. S', 'urder. Se', 'rder. Sev', 'der. Seve', 'er. Seven', 'r. Seven ', '. Seven m', ' Seven mo', 'Seven mon', 'even mont', 'ven month', 'en months', 'n months ', ' months p', 'months pr', 'onths pre', 'nths preg', 'ths pregn', 'hs pregna', 's pregnan', ' pregnant', 'pregnant,', 'regnant, ', 'egnant, s', 'gnant, sh', 'nant, she', 'ant, she ', 'nt, she i', 't, she ig', ', she ign', ' she igno', 'she ignor', 'he ignore', 'e ignores', ' ignores ', 'ignores h', 'gnores he', 'nores her', 'ores her ', 'res her a', 'es her at', 's her att', ' her atto', 'her attor', 'er attorn', 'r attorne', ' attorney', 'attorneys', \"ttorneys'\", \"torneys' \", \"orneys' a\", \"rneys' ad\", \"neys' adv\", \"eys' advi\", \"ys' advic\", \"s' advice\", \"' advice \", ' advice t', 'advice to', 'dvice to ', 'vice to p', 'ice to pl', 'ce to pla', 'e to play', ' to play ', 'to play o', 'o play on', ' play on ', 'play on t', 'lay on th', 'ay on the', 'y on the ', ' on the j', 'on the ju', 'n the jur', ' the jury', \"the jury'\", \"he jury's\", \"e jury's \", \" jury's s\", \"jury's sy\", \"ury's sym\", \"ry's symp\", \"y's sympa\", \"'s sympat\", 's sympath', ' sympathy', 'sympathy ', 'ympathy a', 'mpathy an', 'pathy and', 'athy and ', 'thy and a', 'hy and ap', 'y and app', ' and appe', 'and appea', 'nd appear', 'd appears', ' appears ', 'appears e', 'ppears em', 'pears emo', 'ears emot', 'ars emoti', 'rs emotio', 's emotion', ' emotionl', 'emotionle', 'motionles', 'otionless', 'tionless ', 'ionless o', 'onless on', 'nless on ', 'less on t', 'ess on th', 'ss on the', 's on the ', ' on the s', 'on the st', 'n the sta', ' the stan', 'the stand', 'he stand,', 'e stand, ', ' stand, c', 'stand, co', 'tand, con', 'and, conv', 'nd, convi', 'd, convin', ', convinc', ' convinci', 'convincin', 'onvincing', 'nvincing ', 'vincing o', 'incing on', 'ncing onl', 'cing onlo', 'ing onloo', 'ng onlook', 'g onlooke', ' onlooker', 'onlookers', 'nlookers ', 'lookers s', 'ookers sh', 'okers she', 'kers she ', 'ers she i', 'rs she is', 's she is ', ' she is g', 'she is gu', 'he is gui', 'e is guil', ' is guilt', 'is guilty', 's guilty ', ' guilty o', 'guilty of', 'uilty of ', 'ilty of t', 'lty of th', 'ty of the', 'y of the ', ' of the c', 'of the cr', 'f the cri', ' the crim', 'the crime', 'he crime ', 'e crime o', ' crime of', 'crime of ', 'rime of w', 'ime of wh', 'me of whi', 'e of whic', ' of which', 'of which ', 'f which s', ' which sh', 'which she', 'hich she ', 'ich she i', 'ch she is', 'h she is ', ' she is a', 'she is ac', 'he is acc', 'e is accu', ' is accus', 'is accuse', 's accused', ' accused.', 'accused. ', 'ccused. A', 'cused. As', 'used. As ', 'sed. As t', 'ed. As th', 'd. As the', '. As the ', ' As the t', 'As the tr', 's the tri', ' the tria', 'the trial', 'he trial ', 'e trial p', ' trial pr', 'trial pro', 'rial prog', 'ial progr', 'al progre', 'l progres', ' progress', 'progresse', 'rogresses', 'ogresses,', 'gresses, ', 'resses, M', 'esses, Mi', 'sses, Mic', 'ses, Mich', 'es, Micha', 's, Michae', ', Michael', \" Michael'\", \"Michael's\", \"ichael's \", \"chael's f\", \"hael's fa\", \"ael's fai\", \"el's fait\", \"l's faith\", \"'s faith \", 's faith i', ' faith in', 'faith in ', 'aith in h', 'ith in hi', 'th in his', 'h in his ', ' in his r', 'in his re', 'n his rel', ' his reli', 'his relig', 'is religi', 's religio', ' religion', 'religion ', 'eligion a', 'ligion an', 'igion and', 'gion and ', 'ion and h', 'on and hi', 'n and his', ' and his ', 'and his b', 'nd his be', 'd his bel', ' his beli', 'his belie', 'is belief', 's belief ', ' belief i', 'belief in', 'elief in ', 'lief in h', 'ief in hi', 'ef in his', 'f in his ', ' in his w', 'in his wi', 'n his wif', ' his wife', 'his wife ', 'is wife d', 's wife di', ' wife dis', 'wife disi', 'ife disin', 'fe disint', 'e disinte', ' disinteg', 'disintegr', 'isintegra', 'sintegrat', 'integrate', 'ntegrate,', 'tegrate, ', 'egrate, a', 'grate, an', 'rate, and', 'ate, and ', 'te, and h', 'e, and he', ', and he ', ' and he s', 'and he st', 'nd he stu', 'd he stum', ' he stumb', 'he stumbl', 'e stumble', ' stumbles', 'stumbles ', 'tumbles t', 'umbles th', 'mbles thr', 'bles thro', 'les throu', 'es throug', 's through', ' through ', 'through h', 'hrough hi', 'rough his', 'ough his ', 'ugh his t', 'gh his te', 'h his tes', ' his test', 'his testi', 'is testim', 's testimo', ' testimon', 'testimony', 'estimony,', 'stimony, ', 'timony, s', 'imony, su', 'mony, sug', 'ony, sugg', 'ny, sugge', 'y, sugges', ', suggest', ' suggesti', 'suggestin', 'uggesting', 'ggesting ', 'gesting h', 'esting he', 'sting he ', 'ting he i', 'ing he is', 'ng he is ', 'g he is c', ' he is co', 'he is con', 'e is conc', ' is conce', 'is concea', 's conceal', ' conceali', 'concealin', 'oncealing', 'ncealing ', 'cealing t', 'ealing th', 'aling the', 'ling the ', 'ing the t', 'ng the tr', 'g the tru', ' the trut', 'the truth', 'he truth.', 'e truth. ', ' truth. I', 'truth. In', 'ruth. In ', 'uth. In O', 'th. In Oc', 'h. In Oct', '. In Octo', ' In Octob', 'In Octobe', 'n October', ' October ', 'October 1', 'ctober 19', 'tober 198', 'ober 1982', 'ber 1982,', 'er 1982, ', 'r 1982, L', ' 1982, Li', '1982, Lin', '982, Lind', '82, Lindy', '2, Lindy ', ', Lindy i', ' Lindy is', 'Lindy is ', 'indy is f', 'ndy is fo', 'dy is fou', 'y is foun', ' is found', 'is found ', 's found g', ' found gu', 'found gui', 'ound guil', 'und guilt', 'nd guilty', 'd guilty ', ' guilty a', 'guilty an', 'uilty and', 'ilty and ', 'lty and s', 'ty and se', 'y and sen', ' and sent', 'and sente', 'nd senten', 'd sentenc', ' sentence', 'sentenced', 'entenced ', 'ntenced t', 'tenced to', 'enced to ', 'nced to l', 'ced to li', 'ed to lif', 'd to life', ' to life ', 'to life i', 'o life im', ' life imp', 'life impr', 'ife impri', 'fe impris', 'e impriso', ' imprison', 'imprisonm', 'mprisonme', 'prisonmen', 'risonment', 'isonment ', 'sonment w', 'onment wi', 'nment wit', 'ment with', 'ent with ', 'nt with h', 't with ha', ' with har', 'with hard', 'ith hard ', 'th hard l', 'h hard la', ' hard lab', 'hard labo', 'ard labou', 'rd labour', 'd labour,', ' labour, ', 'labour, w', 'abour, wh', 'bour, whi', 'our, whil', 'ur, while', 'r, while ', ', while M', ' while Mi', 'while Mic', 'hile Mich', 'ile Micha', 'le Michae', 'e Michael', ' Michael ', 'Michael i', 'ichael is', 'chael is ', 'hael is f', 'ael is fo', 'el is fou', 'l is foun', ' is found', 'is found ', 's found g', ' found gu', 'found gui', 'ound guil', 'und guilt', 'nd guilty', 'd guilty ', ' guilty a', 'guilty as', 'uilty as ', 'ilty as a', 'lty as an', 'ty as an ', 'y as an a', ' as an ac', 'as an acc', 's an acce', ' an acces', 'an access', 'n accesso', ' accessor', 'accessory', 'ccessory ', 'cessory a', 'essory an', 'ssory and', 'sory and ', 'ory and g', 'ry and gi', 'y and giv', ' and give', 'and given', 'nd given ', 'd given a', ' given an', 'given an ', 'iven an 1', 'ven an 18', 'en an 18-', 'n an 18-m', ' an 18-mo', 'an 18-mon', 'n 18-mont', ' 18-month', '18-month ', '8-month s', '-month su', 'month sus', 'onth susp', 'nth suspe', 'th suspen', 'h suspend', ' suspende', 'suspended', 'uspended ', 'spended s', 'pended se', 'ended sen', 'nded sent', 'ded sente', 'ed senten', 'd sentenc', ' sentence', 'sentence.', 'entence. ', 'ntence. M', 'tence. Mo', 'ence. Mor', 'nce. More', 'ce. More ', 'e. More t', '. More th', ' More tha', 'More than', 'ore than ', 're than t', 'e than th', ' than thr', 'than thre', 'han three', 'an three ', 'n three y', ' three ye', 'three yea', 'hree year', 'ree years', 'ee years ', 'e years l', ' years la', 'years lat', 'ears late', 'ars later', 'rs later,', 's later, ', ' later, w', 'later, wh', 'ater, whi', 'ter, whil', 'er, while', 'r, while ', ', while s', ' while se', 'while sea', 'hile sear', 'ile searc', 'le search', 'e searchi', ' searchin', 'searching', 'earching ', 'arching f', 'rching fo', 'ching for', 'hing for ', 'ing for t', 'ng for th', 'g for the', ' for the ', 'for the b', 'or the bo', 'r the bod', ' the body', 'the body ', 'he body o', 'e body of', ' body of ', 'body of a', 'ody of an', 'dy of an ', 'y of an E', ' of an En', 'of an Eng', 'f an Engl', ' an Engli', 'an Englis', 'n English', ' English ', 'English t', 'nglish to', 'glish tou', 'lish tour', 'ish touri', 'sh touris', 'h tourist', ' tourist ', 'tourist w', 'ourist wh', 'urist who', 'rist who ', 'ist who f', 'st who fe', 't who fel', ' who fell', 'who fell ', 'ho fell f', 'o fell fr', ' fell fro', 'fell from', 'ell from ', 'll from U', 'l from Ul', ' from Ulu', 'from Ulur', 'rom Uluru', 'om Uluru,', 'm Uluru, ', ' Uluru, p', 'Uluru, po', 'luru, pol', 'uru, poli', 'ru, polic', 'u, police', ', police ', ' police d', 'police di', 'olice dis', 'lice disc', 'ice disco', 'ce discov', 'e discove', ' discover', 'discover ', 'iscover a', 'scover a ', 'cover a s', 'over a sm', 'ver a sma', 'er a smal', 'r a small', ' a small ', 'a small i', ' small it', 'small ite', 'mall item', 'all item ', 'll item o', 'l item of', ' item of ', 'item of c', 'tem of cl', 'em of clo', 'm of clot', ' of cloth', 'of clothi', 'f clothin', ' clothing', 'clothing ', 'lothing t', 'othing th', 'thing tha', 'hing that', 'ing that ', 'ng that i', 'g that is', ' that is ', 'that is i', 'hat is id', 'at is ide', 't is iden', ' is ident', 'is identi', 's identif', ' identifi', 'identifie', 'dentified', 'entified ', 'ntified a', 'tified as', 'ified as ', 'fied as t', 'ied as th', 'ed as the', 'd as the ', ' as the j', 'as the ja', 's the jac', ' the jack', 'the jacke', 'he jacket', 'e jacket ', ' jacket L', 'jacket Li', 'acket Lin', 'cket Lind', 'ket Lindy', 'et Lindy ', 't Lindy h', ' Lindy ha', 'Lindy had', 'indy had ', 'ndy had i', 'dy had in', 'y had ins', ' had insi', 'had insis', 'ad insist', 'd insiste', ' insisted', 'insisted ', 'nsisted A', 'sisted Az', 'isted Aza', 'sted Azar', 'ted Azari', 'ed Azaria', 'd Azaria ', ' Azaria w', 'Azaria wa', 'zaria was', 'aria was ', 'ria was w', 'ia was we', 'a was wea', ' was wear', 'was weari', 'as wearin', 's wearing', ' wearing ', 'wearing o', 'earing ov', 'aring ove', 'ring over', 'ing over ', 'ng over h', 'g over he', ' over her', 'over her ', 'ver her j', 'er her ju', 'r her jum', ' her jump', 'her jumps', 'er jumpsu', 'r jumpsui', ' jumpsuit', 'jumpsuit,', 'umpsuit, ', 'mpsuit, w', 'psuit, wh', 'suit, whi', 'uit, whic', 'it, which', 't, which ', ', which h', ' which ha', 'which had', 'hich had ', 'ich had b', 'ch had be', 'h had bee', ' had been', 'had been ', 'ad been r', 'd been re', ' been rec', 'been reco', 'een recov', 'en recove', 'n recover', ' recovere', 'recovered', 'ecovered ', 'covered e', 'overed ea', 'vered ear', 'ered earl', 'red early', 'ed early ', 'd early i', ' early in', 'early in ', 'arly in t', 'rly in th', 'ly in the', 'y in the ', ' in the i', 'in the in', 'n the inv', ' the inve', 'the inves', 'he invest', 'e investi', ' investig', 'investiga', 'nvestigat', 'vestigati', 'estigatio', 'stigation', 'tigation.', 'igation. ', 'gation. S', 'ation. Sh', 'tion. She', 'ion. She ', 'on. She i', 'n. She is', '. She is ', ' She is i', 'She is im', 'he is imm', 'e is imme', ' is immed', 'is immedi', 's immedia', ' immediat', 'immediate', 'mmediatel', 'mediately', 'ediately ', 'diately r', 'iately re', 'ately rel', 'tely rele', 'ely relea', 'ly releas', 'y release', ' released', 'released ', 'eleased f', 'leased fr', 'eased fro', 'ased from', 'sed from ', 'ed from p', 'd from pr', ' from pri', 'from pris', 'rom priso', 'om prison', 'm prison,', ' prison, ', 'prison, t', 'rison, th', 'ison, the', 'son, the ', 'on, the c', 'n, the ca', ', the cas', ' the case', 'the case ', 'he case r', 'e case re', ' case reo', 'case reop', 'ase reope', 'se reopen', 'e reopene', ' reopened', 'reopened ', 'eopened a', 'opened an', 'pened and', 'ened and ', 'ned and a', 'ed and al', 'd and all', ' and all ', 'and all c', 'nd all co', 'd all con', ' all conv', 'all convi', 'll convic', 'l convict', ' convicti', 'convictio', 'onviction', 'nvictions', 'victions ', 'ictions a', 'ctions ag', 'tions aga', 'ions agai', 'ons again', 'ns agains', 's against', ' against ', 'against t', 'gainst th', 'ainst the', 'inst the ', 'nst the C', 'st the Ch', 't the Cha', ' the Cham', 'the Chamb', 'he Chambe', 'e Chamber', ' Chamberl', 'Chamberla', 'hamberlai', 'amberlain', 'mberlains', 'berlains ', 'erlains o', 'rlains ov', 'lains ove', 'ains over', 'ins overt', 'ns overtu', 's overtur', ' overturn', 'overturne', 'verturned', 'erturned.'])]"
     ]
    }
   ],
   "source": [
    "movie_shingles.take(1)\n"
   ]
  },
  {
   "cell_type": "code",
   "execution_count": 29,
   "id": "veterinary-retro",
   "metadata": {},
   "outputs": [
    {
     "data": {
      "application/vnd.jupyter.widget-view+json": {
       "model_id": "d72254ac60c842e189bbfba35da4e4d9",
       "version_major": 2,
       "version_minor": 0
      },
      "text/plain": [
       "VBox()"
      ]
     },
     "metadata": {},
     "output_type": "display_data"
    },
    {
     "data": {
      "application/vnd.jupyter.widget-view+json": {
       "model_id": "",
       "version_major": 2,
       "version_minor": 0
      },
      "text/plain": [
       "FloatProgress(value=0.0, bar_style='info', description='Progress:', layout=Layout(height='25px', width='50%'),…"
      ]
     },
     "metadata": {},
     "output_type": "display_data"
    },
    {
     "name": "stdout",
     "output_type": "stream",
     "text": [
      "[(595909, [1610381, 2963522, 3536910, 7559499, 7886662, 8373689, 8821477, 10218147, 10915134, 21712442, 23441207, 23441207, 23441207, 25062129, 25398113, 25831237, 26640185, 28906870, 31743004, 32290540, 35522016, 37150410, 38832472, 39395145, 39718398, 41425136, 43724211, 44177293, 46442968, 47314876, 49333193, 54924571, 56544702, 63721437, 64293408, 64864531, 65946554, 68339776, 73081184, 74760099, 75586681, 75860616, 75904518, 77453027, 78778116, 79044156, 80555416, 82175385, 82645097, 82645097, 86035008, 87872340, 89874163, 92004528, 93995139, 94292776, 94875194, 99914756, 100597461, 103026509, 106125609, 108612517, 109350610, 110864760, 112843591, 120966122, 122634625, 123410125, 128062083, 128949401, 129301358, 135401296, 137952751, 146235470, 146267853, 146382614, 149369257, 149406614, 151743082, 156822706, 156942617, 158215518, 160301258, 160747259, 161834125, 162889582, 163659722, 164070859, 164486573, 165522735, 167963727, 168102981, 169484113, 169718088, 173442562, 176924592, 177333106, 177956177, 180744419, 181467697, 183497245, 184370334, 189726655, 193067315, 193384031, 197244721, 200890532, 203658209, 207083954, 207984339, 211601755, 212967401, 217853579, 218713689, 219092636, 220409499, 221034991, 221176564, 221545262, 222815287, 224246811, 225197374, 232189864, 235523455, 237378698, 243025938, 244167588, 244752101, 244821763, 245429787, 249703493, 250495475, 250704505, 251814608, 252325427, 253512029, 253685402, 255036330, 259641497, 265514296, 267258390, 268447518, 269407751, 271271682, 271271682, 271963943, 272824285, 273857238, 277486722, 280212056, 280700888, 283378836, 283487404, 284750923, 285779899, 286338089, 287756617, 292479130, 294797984, 298359295, 301462984, 302446645, 302640710, 303499727, 304877587, 305483536, 307740401, 312720076, 313776563, 318110977, 320800402, 326370758, 326957234, 328941724, 332259066, 333984595, 334971972, 335050668, 335190913, 336533276, 337914925, 338097953, 340358983, 340580681, 340880040, 341032070, 341066169, 342658238, 343651798, 344336347, 347895225, 349107541, 352935109, 353869346, 356069419, 357070670, 360171048, 363342275, 364838002, 370114698, 378440770, 379198181, 381399237, 382236694, 384916767, 386162520, 388404541, 389728267, 390619752, 390963685, 393183869, 393970831, 394166759, 394363621, 398394834, 400298147, 400309638, 400362116, 402356228, 405354729, 408561986, 410008599, 411890016, 415492929, 417008895, 417952931, 419179647, 421383280, 423381134, 423694672, 424769374, 425090823, 426140622, 427269874, 427438144, 429554456, 431144097, 438893761, 439662398, 441621534, 444694953, 444791870, 450057452, 452488990, 452546383, 452880750, 452910354, 453685231, 456140509, 457247227, 457961484, 463008222, 463563922, 464271835, 465725052, 466923580, 472155743, 472311467, 473038714, 473868893, 476344009, 480539548, 489648574, 492591759, 492629434, 494008692, 495265579, 495561214, 499302918, 499324520, 499584909, 502013720, 502156808, 502509871, 503809790, 504330782, 504651310, 504664600, 506174959, 509827180, 509999384, 512044577, 512261703, 515582725, 519773764, 520920843, 524721145, 528589030, 532387112, 534740028, 537745909, 538002566, 539525223, 541071471, 541756934, 544168050, 545742134, 547775338, 549354646, 554273198, 555525325, 560198735, 561876123, 563690361, 565556685, 566312497, 566463091, 568219006, 573690922, 574496030, 577098577, 577596449, 577676870, 578574449, 579263161, 581417135, 582078124, 582397788, 584295690, 584943417, 585844623, 586641459, 586641459, 588996744, 589778945, 590213934, 591683507, 593160008, 596282175, 598305746, 599690273, 602602903, 602887877, 603150347, 603150347, 603485644, 604065209, 604510285, 604842248, 605195953, 609224654, 609468545, 610492077, 610854276, 611155442, 611457192, 612813418, 614552178, 616270101, 616297411, 616297411, 616912383, 619964145, 621456394, 622002643, 623700344, 625866017, 629026173, 630847652, 631885657, 633578519, 637982600, 641235683, 643156941, 645192990, 645815617, 646389584, 646611690, 650737922, 651428736, 651779755, 653155167, 653694946, 653965957, 654930867, 656629475, 657216681, 658430368, 659763854, 663996303, 663996303, 664828995, 668543213, 669399836, 671076752, 671222046, 672349310, 673749511, 676573316, 676943204, 678484908, 678696187, 681100790, 682417008, 683366250, 683704179, 687207378, 687403572, 687905402, 692187707, 698350310, 702132083, 702745116, 705842912, 705842912, 707406491, 708322281, 712328310, 715188046, 717984347, 718523999, 721232356, 721658296, 722094550, 722457857, 725388423, 726136831, 726356591, 727623562, 728563462, 729473444, 730423681, 737314563, 739052144, 742488607, 742920527, 745913293, 750076865, 751901139, 753277744, 757731747, 758151380, 758788199, 759251282, 767261136, 771712619, 772063524, 772176986, 772401840, 775229778, 775229778, 776525840, 777996571, 781772424, 784947781, 785774210, 787590098, 788524092, 794240950, 796088918, 799945026, 806331390, 806421865, 806427315, 809893471, 814223549, 816484763, 819597199, 819968681, 821319897, 826922284, 828105633, 828593106, 829111304, 833586460, 834555678, 837121340, 838985318, 839960808, 843058490, 843134649, 847007187, 847143403, 853257762, 854085354, 854839742, 858172914, 861202135, 862439533, 863300752, 872131680, 875356544, 875357933, 878643865, 881000583, 882015957, 883506368, 884869250, 885471488, 888250253, 888554450, 889564861, 894674703, 894789102, 897322337, 900773976, 906205569, 907196051, 912654568, 913004937, 915467484, 915510551, 916391804, 917941457, 918784440, 919998579, 921789332, 921789332, 925529878, 928813639, 929142246, 943040859, 946933264, 948880465, 949412026, 951284717, 952230186, 956359879, 956609973, 957687726, 961934850, 962524540, 964658080, 964685271, 972181116, 973509768, 974846823, 975491534, 978970472, 982551583, 983418535, 984350936, 986242849, 987210735, 991793855, 992500640, 994008818, 995034016, 995483134, 996362172, 996382478, 997479656, 997790762, 998480238, 1001300158, 1005315275, 1006769002, 1007078894, 1007116548, 1008473899, 1008673536, 1015082138, 1015432108, 1016053479, 1017916766, 1019212812, 1021435502, 1021599651, 1021663838, 1024372020, 1025061080, 1026339754, 1026930180, 1027677674, 1031840398, 1033610673, 1035107336, 1035375298, 1035974400, 1037279600, 1039189742, 1041806794, 1047629528, 1049078864, 1050222468, 1051188626, 1051838366, 1052680367, 1053195394, 1054121880, 1056219636, 1056219636, 1056437973, 1060374273, 1061921352, 1063766567, 1072455825, 1072565111, 1074855134, 1074982109, 1076080453, 1080874627, 1081112406, 1081206056, 1083365643, 1084797370, 1086004760, 1094509199, 1094648589, 1095005312, 1095881608, 1098638285, 1101875308, 1102150580, 1103909056, 1115491243, 1115978141, 1117108855, 1117548303, 1119533721, 1119649709, 1122522749, 1123011730, 1126609960, 1127006694, 1130192759, 1132257548, 1132732678, 1135857624, 1135857624, 1141733926, 1142765700, 1144273237, 1145880883, 1147817143, 1152037807, 1153366893, 1153920982, 1159164787, 1163125499, 1163165779, 1164146569, 1172309949, 1175221285, 1175324469, 1175334793, 1175683389, 1178010878, 1178049412, 1178297555, 1179535480, 1180646626, 1181338059, 1186102526, 1187506249, 1188528460, 1195634662, 1197137957, 1197455120, 1197677127, 1198852944, 1199734846, 1204380093, 1204861223, 1205487553, 1205792630, 1206139791, 1209172186, 1212420306, 1214438505, 1216381302, 1219286235, 1223578069, 1224638302, 1229441053, 1235854723, 1237388064, 1237899432, 1243968856, 1247144771, 1248881862, 1252580059, 1253398513, 1254426502, 1255624935, 1255698068, 1257940026, 1258013262, 1258986155, 1266254646, 1268832097, 1271059283, 1271897805, 1272691011, 1273324652, 1274232475, 1276276643, 1277711133, 1285048637, 1285217189, 1285870206, 1287163340, 1293031828, 1299177736, 1300352879, 1301002643, 1304023249, 1307226634, 1308289317, 1311356077, 1312817471, 1318729807, 1319227836, 1320644597, 1322293939, 1325178294, 1325709262, 1326034063, 1326349879, 1326793858, 1329693445, 1331664857, 1332428885, 1335843292, 1337843314, 1338687658, 1339376642, 1341884699, 1347288544, 1347671595, 1350157212, 1353977587, 1356883406, 1358235083, 1362387257, 1362696480, 1363942126, 1364577373, 1365930567, 1369212787, 1369582892, 1370173372, 1370592283, 1370684301, 1372043651, 1373787031, 1376998197, 1377509230, 1378375840, 1378378085, 1379752935, 1379900815, 1379900815, 1379900815, 1380657054, 1386373618, 1387347556, 1389553068, 1390519972, 1392188460, 1392188460, 1393045312, 1393442384, 1397162676, 1399436265, 1400176556, 1400614548, 1402290245, 1404815205, 1405005048, 1405641876, 1407817506, 1407934444, 1408115174, 1408698177, 1412879419, 1413631104, 1413789244, 1414832513, 1416105970, 1418443883, 1418454388, 1421399641, 1425273464, 1426451776, 1426473761, 1427234410, 1427234410, 1428954728, 1431069872, 1431407578, 1434019556, 1435578370, 1435955155, 1436399564, 1438333741, 1438654955, 1439988559, 1441526758, 1441873828, 1441900803, 1442999807, 1446504051, 1449254214, 1450493254, 1451127860, 1451882082, 1451962248, 1452350351, 1456650620, 1457857638, 1458424219, 1460338865, 1461139584, 1461680749, 1462775524, 1462910159, 1470267329, 1472234529, 1472678045, 1476162798, 1476315362, 1478430728, 1478609458, 1478822636, 1480223304, 1481555927, 1485304991, 1486206263, 1486566683, 1489103808, 1490458576, 1492812078, 1492921071, 1494213465, 1494299010, 1495206143, 1498829559, 1499012497, 1501941931, 1501941931, 1502388607, 1502420153, 1503008547, 1503406703, 1507353347, 1507595792, 1507736848, 1508586011, 1509269585, 1511633850, 1514670274, 1514670274, 1514923981, 1515107258, 1515142873, 1519185251, 1520485930, 1521575183, 1521805132, 1521918156, 1522078676, 1522338188, 1522769748, 1522788912, 1524980513, 1526017241, 1526696551, 1528671332, 1528830089, 1529234716, 1531636824, 1535484394, 1536762075, 1539112615, 1539506806, 1542277865, 1546032440, 1546557696, 1548284510, 1550104273, 1550657116, 1552666881, 1553480227, 1553603178, 1556659482, 1559039967, 1562029292, 1562431193, 1564638241, 1565310463, 1566376824, 1566945630, 1567541883, 1569446261, 1569558376, 1569632016, 1569915901, 1571103434, 1574701878, 1575002949, 1575319897, 1575775762, 1575928552, 1577566030, 1578028840, 1578401414, 1579405379, 1583244553, 1584988515, 1586059388, 1588765540, 1593122365, 1593238724, 1593943213, 1595210210, 1598664899, 1599279372, 1599957787, 1603247492, 1603376494, 1603405860, 1606654962, 1607433515, 1609686202, 1613990102, 1617186742, 1619309255, 1619576668, 1620717150, 1620717150, 1624017895, 1627683251, 1629003404, 1630908361, 1632341591, 1632930245, 1634423729, 1634423729, 1637026188, 1637333649, 1638025538, 1638323328, 1643040504, 1643243338, 1643779022, 1644133994, 1646519955, 1648092130, 1649653381, 1655939566, 1656962635, 1659275367, 1661807480, 1665490414, 1666272370, 1666656999, 1666917371, 1667876077, 1671907824, 1679323383, 1679400549, 1680286243, 1681275826, 1683050612, 1687508562, 1687582166, 1687991920, 1688233003, 1689022965, 1693404991, 1693565740, 1693733693, 1694520935, 1694584100, 1702155031, 1702807632, 1702811765, 1704475541, 1705046156, 1707220718, 1709272969, 1711025825, 1711534496, 1712153628, 1715114152, 1716619640, 1717488297, 1717943507, 1720444824, 1720526390, 1720532372, 1724157507, 1728250969, 1730002145, 1732123529, 1733338568, 1733848901, 1733977248, 1735826955, 1736274481, 1741400064, 1744020655, 1745078477, 1747747289, 1749532847, 1751582404, 1754288012, 1756815351, 1762902389, 1766908831, 1767968987, 1770894950, 1779137658, 1780657807, 1782618213, 1782959223, 1785704082, 1787615590, 1789896060, 1790155169, 1793047207, 1794485421, 1794721413, 1796850933, 1797261708, 1797708046, 1799720015, 1801337017, 1801946632, 1805590228, 1808171493, 1810360924, 1812076101, 1813228726, 1813608102, 1817239147, 1818666486, 1818853637, 1821885360, 1831467877, 1831919786, 1832921340, 1835327893, 1835811099, 1841768780, 1843185489, 1844061194, 1844898163, 1845362477, 1845833224, 1846652540, 1848095065, 1848252609, 1848357222, 1848381109, 1848841567, 1851080937, 1851114073, 1852288959, 1857319913, 1858748184, 1861189605, 1861876280, 1864734529, 1865062288, 1867570293, 1868350320, 1871568878, 1876313135, 1876655918, 1879188577, 1880133390, 1884182414, 1884446924, 1885339189, 1888885962, 1890844582, 1891720517, 1893283425, 1894074970, 1899980687, 1900389648, 1903933707, 1905855486, 1908564210, 1913938155, 1922532371, 1923628610, 1926512009, 1932418431, 1936626682, 1953117132, 1954467856, 1955958634, 1956610058, 1957420617, 1957446569, 1958346642, 1958932466, 1958932466, 1959060956, 1959960800, 1959960800, 1960977382, 1964934015, 1965722266, 1966308292, 1966750850, 1966973781, 1970295676, 1970304914, 1972173780, 1972793564, 1975066107, 1975101788, 1975471737, 1975493437, 1979240211, 1980298858, 1982224968, 1983949351, 1984270622, 1984524385, 1986435979, 1989501648, 1991565062, 1993000984, 1993990114, 1996119869, 1997748031, 1998354398, 2000449701, 2002180118, 2002749966, 2003859536, 2004901166, 2005963107, 2007285952, 2012808860, 2012984376, 2013094249, 2014106395, 2014280092, 2014967192, 2017214712, 2018675878, 2020355225, 2020783962, 2021437926, 2026766402, 2032676132, 2034584514, 2038823053, 2039409050, 2041073036, 2041599690, 2041672233, 2042249676, 2043512977, 2046945749, 2048252439, 2052326778, 2057494458, 2060344710, 2061818984, 2063273799, 2064452933, 2067793373, 2069066532, 2071881299, 2075105792, 2076179912, 2076598650, 2078286262, 2078934644, 2079873706, 2080233967, 2081588921, 2081901000, 2082647503, 2085775700, 2094395276, 2097003250, 2098100536, 2098343696, 2098467924, 2100361922, 2100852946, 2103317942, 2104936891, 2106006383, 2106588154, 2109519088, 2114794773, 2116045476, 2116893118, 2119072473, 2120039762, 2120363517, 2120547088, 2121792087, 2124805483, 2127251857, 2131108936, 2131954025, 2133108520, 2133281669, 2133471035, 2134255553, 2136458921, 2137554581, 2137754634, 2138304738, 2141132270, 2145998058, 2148221816, 2151454834, 2153484650, 2155915750, 2156705278, 2163827376, 2166424114, 2166498239, 2166498239, 2170895772, 2174654420, 2175289580, 2175740341, 2177040969, 2178903562, 2179994690, 2183280958, 2192714592, 2192877293, 2194628267, 2195077172, 2195845916, 2197479060, 2197510459, 2197672775, 2200071217, 2202406675, 2203981127, 2204944155, 2205328961, 2209415017, 2211051827, 2212048457, 2213327977, 2217705061, 2219116806, 2219126513, 2220872716, 2221717470, 2229396869, 2231217094, 2232049951, 2233014237, 2233433084, 2234990710, 2235684336, 2239909809, 2240806692, 2241172378, 2241237981, 2241345190, 2244975783, 2245338369, 2247651672, 2247771966, 2248752517, 2250222970, 2251008112, 2253056191, 2257281349, 2258843979, 2259236913, 2260669165, 2261445030, 2261814192, 2262685276, 2264388999, 2266193521, 2266900287, 2266900287, 2269712720, 2270460308, 2271589052, 2273580290, 2274147531, 2274668090, 2275841196, 2275880530, 2276265736, 2276753992, 2277026213, 2277164677, 2277539302, 2277560127, 2278520947, 2279664173, 2281239208, 2284616989, 2285913641, 2288366473, 2289527162, 2299130717, 2301189257, 2301543585, 2303617613, 2306124851, 2306124851, 2306506233, 2309576271, 2312464160, 2315986377, 2316876482, 2317501036, 2317553452, 2319447681, 2319524573, 2327725827, 2328997369, 2333238932, 2334415131, 2334415131, 2334716991, 2336335909, 2337477893, 2337770312, 2342388174, 2348989653, 2349803975, 2349913535, 2350045830, 2352121230, 2353254951, 2354263313, 2357899960, 2359521637, 2362444783, 2364593777, 2365801513, 2366727201, 2368839332, 2372114908, 2372154807, 2373233317, 2373551976, 2373573180, 2375361560, 2378790944, 2380562826, 2381664558, 2382530642, 2384136875, 2386398425, 2387559036, 2387559036, 2391175629, 2391426503, 2393306053, 2395438928, 2395868663, 2397252244, 2397865134, 2399995003, 2400021865, 2402583029, 2402792348, 2402938633, 2403140961, 2405029105, 2406496273, 2408271022, 2410970124, 2411959648, 2412701044, 2412706084, 2412918305, 2413607317, 2413721108, 2414574500, 2418173617, 2418442594, 2419337420, 2419410864, 2421581711, 2429504715, 2434519573, 2436072036, 2437000781, 2438759882, 2441826517, 2443511340, 2443532622, 2445933973, 2447118914, 2450107045, 2451653873, 2451662987, 2453937640, 2454025262, 2455261265, 2460480535, 2462039284, 2462967537, 2464307537, 2465054670, 2465194105, 2467182220, 2470175734, 2470566564, 2470566564, 2470571370, 2472537506, 2475897867, 2477194551, 2480407329, 2484596354, 2485921322, 2486182457, 2487866684, 2489535951, 2490931665, 2491689559, 2493153048, 2494329103, 2494877158, 2498952141, 2500307172, 2507833190, 2509086414, 2509423255, 2510413597, 2510413597, 2511299223, 2515779061, 2515973863, 2516531999, 2516613077, 2517319441, 2518539264, 2518774304, 2525600234, 2527380408, 2528310179, 2529589945, 2530881280, 2530954725, 2535724498, 2539419650, 2540306686, 2540520547, 2540624811, 2542096917, 2549374448, 2549771097, 2551418007, 2551643744, 2553318467, 2556692510, 2561106571, 2562229173, 2564713139, 2564870574, 2565647169, 2565938030, 2566314358, 2566603457, 2571625846, 2571648650, 2574503712, 2578757323, 2580071702, 2589431470, 2591121279, 2591424018, 2595600444, 2596166531, 2596838349, 2597385605, 2599042051, 2599793259, 2599892660, 2600458389, 2602642381, 2605749737, 2609501293, 2611589809, 2613800225, 2613987690, 2614710033, 2614747298, 2614828676, 2615422236, 2615966651, 2617573628, 2619457421, 2620171687, 2621019736, 2625184446, 2626604808, 2628499333, 2636103378, 2636929443, 2638657417, 2639570388, 2640038502, 2640643044, 2645189373, 2645222400, 2645466228, 2645798640, 2646213695, 2652726994, 2653546171, 2654252286, 2654286784, 2654286784, 2654286784, 2656090382, 2656397780, 2664054257, 2665413119, 2665413119, 2665413119, 2667280067, 2672692680, 2673398960, 2673398960, 2673925675, 2675512514, 2675782093, 2677893253, 2678999412, 2679465444, 2680542017, 2681089159, 2685787890, 2686484745, 2690514338, 2690860697, 2692862859, 2696502286, 2697284101, 2702155670, 2703167877, 2703282933, 2705418427, 2705713622, 2707961067, 2708459991, 2708876555, 2711929050, 2721340267, 2723958081, 2726352409, 2729268802, 2729362252, 2730370472, 2732238437, 2736823245, 2738501708, 2744359908, 2744466506, 2745002931, 2745293037, 2746304887, 2746833992, 2749191504, 2749998382, 2751621228, 2752373000, 2752696860, 2757756544, 2758921696, 2759336956, 2762118284, 2762763923, 2767814120, 2767814120, 2769264261, 2777431250, 2781311759, 2783605211, 2784557489, 2785947123, 2787282507, 2787637686, 2789710021, 2794305636, 2795258772, 2795897087, 2801797825, 2802292371, 2803880602, 2804360574, 2804870303, 2805767572, 2806352141, 2810482721, 2810684055, 2812297671, 2815942254, 2817085833, 2818493705, 2820467020, 2821586692, 2822229871, 2824516671, 2824885367, 2825802134, 2826497283, 2826502054, 2828199040, 2832134634, 2832884427, 2834835838, 2838095178, 2840090444, 2840493518, 2842425119, 2843230556, 2845113363, 2845476751, 2847854501, 2850266013, 2850660387, 2855008021, 2866381246, 2869476817, 2870533678, 2874927644, 2876026468, 2876173239, 2876887371, 2877323658, 2882639863, 2887710650, 2888886317, 2889920136, 2890173452, 2891768057, 2895948984, 2897618519, 2898632813, 2898875851, 2902222618, 2902662797, 2903445137, 2903634970, 2904789393, 2905388817, 2906123294, 2908816615, 2910510261, 2910598076, 2910842382, 2910953918, 2910983542, 2914569358, 2914840054, 2916474749, 2916695186, 2916947038, 2917227868, 2918429045, 2918868958, 2920158088, 2923867558, 2926716163, 2926919048, 2928933526, 2931062653, 2934131922, 2934734633, 2935189036, 2937986991, 2938760489, 2939326103, 2940765945, 2944066272, 2947586754, 2950161934, 2950350773, 2951328468, 2955249600, 2958665715, 2958665715, 2959447644, 2962148906, 2965623960, 2965623960, 2966788710, 2967661979, 2969282193, 2969676443, 2970400343, 2971297569, 2971560181, 2973980359, 2974726546, 2974986337, 2974986337, 2979852617, 2980752492, 2985938950, 2988892704, 2991175375, 2993189233, 2995089030, 3003494693, 3006655497, 3008620428, 3012044296, 3012252800, 3012911582, 3013199507, 3019956669, 3020050761, 3020815262, 3038761226, 3042530962, 3044872004, 3047886618, 3048044842, 3048335925, 3049008896, 3050418217, 3052972720, 3054596156, 3056033535, 3058154308, 3061784529, 3063436859, 3064926407, 3066782253, 3067225978, 3068300683, 3069214448, 3073315755, 3074027266, 3074876228, 3076889321, 3079073897, 3079773790, 3080579383, 3081083980, 3083401842, 3085879965, 3086630605, 3086687326, 3086687326, 3087427157, 3088571817, 3091159298, 3093195637, 3094796833, 3096254434, 3096472869, 3096472869, 3097620031, 3101024777, 3101024777, 3103614655, 3108708159, 3110885390, 3112326030, 3114391812, 3116461553, 3119398289, 3119768790, 3119809193, 3121568490, 3124875129, 3126167466, 3126846609, 3127121341, 3128044367, 3128356787, 3130337377, 3131183942, 3132497470, 3132593463, 3133099551, 3133921804, 3133946922, 3133946922, 3134952701, 3136924771, 3138086614, 3139849966, 3143180902, 3149202686, 3149749939, 3153447950, 3154590254, 3155407895, 3155701037, 3158891274, 3160637212, 3161757786, 3161773668, 3161929776, 3163143757, 3163678190, 3165480676, 3167168983, 3170472699, 3171281218, 3174175457, 3176316603, 3179656997, 3181166496, 3181700406, 3183056076, 3184795928, 3185589665, 3188183680, 3190883254, 3191790506, 3195929522, 3197960517, 3198451410, 3199307574, 3199670976, 3208037038, 3209984530, 3210776670, 3210844923, 3213120905, 3213120905, 3213120905, 3213292529, 3215119044, 3217370568, 3217409368, 3221702242, 3223008986, 3223753561, 3223758647, 3225699693, 3227097544, 3230599027, 3232141350, 3232215659, 3236015503, 3240411314, 3240589385, 3241575661, 3241980845, 3244045665, 3244169127, 3245615977, 3246492819, 3249967920, 3250947962, 3252017843, 3253238813, 3255178842, 3256652202, 3263741595, 3264106114, 3267116703, 3268776102, 3272415162, 3272458119, 3272843755, 3273465234, 3274142216, 3276804110, 3278219282, 3280488718, 3281562179, 3282641376, 3283297790, 3286566331, 3287063635, 3289365632, 3291267014, 3291924449, 3295758900, 3297013752, 3304472042, 3304917840, 3307798254, 3308020634, 3309286183, 3309507009, 3310616995, 3318345366, 3318900520, 3326465003, 3332651571, 3334587183, 3334777682, 3334827868, 3335746373, 3338873004, 3342357135, 3346489759, 3350542472, 3360725992, 3364901824, 3366023934, 3367552794, 3368691998, 3368691998, 3368693696, 3369565852, 3370855529, 3371536784, 3372222480, 3372914781, 3373975863, 3374808329, 3375880454, 3376451592, 3379023926, 3385481064, 3389610579, 3391444608, 3391873640, 3392421934, 3392877790, 3392960259, 3393617108, 3397890136, 3402420102, 3409909228, 3411823815, 3414121786, 3414121786, 3414897226, 3415598664, 3417498497, 3418458722, 3419131602, 3419568649, 3419591059, 3420466098, 3420466098, 3420718561, 3423503432, 3423735250, 3425463002, 3426789919, 3432802433, 3434762821, 3436111099, 3438431430, 3439862461, 3440881924, 3442817478, 3443723053, 3444105361, 3447244144, 3448093117, 3449944593, 3450900415, 3457173067, 3457887276, 3458909559, 3460774426, 3462393296, 3462924795, 3467677892, 3472587738, 3473546587, 3476740370, 3476994731, 3478078301, 3480408943, 3480843995, 3482622672, 3486209766, 3488745009, 3488896454, 3490927012, 3491017402, 3492213429, 3492217773, 3493405828, 3495097997, 3496080133, 3496920053, 3497849128, 3497849128, 3499613048, 3502232336, 3503860720, 3504779552, 3504965155, 3507475028, 3509470552, 3509470552, 3510814691, 3511873224, 3513746423, 3514362765, 3514614965, 3516023064, 3516336667, 3516590904, 3516590904, 3517682813, 3517839179, 3518188892, 3519114162, 3519378072, 3520128886, 3522387003, 3523898383, 3529693312, 3530813406, 3532616520, 3533791165, 3534460375, 3535640850, 3537962550, 3543029543, 3543493021, 3547302477, 3550506589, 3551564832, 3551777425, 3552177243, 3556712117, 3560253287, 3560969965, 3565065819, 3565433885, 3570250145, 3570250145, 3571279086, 3574302882, 3579026588, 3584135411, 3598631670, 3606361765, 3608380799, 3610959351, 3612143231, 3613086535, 3613432720, 3613862263, 3620093477, 3620979033, 3624908407, 3626217922, 3627895478, 3628631783, 3632097340, 3632859367, 3635543415, 3635704609, 3636045045, 3636440051, 3636882263, 3637156218, 3638346997, 3640538539, 3641334417, 3642559196, 3643091324, 3645178281, 3645178281, 3645428935, 3646741876, 3648970087, 3649571460, 3651028064, 3652938590, 3654844043, 3655718819, 3658500036, 3659509083, 3666820508, 3668131816, 3668131816, 3668878364, 3671071917, 3671448297, 3673356354, 3676549575, 3676728993, 3678608650, 3678922813, 3680685757, 3683980928, 3687430054, 3687908350, 3690135220, 3693809270, 3696808629, 3696820572, 3697999551, 3699807483, 3699821399, 3700056800, 3700676646, 3701517110, 3703155597, 3704312412, 3706363581, 3706592299, 3706592299, 3713623221, 3717164267, 3719775456, 3720101070, 3721266042, 3721534168, 3722172623, 3722295580, 3722447500, 3723309874, 3723573971, 3728610060, 3728808241, 3731728192, 3732411089, 3732879117, 3733630459, 3733791149, 3736082821, 3739870360, 3746386995, 3746605598, 3747184621, 3752735775, 3753181410, 3753228964, 3759525040, 3760094356, 3760665000, 3762364295, 3763679497, 3764494645, 3769951419, 3770182699, 3771078016, 3775831338, 3779491717, 3782450535, 3788557801, 3789503978, 3791055199, 3792520740, 3796605558, 3805556584, 3805758226, 3806301214, 3806712834, 3809752846, 3810136207, 3814750878, 3822610556, 3823426456, 3824330835, 3825275598, 3825406310, 3825625481, 3825776163, 3828402021, 3830431922, 3831239961, 3832530951, 3832603845, 3834182049, 3834864619, 3834960860, 3835378326, 3840061898, 3841155929, 3841545398, 3842604810, 3845281896, 3851767925, 3853486672, 3855155325, 3855166932, 3858320848, 3860304096, 3861848379, 3862981134, 3862981134, 3863708076, 3866490685, 3867516027, 3869302050, 3870413705, 3871057945, 3871742543, 3873060793, 3879153288, 3880046424, 3880767256, 3887014378, 3890627958, 3891365135, 3891562580, 3891692439, 3892040046, 3895996778, 3896925597, 3898607891, 3901757560, 3903695068, 3912810778, 3914959905, 3917109500, 3919774761, 3920727807, 3921596892, 3924512841, 3925785603, 3926928827, 3928424812, 3929026868, 3929837130, 3932718487, 3934610675, 3935072497, 3935080747, 3937479792, 3939137695, 3941025536, 3944832296, 3948210237, 3948386906, 3949354341, 3949354341, 3949892064, 3951586162, 3960255124, 3961008456, 3961439444, 3963096241, 3964664097, 3965168859, 3965188402, 3966137246, 3970114236, 3970419057, 3974228119, 3976988639, 3977160309, 3977249252, 3977650646, 3979553988, 3980345317, 3982032055, 3982451379, 3984697500, 3985881546, 3985885839, 3988754695, 3989793377, 3993677158, 3993712668, 3996546758, 3997028568, 3997168178, 4000501424, 4002204470, 4005682528, 4006914122, 4007022056, 4007776778, 4008958240, 4012328689, 4013533084, 4014681801, 4017864813, 4019782231, 4023003703, 4024079989, 4025581892, 4029696858, 4031096661, 4031608203, 4036461504, 4036717537, 4037321702, 4039553023, 4041832067, 4044954309, 4048811006, 4049336031, 4049903290, 4049956124, 4049958382, 4051345734, 4053333536, 4054902270, 4055742642, 4056999599, 4059937600, 4063224036, 4063981231, 4065349418, 4066076175, 4066931010, 4068289091, 4070578611, 4072000641, 4073363129, 4074436490, 4080454965, 4081371391, 4082096608, 4084972126, 4085834890, 4086453368, 4088906226, 4090802093, 4091766889, 4092159086, 4094160880, 4094190594, 4097069925, 4099587156, 4101463157, 4102682792, 4103829945, 4108061707, 4108610685, 4110225901, 4113823889, 4114704596, 4115422691, 4118901034, 4120150686, 4122908501, 4124735001, 4125077022, 4128746688, 4130855056, 4131215886, 4131384289, 4134864543, 4137485110, 4138623810, 4142887170, 4142923366, 4145715538, 4145965263, 4147978265, 4148962680, 4154495579, 4156228965, 4161858687, 4162232494, 4163513254, 4164268764, 4172082120, 4175167421, 4180761620, 4183650079, 4184161481, 4187039096, 4188252213, 4189946073, 4190461827, 4191490620, 4191576016, 4196705643, 4198097896, 4199303314, 4204452955, 4204693649, 4209843467, 4210678773, 4214191175, 4217245793, 4218490952, 4221235676, 4223616082, 4223785068, 4223785068, 4224268325, 4227305520, 4227953461, 4228533241, 4229947099, 4236463579, 4237864542, 4240323406, 4240547823, 4240937479, 4240937479, 4240992649, 4241518604, 4242435363, 4242594189, 4243302987, 4244411353, 4244845952, 4246230979, 4247526492, 4249379491, 4250104980, 4254354594, 4257028264, 4257282118, 4261818044, 4262311708, 4263491470, 4263627123, 4264229956, 4264276797, 4266332763, 4268238242, 4269739849, 4270708842, 4274073565, 4274295166, 4279096949, 4279524230, 4281176156, 4281433198, 4284700614, 4290601391, 4294532715]), (1952976, [684273, 1338032, 1338032, 1359341, 2096954, 2335376, 3463574, 6556234, 7013541, 7532357, 9004810, 9004810, 9004810, 9418040, 12109040, 12723027, 13392600, 15801993, 17965980, 18309775, 18540394, 19331962, 19667164, 19940828, 19940828, 21345869, 21820155, 21880985, 22275462, 22334409, 23260193, 23961389, 25810793, 26635983, 26662979, 26918370, 27029936, 27623594, 27623594, 28193821, 28658859, 29133996, 34822268, 37481017, 38806417, 38904340, 38904340, 40393694, 41884832, 41884832, 46151082, 47651422, 47887967, 50679831, 52417438, 52674955, 54104021, 54555354, 58164957, 58731551, 60424572, 60984487, 66541121, 68569170, 68600968, 69394573, 69443472, 69443472, 70797332, 73230842, 73639374, 73866621, 75562143, 76278439, 81656336, 83254418, 84545595, 89301601, 89615126, 91365515, 91572951, 95913792, 96259083, 97096314, 97448007, 97867754, 98051861, 98671961, 101427141, 101998378, 102745194, 104030922, 104853216, 104923218, 105228665, 106849298, 107237425, 109014825, 110864760, 112418855, 112641417, 112791759, 113704619, 113885116, 115130593, 123120960, 123441094, 124905932, 124905932, 124921464, 126054890, 126054890, 126054890, 127584660, 129397310, 129465735, 129515072, 133436824, 135066019, 137997597, 138654527, 138654527, 138654527, 138654527, 141236154, 141839948, 142321850, 143270559, 144989037, 147199014, 147486406, 147773809, 150174487, 150864219, 151380654, 151743082, 151856278, 153423978, 153986480, 154930342, 156185762, 156292789, 158041750, 158399451, 159081372, 161835324, 161996225, 166072141, 169243765, 171172954, 172998784, 173034297, 174023635, 175448498, 175802704, 176477809, 177588386, 177788542, 178195762, 178463508, 179144571, 180362843, 183050240, 186081709, 187737131, 188339209, 188708194, 189358076, 191045855, 191221725, 191679897, 192940094, 193205161, 193781827, 195727997, 195727997, 195727997, 195727997, 195996334, 196220455, 198665450, 201975511, 202010476, 202855791, 203330102, 204751395, 205960010, 206377000, 206449267, 206478531, 207051479, 208788373, 209554327, 209952275, 211608201, 212136128, 213140785, 216367192, 216802944, 217231567, 218499349, 219865038, 220226663, 220929337, 220929337, 221324568, 221427257, 221954229, 221978841, 224463700, 225532985, 226289649, 227017720, 227141741, 228111568, 229204580, 230145920, 230410757, 230836396, 234280997, 234770540, 234770540, 235450125, 237404333, 239271642, 239282692, 241844641, 244828807, 245344145, 246033222, 246266755, 247851612, 249790513, 252572246, 253974961, 254028251, 254028251, 254036435, 254192679, 254457202, 254760603, 256064054, 256700526, 256813505, 257166447, 257469141, 257801461, 257923269, 260174753, 260694498, 261980371, 263797782, 263985056, 265345253, 265985055, 266963548, 266963548, 266963548, 266963548, 267074173, 267891748, 267891748, 269188183, 269188183, 269188183, 269777202, 270023745, 271984222, 273547628, 276241159, 276532024, 276532024, 277641723, 279459820, 280692998, 280734339, 280875686, 283040075, 283463102, 283463102, 283463102, 289123052, 290379870, 290540837, 290671570, 293066181, 297211547, 298766134, 299273130, 300329852, 301385735, 301581882, 302140175, 303771530, 306009687, 307531675, 309213420, 309213420, 309213420, 309698532, 310077438, 311608046, 312401468, 312455464, 313969130, 314187165, 314187165, 315655963, 318327798, 319204859, 319381753, 321157242, 322495500, 323832044, 323867274, 323867274, 323921271, 324145328, 326132517, 327672681, 328109456, 328281769, 328457277, 328457277, 329342315, 331770476, 333530722, 333608057, 333788748, 333970124, 333970124, 333970124, 333970124, 333989300, 334976314, 335182081, 341974573, 343603271, 343876714, 343909859, 344314161, 344901324, 345559039, 345777266, 346921087, 349000406, 349772070, 350309510, 350738845, 350738845, 351297798, 352960049, 353386310, 353839633, 355877154, 356441933, 356441933, 356571451, 357147634, 359058194, 359579125, 360424268, 360630093, 360717662, 361489383, 361535653, 362014918, 365300049, 365497855, 367555616, 368344987, 370044583, 373942113, 374421735, 377468596, 378123038, 379095760, 379926076, 383502215, 384300272, 385335352, 386492576, 390038441, 391659992, 392241392, 392609001, 393050792, 393737728, 394336783, 394660212, 394660212, 394660212, 395727578, 396460094, 397830823, 397906963, 400929306, 402988389, 408973188, 408973188, 408973188, 409532660, 412072603, 412768470, 414018929, 415943362, 415965003, 415965003, 416004811, 416004811, 418690298, 419346211, 422509282, 422982936, 424608264, 425787904, 427856133, 428124440, 428608600, 428608600, 428668842, 429180027, 429664839, 429858958, 431184936, 433741573, 434653586, 436168814, 437719718, 440921001, 441556465, 442732417, 443207041, 443207041, 443415631, 446627505, 447327590, 448482335, 448811187, 449384231, 450137809, 450463669, 451145502, 453724459, 454598839, 454598839, 454639202, 454956511, 456370429, 456645979, 456645979, 456903130, 457317129, 458260553, 459222758, 461333986, 461525164, 464735464, 465392883, 465726920, 467008103, 467723037, 468651673, 469147228, 469562214, 470095576, 472387953, 472659212, 473720379, 473986125, 475283031, 475758583, 476372795, 477360031, 477786734, 482428630, 484319361, 484817016, 484817016, 486349176, 487937280, 488179115, 488255322, 488671325, 490243956, 491321196, 492341253, 496760157, 498225431, 498633021, 498828851, 500022875, 500316987, 500797741, 503100301, 503843805, 505825389, 507817159, 507972962, 508369729, 509774978, 510466232, 510684894, 510722989, 515177847, 516724997, 521947875, 523891119, 524809783, 525154005, 526852140, 528702620, 530345724, 530345724, 531898627, 534425112, 534951228, 535282000, 535680673, 536334219, 537335261, 538239757, 539108928, 540444727, 542774743, 544081723, 547023646, 547633590, 548568996, 550099914, 551852669, 552196402, 552368071, 554663908, 559900914, 561901033, 562350690, 563184120, 567101506, 567426141, 570380195, 570421281, 571041261, 572311665, 574124103, 575149841, 575149841, 575997200, 575997200, 576642233, 576899409, 579082934, 579310683, 580354936, 580576269, 581555955, 582275454, 584031416, 585729108, 586430226, 587344093, 587344093, 589239625, 591896931, 592346468, 592847389, 593014426, 593059342, 593226440, 593231509, 593753110, 594220658, 594608682, 594627766, 595684912, 596043339, 596644749, 596727131, 596864054, 598475799, 598624003, 600287262, 601149905, 601272600, 602965157, 603086729, 603230689, 603644246, 604945692, 604945692, 605633599, 605738100, 605768376, 606663023, 607291935, 607291935, 609030277, 609462666, 609468545, 611403797, 611532219, 614870305, 614870305, 616690755, 617069828, 617749675, 619133820, 621017352, 622576934, 623505481, 624376181, 625427144, 625997886, 627075385, 627368535, 627368535, 627368535, 627566058, 627856170, 628159430, 628204404, 629355194, 629423215, 630002478, 630856680, 632990913, 635486249, 636395696, 638077399, 641958436, 642316502, 643143361, 643156941, 644043084, 645320739, 646091723, 646748133, 646748133, 646979212, 647204486, 647327213, 648841038, 649860344, 650095656, 654142145, 654567659, 656376047, 657363907, 659361690, 660114287, 664210946, 664479170, 664901178, 664901178, 668416864, 669956856, 673000445, 673446843, 674542991, 675908433, 675940390, 677090623, 677397894, 679671920, 680214428, 680672236, 680840653, 681881918, 683333713, 683614918, 684423088, 685602775, 689927113, 691503637, 692103701, 693175216, 694659112, 695606358, 696669517, 697809859, 698031047, 698947060, 699786125, 701125850, 702792197, 702792197, 704328918, 705080915, 705556828, 707411454, 707411454, 707411454, 707411454, 707431986, 707431986, 707431986, 707431986, 708041400, 708680005, 709260217, 709546468, 711389012, 712581010, 713119077, 713807190, 714590736, 714908033, 716668586, 716890115, 716890115, 717122977, 717487024, 718255967, 720218855, 720602865, 722981517, 725328660, 725852424, 725987996, 726685036, 727857722, 731083865, 731328219, 732372872, 737592935, 741681156, 742156167, 743877376, 743877376, 744770689, 745363921, 745398818, 745938700, 746566392, 746970691, 748123262, 748243018, 748738265, 749340495, 749874961, 751632880, 753490505, 753584745, 755901450, 755901450, 758155845, 758903817, 760696242, 761629835, 762802178, 763411417, 766028626, 766874642, 766948301, 767466644, 768049628, 768487822, 769931081, 769931081, 772491261, 775388335, 775578048, 776940855, 778853832, 779558037, 780011447, 780753785, 780834990, 782801824, 782801824, 782801824, 784798783, 785380092, 787350019, 787853845, 787917952, 788273738, 791903243, 793368967, 793368967, 793368967, 794392603, 794731967, 795002157, 796088918, 797056711, 797056711, 797056711, 798275799, 798692651, 799782003, 800245569, 802577512, 802884773, 803540714, 804772621, 805671371, 806669220, 809071495, 809464267, 809467038, 809571989, 810525528, 811877553, 814222291, 814853971, 816896365, 817354748, 818777858, 820709285, 824364319, 824993025, 825111122, 826110711, 826765369, 827124143, 827941656, 827972749, 828432727, 828443843, 828916467, 829962669, 829962669, 829962669, 830320646, 833102721, 835981537, 836295965, 837900164, 839309739, 839427829, 839907772, 840939256, 842299117, 843092177, 843172137, 844397969, 844976073, 844976073, 845385879, 845792100, 846450150, 848541594, 848831933, 849354585, 849414824, 850757804, 851709911, 851709911, 851766494, 853263427, 853319112, 854394258, 854471496, 855000004, 857747102, 857859981, 859024815, 859028964, 859505076, 861192617, 862041205, 862351449, 864701178, 865383436, 865715591, 866277540, 867677668, 870094964, 870390653, 872654170, 872796692, 873535855, 873834026, 874825193, 875728611, 876213454, 876292136, 876425583, 877001084, 878804880, 879186872, 879644314, 880624070, 881151134, 883811065, 883811065, 885673744, 886190986, 886427840, 886805372, 887264508, 888898537, 891727684, 892811355, 892811355, 892811355, 894532485, 895943135, 897458473, 898385413, 899355164, 899355164, 900773976, 901950265, 903918765, 906078422, 906118074, 906213157, 907870517, 908081399, 910488803, 910831963, 911296726, 914111547, 915573915, 917534632, 919085862, 919149305, 919170331, 919737930, 923825868, 924607648, 924607648, 927610809, 928505085, 929629221, 932686662, 934867797, 934867797, 935725779, 937034907, 938167387, 938394273, 942067425, 943264985, 943264985, 943276521, 944679855, 947300717, 948336814, 955462963, 955714430, 955714430, 955714430, 958237710, 958718198, 959041704, 959169948, 960109400, 961871063, 962082582, 962238194, 962243705, 964768459, 965858560, 966240238, 967336288, 968104235, 969276541, 969314911, 970995865, 972281144, 972457916, 972854158, 973105723, 974838993, 975467499, 976202387, 976515241, 976614256, 978376670, 979601700, 981157704, 981187321, 981347568, 984171619, 989560674, 991694414, 993033423, 993082195, 993462055, 994032978, 994109720, 994476411, 995055483, 995419819, 995683508, 995683508, 997139726, 998631312, 998900736, 999224585, 999327404, 1002537343, 1003438859, 1004087810, 1007251390, 1011232889, 1013919333, 1013919333, 1014058147, 1018016336, 1018746233, 1021820123, 1023006645, 1023306892, 1024326241, 1025974579, 1026034571, 1026457427, 1027289614, 1027511253, 1028364577, 1029260786, 1030398496, 1031594026, 1032563927, 1033112910, 1036297813, 1037881633, 1038089566, 1040913777, 1044001823, 1044102180, 1044226837, 1045443892, 1047202413, 1047543684, 1047839902, 1048413594, 1050283831, 1050325807, 1051928236, 1053266854, 1053266854, 1053266854, 1055127340, 1056192600, 1056512385, 1057939717, 1058404349, 1058417383, 1058417383, 1058417383, 1060636312, 1060994403, 1061013742, 1061295247, 1062930771, 1062930771, 1062930771, 1063414392, 1067302834, 1068674630, 1070928706, 1071279394, 1071279394, 1071279394, 1072989743, 1073933141, 1075747065, 1076158991, 1076682548, 1076965552, 1077821481, 1078469539, 1079113740, 1080874627, 1080874627, 1080874627, 1081308831, 1081717834, 1082703349, 1082751221, 1084607447, 1087656033, 1088768768, 1091233337, 1091952445, 1096036539, 1096721593, 1102546184, 1104191153, 1105446411, 1106033956, 1106482330, 1106884807, 1107874895, 1107874895, 1110504256, 1111864833, 1112049056, 1113693931, 1114938209, 1116487725, 1116537934, 1118013162, 1118462159, 1121218853, 1122119348, 1123814772, 1124131193, 1125960127, 1125967980, 1125992711, 1125992711, 1126968365, 1128200221, 1131641809, 1132841525, 1133361072, 1133682379, 1135369554, 1135369554, 1135965107, 1136852800, 1137132295, 1141719123, 1143331142, 1144558551, 1146373361, 1146562755, 1147309030, 1147557734, 1147885138, 1147885138, 1148721689, 1150336073, 1151350011, 1153327691, 1153440806, 1153501376, 1155269474, 1155692584, 1155940220, 1156022022, 1157550606, 1157550606, 1161807142, 1161958915, 1162340447, 1165772867, 1169429917, 1169476695, 1169832143, 1170156132, 1171043091, 1173624038, 1173844748, 1175860091, 1178410887, 1178557735, 1178659087, 1180111297, 1182679440, 1182679440, 1182679440, 1182679440, 1182679440, 1182679440, 1183487960, 1185400671, 1189577787, 1190282546, 1190730890, 1191722118, 1192425856, 1193446709, 1195662306, 1195671196, 1196255008, 1196803582, 1197137957, 1197437244, 1197898931, 1198133786, 1198649824, 1202711856, 1205221945, 1208668140, 1209862820, 1217414861, 1217934237, 1220225006, 1220868683, 1222205142, 1224160695, 1224483514, 1225782067, 1225826316, 1228790477, 1230249935, 1231793765, 1232354877, 1232570205, 1233118538, 1234005250, 1235877411, 1236634402, 1236881544, 1237593959, 1239589935, 1240238377, 1240847207, 1240847384, 1241201746, 1241562611, 1241780729, 1242862547, 1242862547, 1244972261, 1245138152, 1248024164, 1248373961, 1248656321, 1249233293, 1250086438, 1250552622, 1252395845, 1252397544, 1253509526, 1254314414, 1256879089, 1258028905, 1258578140, 1259192110, 1260240041, 1261622174, 1262232664, 1262232664, 1262757425, 1262757425, 1263744171, 1265926357, 1266034128, 1266601791, 1267187220, 1267694571, 1268202511, 1268224866, 1268395428, 1270910033, 1270910033, 1271568355, 1272707385, 1273028610, 1273427157, 1274527183, 1274868157, 1279069394, 1279107520, 1279432512, 1281241694, 1281979320, 1282170849, 1283695037, 1285978099, 1285978099, 1286090147, 1287625224, 1288127189, 1288422948, 1290977363, 1291454590, 1291920834, 1292471734, 1292516710, 1292776610, 1293666945, 1293898034, 1294168580, 1294246399, 1294307125, 1294362781, 1295103451, 1295580102, 1295998772, 1296031724, 1296196094, 1296196094, 1297883316, 1298825778, 1302023578, 1303650689, 1304462261, 1306673067, 1307752638, 1308938044, 1308938044, 1309244100, 1310359367, 1310887324, 1312278588, 1314016157, 1317457036, 1318697345, 1319516391, 1319688775, 1319688775, 1319710821, 1321379802, 1323861105, 1324137964, 1326468380, 1326692404, 1328252259, 1328937594, 1328942946, 1329966264, 1331568195, 1334103263, 1335311695, 1335311695, 1336943532, 1338145576, 1338692833, 1341825654, 1342526105, 1342966117, 1343008233, 1343377447, 1344848434, 1346018711, 1346018711, 1346546820, 1348066075, 1348952423, 1348952423, 1350052125, 1353615610, 1354563132, 1355027178, 1355128128, 1355308806, 1356644152, 1357141830, 1357321476, 1361091232, 1361091232, 1366580044, 1367009568, 1367009568, 1367361645, 1368989939, 1369155645, 1370880921, 1371140754, 1371370078, 1373960279, 1374693035, 1376828241, 1377775139, 1377775139, 1377775139, 1377775139, 1377775139, 1377775139, 1377775139, 1378014156, 1379557006, 1379762586, 1379762586, 1379762586, 1379771534, 1379992611, 1380443466, 1382718077, 1382729515, 1383640139, 1385243408, 1385467505, 1385467505, 1387049198, 1387351015, 1389381294, 1390869457, 1391954072, 1392633388, 1394107692, 1394444202, 1395418748, 1395441856, 1396698246, 1396859392, 1396946481, 1397620420, 1398237952, 1398790362, 1399281496, 1402496977, 1405219355, 1405466471, 1406485175, 1408110894, 1409763237, 1409978747, 1410470735, 1411416035, 1411445502, 1412032952, 1412777345, 1413412890, 1414137177, 1414237338, 1415470171, 1415470171, 1415470171, 1417048483, 1418454388, 1419102475, 1419417265, 1419722774, 1419877734, 1420277591, 1421242309, 1424870861, 1425893568, 1426016971, 1426799777, 1428369796, 1431809781, 1432949687, 1433134857, 1433663251, 1434006815, 1434313354, 1434613141, 1434634980, 1434644170, 1435886693, 1435886693, 1435886693, 1439040471, 1439040471, 1439040471, 1439040471, 1439040471, 1439040471, 1439040471, 1439040471, 1439251819, 1442087830, 1442128456, 1442880172, 1445023429, 1446287154, 1446504051, 1446934419, 1447144458, 1449254214, 1451416068, 1451596404, 1453266838, 1456614012, 1459238255, 1459605817, 1459629763, 1460679998, 1465439754, 1465594549, 1466218273, 1466387988, 1467661539, 1467679122, 1467679122, 1467679122, 1467936339, 1468371691, 1468422380, 1471066637, 1472288642, 1472288642, 1473115022, 1473654045, 1473792045, 1473846276, 1474521323, 1474534825, 1476451369, 1478216738, 1478430728, 1478501316, 1480380905, 1480698729, 1480788923, 1481632103, 1481925001, 1483253516, 1483509768, 1484012004, 1484263815, 1487614676, 1487614676, 1487614676, 1487614676, 1487614676, 1487614676, 1488665776, 1489267715, 1491095762, 1493746648, 1495337903, 1495742734, 1495742734, 1495742734, 1496775602, 1497318259, 1497454951, 1498284281, 1499765554, 1501291109, 1501402910, 1502027091, 1502336885, 1503207726, 1503288164, 1505369469, 1505422873, 1505716809, 1506815865, 1508319407, 1510726156, 1510867454, 1511995914, 1514055647, 1515646424, 1516028504, 1516495956, 1516677264, 1518045240, 1518740225, 1518740225, 1519619202, 1523471512, 1523650600, 1525326179, 1525336581, 1526373828, 1526700287, 1527574616, 1528037296, 1528098507, 1530285121, 1531718992, 1532591727, 1533252306, 1533542019, 1533718395, 1534344028, 1534637171, 1534661105, 1534795466, 1536881124, 1537411000, 1537471514, 1537790397, 1539236083, 1540213528, 1544703003, 1544975798, 1544975798, 1546618804, 1547335503, 1550979633, 1551968839, 1552734849, 1553661481, 1556417409, 1557865409, 1557948235, 1558457571, 1558973278, 1559592540, 1559705943, 1561116998, 1561273279, 1563618988, 1563858248, 1567238384, 1568250578, 1568854247, 1568912269, 1573126215, 1574072159, 1574933549, 1575002949, 1575758190, 1575758190, 1576032985, 1577352451, 1577352451, 1577352451, 1578070468, 1579513971, 1582191096, 1582719259, 1583744987, 1585131451, 1585581638, 1585759854, 1585772044, 1587622261, 1589721859, 1590193141, 1591571872, 1592574278, 1595347821, 1595890177, 1596817456, 1597997574, 1598814367, 1602762102, 1602762102, 1602762102, 1603169034, 1605502463, 1610466198, 1610993962, 1614027333, 1614262045, 1617641872, 1619343683, 1619971176, 1622263293, 1623158116, 1624293967, 1624778658, 1624778658, 1624965837, 1626405342, 1626430474, 1626430474, 1626679303, 1627628910, 1628456545, 1629741090, 1629996835, 1630469074, 1632146293, 1633200474, 1636050902, 1637206601, 1637526906, 1637655882, 1638140703, 1638140703, 1638694327, 1638972163, 1641916480, 1643090479, 1643221001, 1644857955, 1645433029, 1645784835, 1647530747, 1647886562, 1648372395, 1650156064, 1650190220, 1650674143, 1651131108, 1651757107, 1652653387, 1653791067, 1653791067, 1654368711, 1654705454, 1659281852, 1660089993, 1661385944, 1661686078, 1662147973, 1662267441, 1663479904, 1663481491, 1663481491, 1663481491, 1664417640, 1666318332, 1667108462, 1668581369, 1670347949, 1670420307, 1670420307, 1674473718, 1674627933, 1674627933, 1676335879, 1677697905, 1678258744, 1678751348, 1679386426, 1680216018, 1681188975, 1681339436, 1681480132, 1681661562, 1681841220, 1684253722, 1684602643, 1684983422, 1685442214, 1687450209, 1687529162, 1688026202, 1688497442, 1689551681, 1690995726, 1691968800, 1692522451, 1693687843, 1695180885, 1696589095, 1696589095, 1697026904, 1697234622, 1697234622, 1697234622, 1698913620, 1698983595, 1701084310, 1702200143, 1705196140, 1705673781, 1708866677, 1709272852, 1709333273, 1710933785, 1710998423, 1710998423, 1712158137, 1712473274, 1713842296, 1715395585, 1717123274, 1717988541, 1718736956, 1721705832, 1724614507, 1724614507, 1724902243, 1729840227, 1729840227, 1729840227, 1729869190, 1730971401, 1732919694, 1732919694, 1733584251, 1734558603, 1735491259, 1736257670, 1736262073, 1737016575, 1737057982, 1737243700, 1737243700, 1737752522, 1737752522, 1737752522, 1739726845, 1741002590, 1741195941, 1741195941, 1741841413, 1743692211, 1744031853, 1747163432, 1751164060, 1751885992, 1751885992, 1751885992, 1752254111, 1753396450, 1753396450, 1753396450, 1760040564, 1760234250, 1761711463, 1761711463, 1763333249, 1763943643, 1764443258, 1765174282, 1766503943, 1766511629, 1767317667, 1769027090, 1771184393, 1772046458, 1772248237, 1773002211, 1773036589, 1773036589, 1773628248, 1773650441, 1774647329, 1775149475, 1775429954, 1776345532, 1776891477, 1778859503, 1778859503, 1778894218, 1779298447, 1780048763, 1782530289, 1782667169, 1782957447, 1783106428, 1783223190, 1786170599, 1786789774, 1787088651, 1792429072, 1793501351, 1794818510, 1797893437, 1798436262, 1798618727, 1799855615, 1800087353, 1803728358, 1803934798, 1808717567, 1809055489, 1809469739, 1809678002, 1810576410, 1811288340, 1812055964, 1812930246, 1816661883, 1817505028, 1817779098, 1817945678, 1818511140, 1819946902, 1820397365, 1820753607, 1820765390, 1821575632, 1821833944, 1823280499, 1826052033, 1826974704, 1828814398, 1828851550, 1829011016, 1829172141, 1829518078, 1830885333, 1831124613, 1834204033, 1837178928, 1837943235, 1841354639, 1841967745, 1843020274, 1843775424, 1844124192, 1845110109, 1845144120, 1845501998, 1845766566, 1846446527, 1846544874, 1848252609, 1848432358, 1850799226, 1851519844, 1851691552, 1851711792, 1852064281, 1855704887, 1856066409, 1856359373, 1859706627, 1860391111, 1863376570, 1865205739, 1866875386, 1866875386, 1866967604, 1870245128, 1870378811, 1873627315, 1874944385, 1874958873, 1876192479, 1876590868, 1877531139, 1877717409, 1880192627, 1880665987, 1882757421, 1882983477, 1884446924, 1885167384, 1885600918, 1886755894, 1887393953, 1888713494, 1889566345, 1889840841, 1890863043, 1891287829, 1891712314, 1891994432, 1894042996, 1895321401, 1895949244, 1896838554, 1897060792, 1898573448, 1898681150, 1900539496, 1900660575, 1901164236, 1903060042, 1904191090, 1904505301, 1904565606, 1904656399, 1905344386, 1905344386, 1907724298, 1908566585, 1909015527, 1909744863, 1910243549, 1910497617, 1912253329, 1913827266, 1914068604, 1915490845, 1916238396, 1916586804, 1916586804, 1916586804, 1916586804, 1916586804, 1916586804, 1916586804, 1916586804, 1916586804, 1916586804, 1916586804, 1916586804, 1916586804, 1916586804, 1916586804, 1916598363, 1919635684, 1921745281, 1922655809, 1922974901, 1923004898, 1923643278, 1924830957, 1925410720, 1927508421, 1928070731, 1928070731, 1930326429, 1936594967, 1937216279, 1938624693, 1938624693, 1940389915, 1941068294, 1943602046, 1944241135, 1945478653, 1945623982, 1948323916, 1948355883, 1950132086, 1950686461, 1952689963, 1953104315, 1953380721, 1953968673, 1954875059, 1956054338, 1961389682, 1964630845, 1964818934, 1964956469, 1965730457, 1966537792, 1966794399, 1966794399, 1966794399, 1966794399, 1967787219, 1968966255, 1969052866, 1969052866, 1969052866, 1970295676, 1970295676, 1970678724, 1973429176, 1974214327, 1974433890, 1975369135, 1976017800, 1976737146, 1980997576, 1982180194, 1983541079, 1983716346, 1984208155, 1986260555, 1987204170, 1987634574, 1987722741, 1988281917, 1988557791, 1989692210, 1990613840, 1991188208, 1991389170, 1991454426, 1991546009, 1991731789, 1992259725, 1992651385, 1993048338, 1993238910, 1994710630, 1994880184, 1995003158, 1995503321, 1995800593, 1996375150, 1997108708, 1997984357, 1998958604, 1999287880, 2000390842, 2000786713, 2000804953, 2001173655, 2003398866, 2003398866, 2003398866, 2006900866, 2008468607, 2008888963, 2009280974, 2016294043, 2016294043, 2016294043, 2016648114, 2017747772, 2018231524, 2018610313, 2018804522, 2020240987, 2020704845, 2020965431, 2021030738, 2023416436, 2023484990, 2023678300, 2024351322, 2027747424, 2027747424, 2029098361, 2031341060, 2031986775, 2035953888, 2036716222, 2038734629, 2040566381, 2040595812, 2041225543, 2043599631, 2043621597, 2044070349, 2047351790, 2049103345, 2049984883, 2049984883, 2051292585, 2051758500, 2053073090, 2053436066, 2057135338, 2057135338, 2058250372, 2059634591, 2060166618, 2062020538, 2062183850, 2063097140, 2064396842, 2064942820, 2066144868, 2066201087, 2067780111, 2070081415, 2072231285, 2072658659, 2072658659, 2072658659, 2072738268, 2072738268, 2072767027, 2074796452, 2078306888, 2078369257, 2078407279, 2079726000, 2081056596, 2081522467, 2081588921, 2081983835, 2082310076, 2083581609, 2083843544, 2084442062, 2084553345, 2086033145, 2086175429, 2087292782, 2089232025, 2089893863, 2091227802, 2091786379, 2091974636, 2092814246, 2092883501, 2093986993, 2095876440, 2096314970, 2097698142, 2101983807, 2102300252, 2102647287, 2103622197, 2103725165, 2104449076, 2104957761, 2105620014, 2109025764, 2111793251, 2112549511, 2112779999, 2112779999, 2113007146, 2113085233, 2113326379, 2113394412, 2114929652, 2115285868, 2116769697, 2117336222, 2117887441, 2118540182, 2119656140, 2121235892, 2121940781, 2122531396, 2122531396, 2123098163, 2123370102, 2123370102, 2126341097, 2126991863, 2128205148, 2128272311, 2130182427, 2130528592, 2132239834, 2132374816, 2133367592, 2133367592, 2133668593, 2133847718, 2134086522, 2135387865, 2136124428, 2138637738, 2141821116, 2141866197, 2142663123, 2144618961, 2144996875, 2147401303, 2147481935, 2152439832, 2155545658, 2155585706, 2156413773, 2156813995, 2157330368, 2157455397, 2157815069, 2159751443, 2159976794, 2161143734, 2161269879, 2161287856, 2162610973, 2162984845, 2163039058, 2163320072, 2165145465, 2166136730, 2167208057, 2167646939, 2167895958, 2168027323, 2170194171, 2171274259, 2171821789, 2171899363, 2172461113, 2174376818, 2175545102, 2175612887, 2177420274, 2177879391, 2179336045, 2181528883, 2182591624, 2183548004, 2184301084, 2184381133, 2184381133, 2184381133, 2184381133, 2184381133, 2186796410, 2187919553, 2188311502, 2191442753, 2191442753, 2191960362, 2193961315, 2194017743, 2198414868, 2200545155, 2203036303, 2204239174, 2205443765, 2205844992, 2207333954, 2208748824, 2208954104, 2210398625, 2212788057, 2214528143, 2214550967, 2214635126, 2215375441, 2215845750, 2216180719, 2216262424, 2218189662, 2220585344, 2221033668, 2222373407, 2223822958, 2224457366, 2224596367, 2224962589, 2226890238, 2227844953, 2228458441, 2228515010, 2228838573, 2228838573, 2230397486, 2230745139, 2230905913, 2234496493, 2234496493, 2234985118, 2235834003, 2235834003, 2236208164, 2236456077, 2238840975, 2239418499, 2240061920, 2243638752, 2244009048, 2244514120, 2245491489, 2246393419, 2247775118, 2247799713, 2250222970, 2250685049, 2252469559, 2253003134, 2253976088, 2254615061, 2254910422, 2255515770, 2255560258, 2257628886, 2259932335, 2260465924, 2262119582, 2262119582, 2262119582, 2266432593, 2266564366, 2267267143, 2267291221, 2267841999, 2269959955, 2270106404, 2271592142, 2271639088, 2276779391, 2277809293, 2278028337, 2278866810, 2279875397, 2279893316, 2279919312, 2282298089, 2282643226, 2283178054, 2284845317, 2285122043, 2288286609, 2289309546, 2292402036, 2292415626, 2292794455, 2292794455, 2292987635, 2298242168, 2299480759, 2299606403, 2302117866, 2302162208, 2302418678, 2303668046, 2303760543, 2303956628, 2306150723, 2307208241, 2309684679, 2310593640, 2310593640, 2311805563, 2313206591, 2315801279, 2316546384, 2320147558, 2323051864, 2326580217, 2327285739, 2327883629, 2328964807, 2329682316, 2329953759, 2329953759, 2329953759, 2330830246, 2332457857, 2333188986, 2333447398, 2334213796, 2335152988, 2336271862, 2337157862, 2337157862, 2337157862, 2337710271, 2339216185, 2340178543, 2341425206, 2341526450, 2343447960, 2345923392, 2345923392, 2345923392, 2347391086, 2347525603, 2347545967, 2348860956, 2350838511, 2352356292, 2354021335, 2359691677, 2359956183, 2359956183, 2360273326, 2362662686, 2363040566, 2364635427, 2365861449, 2367791631, 2369418315, 2370041165, 2373518918, 2373625872, 2373625872, 2374954177, 2375602869, 2378516260, 2378794837, 2378794837, 2378805411, 2381136498, 2382729335, 2384404936, 2385288150, 2386377947, 2388215587, 2388538669, 2388924928, 2390534927, 2391844700, 2392003551, 2392064510, 2392309875, 2392575661, 2394924121, 2397841695, 2399084721, 2399249008, 2399663403, 2399855002, 2399911403, 2400386754, 2401852534, 2402409484, 2405221099, 2405822888, 2406248187, 2406333672, 2408623140, 2410000664, 2410124329, 2410313689, 2411252753, 2411521995, 2411521995, 2411535579, 2411752489, 2412366506, 2412918305, 2413739683, 2413739683, 2414202910, 2416923086, 2417852851, 2419186692, 2419576000, 2420632202, 2424496016, 2426327762, 2426664137, 2427683489, 2429523075, 2429841132, 2430607256, 2431318439, 2431760266, 2432739887, 2433063366, 2434008649, 2434008649, 2434534918, 2435383673, 2436563538, 2436618803, 2436738346, 2436741159, 2437258012, 2437466733, 2437819506, 2438093754, 2438749921, 2440331916, 2441826517, 2442145654, 2442277497, 2443303652, 2444256819, 2447757565, 2448528371, 2449167329, 2449530805, 2450481312, 2450481312, 2450481312, 2450790484, 2451337867, 2451591126, 2451774324, 2452041182, 2456029631, 2456029631, 2456029631, 2456466629, 2457544103, 2457736843, 2457736843, 2459121773, 2459930823, 2460291867, 2460327219, 2460327219, 2460468346, 2460868664, 2461919890, 2461919890, 2463152156, 2464761177, 2466793188, 2467389713, 2471073053, 2471712243, 2471712243, 2471993056, 2472004620, 2472183704, 2472183704, 2473961187, 2475145463, 2476540959, 2477430830, 2481212464, 2481235083, 2481302781, 2481302781, 2481302781, 2481714256, 2482159087, 2482816749, 2484972854, 2486074379, 2486151444, 2487400000, 2488891155, 2488891155, 2488891155, 2488891155, 2488891155, 2488891155, 2488891155, 2488891155, 2488919203, 2490523016, 2493541304, 2493753195, 2494014400, 2496655144, 2498833947, 2499818695, 2500265969, 2501902598, 2502163557, 2502163557, 2503936488, 2505063045, 2505163336, 2508287915, 2512115456, 2512115456, 2512720833, 2514457518, 2514791186, 2514791186, 2517182267, 2517182267, 2517182267, 2517182267, 2517282301, 2518053755, 2519395276, 2521916401, 2523464480, 2523792161, 2523792161, 2524990771, 2526212453, 2528244037, 2529342017, 2529711969, 2529711969, 2532656340, 2533122442, 2534889371, 2536491864, 2537517914, 2537985905, 2538305152, 2542096917, 2542732147, 2543315410, 2543754991, 2544664256, 2546567211, 2549093950, 2549400441, 2549544050, 2551478603, 2552751264, 2552769863, 2553949315, 2555341257, 2555803672, 2556217586, 2556329272, 2558882945, 2558882945, 2558983370, 2561119217, 2562719513, 2565348010, 2565892074, 2567382195, 2569937969, 2570001122, 2573670314, 2573670314, 2573675623, 2574957126, 2576482222, 2576653672, 2576855304, 2578836267, 2578856573, 2581265961, 2581732057, 2581963485, 2583317526, 2584759473, 2586346231, 2587719747, 2591888086, 2592960993, 2594093483, 2595189935, 2595802889, 2595802889, 2596289394, 2597878069, 2597965601, 2598801321, 2599544488, 2602937952, 2604993794, 2606613354, 2606991791, 2607526648, 2607614186, 2611603470, 2612843149, 2613283700, 2613880256, 2614798754, 2615469900, 2616126422, 2616328510, 2616708831, 2617089564, 2617616999, 2620694955, 2620705323, 2620705323, 2620719556, 2621370654, 2621624475, 2622319836, 2623049775, 2623049775, 2623431844, 2625165775, 2628196039, 2628988192, 2629265997, 2630848431, 2630848431, 2632655118, 2633168868, 2633708944, 2635442115, 2636086159, 2637005973, 2637987457, 2638029116, 2639665191, 2640323466, 2641536489, 2645080804, 2646642916, 2646692820, 2648048560, 2648798842, 2650068937, 2650100796, 2650546233, 2652040778, 2652423522, 2652779878, 2654741402, 2657041446, 2657134451, 2657391612, 2658082100, 2662965162, 2663351374, 2665418553, 2666845842, 2667090978, 2668527602, 2669701648, 2671875123, 2672070978, 2672297015, 2673050946, 2674339247, 2674401852, 2674833913, 2674937653, 2674951869, 2677981110, 2679327968, 2681095947, 2681821746, 2681821746, 2681959980, 2684518536, 2685183977, 2685673448, 2685733227, 2688129199, 2690568492, 2691259494, 2691259494, 2692179877, 2692933578, 2694073124, 2694528563, 2697224387, 2697517813, 2698986175, 2699369551, 2699605174, 2700064686, 2700211164, 2700523301, 2700665805, 2703282933, 2703282933, 2706089814, 2706639107, 2707402224, 2707977862, 2708530056, 2710092645, 2711530626, 2711855074, 2712936130, 2712936130, 2715580798, 2715948389, 2717652655, 2718160383, 2719120465, 2722463686, 2722854251, 2726018981, 2726946598, 2728064911, 2729744682, 2729805611, 2730711656, 2730711656, 2730711656, 2730873740, 2731388498, 2731958799, 2732718210, 2732718210, 2732888226, 2733785078, 2736538507, 2737217304, 2738271079, 2739161075, 2739903519, 2740224248, 2741962937, 2745033162, 2746222229, 2746222229, 2746222229, 2747776867, 2748031923, 2749019751, 2749067751, 2749561056, 2750450433, 2751091044, 2752341026, 2754926128, 2755052609, 2756773210, 2757302957, 2758202044, 2759167558, 2759610060, 2759981534, 2763270021, 2763630634, 2764042763, 2765431263, 2768441949, 2770425458, 2771155211, 2771173663, 2771173663, 2771624366, 2771624366, 2771834931, 2771923110, 2773112272, 2773658227, 2777516380, 2778445778, 2780322536, 2780528575, 2785777260, 2787290142, 2787378994, 2787418091, 2787722347, 2787989105, 2788028093, 2788028093, 2791538766, 2791938851, 2793347801, 2793848913, 2794400260, 2795344320, 2797141866, 2798669161, 2799105054, 2799442621, 2799819671, 2801640660, 2802219737, 2802399820, 2803776515, 2803814292, 2804453211, 2804601710, 2805130369, 2805568267, 2805568267, 2805568267, 2809792380, 2810464176, 2812131133, 2813251473, 2814794135, 2815823417, 2816198710, 2818658544, 2820231473, 2821483348, 2822790936, 2822938623, 2823461497, 2824490745, 2824885367, 2824922612, 2826978441, 2827037943, 2827597909, 2827597909, 2827597909, 2828532757, 2830249188, 2830249188, 2831780605, 2832234959, 2834151142, 2834209871, 2834614649, 2837887748, 2837915377, 2838358866, 2839227029, 2839827229, 2839890320, 2840009387, 2840012216, 2840493518, 2841679859, 2845429954, 2847760616, 2848451303, 2848451303, 2849914031, 2850556566, 2850640546, 2850640546, 2850640546, 2851686563, 2851686563, 2853957644, 2854513640, 2854927872, 2855406111, 2857367302, 2858903974, 2859497369, 2859666409, 2860863517, 2864284334, 2865056104, 2867100812, 2867250423, 2868208152, 2868654766, 2869322025, 2870248507, 2872173628, 2876251997, 2876971917, 2878049473, 2878150299, 2879094456, 2879117221, 2880863524, 2881055800, 2883640979, 2883705361, 2885040910, 2887898168, 2889136044, 2889434215, 2889992197, 2890299922, 2890619670, 2892055399, 2893451728, 2895387351, 2896679881, 2897575898, 2898917461, 2901478180, 2901865675, 2901880461, 2902294164, 2903639702, 2905006204, 2905084827, 2905388817, 2905388817, 2905894778, 2905927596, 2906002025, 2906934386, 2907194213, 2908604363, 2908747321, 2912653662, 2913014644, 2913179671, 2913478758, 2913575126, 2916762834, 2918080482, 2919600594, 2920218177, 2920617866, 2921998965, 2924199979, 2925370543, 2925767395, 2926057184, 2926057184, 2926057184, 2927033678, 2929426696, 2929426696, 2929866942, 2930768076, 2932056503, 2932800928, 2934817700, 2937808129, 2938570100, 2938981984, 2942221093, 2943317821, 2943669080, 2944916536, 2946200912, 2947774344, 2948078230, 2948877882, 2949786143, 2950428137, 2951177357, 2952777993, 2953374561, 2953424024, 2955546458, 2957163977, 2958665715, 2958665715, 2959631223, 2962549355, 2962771548, 2963312555, 2963947833, 2967278638, 2967825591, 2968189765, 2971013793, 2971066126, 2971066126, 2971066126, 2974843645, 2975446097, 2975984806, 2976155172, 2978301148, 2979738723, 2980681101, 2982225355, 2985669129, 2986487622, 2989067295, 2991188753, 2992811849, 2993144772, 2996583540, 2996583540, 2996583540, 2996583540, 2996583540, 2999399624, 2999399624, 3000074318, 3001366703, 3002716857, 3009358683, 3011279857, 3011577795, 3011794568, 3012868414, 3013593885, 3013620110, 3015811889, 3016186078, 3020255854, 3021598392, 3023136622, 3024768363, 3026897686, 3029046645, 3029538485, 3029649277, 3031931675, 3034043246, 3036448416, 3037299478, 3042180494, 3043124895, 3043124895, 3043124895, 3043898427, 3044419762, 3045293808, 3045301528, 3046254958, 3046536955, 3047770268, 3047979480, 3048709993, 3052336588, 3052435454, 3053027905, 3053187606, 3053435267, 3054700206, 3055055692, 3057063852, 3057482297, 3057482297, 3059305496, 3059770104, 3060136223, 3062416606, 3062471469, 3062648989, 3065816992, 3066424845, 3066503015, 3067297891, 3068097056, 3068249436, 3068753382, 3070222370, 3070442696, 3072917601, 3075611749, 3076684508, 3078702259, 3078873284, 3080395074, 3080579782, 3080729012, 3082948913, 3083730102, 3087233929, 3087654419, 3088706327, 3089000148, 3091902703, 3092188031, 3092413614, 3094239653, 3095978239, 3100074917, 3101307794, 3101767997, 3102930460, 3103572179, 3105355834, 3106717717, 3107245763, 3107457369, 3111224106, 3113516551, 3114752354, 3116632212, 3117669892, 3119474253, 3120176048, 3120234032, 3121183495, 3121183495, 3121183495, 3122650523, 3124949374, 3126050587, 3129197834, 3130865558, 3131507909, 3131631228, 3132622436, 3133327986, 3137127842, 3137333026, 3138010508, 3138753759, 3138855011, 3139836679, 3140545580, 3141765503, 3141791767, 3142285090, 3144592760, 3144770654, 3147245785, 3147330903, 3147732070, 3150613044, 3152173930, 3152272792, 3152719342, 3152719342, 3153173338, 3153201335, 3153714647, 3153832644, 3153832644, 3153832644, 3156232675, 3156232675, 3156379343, 3156977138, 3158760934, 3158760934, 3158762611, 3159593077, 3159593077, 3159718547, 3161188926, 3161514775, 3162463124, 3164037917, 3168525113, 3169016538, 3170092285, 3171986804, 3172198893, 3173728099, 3174295272, 3174295272, 3174648634, 3174657256, 3174796183, 3175521626, 3180165583, 3181575781, 3182071330, 3184970364, 3185103297, 3185103297, 3185103297, 3185589665, 3185919431, 3188235225, 3190157509, 3191200792, 3191205314, 3191565041, 3192793519, 3193177406, 3193861462, 3194040330, 3196586514, 3197383415, 3201000091, 3202044698, 3202478981, 3202758771, 3203182766, 3203772612, 3203772612, 3203772612, 3205227855, 3205697728, 3205994036, 3207194821, 3207419791, 3209597139, 3210289172, 3212585932, 3213102952, 3213274587, 3214840581, 3214999254, 3214999254, 3216813643, 3218079500, 3219331506, 3224967805, 3225355844, 3225369937, 3225826173, 3227036787, 3227057130, 3227057130, 3227057130, 3228463806, 3229420349, 3231659097, 3232931155, 3234560124, 3235758676, 3238017051, 3239657964, 3239902565, 3240884849, 3242204277, 3244424993, 3244773490, 3244909427, 3247563198, 3249342163, 3250007226, 3250014410, 3250235183, 3250496675, 3250558626, 3250810889, 3251901607, 3253835870, 3256055558, 3256783852, 3257061154, 3258116811, 3258116811, 3260158471, 3260181550, 3260181550, 3260866787, 3261766627, 3262149932, 3262419754, 3262877161, 3264877394, 3265859838, 3268207046, 3270182774, 3272592270, 3273155010, 3273364710, 3273866842, 3274135383, 3275206621, 3277069427, 3277445738, 3277630618, 3277893921, 3278132037, 3278209820, 3278401892, 3279301990, 3279472559, 3279776210, 3279989453, 3280776718, 3281046266, 3281988507, 3284576178, 3284772028, 3285668563, 3285732239, 3286832671, 3289398365, 3289639728, 3290025383, 3291606044, 3291740158, 3294256762, 3298739976, 3300729627, 3301238179, 3305889448, 3306702853, 3307613276, 3308036406, 3311537206, 3312084720, 3313447964, 3315235241, 3317065302, 3317467968, 3318803659, 3319139291, 3321988577, 3322193247, 3323709565, 3324657481, 3328742242, 3331937915, 3334918342, 3335151044, 3335373934, 3337272310, 3338160996, 3339256812, 3341395469, 3341395469, 3342127053, 3342223834, 3342375543, 3342577320, 3342577320, 3342846438, 3343288003, 3343985728, 3344387698, 3347961100, 3348848853, 3349215741, 3349215741, 3349777417, 3354140118, 3354247363, 3355374744, 3357389028, 3357774297, 3357994332, 3358894744, 3359236427, 3361219005, 3362600569, 3363033674, 3363895639, 3365059929, 3365138814, 3366044309, 3366457563, 3366987378, 3367582735, 3367990686, 3368178042, 3368235271, 3368398988, 3371482808, 3374440276, 3374913188, 3375443561, 3378231749, 3378231749, 3380001968, 3380197579, 3380859072, 3383326018, 3383368416, 3383889401, 3385305913, 3385887074, 3385956003, 3387355958, 3389074848, 3389362581, 3392149786, 3392551664, 3394829278, 3396066671, 3396066671, 3396787688, 3396837749, 3397722787, 3399217984, 3399514052, 3400306366, 3400789671, 3402924940, 3403311303, 3405751105, 3407389134, 3407822386, 3409079204, 3410488807, 3412022217, 3412049001, 3413104227, 3413510033, 3414925961, 3415405486, 3415871335, 3416530335, 3416742730, 3419381636, 3421240504, 3421762815, 3424295430, 3424827137, 3427833885, 3428358445, 3428565077, 3430652651, 3431835939, 3432687115, 3432887203, 3434289324, 3434289324, 3434289324, 3435117790, 3437402613, 3438298113, 3438673279, 3439123427, 3440140224, 3443190257, 3444776652, 3444776652, 3445096407, 3445940165, 3447244144, 3447931945, 3448040470, 3448186546, 3448867145, 3449799619, 3451041223, 3451897545, 3452113495, 3452393147, 3452703709, 3453589040, 3454503499, 3454513192, 3454513192, 3455348310, 3456358751, 3456358751, 3458806315, 3460025625, 3460695741, 3461661521, 3462106032, 3465269882, 3467239551, 3468215760, 3469395168, 3469673749, 3471532768, 3476605615, 3479367653, 3482774707, 3483274920, 3486483856, 3486528099, 3487993099, 3488134353, 3489269219, 3489564687, 3490203510, 3490295542, 3490975742, 3491330403, 3492155866, 3494095620, 3494865384, 3495029178, 3496888627, 3498788116, 3500666640, 3503511793, 3503767790, 3504404538, 3508265436, 3509979356, 3510026573, 3510026573, 3510384036, 3510384036, 3510384036, 3510384036, 3512907602, 3518496169, 3519006374, 3519584114, 3522445791, 3524567707, 3525582419, 3527110723, 3529950597, 3530595775, 3531502001, 3531713425, 3533426026, 3534420081, 3536022725, 3538030298, 3538608734, 3539132605, 3539132605, 3539318915, 3539412808, 3540657494, 3540657494, 3541211090, 3541211712, 3541572765, 3543556756, 3545071240, 3546297129, 3547035659, 3547241830, 3547976123, 3548015155, 3549974938, 3551628084, 3552952485, 3553293908, 3553958639, 3554796650, 3554799767, 3556492233, 3557822066, 3558730784, 3558877700, 3558877700, 3561959058, 3561959058, 3565518235, 3565518235, 3565922095, 3566949106, 3572303394, 3572303394, 3573801066, 3573906593, 3576555987, 3578588594, 3579003702, 3580247079, 3582692558, 3584111885, 3585251135, 3585618924, 3586958521, 3588015617, 3589678208, 3591045572, 3592998648, 3592998648, 3592998648, 3593732013, 3593732013, 3594257022, 3595003894, 3596919741, 3598654889, 3600354018, 3601170108, 3605979810, 3606113640, 3608317364, 3609513814, 3609513814, 3610757956, 3611169919, 3612457436, 3612725895, 3613193375, 3614750049, 3617043573, 3617412730, 3617764400, 3617800766, 3618262782, 3619293019, 3620002918, 3621542263, 3624706809, 3625676237, 3626077453, 3626090658, 3626760039, 3627096903, 3628527670, 3628551121, 3628635190, 3628635190, 3630345391, 3633549377, 3636465413, 3638027170, 3638027170, 3638027170, 3644222422, 3644222422, 3644679085, 3644760082, 3647901258, 3650058717, 3650058717, 3650058717, 3653299036, 3654184274, 3656085126, 3657452969, 3657545009, 3657832266, 3657850830, 3659248684, 3660221650, 3660562231, 3660562231, 3663977825, 3664159153, 3664159153, 3664647415, 3665115179, 3665308892, 3665375461, 3666588652, 3667181013, 3668113629, 3669462512, 3670669580, 3670743463, 3671305687, 3672834020, 3672834020, 3673238055, 3673356650, 3673356650, 3673515783, 3674982074, 3676549575, 3676549575, 3676549575, 3680647213, 3682145015, 3682208896, 3687767767, 3689350129, 3689350129, 3689619682, 3690620504, 3692752619, 3692752619, 3695840727, 3696729663, 3698403222, 3699137852, 3701557763, 3702955709, 3703149534, 3704467774, 3704995129, 3707778176, 3708724724, 3709557993, 3709666383, 3713374095, 3716302486, 3716730377, 3720752017, 3720891197, 3721626774, 3721626774, 3721626774, 3722195140, 3724125778, 3724766979, 3724995295, 3726165755, 3727658877, 3728157641, 3729115459, 3731977676, 3732003220, 3732292309, 3733346747, 3733354500, 3733354500, 3733354500, 3733354500, 3733354500, 3733829286, 3734136064, 3738521728, 3739116012, 3739768279, 3740920541, 3741704888, 3743358867, 3743541248, 3744230380, 3746157030, 3746157030, 3746938533, 3747930244, 3750090974, 3751019454, 3753487332, 3754094502, 3756039367, 3758306169, 3759539610, 3760258745, 3760680217, 3760975344, 3761362283, 3761923457, 3762336028, 3763806800, 3763819046, 3764307927, 3764557430, 3765211543, 3765211543, 3766950353, 3768027510, 3769139172, 3770194655, 3770194655, 3770435977, 3771687513, 3772375164, 3774192658, 3777151914, 3777421318, 3778331649, 3778535813, 3781024022, 3781544161, 3781597957, 3781641788, 3782369174, 3783718996, 3784378782, 3784643187, 3784643187, 3786844744, 3788478441, 3792142819, 3792700493, 3793705046, 3793947636, 3794734106, 3794804572, 3796269924, 3796696888, 3796773836, 3797261181, 3797321753, 3797956253, 3799288188, 3800698055, 3800698055, 3800698055, 3801568968, 3801568968, 3802956004, 3804834118, 3805182603, 3805479936, 3806615526, 3807116411, 3808579173, 3809057324, 3809293481, 3809316924, 3810600963, 3811983143, 3812231942, 3812626028, 3815692074, 3816606931, 3819592485, 3820078850, 3820640679, 3821302873, 3821940821, 3822168384, 3822851453, 3823721720, 3825200701, 3825375814, 3826983769, 3826983769, 3826983769, 3826983769, 3826983769, 3828006436, 3828361788, 3830055247, 3831384797, 3832702889, 3833059892, 3834415092, 3836018940, 3837695327, 3838057063, 3838384770, 3838641016, 3838876922, 3839778329, 3841240629, 3842459728, 3842621111, 3842955958, 3843794728, 3845764933, 3845842667, 3849423524, 3849423524, 3849879166, 3850436938, 3850686498, 3852445110, 3852603561, 3853088635, 3853867129, 3854679470, 3855528436, 3855662843, 3855882200, 3857736419, 3857756632, 3859749793, 3859769851, 3861481070, 3862575680, 3862823951, 3862869150, 3863708076, 3865420530, 3865420530, 3867017890, 3867149137, 3868418795, 3868964581, 3871042109, 3872581297, 3874400776, 3875467607, 3875727722, 3877563153, 3879070518, 3879204409, 3883258533, 3883333727, 3883909528, 3883952861, 3884234627, 3885292370, 3886055850, 3886055850, 3886303897, 3886436414, 3887582306, 3887944272, 3889175680, 3891002279, 3892521168, 3892521168, 3897245725, 3897804194, 3898061324, 3898733021, 3900988895, 3901340914, 3901340914, 3904765498, 3907392135, 3907423322, 3907760746, 3908029337, 3908411273, 3909746628, 3909767927, 3910390840, 3911067938, 3911256536, 3912387757, 3912860559, 3915063390, 3915405887, 3915669368, 3915764384, 3916437672, 3916656804, 3916957329, 3917104660, 3917104660, 3917104660, 3918343156, 3919699610, 3919699610, 3919988488, 3919996762, 3919996762, 3921366154, 3922289720, 3924785506, 3925225785, 3925250666, 3925895895, 3926622454, 3926955016, 3927960741, 3929567246, 3930169230, 3930300471, 3931347405, 3932968631, 3933527915, 3934449446, 3935364347, 3940262694, 3941741203, 3944312435, 3944484315, 3946068992, 3946377325, 3946438122, 3947905494, 3949354341, 3951571588, 3951571588, 3951571588, 3951571588, 3951828465, 3952255943, 3952834838, 3953175909, 3953873847, 3956318765, 3958789877, 3962512424, 3962537002, 3965092856, 3967975799, 3968640551, 3968868699, 3969318264, 3969565366, 3969565366, 3969565366, 3970488706, 3971379971, 3972442364, 3973413004, 3973985895, 3974467135, 3975467497, 3975754628, 3976728154, 3977160309, 3978075614, 3978574489, 3979296391, 3979685675, 3980535042, 3981234167, 3981275215, 3981681219, 3982201540, 3982693021, 3983761776, 3984626622, 3984987153, 3985934832, 3985934832, 3988498720, 3992664425, 3994727179, 3994838132, 3997696118, 3998062409, 3998347269, 4000230617, 4000567087, 4002029139, 4002573288, 4004173244, 4004540715, 4007113036, 4009710090, 4010687074, 4010773535, 4013450284, 4016570971, 4017873217, 4018188088, 4018351217, 4019898913, 4020186001, 4022445763, 4024079989, 4025925920, 4026117052, 4026380571, 4027010770, 4027621815, 4028435636, 4030964682, 4031869465, 4032048949, 4032058053, 4032359821, 4032786539, 4033246913, 4035568884, 4036570373, 4036894844, 4039565356, 4039701603, 4043310700, 4044209166, 4047168497, 4047921570, 4049798618, 4052876803, 4052876803, 4053060643, 4056331359, 4058421311, 4059500646, 4060892837, 4063415175, 4064435919, 4064760026, 4064943772, 4067524352, 4067647468, 4067853669, 4069070964, 4069925244, 4071741657, 4073899304, 4073899304, 4075272412, 4075446114, 4075865951, 4080519894, 4082083187, 4083503910, 4083522177, 4084291225, 4084664449, 4084718957, 4085295554, 4085357952, 4087864128, 4089104352, 4089104352, 4090184803, 4093181498, 4093340616, 4093971884, 4094453282, 4095467803, 4096683543, 4098368818, 4098770243, 4098920235, 4099608918, 4099876733, 4100405926, 4101046614, 4101571893, 4102170268, 4102580991, 4102687786, 4102797004, 4103222273, 4103675905, 4103773864, 4104708453, 4106286851, 4106403030, 4109463052, 4109532541, 4112585014, 4112585014, 4112585014, 4112699537, 4113174604, 4114400704, 4115547477, 4116065503, 4116847072, 4116999552, 4118925635, 4118925635, 4119583105, 4120788521, 4123330255, 4124073062, 4124590301, 4128375318, 4128757511, 4130017864, 4131332917, 4135409817, 4137427537, 4137884413, 4139239182, 4139669385, 4139669385, 4140270640, 4141892692, 4141892692, 4141942831, 4144263176, 4144306828, 4144568937, 4145947010, 4146861065, 4151820645, 4152108382, 4152722107, 4153042661, 4153045971, 4153970280, 4155848651, 4155848651, 4155848651, 4155994697, 4156882798, 4158293227, 4158960337, 4160406430, 4163230092, 4164811883, 4165847001, 4166954183, 4167958584, 4167958584, 4168374994, 4168651259, 4169607256, 4169974387, 4170928291, 4171139609, 4171692496, 4174004874, 4174010927, 4174096545, 4174113237, 4175033704, 4175167421, 4175547719, 4175852182, 4176006097, 4176891138, 4177339899, 4177639431, 4177639431, 4177697166, 4177888179, 4181141551, 4181519065, 4181627620, 4185319198, 4185422848, 4185432701, 4185852115, 4190633684, 4190919673, 4192209738, 4193062567, 4193775860, 4196075523, 4198235524, 4198760221, 4200525575, 4200573894, 4201531036, 4203157717, 4204330642, 4205704498, 4205738418, 4207165953, 4207644672, 4208293007, 4209717668, 4211389883, 4212097256, 4212813666, 4214294784, 4214349021, 4215581017, 4215748939, 4215764427, 4222025232, 4222369553, 4223146089, 4224326410, 4225410782, 4226740915, 4226755761, 4227051629, 4227494681, 4227494681, 4227494681, 4227549204, 4227764274, 4228232568, 4228450789, 4228496012, 4228955360, 4229557271, 4230592999, 4230592999, 4230592999, 4231493310, 4231674911, 4231674911, 4231674911, 4233633063, 4233722155, 4239096159, 4241152996, 4241416093, 4241416093, 4242867228, 4243284441, 4243651230, 4244803897, 4244817903, 4246120239, 4246601036, 4248236273, 4249550103, 4249569130, 4249639823, 4250991009, 4251937794, 4252958378, 4253832048, 4256736302, 4258270124, 4261523251, 4262485583, 4263455774, 4263717516, 4264325926, 4266304291, 4267325416, 4267481384, 4267481384, 4267481384, 4267566020, 4267566020, 4268628156, 4270357565, 4270444637, 4270711933, 4272043696, 4273076679, 4273988139, 4274138522, 4277655728, 4278592390, 4279155456, 4279183921, 4280099324, 4285475176, 4285606612, 4285864807, 4288025237, 4288158951, 4291071896, 4291951819, 4292064878, 4292776032, 4293036617, 4293436760, 4293917894, 4294131455, 4294135152, 4294515029, 4294803482])]"
     ]
    }
   ],
   "source": [
    "#optional but advised hashing of shingles into 4 bytes (%2**4*8)\n",
    "movie_shingles = movie_shingles.mapValues(lambda shing: sorted([mmh3.hash(x.lower(),31)%(2**32) for x in shing]))\n",
    "#movie_shingles = movie_shingles.mapValues(lambda shing: sorted([x for x in shing]))\n",
    "\n",
    "movie_shingles.take(2)"
   ]
  },
  {
   "cell_type": "code",
   "execution_count": 30,
   "id": "exempt-pearl",
   "metadata": {},
   "outputs": [
    {
     "data": {
      "application/vnd.jupyter.widget-view+json": {
       "model_id": "50005bcb2405432abc566d3b3b81a37d",
       "version_major": 2,
       "version_minor": 0
      },
      "text/plain": [
       "VBox()"
      ]
     },
     "metadata": {},
     "output_type": "display_data"
    },
    {
     "data": {
      "application/vnd.jupyter.widget-view+json": {
       "model_id": "",
       "version_major": 2,
       "version_minor": 0
      },
      "text/plain": [
       "FloatProgress(value=0.0, bar_style='info', description='Progress:', layout=Layout(height='25px', width='50%'),…"
      ]
     },
     "metadata": {},
     "output_type": "display_data"
    }
   ],
   "source": [
    "def random_hash():\n",
    "    a = random.randint(1,1000)\n",
    "    b = random.randint(0,1000)\n",
    "    return a,b"
   ]
  },
  {
   "cell_type": "code",
   "execution_count": 31,
   "id": "moderate-marriage",
   "metadata": {},
   "outputs": [
    {
     "data": {
      "application/vnd.jupyter.widget-view+json": {
       "model_id": "e47d45584ee0415e9c7212ae6fc4a1e9",
       "version_major": 2,
       "version_minor": 0
      },
      "text/plain": [
       "VBox()"
      ]
     },
     "metadata": {},
     "output_type": "display_data"
    },
    {
     "data": {
      "application/vnd.jupyter.widget-view+json": {
       "model_id": "",
       "version_major": 2,
       "version_minor": 0
      },
      "text/plain": [
       "FloatProgress(value=0.0, bar_style='info', description='Progress:', layout=Layout(height='25px', width='50%'),…"
      ]
     },
     "metadata": {},
     "output_type": "display_data"
    },
    {
     "name": "stdout",
     "output_type": "stream",
     "text": [
      "(138, 555)"
     ]
    }
   ],
   "source": [
    "random_hash()"
   ]
  },
  {
   "cell_type": "code",
   "execution_count": 32,
   "id": "warming-prerequisite",
   "metadata": {},
   "outputs": [
    {
     "data": {
      "application/vnd.jupyter.widget-view+json": {
       "model_id": "776215725223480e918716a28dfc74c8",
       "version_major": 2,
       "version_minor": 0
      },
      "text/plain": [
       "VBox()"
      ]
     },
     "metadata": {},
     "output_type": "display_data"
    },
    {
     "data": {
      "application/vnd.jupyter.widget-view+json": {
       "model_id": "",
       "version_major": 2,
       "version_minor": 0
      },
      "text/plain": [
       "FloatProgress(value=0.0, bar_style='info', description='Progress:', layout=Layout(height='25px', width='50%'),…"
      ]
     },
     "metadata": {},
     "output_type": "display_data"
    }
   ],
   "source": [
    "#n_shingles = 23254807 \n",
    "n_shingles = movie_shingles.flatMap(lambda tup: tup[1]).distinct().count()"
   ]
  },
  {
   "cell_type": "code",
   "execution_count": 36,
   "id": "pretty-article",
   "metadata": {},
   "outputs": [
    {
     "data": {
      "application/vnd.jupyter.widget-view+json": {
       "model_id": "dff167e296654ea8b7ff290145d66e00",
       "version_major": 2,
       "version_minor": 0
      },
      "text/plain": [
       "VBox()"
      ]
     },
     "metadata": {},
     "output_type": "display_data"
    },
    {
     "data": {
      "application/vnd.jupyter.widget-view+json": {
       "model_id": "",
       "version_major": 2,
       "version_minor": 0
      },
      "text/plain": [
       "FloatProgress(value=0.0, bar_style='info', description='Progress:', layout=Layout(height='25px', width='50%'),…"
      ]
     },
     "metadata": {},
     "output_type": "display_data"
    },
    {
     "name": "stdout",
     "output_type": "stream",
     "text": [
      "[(576, 890), (452, 849), (56, 716), (870, 525), (202, 503), (416, 756), (112, 832), (386, 486), (817, 255), (299, 817), (662, 813), (699, 153), (498, 505), (187, 524), (441, 515), (274, 467), (359, 105), (71, 266), (602, 991), (295, 193), (499, 683), (998, 6), (518, 116), (237, 547), (949, 688), (955, 103), (365, 423), (367, 976), (398, 918), (134, 339), (724, 125), (854, 476), (88, 808), (104, 644), (890, 159), (865, 409), (467, 614), (153, 827), (979, 162), (624, 88), (791, 572), (681, 365), (829, 933), (835, 474), (807, 150), (727, 800), (702, 267), (692, 735), (305, 82), (213, 17), (324, 976), (372, 976), (8, 936), (730, 818), (337, 0), (698, 932), (73, 194), (631, 266), (13, 826), (553, 278), (150, 27), (495, 605), (581, 898), (25, 922), (877, 626), (883, 137), (395, 194), (255, 115), (757, 541), (148, 685), (912, 539), (170, 196), (544, 684), (803, 946), (787, 59), (310, 225), (588, 435), (992, 917), (443, 846), (663, 62), (642, 307), (180, 316), (242, 142), (208, 433), (548, 992), (614, 938), (404, 496), (519, 993), (280, 491), (722, 585), (238, 982), (60, 793), (139, 466), (932, 162), (317, 355), (476, 771), (538, 604), (454, 683), (635, 28), (751, 311)]"
     ]
    }
   ],
   "source": [
    "#prime number for hashing\n",
    "p = 24000001\n",
    "#number of hash functions\n",
    "k=100\n",
    "hash_functions = []\n",
    "for i in range(k):\n",
    "    hash_functions.append(random_hash())\n",
    "hash_functions"
   ]
  },
  {
   "cell_type": "code",
   "execution_count": 37,
   "id": "miniature-starter",
   "metadata": {},
   "outputs": [
    {
     "data": {
      "application/vnd.jupyter.widget-view+json": {
       "model_id": "883f7ca5bda54a859ef97b965e64e4ba",
       "version_major": 2,
       "version_minor": 0
      },
      "text/plain": [
       "VBox()"
      ]
     },
     "metadata": {},
     "output_type": "display_data"
    },
    {
     "data": {
      "application/vnd.jupyter.widget-view+json": {
       "model_id": "",
       "version_major": 2,
       "version_minor": 0
      },
      "text/plain": [
       "FloatProgress(value=0.0, bar_style='info', description='Progress:', layout=Layout(height='25px', width='50%'),…"
      ]
     },
     "metadata": {},
     "output_type": "display_data"
    }
   ],
   "source": [
    "def get_signature(hashed_shingles):\n",
    "    signature_matrix = {}\n",
    "    for element in hashed_shingles:\n",
    "        for i in range(k):\n",
    "            hash_result = calc_hash(*hash_functions[i],p,n_shingles, element)\n",
    "            if  hash_result < signature_matrix.get(i,float('inf')):\n",
    "                signature_matrix[i]=hash_result\n",
    "    return signature_matrix"
   ]
  },
  {
   "cell_type": "code",
   "execution_count": 38,
   "id": "verified-dating",
   "metadata": {},
   "outputs": [
    {
     "data": {
      "application/vnd.jupyter.widget-view+json": {
       "model_id": "f49e67b424b94c57911422efd7ec7c56",
       "version_major": 2,
       "version_minor": 0
      },
      "text/plain": [
       "VBox()"
      ]
     },
     "metadata": {},
     "output_type": "display_data"
    },
    {
     "data": {
      "application/vnd.jupyter.widget-view+json": {
       "model_id": "",
       "version_major": 2,
       "version_minor": 0
      },
      "text/plain": [
       "FloatProgress(value=0.0, bar_style='info', description='Progress:', layout=Layout(height='25px', width='50%'),…"
      ]
     },
     "metadata": {},
     "output_type": "display_data"
    }
   ],
   "source": [
    "def calc_hash(a,b,prime,n,value):\n",
    "    return ((a*value + b)%prime)%n\n",
    "    "
   ]
  },
  {
   "cell_type": "code",
   "execution_count": 39,
   "id": "durable-happiness",
   "metadata": {},
   "outputs": [
    {
     "data": {
      "application/vnd.jupyter.widget-view+json": {
       "model_id": "6c989cba96534be8bb29d97ece0d4b89",
       "version_major": 2,
       "version_minor": 0
      },
      "text/plain": [
       "VBox()"
      ]
     },
     "metadata": {},
     "output_type": "display_data"
    },
    {
     "data": {
      "application/vnd.jupyter.widget-view+json": {
       "model_id": "",
       "version_major": 2,
       "version_minor": 0
      },
      "text/plain": [
       "FloatProgress(value=0.0, bar_style='info', description='Progress:', layout=Layout(height='25px', width='50%'),…"
      ]
     },
     "metadata": {},
     "output_type": "display_data"
    },
    {
     "name": "stdout",
     "output_type": "stream",
     "text": [
      "[(595909, {0: 101, 1: 774, 2: 4010, 3: 2254, 4: 2961, 5: 939, 6: 2471, 7: 7471, 8: 1703, 9: 7642, 10: 1166, 11: 638, 12: 1177, 13: 2056, 14: 3760, 15: 1923, 16: 1679, 17: 759, 18: 657, 19: 5, 20: 98, 21: 2692, 22: 2609, 23: 1081, 24: 2019, 25: 486, 26: 623, 27: 1502, 28: 909, 29: 1035, 30: 2665, 31: 1172, 32: 369, 33: 5234, 34: 2379, 35: 601, 36: 1386, 37: 1087, 38: 2604, 39: 2493, 40: 872, 41: 109, 42: 520, 43: 2323, 44: 676, 45: 1370, 46: 9135, 47: 3204, 48: 11646, 49: 1490, 50: 617, 51: 588, 52: 5875, 53: 867, 54: 251, 55: 2668, 56: 2232, 57: 3969, 58: 120, 59: 1524, 60: 1342, 61: 1213, 62: 1278, 63: 2880, 64: 506, 65: 3899, 66: 77, 67: 694, 68: 1726, 69: 2460, 70: 2327, 71: 582, 72: 905, 73: 306, 74: 1859, 75: 1350, 76: 1857, 77: 57, 78: 1512, 79: 2233, 80: 194, 81: 728, 82: 2440, 83: 3216, 84: 155, 85: 324, 86: 1409, 87: 103, 88: 865, 89: 86, 90: 3795, 91: 1430, 92: 2228, 93: 1082, 94: 4699, 95: 496, 96: 818, 97: 1524, 98: 2824, 99: 335}), (1952976, {0: 197, 1: 387, 2: 728, 3: 101, 4: 2533, 5: 138, 6: 1345, 7: 63, 8: 1057, 9: 240, 10: 734, 11: 1223, 12: 1966, 13: 3962, 14: 113, 15: 91, 16: 4250, 17: 2355, 18: 832, 19: 620, 20: 7, 21: 424, 22: 782, 23: 828, 24: 1471, 25: 1786, 26: 623, 27: 11, 28: 624, 29: 270, 30: 1693, 31: 1855, 32: 1997, 33: 87, 34: 1909, 35: 1803, 36: 97, 37: 441, 38: 412, 39: 731, 40: 455, 41: 594, 42: 1559, 43: 321, 44: 65, 45: 6, 46: 1350, 47: 175, 48: 1757, 49: 980, 50: 375, 51: 4249, 52: 300, 53: 899, 54: 894, 55: 41, 56: 1482, 57: 1533, 58: 1102, 59: 25, 60: 1461, 61: 532, 62: 263, 63: 53, 64: 241, 65: 2489, 66: 277, 67: 132, 68: 285, 69: 1494, 70: 4761, 71: 3242, 72: 26, 73: 283, 74: 78, 75: 218, 76: 420, 77: 1899, 78: 252, 79: 2183, 80: 592, 81: 694, 82: 906, 83: 124, 84: 40, 85: 281, 86: 1178, 87: 149, 88: 2237, 89: 718, 90: 1182, 91: 1687, 92: 64, 93: 143, 94: 36, 95: 1381, 96: 3971, 97: 4441, 98: 758, 99: 1432})]"
     ]
    }
   ],
   "source": [
    "movie_signatures = movie_shingles.mapValues(get_signature)\n",
    "movie_signatures.take(2)"
   ]
  },
  {
   "cell_type": "code",
   "execution_count": 40,
   "id": "friendly-accounting",
   "metadata": {},
   "outputs": [
    {
     "data": {
      "application/vnd.jupyter.widget-view+json": {
       "model_id": "72995d1c8bc54409ad2a53aad470d437",
       "version_major": 2,
       "version_minor": 0
      },
      "text/plain": [
       "VBox()"
      ]
     },
     "metadata": {},
     "output_type": "display_data"
    },
    {
     "data": {
      "application/vnd.jupyter.widget-view+json": {
       "model_id": "",
       "version_major": 2,
       "version_minor": 0
      },
      "text/plain": [
       "FloatProgress(value=0.0, bar_style='info', description='Progress:', layout=Layout(height='25px', width='50%'),…"
      ]
     },
     "metadata": {},
     "output_type": "display_data"
    },
    {
     "name": "stdout",
     "output_type": "stream",
     "text": [
      "PythonRDD[24] at RDD at PythonRDD.scala:53"
     ]
    }
   ],
   "source": [
    "movie_signatures.cache()"
   ]
  },
  {
   "cell_type": "code",
   "execution_count": 41,
   "id": "chinese-arrest",
   "metadata": {},
   "outputs": [
    {
     "data": {
      "application/vnd.jupyter.widget-view+json": {
       "model_id": "72ce38bfe11b4d7b907bba7124eb76da",
       "version_major": 2,
       "version_minor": 0
      },
      "text/plain": [
       "VBox()"
      ]
     },
     "metadata": {},
     "output_type": "display_data"
    },
    {
     "data": {
      "application/vnd.jupyter.widget-view+json": {
       "model_id": "",
       "version_major": 2,
       "version_minor": 0
      },
      "text/plain": [
       "FloatProgress(value=0.0, bar_style='info', description='Progress:', layout=Layout(height='25px', width='50%'),…"
      ]
     },
     "metadata": {},
     "output_type": "display_data"
    },
    {
     "name": "stdout",
     "output_type": "stream",
     "text": [
      "0.5492802716530588"
     ]
    }
   ],
   "source": [
    "n_bands = 20\n",
    "n_rows = 5\n",
    "similarity_threshold = (1/n_bands)**(1/n_rows)\n",
    "similarity_threshold"
   ]
  },
  {
   "cell_type": "code",
   "execution_count": 42,
   "id": "difficult-miller",
   "metadata": {},
   "outputs": [
    {
     "data": {
      "application/vnd.jupyter.widget-view+json": {
       "model_id": "8bd487cb6c6c467eb0defe9d9c934e85",
       "version_major": 2,
       "version_minor": 0
      },
      "text/plain": [
       "VBox()"
      ]
     },
     "metadata": {},
     "output_type": "display_data"
    },
    {
     "data": {
      "application/vnd.jupyter.widget-view+json": {
       "model_id": "",
       "version_major": 2,
       "version_minor": 0
      },
      "text/plain": [
       "FloatProgress(value=0.0, bar_style='info', description='Progress:', layout=Layout(height='25px', width='50%'),…"
      ]
     },
     "metadata": {},
     "output_type": "display_data"
    }
   ],
   "source": [
    "def jaccard_similarity(set_a,set_b):\n",
    "    intersection = len(set_a.intersection(set_b))\n",
    "    union = len(set_a.union(set_b))\n",
    "    return intersection/union"
   ]
  },
  {
   "cell_type": "code",
   "execution_count": 43,
   "id": "legitimate-comparison",
   "metadata": {},
   "outputs": [
    {
     "data": {
      "application/vnd.jupyter.widget-view+json": {
       "model_id": "8a679b6d79714dfa83a0c718e3de4f9c",
       "version_major": 2,
       "version_minor": 0
      },
      "text/plain": [
       "VBox()"
      ]
     },
     "metadata": {},
     "output_type": "display_data"
    },
    {
     "data": {
      "application/vnd.jupyter.widget-view+json": {
       "model_id": "",
       "version_major": 2,
       "version_minor": 0
      },
      "text/plain": [
       "FloatProgress(value=0.0, bar_style='info', description='Progress:', layout=Layout(height='25px', width='50%'),…"
      ]
     },
     "metadata": {},
     "output_type": "display_data"
    },
    {
     "name": "stdout",
     "output_type": "stream",
     "text": [
      "0.2"
     ]
    }
   ],
   "source": [
    "jaccard_similarity({1,2,3},{3,4,5})"
   ]
  },
  {
   "cell_type": "code",
   "execution_count": 44,
   "id": "elegant-listing",
   "metadata": {},
   "outputs": [
    {
     "data": {
      "application/vnd.jupyter.widget-view+json": {
       "model_id": "466f1114f43f4c8abeca559af60957dc",
       "version_major": 2,
       "version_minor": 0
      },
      "text/plain": [
       "VBox()"
      ]
     },
     "metadata": {},
     "output_type": "display_data"
    },
    {
     "data": {
      "application/vnd.jupyter.widget-view+json": {
       "model_id": "",
       "version_major": 2,
       "version_minor": 0
      },
      "text/plain": [
       "FloatProgress(value=0.0, bar_style='info', description='Progress:', layout=Layout(height='25px', width='50%'),…"
      ]
     },
     "metadata": {},
     "output_type": "display_data"
    }
   ],
   "source": [
    "n_lsh_buckets = int(math.sqrt(n_shingles))\n",
    "lsh_buckets={}\n"
   ]
  },
  {
   "cell_type": "code",
   "execution_count": 45,
   "id": "welsh-voice",
   "metadata": {},
   "outputs": [
    {
     "data": {
      "application/vnd.jupyter.widget-view+json": {
       "model_id": "42fcffadcee541bb9a1a398f79347359",
       "version_major": 2,
       "version_minor": 0
      },
      "text/plain": [
       "VBox()"
      ]
     },
     "metadata": {},
     "output_type": "display_data"
    },
    {
     "data": {
      "application/vnd.jupyter.widget-view+json": {
       "model_id": "",
       "version_major": 2,
       "version_minor": 0
      },
      "text/plain": [
       "FloatProgress(value=0.0, bar_style='info', description='Progress:', layout=Layout(height='25px', width='50%'),…"
      ]
     },
     "metadata": {},
     "output_type": "display_data"
    }
   ],
   "source": [
    "def break_shingles_to_bands(shingles):\n",
    "    set_list = []\n",
    "    for _ in range(n_bands):\n",
    "        set_list.append(set())\n",
    "        \n",
    "    for i in shingles:\n",
    "        set_list[i//n_rows].add(shingles[i])\n",
    "    return set_list\n",
    "    "
   ]
  },
  {
   "cell_type": "code",
   "execution_count": 46,
   "id": "sacred-wisdom",
   "metadata": {},
   "outputs": [
    {
     "data": {
      "application/vnd.jupyter.widget-view+json": {
       "model_id": "a6e9607bfd704d6796f846bbfb719069",
       "version_major": 2,
       "version_minor": 0
      },
      "text/plain": [
       "VBox()"
      ]
     },
     "metadata": {},
     "output_type": "display_data"
    },
    {
     "data": {
      "application/vnd.jupyter.widget-view+json": {
       "model_id": "",
       "version_major": 2,
       "version_minor": 0
      },
      "text/plain": [
       "FloatProgress(value=0.0, bar_style='info', description='Progress:', layout=Layout(height='25px', width='50%'),…"
      ]
     },
     "metadata": {},
     "output_type": "display_data"
    },
    {
     "name": "stdout",
     "output_type": "stream",
     "text": [
      "[{50635, 138226, 63542, 1179, 58526}, {18022, 90061, 187417, 20921, 142334}, {29504, 16198, 55278, 149743, 66231}, {121676, 137872, 8240, 55028, 26262}, {191234, 185256, 32945, 58198, 61885}, {3969, 21165, 407631, 26739, 16283}, {91822, 11024, 121042, 59449, 21630}, {209568, 39936, 87375, 158652, 38781}, {121603, 33956, 117648, 31799, 115801}, {25610, 102872, 99004, 7263, 15775}, {192358, 10220, 168497, 14705, 93079}, {25409, 58414, 8655, 8949, 45435}, {44614, 39789, 2768, 143825, 164976}, {60480, 103689, 34187, 3309, 1087}, {43456, 6431, 10567, 129943, 60255}, {36962, 140677, 5965, 58259, 15198}, {3238, 6505, 15882, 59376, 146360}, {96034, 172868, 138769, 64314, 96831}, {150154, 27755, 186290, 6132, 115317}, {2436, 84076, 117144, 23769, 76668}]"
     ]
    }
   ],
   "source": [
    "test = {0: 1179,\n",
    "   1: 138226,\n",
    "   2: 58526,\n",
    "   3: 50635,\n",
    "   4: 63542,\n",
    "   5: 18022,\n",
    "   6: 142334,\n",
    "   7: 90061,\n",
    "   8: 20921,\n",
    "   9: 187417,\n",
    "   10: 66231,\n",
    "   11: 149743,\n",
    "   12: 55278,\n",
    "   13: 16198,\n",
    "   14: 29504,\n",
    "   15: 137872,\n",
    "   16: 26262,\n",
    "   17: 121676,\n",
    "   18: 8240,\n",
    "   19: 55028,\n",
    "   20: 32945,\n",
    "   21: 191234,\n",
    "   22: 61885,\n",
    "   23: 58198,\n",
    "   24: 185256,\n",
    "   25: 21165,\n",
    "   26: 407631,\n",
    "   27: 3969,\n",
    "   28: 26739,\n",
    "   29: 16283,\n",
    "   30: 121042,\n",
    "   31: 21630,\n",
    "   32: 59449,\n",
    "   33: 11024,\n",
    "   34: 91822,\n",
    "   35: 209568,\n",
    "   36: 158652,\n",
    "   37: 87375,\n",
    "   38: 39936,\n",
    "   39: 38781,\n",
    "   40: 31799,\n",
    "   41: 33956,\n",
    "   42: 117648,\n",
    "   43: 121603,\n",
    "   44: 115801,\n",
    "   45: 7263,\n",
    "   46: 25610,\n",
    "   47: 15775,\n",
    "   48: 102872,\n",
    "   49: 99004,\n",
    "   50: 168497,\n",
    "   51: 93079,\n",
    "   52: 192358,\n",
    "   53: 10220,\n",
    "   54: 14705,\n",
    "   55: 45435,\n",
    "   56: 8949,\n",
    "   57: 8655,\n",
    "   58: 58414,\n",
    "   59: 25409,\n",
    "   60: 44614,\n",
    "   61: 143825,\n",
    "   62: 39789,\n",
    "   63: 2768,\n",
    "   64: 164976,\n",
    "   65: 34187,\n",
    "   66: 3309,\n",
    "   67: 1087,\n",
    "   68: 103689,\n",
    "   69: 60480,\n",
    "   70: 129943,\n",
    "   71: 10567,\n",
    "   72: 43456,\n",
    "   73: 6431,\n",
    "   74: 60255,\n",
    "   75: 15198,\n",
    "   76: 5965,\n",
    "   77: 58259,\n",
    "   78: 140677,\n",
    "   79: 36962,\n",
    "   80: 15882,\n",
    "   81: 59376,\n",
    "   82: 146360,\n",
    "   83: 6505,\n",
    "   84: 3238,\n",
    "   85: 64314,\n",
    "   86: 96034,\n",
    "   87: 96831,\n",
    "   88: 138769,\n",
    "   89: 172868,\n",
    "   90: 150154,\n",
    "   91: 115317,\n",
    "   92: 27755,\n",
    "   93: 186290,\n",
    "   94: 6132,\n",
    "   95: 2436,\n",
    "   96: 23769,\n",
    "   97: 84076,\n",
    "   98: 117144,\n",
    "   99: 76668}\n",
    "break_shingles_to_bands(test)"
   ]
  },
  {
   "cell_type": "code",
   "execution_count": 47,
   "id": "bronze-february",
   "metadata": {},
   "outputs": [
    {
     "data": {
      "application/vnd.jupyter.widget-view+json": {
       "model_id": "690d9df7ba484172bf8ed2db2a1f1e4f",
       "version_major": 2,
       "version_minor": 0
      },
      "text/plain": [
       "VBox()"
      ]
     },
     "metadata": {},
     "output_type": "display_data"
    },
    {
     "data": {
      "application/vnd.jupyter.widget-view+json": {
       "model_id": "",
       "version_major": 2,
       "version_minor": 0
      },
      "text/plain": [
       "FloatProgress(value=0.0, bar_style='info', description='Progress:', layout=Layout(height='25px', width='50%'),…"
      ]
     },
     "metadata": {},
     "output_type": "display_data"
    }
   ],
   "source": [
    "def hash_bands(doc_band_set):\n",
    "    bucket_docs = []\n",
    "    for s in doc_band_set[1]:\n",
    "        \n",
    "        bucket_index = mmh3.hash(str(sorted(s)),31)%n_lsh_buckets\n",
    "        bucket_docs.append((bucket_index,doc_band_set[0]))\n",
    "        \n",
    "    return bucket_docs"
   ]
  },
  {
   "cell_type": "code",
   "execution_count": 48,
   "id": "magnetic-theology",
   "metadata": {},
   "outputs": [
    {
     "data": {
      "application/vnd.jupyter.widget-view+json": {
       "model_id": "82f682c2f87f46cba981f992e8516ff4",
       "version_major": 2,
       "version_minor": 0
      },
      "text/plain": [
       "VBox()"
      ]
     },
     "metadata": {},
     "output_type": "display_data"
    },
    {
     "data": {
      "application/vnd.jupyter.widget-view+json": {
       "model_id": "",
       "version_major": 2,
       "version_minor": 0
      },
      "text/plain": [
       "FloatProgress(value=0.0, bar_style='info', description='Progress:', layout=Layout(height='25px', width='50%'),…"
      ]
     },
     "metadata": {},
     "output_type": "display_data"
    },
    {
     "name": "stdout",
     "output_type": "stream",
     "text": [
      "[(2291, 595909), (1845, 595909), (539, 595909), (1731, 595909), (2148, 595909), (171, 595909), (421, 595909), (2427, 595909)]"
     ]
    }
   ],
   "source": [
    "hash_band_rdd = movie_signatures.mapValues(break_shingles_to_bands).flatMap(hash_bands)\n",
    "hash_band_rdd.take(8)\n",
    "#candidate_proximity_rdd.collect()"
   ]
  },
  {
   "cell_type": "code",
   "execution_count": 54,
   "id": "statutory-walnut",
   "metadata": {},
   "outputs": [
    {
     "data": {
      "application/vnd.jupyter.widget-view+json": {
       "model_id": "beee289c9bde4db6835f68f131397399",
       "version_major": 2,
       "version_minor": 0
      },
      "text/plain": [
       "VBox()"
      ]
     },
     "metadata": {},
     "output_type": "display_data"
    },
    {
     "data": {
      "application/vnd.jupyter.widget-view+json": {
       "model_id": "",
       "version_major": 2,
       "version_minor": 0
      },
      "text/plain": [
       "FloatProgress(value=0.0, bar_style='info', description='Progress:', layout=Layout(height='25px', width='50%'),…"
      ]
     },
     "metadata": {},
     "output_type": "display_data"
    },
    {
     "name": "stdout",
     "output_type": "stream",
     "text": [
      "PythonRDD[36] at RDD at PythonRDD.scala:53"
     ]
    }
   ],
   "source": [
    "candidate_proximity_rdd = hash_band_rdd.groupByKey()\n",
    "candidate_proximity_rdd.cache()\n"
   ]
  },
  {
   "cell_type": "code",
   "execution_count": 55,
   "id": "happy-trunk",
   "metadata": {},
   "outputs": [
    {
     "data": {
      "application/vnd.jupyter.widget-view+json": {
       "model_id": "1317f56df4a94778a5acd18cdd1de5ef",
       "version_major": 2,
       "version_minor": 0
      },
      "text/plain": [
       "VBox()"
      ]
     },
     "metadata": {},
     "output_type": "display_data"
    },
    {
     "data": {
      "application/vnd.jupyter.widget-view+json": {
       "model_id": "",
       "version_major": 2,
       "version_minor": 0
      },
      "text/plain": [
       "FloatProgress(value=0.0, bar_style='info', description='Progress:', layout=Layout(height='25px', width='50%'),…"
      ]
     },
     "metadata": {},
     "output_type": "display_data"
    },
    {
     "name": "stdout",
     "output_type": "stream",
     "text": [
      "[(2148, <pyspark.resultiterable.ResultIterable object at 0x7f5660f41fd0>), (698, <pyspark.resultiterable.ResultIterable object at 0x7f5660f41a10>), (496, <pyspark.resultiterable.ResultIterable object at 0x7f5661312090>), (1738, <pyspark.resultiterable.ResultIterable object at 0x7f5660f41b10>), (1374, <pyspark.resultiterable.ResultIterable object at 0x7f5661312290>), (1564, <pyspark.resultiterable.ResultIterable object at 0x7f5661312190>), (1428, <pyspark.resultiterable.ResultIterable object at 0x7f5661312210>), (2246, <pyspark.resultiterable.ResultIterable object at 0x7f5660f41790>), (212, <pyspark.resultiterable.ResultIterable object at 0x7f5661312110>), (1214, <pyspark.resultiterable.ResultIterable object at 0x7f56613120d0>)]"
     ]
    }
   ],
   "source": [
    "#####INTERRUPTED BECAUSE IT NEVER ENDED\n",
    "candidate_proximity_rdd.take(10)\n"
   ]
  },
  {
   "cell_type": "code",
   "execution_count": 56,
   "id": "prime-norwegian",
   "metadata": {},
   "outputs": [
    {
     "data": {
      "application/vnd.jupyter.widget-view+json": {
       "model_id": "09ec19af4f9d44e7a4c62a0b9df4d0d4",
       "version_major": 2,
       "version_minor": 0
      },
      "text/plain": [
       "VBox()"
      ]
     },
     "metadata": {},
     "output_type": "display_data"
    },
    {
     "data": {
      "application/vnd.jupyter.widget-view+json": {
       "model_id": "",
       "version_major": 2,
       "version_minor": 0
      },
      "text/plain": [
       "FloatProgress(value=0.0, bar_style='info', description='Progress:', layout=Layout(height='25px', width='50%'),…"
      ]
     },
     "metadata": {},
     "output_type": "display_data"
    }
   ],
   "source": [
    "def compare_pairs(it):\n",
    "    \n",
    "    \n",
    "    candidate_list = [x for x in iter(it)]\n",
    "    pairs = []\n",
    "    for i in range(len(candidate_list)):\n",
    "        for j in range(i+1,len(candidate_list)):\n",
    "            pairs.append((candidate_list[i],candidate_list[j]))\n",
    "    \n",
    "    return pairs"
   ]
  },
  {
   "cell_type": "code",
   "execution_count": 57,
   "id": "appointed-superintendent",
   "metadata": {},
   "outputs": [
    {
     "data": {
      "application/vnd.jupyter.widget-view+json": {
       "model_id": "4360505847e343818acd73fd94ea94aa",
       "version_major": 2,
       "version_minor": 0
      },
      "text/plain": [
       "VBox()"
      ]
     },
     "metadata": {},
     "output_type": "display_data"
    },
    {
     "data": {
      "application/vnd.jupyter.widget-view+json": {
       "model_id": "",
       "version_major": 2,
       "version_minor": 0
      },
      "text/plain": [
       "FloatProgress(value=0.0, bar_style='info', description='Progress:', layout=Layout(height='25px', width='50%'),…"
      ]
     },
     "metadata": {},
     "output_type": "display_data"
    }
   ],
   "source": [
    "candidate_proximity_rdd = candidate_proximity_rdd.mapValues(compare_pairs)"
   ]
  },
  {
   "cell_type": "code",
   "execution_count": 58,
   "id": "western-seven",
   "metadata": {},
   "outputs": [
    {
     "data": {
      "application/vnd.jupyter.widget-view+json": {
       "model_id": "c18653bf262745cc933810fcfaa45a91",
       "version_major": 2,
       "version_minor": 0
      },
      "text/plain": [
       "VBox()"
      ]
     },
     "metadata": {},
     "output_type": "display_data"
    },
    {
     "data": {
      "application/vnd.jupyter.widget-view+json": {
       "model_id": "",
       "version_major": 2,
       "version_minor": 0
      },
      "text/plain": [
       "FloatProgress(value=0.0, bar_style='info', description='Progress:', layout=Layout(height='25px', width='50%'),…"
      ]
     },
     "metadata": {},
     "output_type": "display_data"
    }
   ],
   "source": [
    "def compare_signatures(doc1,doc2):\n",
    "    #signatures_1 = movie_signatures.lookup(pair[0])\n",
    "    #signatures_2 = movie_signatures.lookup(pair[1])\n",
    "    signatures_1 = set(sig_dict.value[doc1].values())\n",
    "    signatures_2 = set(sig_dict.value[doc2].values())\n",
    "    #return doc1\n",
    "    return jaccard_similarity(signatures_1,signatures_2)"
   ]
  },
  {
   "cell_type": "code",
   "execution_count": 59,
   "id": "verified-mistake",
   "metadata": {},
   "outputs": [
    {
     "data": {
      "application/vnd.jupyter.widget-view+json": {
       "model_id": "35e14e69aa1744ae9c5382bc27dbb531",
       "version_major": 2,
       "version_minor": 0
      },
      "text/plain": [
       "VBox()"
      ]
     },
     "metadata": {},
     "output_type": "display_data"
    },
    {
     "data": {
      "application/vnd.jupyter.widget-view+json": {
       "model_id": "",
       "version_major": 2,
       "version_minor": 0
      },
      "text/plain": [
       "FloatProgress(value=0.0, bar_style='info', description='Progress:', layout=Layout(height='25px', width='50%'),…"
      ]
     },
     "metadata": {},
     "output_type": "display_data"
    },
    {
     "name": "stdout",
     "output_type": "stream",
     "text": [
      "[(2148, [(595909, 491757), (595909, 19833487), (595909, 317828), (595909, 13298228), (595909, 1237394), (595909, 21499125), (595909, 8678373), (595909, 4520121), (595909, 880056), (595909, 9422274), (595909, 1136182), (595909, 1009516), (595909, 31163724), (595909, 9882012), (595909, 33010153), (595909, 62687), (595909, 5064191), (595909, 11605792), (595909, 33689385), (595909, 14686017), (595909, 5606124), (595909, 22211229), (595909, 20390730), (595909, 15286558), (595909, 9145129), (595909, 11058226), (595909, 10074270), (595909, 2885119), (595909, 13727909), (595909, 2372994), (595909, 950429), (595909, 9976763), (595909, 14737193), (595909, 33471439), (595909, 12224231), (595909, 24486281), (595909, 22376055), (595909, 13677861), (595909, 6173336), (595909, 35589999), (595909, 25584574), (595909, 9835), (595909, 20756695), (595909, 12003939), (595909, 5698193), (595909, 26232501), (595909, 32182348), (595909, 7145079), (595909, 23680613), (595909, 11785619), (595909, 16189500), (595909, 2523915), (595909, 34324376), (595909, 22132828), (595909, 14246985), (595909, 28211412), (595909, 8272738), (595909, 13814145), (595909, 36000471), (595909, 32960328), (595909, 25058702), (595909, 23274964), (595909, 9051776), (595909, 7693015), (595909, 5836236), (595909, 8605084), (595909, 18579324), (595909, 10195064), (595909, 3849792), (595909, 33447396), (595909, 35485631), (595909, 23367243), (595909, 35303753), (595909, 4633426), (595909, 44302), (595909, 6960205), (595909, 1615208), (595909, 20327613), (595909, 5862072), (595909, 4933146), (595909, 3317799), (595909, 733836), (491757, 19833487), (491757, 317828), (491757, 13298228), (491757, 1237394), (491757, 21499125), (491757, 8678373), (491757, 4520121), (491757, 880056), (491757, 9422274), (491757, 1136182), (491757, 1009516), (491757, 31163724), (491757, 9882012), (491757, 33010153), (491757, 62687), (491757, 5064191), (491757, 11605792), (491757, 33689385), (491757, 14686017), (491757, 5606124), (491757, 22211229), (491757, 20390730), (491757, 15286558), (491757, 9145129), (491757, 11058226), (491757, 10074270), (491757, 2885119), (491757, 13727909), (491757, 2372994), (491757, 950429), (491757, 9976763), (491757, 14737193), (491757, 33471439), (491757, 12224231), (491757, 24486281), (491757, 22376055), (491757, 13677861), (491757, 6173336), (491757, 35589999), (491757, 25584574), (491757, 9835), (491757, 20756695), (491757, 12003939), (491757, 5698193), (491757, 26232501), (491757, 32182348), (491757, 7145079), (491757, 23680613), (491757, 11785619), (491757, 16189500), (491757, 2523915), (491757, 34324376), (491757, 22132828), (491757, 14246985), (491757, 28211412), (491757, 8272738), (491757, 13814145), (491757, 36000471), (491757, 32960328), (491757, 25058702), (491757, 23274964), (491757, 9051776), (491757, 7693015), (491757, 5836236), (491757, 8605084), (491757, 18579324), (491757, 10195064), (491757, 3849792), (491757, 33447396), (491757, 35485631), (491757, 23367243), (491757, 35303753), (491757, 4633426), (491757, 44302), (491757, 6960205), (491757, 1615208), (491757, 20327613), (491757, 5862072), (491757, 4933146), (491757, 3317799), (491757, 733836), (19833487, 317828), (19833487, 13298228), (19833487, 1237394), (19833487, 21499125), (19833487, 8678373), (19833487, 4520121), (19833487, 880056), (19833487, 9422274), (19833487, 1136182), (19833487, 1009516), (19833487, 31163724), (19833487, 9882012), (19833487, 33010153), (19833487, 62687), (19833487, 5064191), (19833487, 11605792), (19833487, 33689385), (19833487, 14686017), (19833487, 5606124), (19833487, 22211229), (19833487, 20390730), (19833487, 15286558), (19833487, 9145129), (19833487, 11058226), (19833487, 10074270), (19833487, 2885119), (19833487, 13727909), (19833487, 2372994), (19833487, 950429), (19833487, 9976763), (19833487, 14737193), (19833487, 33471439), (19833487, 12224231), (19833487, 24486281), (19833487, 22376055), (19833487, 13677861), (19833487, 6173336), (19833487, 35589999), (19833487, 25584574), (19833487, 9835), (19833487, 20756695), (19833487, 12003939), (19833487, 5698193), (19833487, 26232501), (19833487, 32182348), (19833487, 7145079), (19833487, 23680613), (19833487, 11785619), (19833487, 16189500), (19833487, 2523915), (19833487, 34324376), (19833487, 22132828), (19833487, 14246985), (19833487, 28211412), (19833487, 8272738), (19833487, 13814145), (19833487, 36000471), (19833487, 32960328), (19833487, 25058702), (19833487, 23274964), (19833487, 9051776), (19833487, 7693015), (19833487, 5836236), (19833487, 8605084), (19833487, 18579324), (19833487, 10195064), (19833487, 3849792), (19833487, 33447396), (19833487, 35485631), (19833487, 23367243), (19833487, 35303753), (19833487, 4633426), (19833487, 44302), (19833487, 6960205), (19833487, 1615208), (19833487, 20327613), (19833487, 5862072), (19833487, 4933146), (19833487, 3317799), (19833487, 733836), (317828, 13298228), (317828, 1237394), (317828, 21499125), (317828, 8678373), (317828, 4520121), (317828, 880056), (317828, 9422274), (317828, 1136182), (317828, 1009516), (317828, 31163724), (317828, 9882012), (317828, 33010153), (317828, 62687), (317828, 5064191), (317828, 11605792), (317828, 33689385), (317828, 14686017), (317828, 5606124), (317828, 22211229), (317828, 20390730), (317828, 15286558), (317828, 9145129), (317828, 11058226), (317828, 10074270), (317828, 2885119), (317828, 13727909), (317828, 2372994), (317828, 950429), (317828, 9976763), (317828, 14737193), (317828, 33471439), (317828, 12224231), (317828, 24486281), (317828, 22376055), (317828, 13677861), (317828, 6173336), (317828, 35589999), (317828, 25584574), (317828, 9835), (317828, 20756695), (317828, 12003939), (317828, 5698193), (317828, 26232501), (317828, 32182348), (317828, 7145079), (317828, 23680613), (317828, 11785619), (317828, 16189500), (317828, 2523915), (317828, 34324376), (317828, 22132828), (317828, 14246985), (317828, 28211412), (317828, 8272738), (317828, 13814145), (317828, 36000471), (317828, 32960328), (317828, 25058702), (317828, 23274964), (317828, 9051776), (317828, 7693015), (317828, 5836236), (317828, 8605084), (317828, 18579324), (317828, 10195064), (317828, 3849792), (317828, 33447396), (317828, 35485631), (317828, 23367243), (317828, 35303753), (317828, 4633426), (317828, 44302), (317828, 6960205), (317828, 1615208), (317828, 20327613), (317828, 5862072), (317828, 4933146), (317828, 3317799), (317828, 733836), (13298228, 1237394), (13298228, 21499125), (13298228, 8678373), (13298228, 4520121), (13298228, 880056), (13298228, 9422274), (13298228, 1136182), (13298228, 1009516), (13298228, 31163724), (13298228, 9882012), (13298228, 33010153), (13298228, 62687), (13298228, 5064191), (13298228, 11605792), (13298228, 33689385), (13298228, 14686017), (13298228, 5606124), (13298228, 22211229), (13298228, 20390730), (13298228, 15286558), (13298228, 9145129), (13298228, 11058226), (13298228, 10074270), (13298228, 2885119), (13298228, 13727909), (13298228, 2372994), (13298228, 950429), (13298228, 9976763), (13298228, 14737193), (13298228, 33471439), (13298228, 12224231), (13298228, 24486281), (13298228, 22376055), (13298228, 13677861), (13298228, 6173336), (13298228, 35589999), (13298228, 25584574), (13298228, 9835), (13298228, 20756695), (13298228, 12003939), (13298228, 5698193), (13298228, 26232501), (13298228, 32182348), (13298228, 7145079), (13298228, 23680613), (13298228, 11785619), (13298228, 16189500), (13298228, 2523915), (13298228, 34324376), (13298228, 22132828), (13298228, 14246985), (13298228, 28211412), (13298228, 8272738), (13298228, 13814145), (13298228, 36000471), (13298228, 32960328), (13298228, 25058702), (13298228, 23274964), (13298228, 9051776), (13298228, 7693015), (13298228, 5836236), (13298228, 8605084), (13298228, 18579324), (13298228, 10195064), (13298228, 3849792), (13298228, 33447396), (13298228, 35485631), (13298228, 23367243), (13298228, 35303753), (13298228, 4633426), (13298228, 44302), (13298228, 6960205), (13298228, 1615208), (13298228, 20327613), (13298228, 5862072), (13298228, 4933146), (13298228, 3317799), (13298228, 733836), (1237394, 21499125), (1237394, 8678373), (1237394, 4520121), (1237394, 880056), (1237394, 9422274), (1237394, 1136182), (1237394, 1009516), (1237394, 31163724), (1237394, 9882012), (1237394, 33010153), (1237394, 62687), (1237394, 5064191), (1237394, 11605792), (1237394, 33689385), (1237394, 14686017), (1237394, 5606124), (1237394, 22211229), (1237394, 20390730), (1237394, 15286558), (1237394, 9145129), (1237394, 11058226), (1237394, 10074270), (1237394, 2885119), (1237394, 13727909), (1237394, 2372994), (1237394, 950429), (1237394, 9976763), (1237394, 14737193), (1237394, 33471439), (1237394, 12224231), (1237394, 24486281), (1237394, 22376055), (1237394, 13677861), (1237394, 6173336), (1237394, 35589999), (1237394, 25584574), (1237394, 9835), (1237394, 20756695), (1237394, 12003939), (1237394, 5698193), (1237394, 26232501), (1237394, 32182348), (1237394, 7145079), (1237394, 23680613), (1237394, 11785619), (1237394, 16189500), (1237394, 2523915), (1237394, 34324376), (1237394, 22132828), (1237394, 14246985), (1237394, 28211412), (1237394, 8272738), (1237394, 13814145), (1237394, 36000471), (1237394, 32960328), (1237394, 25058702), (1237394, 23274964), (1237394, 9051776), (1237394, 7693015), (1237394, 5836236), (1237394, 8605084), (1237394, 18579324), (1237394, 10195064), (1237394, 3849792), (1237394, 33447396), (1237394, 35485631), (1237394, 23367243), (1237394, 35303753), (1237394, 4633426), (1237394, 44302), (1237394, 6960205), (1237394, 1615208), (1237394, 20327613), (1237394, 5862072), (1237394, 4933146), (1237394, 3317799), (1237394, 733836), (21499125, 8678373), (21499125, 4520121), (21499125, 880056), (21499125, 9422274), (21499125, 1136182), (21499125, 1009516), (21499125, 31163724), (21499125, 9882012), (21499125, 33010153), (21499125, 62687), (21499125, 5064191), (21499125, 11605792), (21499125, 33689385), (21499125, 14686017), (21499125, 5606124), (21499125, 22211229), (21499125, 20390730), (21499125, 15286558), (21499125, 9145129), (21499125, 11058226), (21499125, 10074270), (21499125, 2885119), (21499125, 13727909), (21499125, 2372994), (21499125, 950429), (21499125, 9976763), (21499125, 14737193), (21499125, 33471439), (21499125, 12224231), (21499125, 24486281), (21499125, 22376055), (21499125, 13677861), (21499125, 6173336), (21499125, 35589999), (21499125, 25584574), (21499125, 9835), (21499125, 20756695), (21499125, 12003939), (21499125, 5698193), (21499125, 26232501), (21499125, 32182348), (21499125, 7145079), (21499125, 23680613), (21499125, 11785619), (21499125, 16189500), (21499125, 2523915), (21499125, 34324376), (21499125, 22132828), (21499125, 14246985), (21499125, 28211412), (21499125, 8272738), (21499125, 13814145), (21499125, 36000471), (21499125, 32960328), (21499125, 25058702), (21499125, 23274964), (21499125, 9051776), (21499125, 7693015), (21499125, 5836236), (21499125, 8605084), (21499125, 18579324), (21499125, 10195064), (21499125, 3849792), (21499125, 33447396), (21499125, 35485631), (21499125, 23367243), (21499125, 35303753), (21499125, 4633426), (21499125, 44302), (21499125, 6960205), (21499125, 1615208), (21499125, 20327613), (21499125, 5862072), (21499125, 4933146), (21499125, 3317799), (21499125, 733836), (8678373, 4520121), (8678373, 880056), (8678373, 9422274), (8678373, 1136182), (8678373, 1009516), (8678373, 31163724), (8678373, 9882012), (8678373, 33010153), (8678373, 62687), (8678373, 5064191), (8678373, 11605792), (8678373, 33689385), (8678373, 14686017), (8678373, 5606124), (8678373, 22211229), (8678373, 20390730), (8678373, 15286558), (8678373, 9145129), (8678373, 11058226), (8678373, 10074270), (8678373, 2885119), (8678373, 13727909), (8678373, 2372994), (8678373, 950429), (8678373, 9976763), (8678373, 14737193), (8678373, 33471439), (8678373, 12224231), (8678373, 24486281), (8678373, 22376055), (8678373, 13677861), (8678373, 6173336), (8678373, 35589999), (8678373, 25584574), (8678373, 9835), (8678373, 20756695), (8678373, 12003939), (8678373, 5698193), (8678373, 26232501), (8678373, 32182348), (8678373, 7145079), (8678373, 23680613), (8678373, 11785619), (8678373, 16189500), (8678373, 2523915), (8678373, 34324376), (8678373, 22132828), (8678373, 14246985), (8678373, 28211412), (8678373, 8272738), (8678373, 13814145), (8678373, 36000471), (8678373, 32960328), (8678373, 25058702), (8678373, 23274964), (8678373, 9051776), (8678373, 7693015), (8678373, 5836236), (8678373, 8605084), (8678373, 18579324), (8678373, 10195064), (8678373, 3849792), (8678373, 33447396), (8678373, 35485631), (8678373, 23367243), (8678373, 35303753), (8678373, 4633426), (8678373, 44302), (8678373, 6960205), (8678373, 1615208), (8678373, 20327613), (8678373, 5862072), (8678373, 4933146), (8678373, 3317799), (8678373, 733836), (4520121, 880056), (4520121, 9422274), (4520121, 1136182), (4520121, 1009516), (4520121, 31163724), (4520121, 9882012), (4520121, 33010153), (4520121, 62687), (4520121, 5064191), (4520121, 11605792), (4520121, 33689385), (4520121, 14686017), (4520121, 5606124), (4520121, 22211229), (4520121, 20390730), (4520121, 15286558), (4520121, 9145129), (4520121, 11058226), (4520121, 10074270), (4520121, 2885119), (4520121, 13727909), (4520121, 2372994), (4520121, 950429), (4520121, 9976763), (4520121, 14737193), (4520121, 33471439), (4520121, 12224231), (4520121, 24486281), (4520121, 22376055), (4520121, 13677861), (4520121, 6173336), (4520121, 35589999), (4520121, 25584574), (4520121, 9835), (4520121, 20756695), (4520121, 12003939), (4520121, 5698193), (4520121, 26232501), (4520121, 32182348), (4520121, 7145079), (4520121, 23680613), (4520121, 11785619), (4520121, 16189500), (4520121, 2523915), (4520121, 34324376), (4520121, 22132828), (4520121, 14246985), (4520121, 28211412), (4520121, 8272738), (4520121, 13814145), (4520121, 36000471), (4520121, 32960328), (4520121, 25058702), (4520121, 23274964), (4520121, 9051776), (4520121, 7693015), (4520121, 5836236), (4520121, 8605084), (4520121, 18579324), (4520121, 10195064), (4520121, 3849792), (4520121, 33447396), (4520121, 35485631), (4520121, 23367243), (4520121, 35303753), (4520121, 4633426), (4520121, 44302), (4520121, 6960205), (4520121, 1615208), (4520121, 20327613), (4520121, 5862072), (4520121, 4933146), (4520121, 3317799), (4520121, 733836), (880056, 9422274), (880056, 1136182), (880056, 1009516), (880056, 31163724), (880056, 9882012), (880056, 33010153), (880056, 62687), (880056, 5064191), (880056, 11605792), (880056, 33689385), (880056, 14686017), (880056, 5606124), (880056, 22211229), (880056, 20390730), (880056, 15286558), (880056, 9145129), (880056, 11058226), (880056, 10074270), (880056, 2885119), (880056, 13727909), (880056, 2372994), (880056, 950429), (880056, 9976763), (880056, 14737193), (880056, 33471439), (880056, 12224231), (880056, 24486281), (880056, 22376055), (880056, 13677861), (880056, 6173336), (880056, 35589999), (880056, 25584574), (880056, 9835), (880056, 20756695), (880056, 12003939), (880056, 5698193), (880056, 26232501), (880056, 32182348), (880056, 7145079), (880056, 23680613), (880056, 11785619), (880056, 16189500), (880056, 2523915), (880056, 34324376), (880056, 22132828), (880056, 14246985), (880056, 28211412), (880056, 8272738), (880056, 13814145), (880056, 36000471), (880056, 32960328), (880056, 25058702), (880056, 23274964), (880056, 9051776), (880056, 7693015), (880056, 5836236), (880056, 8605084), (880056, 18579324), (880056, 10195064), (880056, 3849792), (880056, 33447396), (880056, 35485631), (880056, 23367243), (880056, 35303753), (880056, 4633426), (880056, 44302), (880056, 6960205), (880056, 1615208), (880056, 20327613), (880056, 5862072), (880056, 4933146), (880056, 3317799), (880056, 733836), (9422274, 1136182), (9422274, 1009516), (9422274, 31163724), (9422274, 9882012), (9422274, 33010153), (9422274, 62687), (9422274, 5064191), (9422274, 11605792), (9422274, 33689385), (9422274, 14686017), (9422274, 5606124), (9422274, 22211229), (9422274, 20390730), (9422274, 15286558), (9422274, 9145129), (9422274, 11058226), (9422274, 10074270), (9422274, 2885119), (9422274, 13727909), (9422274, 2372994), (9422274, 950429), (9422274, 9976763), (9422274, 14737193), (9422274, 33471439), (9422274, 12224231), (9422274, 24486281), (9422274, 22376055), (9422274, 13677861), (9422274, 6173336), (9422274, 35589999), (9422274, 25584574), (9422274, 9835), (9422274, 20756695), (9422274, 12003939), (9422274, 5698193), (9422274, 26232501), (9422274, 32182348), (9422274, 7145079), (9422274, 23680613), (9422274, 11785619), (9422274, 16189500), (9422274, 2523915), (9422274, 34324376), (9422274, 22132828), (9422274, 14246985), (9422274, 28211412), (9422274, 8272738), (9422274, 13814145), (9422274, 36000471), (9422274, 32960328), (9422274, 25058702), (9422274, 23274964), (9422274, 9051776), (9422274, 7693015), (9422274, 5836236), (9422274, 8605084), (9422274, 18579324), (9422274, 10195064), (9422274, 3849792), (9422274, 33447396), (9422274, 35485631), (9422274, 23367243), (9422274, 35303753), (9422274, 4633426), (9422274, 44302), (9422274, 6960205), (9422274, 1615208), (9422274, 20327613), (9422274, 5862072), (9422274, 4933146), (9422274, 3317799), (9422274, 733836), (1136182, 1009516), (1136182, 31163724), (1136182, 9882012), (1136182, 33010153), (1136182, 62687), (1136182, 5064191), (1136182, 11605792), (1136182, 33689385), (1136182, 14686017), (1136182, 5606124), (1136182, 22211229), (1136182, 20390730), (1136182, 15286558), (1136182, 9145129), (1136182, 11058226), (1136182, 10074270), (1136182, 2885119), (1136182, 13727909), (1136182, 2372994), (1136182, 950429), (1136182, 9976763), (1136182, 14737193), (1136182, 33471439), (1136182, 12224231), (1136182, 24486281), (1136182, 22376055), (1136182, 13677861), (1136182, 6173336), (1136182, 35589999), (1136182, 25584574), (1136182, 9835), (1136182, 20756695), (1136182, 12003939), (1136182, 5698193), (1136182, 26232501), (1136182, 32182348), (1136182, 7145079), (1136182, 23680613), (1136182, 11785619), (1136182, 16189500), (1136182, 2523915), (1136182, 34324376), (1136182, 22132828), (1136182, 14246985), (1136182, 28211412), (1136182, 8272738), (1136182, 13814145), (1136182, 36000471), (1136182, 32960328), (1136182, 25058702), (1136182, 23274964), (1136182, 9051776), (1136182, 7693015), (1136182, 5836236), (1136182, 8605084), (1136182, 18579324), (1136182, 10195064), (1136182, 3849792), (1136182, 33447396), (1136182, 35485631), (1136182, 23367243), (1136182, 35303753), (1136182, 4633426), (1136182, 44302), (1136182, 6960205), (1136182, 1615208), (1136182, 20327613), (1136182, 5862072), (1136182, 4933146), (1136182, 3317799), (1136182, 733836), (1009516, 31163724), (1009516, 9882012), (1009516, 33010153), (1009516, 62687), (1009516, 5064191), (1009516, 11605792), (1009516, 33689385), (1009516, 14686017), (1009516, 5606124), (1009516, 22211229), (1009516, 20390730), (1009516, 15286558), (1009516, 9145129), (1009516, 11058226), (1009516, 10074270), (1009516, 2885119), (1009516, 13727909), (1009516, 2372994), (1009516, 950429), (1009516, 9976763), (1009516, 14737193), (1009516, 33471439), (1009516, 12224231), (1009516, 24486281), (1009516, 22376055), (1009516, 13677861), (1009516, 6173336), (1009516, 35589999), (1009516, 25584574), (1009516, 9835), (1009516, 20756695), (1009516, 12003939), (1009516, 5698193), (1009516, 26232501), (1009516, 32182348), (1009516, 7145079), (1009516, 23680613), (1009516, 11785619), (1009516, 16189500), (1009516, 2523915), (1009516, 34324376), (1009516, 22132828), (1009516, 14246985), (1009516, 28211412), (1009516, 8272738), (1009516, 13814145), (1009516, 36000471), (1009516, 32960328), (1009516, 25058702), (1009516, 23274964), (1009516, 9051776), (1009516, 7693015), (1009516, 5836236), (1009516, 8605084), (1009516, 18579324), (1009516, 10195064), (1009516, 3849792), (1009516, 33447396), (1009516, 35485631), (1009516, 23367243), (1009516, 35303753), (1009516, 4633426), (1009516, 44302), (1009516, 6960205), (1009516, 1615208), (1009516, 20327613), (1009516, 5862072), (1009516, 4933146), (1009516, 3317799), (1009516, 733836), (31163724, 9882012), (31163724, 33010153), (31163724, 62687), (31163724, 5064191), (31163724, 11605792), (31163724, 33689385), (31163724, 14686017), (31163724, 5606124), (31163724, 22211229), (31163724, 20390730), (31163724, 15286558), (31163724, 9145129), (31163724, 11058226), (31163724, 10074270), (31163724, 2885119), (31163724, 13727909), (31163724, 2372994), (31163724, 950429), (31163724, 9976763), (31163724, 14737193), (31163724, 33471439), (31163724, 12224231), (31163724, 24486281), (31163724, 22376055), (31163724, 13677861), (31163724, 6173336), (31163724, 35589999), (31163724, 25584574), (31163724, 9835), (31163724, 20756695), (31163724, 12003939), (31163724, 5698193), (31163724, 26232501), (31163724, 32182348), (31163724, 7145079), (31163724, 23680613), (31163724, 11785619), (31163724, 16189500), (31163724, 2523915), (31163724, 34324376), (31163724, 22132828), (31163724, 14246985), (31163724, 28211412), (31163724, 8272738), (31163724, 13814145), (31163724, 36000471), (31163724, 32960328), (31163724, 25058702), (31163724, 23274964), (31163724, 9051776), (31163724, 7693015), (31163724, 5836236), (31163724, 8605084), (31163724, 18579324), (31163724, 10195064), (31163724, 3849792), (31163724, 33447396), (31163724, 35485631), (31163724, 23367243), (31163724, 35303753), (31163724, 4633426), (31163724, 44302), (31163724, 6960205), (31163724, 1615208), (31163724, 20327613), (31163724, 5862072), (31163724, 4933146), (31163724, 3317799), (31163724, 733836), (9882012, 33010153), (9882012, 62687), (9882012, 5064191), (9882012, 11605792), (9882012, 33689385), (9882012, 14686017), (9882012, 5606124), (9882012, 22211229), (9882012, 20390730), (9882012, 15286558), (9882012, 9145129), (9882012, 11058226), (9882012, 10074270), (9882012, 2885119), (9882012, 13727909), (9882012, 2372994), (9882012, 950429), (9882012, 9976763), (9882012, 14737193), (9882012, 33471439), (9882012, 12224231), (9882012, 24486281), (9882012, 22376055), (9882012, 13677861), (9882012, 6173336), (9882012, 35589999), (9882012, 25584574), (9882012, 9835), (9882012, 20756695), (9882012, 12003939), (9882012, 5698193), (9882012, 26232501), (9882012, 32182348), (9882012, 7145079), (9882012, 23680613), (9882012, 11785619), (9882012, 16189500), (9882012, 2523915), (9882012, 34324376), (9882012, 22132828), (9882012, 14246985), (9882012, 28211412), (9882012, 8272738), (9882012, 13814145), (9882012, 36000471), (9882012, 32960328), (9882012, 25058702), (9882012, 23274964), (9882012, 9051776), (9882012, 7693015), (9882012, 5836236), (9882012, 8605084), (9882012, 18579324), (9882012, 10195064), (9882012, 3849792), (9882012, 33447396), (9882012, 35485631), (9882012, 23367243), (9882012, 35303753), (9882012, 4633426), (9882012, 44302), (9882012, 6960205), (9882012, 1615208), (9882012, 20327613), (9882012, 5862072), (9882012, 4933146), (9882012, 3317799), (9882012, 733836), (33010153, 62687), (33010153, 5064191), (33010153, 11605792), (33010153, 33689385), (33010153, 14686017), (33010153, 5606124), (33010153, 22211229), (33010153, 20390730), (33010153, 15286558), (33010153, 9145129), (33010153, 11058226), (33010153, 10074270), (33010153, 2885119), (33010153, 13727909), (33010153, 2372994), (33010153, 950429), (33010153, 9976763), (33010153, 14737193), (33010153, 33471439), (33010153, 12224231), (33010153, 24486281), (33010153, 22376055), (33010153, 13677861), (33010153, 6173336), (33010153, 35589999), (33010153, 25584574), (33010153, 9835), (33010153, 20756695), (33010153, 12003939), (33010153, 5698193), (33010153, 26232501), (33010153, 32182348), (33010153, 7145079), (33010153, 23680613), (33010153, 11785619), (33010153, 16189500), (33010153, 2523915), (33010153, 34324376), (33010153, 22132828), (33010153, 14246985), (33010153, 28211412), (33010153, 8272738), (33010153, 13814145), (33010153, 36000471), (33010153, 32960328), (33010153, 25058702), (33010153, 23274964), (33010153, 9051776), (33010153, 7693015), (33010153, 5836236), (33010153, 8605084), (33010153, 18579324), (33010153, 10195064), (33010153, 3849792), (33010153, 33447396), (33010153, 35485631), (33010153, 23367243), (33010153, 35303753), (33010153, 4633426), (33010153, 44302), (33010153, 6960205), (33010153, 1615208), (33010153, 20327613), (33010153, 5862072), (33010153, 4933146), (33010153, 3317799), (33010153, 733836), (62687, 5064191), (62687, 11605792), (62687, 33689385), (62687, 14686017), (62687, 5606124), (62687, 22211229), (62687, 20390730), (62687, 15286558), (62687, 9145129), (62687, 11058226), (62687, 10074270), (62687, 2885119), (62687, 13727909), (62687, 2372994), (62687, 950429), (62687, 9976763), (62687, 14737193), (62687, 33471439), (62687, 12224231), (62687, 24486281), (62687, 22376055), (62687, 13677861), (62687, 6173336), (62687, 35589999), (62687, 25584574), (62687, 9835), (62687, 20756695), (62687, 12003939), (62687, 5698193), (62687, 26232501), (62687, 32182348), (62687, 7145079), (62687, 23680613), (62687, 11785619), (62687, 16189500), (62687, 2523915), (62687, 34324376), (62687, 22132828), (62687, 14246985), (62687, 28211412), (62687, 8272738), (62687, 13814145), (62687, 36000471), (62687, 32960328), (62687, 25058702), (62687, 23274964), (62687, 9051776), (62687, 7693015), (62687, 5836236), (62687, 8605084), (62687, 18579324), (62687, 10195064), (62687, 3849792), (62687, 33447396), (62687, 35485631), (62687, 23367243), (62687, 35303753), (62687, 4633426), (62687, 44302), (62687, 6960205), (62687, 1615208), (62687, 20327613), (62687, 5862072), (62687, 4933146), (62687, 3317799), (62687, 733836), (5064191, 11605792), (5064191, 33689385), (5064191, 14686017), (5064191, 5606124), (5064191, 22211229), (5064191, 20390730), (5064191, 15286558), (5064191, 9145129), (5064191, 11058226), (5064191, 10074270), (5064191, 2885119), (5064191, 13727909), (5064191, 2372994), (5064191, 950429), (5064191, 9976763), (5064191, 14737193), (5064191, 33471439), (5064191, 12224231), (5064191, 24486281), (5064191, 22376055), (5064191, 13677861), (5064191, 6173336), (5064191, 35589999), (5064191, 25584574), (5064191, 9835), (5064191, 20756695), (5064191, 12003939), (5064191, 5698193), (5064191, 26232501), (5064191, 32182348), (5064191, 7145079), (5064191, 23680613), (5064191, 11785619), (5064191, 16189500), (5064191, 2523915), (5064191, 34324376), (5064191, 22132828), (5064191, 14246985), (5064191, 28211412), (5064191, 8272738), (5064191, 13814145), (5064191, 36000471), (5064191, 32960328), (5064191, 25058702), (5064191, 23274964), (5064191, 9051776), (5064191, 7693015), (5064191, 5836236), (5064191, 8605084), (5064191, 18579324), (5064191, 10195064), (5064191, 3849792), (5064191, 33447396), (5064191, 35485631), (5064191, 23367243), (5064191, 35303753), (5064191, 4633426), (5064191, 44302), (5064191, 6960205), (5064191, 1615208), (5064191, 20327613), (5064191, 5862072), (5064191, 4933146), (5064191, 3317799), (5064191, 733836), (11605792, 33689385), (11605792, 14686017), (11605792, 5606124), (11605792, 22211229), (11605792, 20390730), (11605792, 15286558), (11605792, 9145129), (11605792, 11058226), (11605792, 10074270), (11605792, 2885119), (11605792, 13727909), (11605792, 2372994), (11605792, 950429), (11605792, 9976763), (11605792, 14737193), (11605792, 33471439), (11605792, 12224231), (11605792, 24486281), (11605792, 22376055), (11605792, 13677861), (11605792, 6173336), (11605792, 35589999), (11605792, 25584574), (11605792, 9835), (11605792, 20756695), (11605792, 12003939), (11605792, 5698193), (11605792, 26232501), (11605792, 32182348), (11605792, 7145079), (11605792, 23680613), (11605792, 11785619), (11605792, 16189500), (11605792, 2523915), (11605792, 34324376), (11605792, 22132828), (11605792, 14246985), (11605792, 28211412), (11605792, 8272738), (11605792, 13814145), (11605792, 36000471), (11605792, 32960328), (11605792, 25058702), (11605792, 23274964), (11605792, 9051776), (11605792, 7693015), (11605792, 5836236), (11605792, 8605084), (11605792, 18579324), (11605792, 10195064), (11605792, 3849792), (11605792, 33447396), (11605792, 35485631), (11605792, 23367243), (11605792, 35303753), (11605792, 4633426), (11605792, 44302), (11605792, 6960205), (11605792, 1615208), (11605792, 20327613), (11605792, 5862072), (11605792, 4933146), (11605792, 3317799), (11605792, 733836), (33689385, 14686017), (33689385, 5606124), (33689385, 22211229), (33689385, 20390730), (33689385, 15286558), (33689385, 9145129), (33689385, 11058226), (33689385, 10074270), (33689385, 2885119), (33689385, 13727909), (33689385, 2372994), (33689385, 950429), (33689385, 9976763), (33689385, 14737193), (33689385, 33471439), (33689385, 12224231), (33689385, 24486281), (33689385, 22376055), (33689385, 13677861), (33689385, 6173336), (33689385, 35589999), (33689385, 25584574), (33689385, 9835), (33689385, 20756695), (33689385, 12003939), (33689385, 5698193), (33689385, 26232501), (33689385, 32182348), (33689385, 7145079), (33689385, 23680613), (33689385, 11785619), (33689385, 16189500), (33689385, 2523915), (33689385, 34324376), (33689385, 22132828), (33689385, 14246985), (33689385, 28211412), (33689385, 8272738), (33689385, 13814145), (33689385, 36000471), (33689385, 32960328), (33689385, 25058702), (33689385, 23274964), (33689385, 9051776), (33689385, 7693015), (33689385, 5836236), (33689385, 8605084), (33689385, 18579324), (33689385, 10195064), (33689385, 3849792), (33689385, 33447396), (33689385, 35485631), (33689385, 23367243), (33689385, 35303753), (33689385, 4633426), (33689385, 44302), (33689385, 6960205), (33689385, 1615208), (33689385, 20327613), (33689385, 5862072), (33689385, 4933146), (33689385, 3317799), (33689385, 733836), (14686017, 5606124), (14686017, 22211229), (14686017, 20390730), (14686017, 15286558), (14686017, 9145129), (14686017, 11058226), (14686017, 10074270), (14686017, 2885119), (14686017, 13727909), (14686017, 2372994), (14686017, 950429), (14686017, 9976763), (14686017, 14737193), (14686017, 33471439), (14686017, 12224231), (14686017, 24486281), (14686017, 22376055), (14686017, 13677861), (14686017, 6173336), (14686017, 35589999), (14686017, 25584574), (14686017, 9835), (14686017, 20756695), (14686017, 12003939), (14686017, 5698193), (14686017, 26232501), (14686017, 32182348), (14686017, 7145079), (14686017, 23680613), (14686017, 11785619), (14686017, 16189500), (14686017, 2523915), (14686017, 34324376), (14686017, 22132828), (14686017, 14246985), (14686017, 28211412), (14686017, 8272738), (14686017, 13814145), (14686017, 36000471), (14686017, 32960328), (14686017, 25058702), (14686017, 23274964), (14686017, 9051776), (14686017, 7693015), (14686017, 5836236), (14686017, 8605084), (14686017, 18579324), (14686017, 10195064), (14686017, 3849792), (14686017, 33447396), (14686017, 35485631), (14686017, 23367243), (14686017, 35303753), (14686017, 4633426), (14686017, 44302), (14686017, 6960205), (14686017, 1615208), (14686017, 20327613), (14686017, 5862072), (14686017, 4933146), (14686017, 3317799), (14686017, 733836), (5606124, 22211229), (5606124, 20390730), (5606124, 15286558), (5606124, 9145129), (5606124, 11058226), (5606124, 10074270), (5606124, 2885119), (5606124, 13727909), (5606124, 2372994), (5606124, 950429), (5606124, 9976763), (5606124, 14737193), (5606124, 33471439), (5606124, 12224231), (5606124, 24486281), (5606124, 22376055), (5606124, 13677861), (5606124, 6173336), (5606124, 35589999), (5606124, 25584574), (5606124, 9835), (5606124, 20756695), (5606124, 12003939), (5606124, 5698193), (5606124, 26232501), (5606124, 32182348), (5606124, 7145079), (5606124, 23680613), (5606124, 11785619), (5606124, 16189500), (5606124, 2523915), (5606124, 34324376), (5606124, 22132828), (5606124, 14246985), (5606124, 28211412), (5606124, 8272738), (5606124, 13814145), (5606124, 36000471), (5606124, 32960328), (5606124, 25058702), (5606124, 23274964), (5606124, 9051776), (5606124, 7693015), (5606124, 5836236), (5606124, 8605084), (5606124, 18579324), (5606124, 10195064), (5606124, 3849792), (5606124, 33447396), (5606124, 35485631), (5606124, 23367243), (5606124, 35303753), (5606124, 4633426), (5606124, 44302), (5606124, 6960205), (5606124, 1615208), (5606124, 20327613), (5606124, 5862072), (5606124, 4933146), (5606124, 3317799), (5606124, 733836), (22211229, 20390730), (22211229, 15286558), (22211229, 9145129), (22211229, 11058226), (22211229, 10074270), (22211229, 2885119), (22211229, 13727909), (22211229, 2372994), (22211229, 950429), (22211229, 9976763), (22211229, 14737193), (22211229, 33471439), (22211229, 12224231), (22211229, 24486281), (22211229, 22376055), (22211229, 13677861), (22211229, 6173336), (22211229, 35589999), (22211229, 25584574), (22211229, 9835), (22211229, 20756695), (22211229, 12003939), (22211229, 5698193), (22211229, 26232501), (22211229, 32182348), (22211229, 7145079), (22211229, 23680613), (22211229, 11785619), (22211229, 16189500), (22211229, 2523915), (22211229, 34324376), (22211229, 22132828), (22211229, 14246985), (22211229, 28211412), (22211229, 8272738), (22211229, 13814145), (22211229, 36000471), (22211229, 32960328), (22211229, 25058702), (22211229, 23274964), (22211229, 9051776), (22211229, 7693015), (22211229, 5836236), (22211229, 8605084), (22211229, 18579324), (22211229, 10195064), (22211229, 3849792), (22211229, 33447396), (22211229, 35485631), (22211229, 23367243), (22211229, 35303753), (22211229, 4633426), (22211229, 44302), (22211229, 6960205), (22211229, 1615208), (22211229, 20327613), (22211229, 5862072), (22211229, 4933146), (22211229, 3317799), (22211229, 733836), (20390730, 15286558), (20390730, 9145129), (20390730, 11058226), (20390730, 10074270), (20390730, 2885119), (20390730, 13727909), (20390730, 2372994), (20390730, 950429), (20390730, 9976763), (20390730, 14737193), (20390730, 33471439), (20390730, 12224231), (20390730, 24486281), (20390730, 22376055), (20390730, 13677861), (20390730, 6173336), (20390730, 35589999), (20390730, 25584574), (20390730, 9835), (20390730, 20756695), (20390730, 12003939), (20390730, 5698193), (20390730, 26232501), (20390730, 32182348), (20390730, 7145079), (20390730, 23680613), (20390730, 11785619), (20390730, 16189500), (20390730, 2523915), (20390730, 34324376), (20390730, 22132828), (20390730, 14246985), (20390730, 28211412), (20390730, 8272738), (20390730, 13814145), (20390730, 36000471), (20390730, 32960328), (20390730, 25058702), (20390730, 23274964), (20390730, 9051776), (20390730, 7693015), (20390730, 5836236), (20390730, 8605084), (20390730, 18579324), (20390730, 10195064), (20390730, 3849792), (20390730, 33447396), (20390730, 35485631), (20390730, 23367243), (20390730, 35303753), (20390730, 4633426), (20390730, 44302), (20390730, 6960205), (20390730, 1615208), (20390730, 20327613), (20390730, 5862072), (20390730, 4933146), (20390730, 3317799), (20390730, 733836), (15286558, 9145129), (15286558, 11058226), (15286558, 10074270), (15286558, 2885119), (15286558, 13727909), (15286558, 2372994), (15286558, 950429), (15286558, 9976763), (15286558, 14737193), (15286558, 33471439), (15286558, 12224231), (15286558, 24486281), (15286558, 22376055), (15286558, 13677861), (15286558, 6173336), (15286558, 35589999), (15286558, 25584574), (15286558, 9835), (15286558, 20756695), (15286558, 12003939), (15286558, 5698193), (15286558, 26232501), (15286558, 32182348), (15286558, 7145079), (15286558, 23680613), (15286558, 11785619), (15286558, 16189500), (15286558, 2523915), (15286558, 34324376), (15286558, 22132828), (15286558, 14246985), (15286558, 28211412), (15286558, 8272738), (15286558, 13814145), (15286558, 36000471), (15286558, 32960328), (15286558, 25058702), (15286558, 23274964), (15286558, 9051776), (15286558, 7693015), (15286558, 5836236), (15286558, 8605084), (15286558, 18579324), (15286558, 10195064), (15286558, 3849792), (15286558, 33447396), (15286558, 35485631), (15286558, 23367243), (15286558, 35303753), (15286558, 4633426), (15286558, 44302), (15286558, 6960205), (15286558, 1615208), (15286558, 20327613), (15286558, 5862072), (15286558, 4933146), (15286558, 3317799), (15286558, 733836), (9145129, 11058226), (9145129, 10074270), (9145129, 2885119), (9145129, 13727909), (9145129, 2372994), (9145129, 950429), (9145129, 9976763), (9145129, 14737193), (9145129, 33471439), (9145129, 12224231), (9145129, 24486281), (9145129, 22376055), (9145129, 13677861), (9145129, 6173336), (9145129, 35589999), (9145129, 25584574), (9145129, 9835), (9145129, 20756695), (9145129, 12003939), (9145129, 5698193), (9145129, 26232501), (9145129, 32182348), (9145129, 7145079), (9145129, 23680613), (9145129, 11785619), (9145129, 16189500), (9145129, 2523915), (9145129, 34324376), (9145129, 22132828), (9145129, 14246985), (9145129, 28211412), (9145129, 8272738), (9145129, 13814145), (9145129, 36000471), (9145129, 32960328), (9145129, 25058702), (9145129, 23274964), (9145129, 9051776), (9145129, 7693015), (9145129, 5836236), (9145129, 8605084), (9145129, 18579324), (9145129, 10195064), (9145129, 3849792), (9145129, 33447396), (9145129, 35485631), (9145129, 23367243), (9145129, 35303753), (9145129, 4633426), (9145129, 44302), (9145129, 6960205), (9145129, 1615208), (9145129, 20327613), (9145129, 5862072), (9145129, 4933146), (9145129, 3317799), (9145129, 733836), (11058226, 10074270), (11058226, 2885119), (11058226, 13727909), (11058226, 2372994), (11058226, 950429), (11058226, 9976763), (11058226, 14737193), (11058226, 33471439), (11058226, 12224231), (11058226, 24486281), (11058226, 22376055), (11058226, 13677861), (11058226, 6173336), (11058226, 35589999), (11058226, 25584574), (11058226, 9835), (11058226, 20756695), (11058226, 12003939), (11058226, 5698193), (11058226, 26232501), (11058226, 32182348), (11058226, 7145079), (11058226, 23680613), (11058226, 11785619), (11058226, 16189500), (11058226, 2523915), (11058226, 34324376), (11058226, 22132828), (11058226, 14246985), (11058226, 28211412), (11058226, 8272738), (11058226, 13814145), (11058226, 36000471), (11058226, 32960328), (11058226, 25058702), (11058226, 23274964), (11058226, 9051776), (11058226, 7693015), (11058226, 5836236), (11058226, 8605084), (11058226, 18579324), (11058226, 10195064), (11058226, 3849792), (11058226, 33447396), (11058226, 35485631), (11058226, 23367243), (11058226, 35303753), (11058226, 4633426), (11058226, 44302), (11058226, 6960205), (11058226, 1615208), (11058226, 20327613), (11058226, 5862072), (11058226, 4933146), (11058226, 3317799), (11058226, 733836), (10074270, 2885119), (10074270, 13727909), (10074270, 2372994), (10074270, 950429), (10074270, 9976763), (10074270, 14737193), (10074270, 33471439), (10074270, 12224231), (10074270, 24486281), (10074270, 22376055), (10074270, 13677861), (10074270, 6173336), (10074270, 35589999), (10074270, 25584574), (10074270, 9835), (10074270, 20756695), (10074270, 12003939), (10074270, 5698193), (10074270, 26232501), (10074270, 32182348), (10074270, 7145079), (10074270, 23680613), (10074270, 11785619), (10074270, 16189500), (10074270, 2523915), (10074270, 34324376), (10074270, 22132828), (10074270, 14246985), (10074270, 28211412), (10074270, 8272738), (10074270, 13814145), (10074270, 36000471), (10074270, 32960328), (10074270, 25058702), (10074270, 23274964), (10074270, 9051776), (10074270, 7693015), (10074270, 5836236), (10074270, 8605084), (10074270, 18579324), (10074270, 10195064), (10074270, 3849792), (10074270, 33447396), (10074270, 35485631), (10074270, 23367243), (10074270, 35303753), (10074270, 4633426), (10074270, 44302), (10074270, 6960205), (10074270, 1615208), (10074270, 20327613), (10074270, 5862072), (10074270, 4933146), (10074270, 3317799), (10074270, 733836), (2885119, 13727909), (2885119, 2372994), (2885119, 950429), (2885119, 9976763), (2885119, 14737193), (2885119, 33471439), (2885119, 12224231), (2885119, 24486281), (2885119, 22376055), (2885119, 13677861), (2885119, 6173336), (2885119, 35589999), (2885119, 25584574), (2885119, 9835), (2885119, 20756695), (2885119, 12003939), (2885119, 5698193), (2885119, 26232501), (2885119, 32182348), (2885119, 7145079), (2885119, 23680613), (2885119, 11785619), (2885119, 16189500), (2885119, 2523915), (2885119, 34324376), (2885119, 22132828), (2885119, 14246985), (2885119, 28211412), (2885119, 8272738), (2885119, 13814145), (2885119, 36000471), (2885119, 32960328), (2885119, 25058702), (2885119, 23274964), (2885119, 9051776), (2885119, 7693015), (2885119, 5836236), (2885119, 8605084), (2885119, 18579324), (2885119, 10195064), (2885119, 3849792), (2885119, 33447396), (2885119, 35485631), (2885119, 23367243), (2885119, 35303753), (2885119, 4633426), (2885119, 44302), (2885119, 6960205), (2885119, 1615208), (2885119, 20327613), (2885119, 5862072), (2885119, 4933146), (2885119, 3317799), (2885119, 733836), (13727909, 2372994), (13727909, 950429), (13727909, 9976763), (13727909, 14737193), (13727909, 33471439), (13727909, 12224231), (13727909, 24486281), (13727909, 22376055), (13727909, 13677861), (13727909, 6173336), (13727909, 35589999), (13727909, 25584574), (13727909, 9835), (13727909, 20756695), (13727909, 12003939), (13727909, 5698193), (13727909, 26232501), (13727909, 32182348), (13727909, 7145079), (13727909, 23680613), (13727909, 11785619), (13727909, 16189500), (13727909, 2523915), (13727909, 34324376), (13727909, 22132828), (13727909, 14246985), (13727909, 28211412), (13727909, 8272738), (13727909, 13814145), (13727909, 36000471), (13727909, 32960328), (13727909, 25058702), (13727909, 23274964), (13727909, 9051776), (13727909, 7693015), (13727909, 5836236), (13727909, 8605084), (13727909, 18579324), (13727909, 10195064), (13727909, 3849792), (13727909, 33447396), (13727909, 35485631), (13727909, 23367243), (13727909, 35303753), (13727909, 4633426), (13727909, 44302), (13727909, 6960205), (13727909, 1615208), (13727909, 20327613), (13727909, 5862072), (13727909, 4933146), (13727909, 3317799), (13727909, 733836), (2372994, 950429), (2372994, 9976763), (2372994, 14737193), (2372994, 33471439), (2372994, 12224231), (2372994, 24486281), (2372994, 22376055), (2372994, 13677861), (2372994, 6173336), (2372994, 35589999), (2372994, 25584574), (2372994, 9835), (2372994, 20756695), (2372994, 12003939), (2372994, 5698193), (2372994, 26232501), (2372994, 32182348), (2372994, 7145079), (2372994, 23680613), (2372994, 11785619), (2372994, 16189500), (2372994, 2523915), (2372994, 34324376), (2372994, 22132828), (2372994, 14246985), (2372994, 28211412), (2372994, 8272738), (2372994, 13814145), (2372994, 36000471), (2372994, 32960328), (2372994, 25058702), (2372994, 23274964), (2372994, 9051776), (2372994, 7693015), (2372994, 5836236), (2372994, 8605084), (2372994, 18579324), (2372994, 10195064), (2372994, 3849792), (2372994, 33447396), (2372994, 35485631), (2372994, 23367243), (2372994, 35303753), (2372994, 4633426), (2372994, 44302), (2372994, 6960205), (2372994, 1615208), (2372994, 20327613), (2372994, 5862072), (2372994, 4933146), (2372994, 3317799), (2372994, 733836), (950429, 9976763), (950429, 14737193), (950429, 33471439), (950429, 12224231), (950429, 24486281), (950429, 22376055), (950429, 13677861), (950429, 6173336), (950429, 35589999), (950429, 25584574), (950429, 9835), (950429, 20756695), (950429, 12003939), (950429, 5698193), (950429, 26232501), (950429, 32182348), (950429, 7145079), (950429, 23680613), (950429, 11785619), (950429, 16189500), (950429, 2523915), (950429, 34324376), (950429, 22132828), (950429, 14246985), (950429, 28211412), (950429, 8272738), (950429, 13814145), (950429, 36000471), (950429, 32960328), (950429, 25058702), (950429, 23274964), (950429, 9051776), (950429, 7693015), (950429, 5836236), (950429, 8605084), (950429, 18579324), (950429, 10195064), (950429, 3849792), (950429, 33447396), (950429, 35485631), (950429, 23367243), (950429, 35303753), (950429, 4633426), (950429, 44302), (950429, 6960205), (950429, 1615208), (950429, 20327613), (950429, 5862072), (950429, 4933146), (950429, 3317799), (950429, 733836), (9976763, 14737193), (9976763, 33471439), (9976763, 12224231), (9976763, 24486281), (9976763, 22376055), (9976763, 13677861), (9976763, 6173336), (9976763, 35589999), (9976763, 25584574), (9976763, 9835), (9976763, 20756695), (9976763, 12003939), (9976763, 5698193), (9976763, 26232501), (9976763, 32182348), (9976763, 7145079), (9976763, 23680613), (9976763, 11785619), (9976763, 16189500), (9976763, 2523915), (9976763, 34324376), (9976763, 22132828), (9976763, 14246985), (9976763, 28211412), (9976763, 8272738), (9976763, 13814145), (9976763, 36000471), (9976763, 32960328), (9976763, 25058702), (9976763, 23274964), (9976763, 9051776), (9976763, 7693015), (9976763, 5836236), (9976763, 8605084), (9976763, 18579324), (9976763, 10195064), (9976763, 3849792), (9976763, 33447396), (9976763, 35485631), (9976763, 23367243), (9976763, 35303753), (9976763, 4633426), (9976763, 44302), (9976763, 6960205), (9976763, 1615208), (9976763, 20327613), (9976763, 5862072), (9976763, 4933146), (9976763, 3317799), (9976763, 733836), (14737193, 33471439), (14737193, 12224231), (14737193, 24486281), (14737193, 22376055), (14737193, 13677861), (14737193, 6173336), (14737193, 35589999), (14737193, 25584574), (14737193, 9835), (14737193, 20756695), (14737193, 12003939), (14737193, 5698193), (14737193, 26232501), (14737193, 32182348), (14737193, 7145079), (14737193, 23680613), (14737193, 11785619), (14737193, 16189500), (14737193, 2523915), (14737193, 34324376), (14737193, 22132828), (14737193, 14246985), (14737193, 28211412), (14737193, 8272738), (14737193, 13814145), (14737193, 36000471), (14737193, 32960328), (14737193, 25058702), (14737193, 23274964), (14737193, 9051776), (14737193, 7693015), (14737193, 5836236), (14737193, 8605084), (14737193, 18579324), (14737193, 10195064), (14737193, 3849792), (14737193, 33447396), (14737193, 35485631), (14737193, 23367243), (14737193, 35303753), (14737193, 4633426), (14737193, 44302), (14737193, 6960205), (14737193, 1615208), (14737193, 20327613), (14737193, 5862072), (14737193, 4933146), (14737193, 3317799), (14737193, 733836), (33471439, 12224231), (33471439, 24486281), (33471439, 22376055), (33471439, 13677861), (33471439, 6173336), (33471439, 35589999), (33471439, 25584574), (33471439, 9835), (33471439, 20756695), (33471439, 12003939), (33471439, 5698193), (33471439, 26232501), (33471439, 32182348), (33471439, 7145079), (33471439, 23680613), (33471439, 11785619), (33471439, 16189500), (33471439, 2523915), (33471439, 34324376), (33471439, 22132828), (33471439, 14246985), (33471439, 28211412), (33471439, 8272738), (33471439, 13814145), (33471439, 36000471), (33471439, 32960328), (33471439, 25058702), (33471439, 23274964), (33471439, 9051776), (33471439, 7693015), (33471439, 5836236), (33471439, 8605084), (33471439, 18579324), (33471439, 10195064), (33471439, 3849792), (33471439, 33447396), (33471439, 35485631), (33471439, 23367243), (33471439, 35303753), (33471439, 4633426), (33471439, 44302), (33471439, 6960205), (33471439, 1615208), (33471439, 20327613), (33471439, 5862072), (33471439, 4933146), (33471439, 3317799), (33471439, 733836), (12224231, 24486281), (12224231, 22376055), (12224231, 13677861), (12224231, 6173336), (12224231, 35589999), (12224231, 25584574), (12224231, 9835), (12224231, 20756695), (12224231, 12003939), (12224231, 5698193), (12224231, 26232501), (12224231, 32182348), (12224231, 7145079), (12224231, 23680613), (12224231, 11785619), (12224231, 16189500), (12224231, 2523915), (12224231, 34324376), (12224231, 22132828), (12224231, 14246985), (12224231, 28211412), (12224231, 8272738), (12224231, 13814145), (12224231, 36000471), (12224231, 32960328), (12224231, 25058702), (12224231, 23274964), (12224231, 9051776), (12224231, 7693015), (12224231, 5836236), (12224231, 8605084), (12224231, 18579324), (12224231, 10195064), (12224231, 3849792), (12224231, 33447396), (12224231, 35485631), (12224231, 23367243), (12224231, 35303753), (12224231, 4633426), (12224231, 44302), (12224231, 6960205), (12224231, 1615208), (12224231, 20327613), (12224231, 5862072), (12224231, 4933146), (12224231, 3317799), (12224231, 733836), (24486281, 22376055), (24486281, 13677861), (24486281, 6173336), (24486281, 35589999), (24486281, 25584574), (24486281, 9835), (24486281, 20756695), (24486281, 12003939), (24486281, 5698193), (24486281, 26232501), (24486281, 32182348), (24486281, 7145079), (24486281, 23680613), (24486281, 11785619), (24486281, 16189500), (24486281, 2523915), (24486281, 34324376), (24486281, 22132828), (24486281, 14246985), (24486281, 28211412), (24486281, 8272738), (24486281, 13814145), (24486281, 36000471), (24486281, 32960328), (24486281, 25058702), (24486281, 23274964), (24486281, 9051776), (24486281, 7693015), (24486281, 5836236), (24486281, 8605084), (24486281, 18579324), (24486281, 10195064), (24486281, 3849792), (24486281, 33447396), (24486281, 35485631), (24486281, 23367243), (24486281, 35303753), (24486281, 4633426), (24486281, 44302), (24486281, 6960205), (24486281, 1615208), (24486281, 20327613), (24486281, 5862072), (24486281, 4933146), (24486281, 3317799), (24486281, 733836), (22376055, 13677861), (22376055, 6173336), (22376055, 35589999), (22376055, 25584574), (22376055, 9835), (22376055, 20756695), (22376055, 12003939), (22376055, 5698193), (22376055, 26232501), (22376055, 32182348), (22376055, 7145079), (22376055, 23680613), (22376055, 11785619), (22376055, 16189500), (22376055, 2523915), (22376055, 34324376), (22376055, 22132828), (22376055, 14246985), (22376055, 28211412), (22376055, 8272738), (22376055, 13814145), (22376055, 36000471), (22376055, 32960328), (22376055, 25058702), (22376055, 23274964), (22376055, 9051776), (22376055, 7693015), (22376055, 5836236), (22376055, 8605084), (22376055, 18579324), (22376055, 10195064), (22376055, 3849792), (22376055, 33447396), (22376055, 35485631), (22376055, 23367243), (22376055, 35303753), (22376055, 4633426), (22376055, 44302), (22376055, 6960205), (22376055, 1615208), (22376055, 20327613), (22376055, 5862072), (22376055, 4933146), (22376055, 3317799), (22376055, 733836), (13677861, 6173336), (13677861, 35589999), (13677861, 25584574), (13677861, 9835), (13677861, 20756695), (13677861, 12003939), (13677861, 5698193), (13677861, 26232501), (13677861, 32182348), (13677861, 7145079), (13677861, 23680613), (13677861, 11785619), (13677861, 16189500), (13677861, 2523915), (13677861, 34324376), (13677861, 22132828), (13677861, 14246985), (13677861, 28211412), (13677861, 8272738), (13677861, 13814145), (13677861, 36000471), (13677861, 32960328), (13677861, 25058702), (13677861, 23274964), (13677861, 9051776), (13677861, 7693015), (13677861, 5836236), (13677861, 8605084), (13677861, 18579324), (13677861, 10195064), (13677861, 3849792), (13677861, 33447396), (13677861, 35485631), (13677861, 23367243), (13677861, 35303753), (13677861, 4633426), (13677861, 44302), (13677861, 6960205), (13677861, 1615208), (13677861, 20327613), (13677861, 5862072), (13677861, 4933146), (13677861, 3317799), (13677861, 733836), (6173336, 35589999), (6173336, 25584574), (6173336, 9835), (6173336, 20756695), (6173336, 12003939), (6173336, 5698193), (6173336, 26232501), (6173336, 32182348), (6173336, 7145079), (6173336, 23680613), (6173336, 11785619), (6173336, 16189500), (6173336, 2523915), (6173336, 34324376), (6173336, 22132828), (6173336, 14246985), (6173336, 28211412), (6173336, 8272738), (6173336, 13814145), (6173336, 36000471), (6173336, 32960328), (6173336, 25058702), (6173336, 23274964), (6173336, 9051776), (6173336, 7693015), (6173336, 5836236), (6173336, 8605084), (6173336, 18579324), (6173336, 10195064), (6173336, 3849792), (6173336, 33447396), (6173336, 35485631), (6173336, 23367243), (6173336, 35303753), (6173336, 4633426), (6173336, 44302), (6173336, 6960205), (6173336, 1615208), (6173336, 20327613), (6173336, 5862072), (6173336, 4933146), (6173336, 3317799), (6173336, 733836), (35589999, 25584574), (35589999, 9835), (35589999, 20756695), (35589999, 12003939), (35589999, 5698193), (35589999, 26232501), (35589999, 32182348), (35589999, 7145079), (35589999, 23680613), (35589999, 11785619), (35589999, 16189500), (35589999, 2523915), (35589999, 34324376), (35589999, 22132828), (35589999, 14246985), (35589999, 28211412), (35589999, 8272738), (35589999, 13814145), (35589999, 36000471), (35589999, 32960328), (35589999, 25058702), (35589999, 23274964), (35589999, 9051776), (35589999, 7693015), (35589999, 5836236), (35589999, 8605084), (35589999, 18579324), (35589999, 10195064), (35589999, 3849792), (35589999, 33447396), (35589999, 35485631), (35589999, 23367243), (35589999, 35303753), (35589999, 4633426), (35589999, 44302), (35589999, 6960205), (35589999, 1615208), (35589999, 20327613), (35589999, 5862072), (35589999, 4933146), (35589999, 3317799), (35589999, 733836), (25584574, 9835), (25584574, 20756695), (25584574, 12003939), (25584574, 5698193), (25584574, 26232501), (25584574, 32182348), (25584574, 7145079), (25584574, 23680613), (25584574, 11785619), (25584574, 16189500), (25584574, 2523915), (25584574, 34324376), (25584574, 22132828), (25584574, 14246985), (25584574, 28211412), (25584574, 8272738), (25584574, 13814145), (25584574, 36000471), (25584574, 32960328), (25584574, 25058702), (25584574, 23274964), (25584574, 9051776), (25584574, 7693015), (25584574, 5836236), (25584574, 8605084), (25584574, 18579324), (25584574, 10195064), (25584574, 3849792), (25584574, 33447396), (25584574, 35485631), (25584574, 23367243), (25584574, 35303753), (25584574, 4633426), (25584574, 44302), (25584574, 6960205), (25584574, 1615208), (25584574, 20327613), (25584574, 5862072), (25584574, 4933146), (25584574, 3317799), (25584574, 733836), (9835, 20756695), (9835, 12003939), (9835, 5698193), (9835, 26232501), (9835, 32182348), (9835, 7145079), (9835, 23680613), (9835, 11785619), (9835, 16189500), (9835, 2523915), (9835, 34324376), (9835, 22132828), (9835, 14246985), (9835, 28211412), (9835, 8272738), (9835, 13814145), (9835, 36000471), (9835, 32960328), (9835, 25058702), (9835, 23274964), (9835, 9051776), (9835, 7693015), (9835, 5836236), (9835, 8605084), (9835, 18579324), (9835, 10195064), (9835, 3849792), (9835, 33447396), (9835, 35485631), (9835, 23367243), (9835, 35303753), (9835, 4633426), (9835, 44302), (9835, 6960205), (9835, 1615208), (9835, 20327613), (9835, 5862072), (9835, 4933146), (9835, 3317799), (9835, 733836), (20756695, 12003939), (20756695, 5698193), (20756695, 26232501), (20756695, 32182348), (20756695, 7145079), (20756695, 23680613), (20756695, 11785619), (20756695, 16189500), (20756695, 2523915), (20756695, 34324376), (20756695, 22132828), (20756695, 14246985), (20756695, 28211412), (20756695, 8272738), (20756695, 13814145), (20756695, 36000471), (20756695, 32960328), (20756695, 25058702), (20756695, 23274964), (20756695, 9051776), (20756695, 7693015), (20756695, 5836236), (20756695, 8605084), (20756695, 18579324), (20756695, 10195064), (20756695, 3849792), (20756695, 33447396), (20756695, 35485631), (20756695, 23367243), (20756695, 35303753), (20756695, 4633426), (20756695, 44302), (20756695, 6960205), (20756695, 1615208), (20756695, 20327613), (20756695, 5862072), (20756695, 4933146), (20756695, 3317799), (20756695, 733836), (12003939, 5698193), (12003939, 26232501), (12003939, 32182348), (12003939, 7145079), (12003939, 23680613), (12003939, 11785619), (12003939, 16189500), (12003939, 2523915), (12003939, 34324376), (12003939, 22132828), (12003939, 14246985), (12003939, 28211412), (12003939, 8272738), (12003939, 13814145), (12003939, 36000471), (12003939, 32960328), (12003939, 25058702), (12003939, 23274964), (12003939, 9051776), (12003939, 7693015), (12003939, 5836236), (12003939, 8605084), (12003939, 18579324), (12003939, 10195064), (12003939, 3849792), (12003939, 33447396), (12003939, 35485631), (12003939, 23367243), (12003939, 35303753), (12003939, 4633426), (12003939, 44302), (12003939, 6960205), (12003939, 1615208), (12003939, 20327613), (12003939, 5862072), (12003939, 4933146), (12003939, 3317799), (12003939, 733836), (5698193, 26232501), (5698193, 32182348), (5698193, 7145079), (5698193, 23680613), (5698193, 11785619), (5698193, 16189500), (5698193, 2523915), (5698193, 34324376), (5698193, 22132828), (5698193, 14246985), (5698193, 28211412), (5698193, 8272738), (5698193, 13814145), (5698193, 36000471), (5698193, 32960328), (5698193, 25058702), (5698193, 23274964), (5698193, 9051776), (5698193, 7693015), (5698193, 5836236), (5698193, 8605084), (5698193, 18579324), (5698193, 10195064), (5698193, 3849792), (5698193, 33447396), (5698193, 35485631), (5698193, 23367243), (5698193, 35303753), (5698193, 4633426), (5698193, 44302), (5698193, 6960205), (5698193, 1615208), (5698193, 20327613), (5698193, 5862072), (5698193, 4933146), (5698193, 3317799), (5698193, 733836), (26232501, 32182348), (26232501, 7145079), (26232501, 23680613), (26232501, 11785619), (26232501, 16189500), (26232501, 2523915), (26232501, 34324376), (26232501, 22132828), (26232501, 14246985), (26232501, 28211412), (26232501, 8272738), (26232501, 13814145), (26232501, 36000471), (26232501, 32960328), (26232501, 25058702), (26232501, 23274964), (26232501, 9051776), (26232501, 7693015), (26232501, 5836236), (26232501, 8605084), (26232501, 18579324), (26232501, 10195064), (26232501, 3849792), (26232501, 33447396), (26232501, 35485631), (26232501, 23367243), (26232501, 35303753), (26232501, 4633426), (26232501, 44302), (26232501, 6960205), (26232501, 1615208), (26232501, 20327613), (26232501, 5862072), (26232501, 4933146), (26232501, 3317799), (26232501, 733836), (32182348, 7145079), (32182348, 23680613), (32182348, 11785619), (32182348, 16189500), (32182348, 2523915), (32182348, 34324376), (32182348, 22132828), (32182348, 14246985), (32182348, 28211412), (32182348, 8272738), (32182348, 13814145), (32182348, 36000471), (32182348, 32960328), (32182348, 25058702), (32182348, 23274964), (32182348, 9051776), (32182348, 7693015), (32182348, 5836236), (32182348, 8605084), (32182348, 18579324), (32182348, 10195064), (32182348, 3849792), (32182348, 33447396), (32182348, 35485631), (32182348, 23367243), (32182348, 35303753), (32182348, 4633426), (32182348, 44302), (32182348, 6960205), (32182348, 1615208), (32182348, 20327613), (32182348, 5862072), (32182348, 4933146), (32182348, 3317799), (32182348, 733836), (7145079, 23680613), (7145079, 11785619), (7145079, 16189500), (7145079, 2523915), (7145079, 34324376), (7145079, 22132828), (7145079, 14246985), (7145079, 28211412), (7145079, 8272738), (7145079, 13814145), (7145079, 36000471), (7145079, 32960328), (7145079, 25058702), (7145079, 23274964), (7145079, 9051776), (7145079, 7693015), (7145079, 5836236), (7145079, 8605084), (7145079, 18579324), (7145079, 10195064), (7145079, 3849792), (7145079, 33447396), (7145079, 35485631), (7145079, 23367243), (7145079, 35303753), (7145079, 4633426), (7145079, 44302), (7145079, 6960205), (7145079, 1615208), (7145079, 20327613), (7145079, 5862072), (7145079, 4933146), (7145079, 3317799), (7145079, 733836), (23680613, 11785619), (23680613, 16189500), (23680613, 2523915), (23680613, 34324376), (23680613, 22132828), (23680613, 14246985), (23680613, 28211412), (23680613, 8272738), (23680613, 13814145), (23680613, 36000471), (23680613, 32960328), (23680613, 25058702), (23680613, 23274964), (23680613, 9051776), (23680613, 7693015), (23680613, 5836236), (23680613, 8605084), (23680613, 18579324), (23680613, 10195064), (23680613, 3849792), (23680613, 33447396), (23680613, 35485631), (23680613, 23367243), (23680613, 35303753), (23680613, 4633426), (23680613, 44302), (23680613, 6960205), (23680613, 1615208), (23680613, 20327613), (23680613, 5862072), (23680613, 4933146), (23680613, 3317799), (23680613, 733836), (11785619, 16189500), (11785619, 2523915), (11785619, 34324376), (11785619, 22132828), (11785619, 14246985), (11785619, 28211412), (11785619, 8272738), (11785619, 13814145), (11785619, 36000471), (11785619, 32960328), (11785619, 25058702), (11785619, 23274964), (11785619, 9051776), (11785619, 7693015), (11785619, 5836236), (11785619, 8605084), (11785619, 18579324), (11785619, 10195064), (11785619, 3849792), (11785619, 33447396), (11785619, 35485631), (11785619, 23367243), (11785619, 35303753), (11785619, 4633426), (11785619, 44302), (11785619, 6960205), (11785619, 1615208), (11785619, 20327613), (11785619, 5862072), (11785619, 4933146), (11785619, 3317799), (11785619, 733836), (16189500, 2523915), (16189500, 34324376), (16189500, 22132828), (16189500, 14246985), (16189500, 28211412), (16189500, 8272738), (16189500, 13814145), (16189500, 36000471), (16189500, 32960328), (16189500, 25058702), (16189500, 23274964), (16189500, 9051776), (16189500, 7693015), (16189500, 5836236), (16189500, 8605084), (16189500, 18579324), (16189500, 10195064), (16189500, 3849792), (16189500, 33447396), (16189500, 35485631), (16189500, 23367243), (16189500, 35303753), (16189500, 4633426), (16189500, 44302), (16189500, 6960205), (16189500, 1615208), (16189500, 20327613), (16189500, 5862072), (16189500, 4933146), (16189500, 3317799), (16189500, 733836), (2523915, 34324376), (2523915, 22132828), (2523915, 14246985), (2523915, 28211412), (2523915, 8272738), (2523915, 13814145), (2523915, 36000471), (2523915, 32960328), (2523915, 25058702), (2523915, 23274964), (2523915, 9051776), (2523915, 7693015), (2523915, 5836236), (2523915, 8605084), (2523915, 18579324), (2523915, 10195064), (2523915, 3849792), (2523915, 33447396), (2523915, 35485631), (2523915, 23367243), (2523915, 35303753), (2523915, 4633426), (2523915, 44302), (2523915, 6960205), (2523915, 1615208), (2523915, 20327613), (2523915, 5862072), (2523915, 4933146), (2523915, 3317799), (2523915, 733836), (34324376, 22132828), (34324376, 14246985), (34324376, 28211412), (34324376, 8272738), (34324376, 13814145), (34324376, 36000471), (34324376, 32960328), (34324376, 25058702), (34324376, 23274964), (34324376, 9051776), (34324376, 7693015), (34324376, 5836236), (34324376, 8605084), (34324376, 18579324), (34324376, 10195064), (34324376, 3849792), (34324376, 33447396), (34324376, 35485631), (34324376, 23367243), (34324376, 35303753), (34324376, 4633426), (34324376, 44302), (34324376, 6960205), (34324376, 1615208), (34324376, 20327613), (34324376, 5862072), (34324376, 4933146), (34324376, 3317799), (34324376, 733836), (22132828, 14246985), (22132828, 28211412), (22132828, 8272738), (22132828, 13814145), (22132828, 36000471), (22132828, 32960328), (22132828, 25058702), (22132828, 23274964), (22132828, 9051776), (22132828, 7693015), (22132828, 5836236), (22132828, 8605084), (22132828, 18579324), (22132828, 10195064), (22132828, 3849792), (22132828, 33447396), (22132828, 35485631), (22132828, 23367243), (22132828, 35303753), (22132828, 4633426), (22132828, 44302), (22132828, 6960205), (22132828, 1615208), (22132828, 20327613), (22132828, 5862072), (22132828, 4933146), (22132828, 3317799), (22132828, 733836), (14246985, 28211412), (14246985, 8272738), (14246985, 13814145), (14246985, 36000471), (14246985, 32960328), (14246985, 25058702), (14246985, 23274964), (14246985, 9051776), (14246985, 7693015), (14246985, 5836236), (14246985, 8605084), (14246985, 18579324), (14246985, 10195064), (14246985, 3849792), (14246985, 33447396), (14246985, 35485631), (14246985, 23367243), (14246985, 35303753), (14246985, 4633426), (14246985, 44302), (14246985, 6960205), (14246985, 1615208), (14246985, 20327613), (14246985, 5862072), (14246985, 4933146), (14246985, 3317799), (14246985, 733836), (28211412, 8272738), (28211412, 13814145), (28211412, 36000471), (28211412, 32960328), (28211412, 25058702), (28211412, 23274964), (28211412, 9051776), (28211412, 7693015), (28211412, 5836236), (28211412, 8605084), (28211412, 18579324), (28211412, 10195064), (28211412, 3849792), (28211412, 33447396), (28211412, 35485631), (28211412, 23367243), (28211412, 35303753), (28211412, 4633426), (28211412, 44302), (28211412, 6960205), (28211412, 1615208), (28211412, 20327613), (28211412, 5862072), (28211412, 4933146), (28211412, 3317799), (28211412, 733836), (8272738, 13814145), (8272738, 36000471), (8272738, 32960328), (8272738, 25058702), (8272738, 23274964), (8272738, 9051776), (8272738, 7693015), (8272738, 5836236), (8272738, 8605084), (8272738, 18579324), (8272738, 10195064), (8272738, 3849792), (8272738, 33447396), (8272738, 35485631), (8272738, 23367243), (8272738, 35303753), (8272738, 4633426), (8272738, 44302), (8272738, 6960205), (8272738, 1615208), (8272738, 20327613), (8272738, 5862072), (8272738, 4933146), (8272738, 3317799), (8272738, 733836), (13814145, 36000471), (13814145, 32960328), (13814145, 25058702), (13814145, 23274964), (13814145, 9051776), (13814145, 7693015), (13814145, 5836236), (13814145, 8605084), (13814145, 18579324), (13814145, 10195064), (13814145, 3849792), (13814145, 33447396), (13814145, 35485631), (13814145, 23367243), (13814145, 35303753), (13814145, 4633426), (13814145, 44302), (13814145, 6960205), (13814145, 1615208), (13814145, 20327613), (13814145, 5862072), (13814145, 4933146), (13814145, 3317799), (13814145, 733836), (36000471, 32960328), (36000471, 25058702), (36000471, 23274964), (36000471, 9051776), (36000471, 7693015), (36000471, 5836236), (36000471, 8605084), (36000471, 18579324), (36000471, 10195064), (36000471, 3849792), (36000471, 33447396), (36000471, 35485631), (36000471, 23367243), (36000471, 35303753), (36000471, 4633426), (36000471, 44302), (36000471, 6960205), (36000471, 1615208), (36000471, 20327613), (36000471, 5862072), (36000471, 4933146), (36000471, 3317799), (36000471, 733836), (32960328, 25058702), (32960328, 23274964), (32960328, 9051776), (32960328, 7693015), (32960328, 5836236), (32960328, 8605084), (32960328, 18579324), (32960328, 10195064), (32960328, 3849792), (32960328, 33447396), (32960328, 35485631), (32960328, 23367243), (32960328, 35303753), (32960328, 4633426), (32960328, 44302), (32960328, 6960205), (32960328, 1615208), (32960328, 20327613), (32960328, 5862072), (32960328, 4933146), (32960328, 3317799), (32960328, 733836), (25058702, 23274964), (25058702, 9051776), (25058702, 7693015), (25058702, 5836236), (25058702, 8605084), (25058702, 18579324), (25058702, 10195064), (25058702, 3849792), (25058702, 33447396), (25058702, 35485631), (25058702, 23367243), (25058702, 35303753), (25058702, 4633426), (25058702, 44302), (25058702, 6960205), (25058702, 1615208), (25058702, 20327613), (25058702, 5862072), (25058702, 4933146), (25058702, 3317799), (25058702, 733836), (23274964, 9051776), (23274964, 7693015), (23274964, 5836236), (23274964, 8605084), (23274964, 18579324), (23274964, 10195064), (23274964, 3849792), (23274964, 33447396), (23274964, 35485631), (23274964, 23367243), (23274964, 35303753), (23274964, 4633426), (23274964, 44302), (23274964, 6960205), (23274964, 1615208), (23274964, 20327613), (23274964, 5862072), (23274964, 4933146), (23274964, 3317799), (23274964, 733836), (9051776, 7693015), (9051776, 5836236), (9051776, 8605084), (9051776, 18579324), (9051776, 10195064), (9051776, 3849792), (9051776, 33447396), (9051776, 35485631), (9051776, 23367243), (9051776, 35303753), (9051776, 4633426), (9051776, 44302), (9051776, 6960205), (9051776, 1615208), (9051776, 20327613), (9051776, 5862072), (9051776, 4933146), (9051776, 3317799), (9051776, 733836), (7693015, 5836236), (7693015, 8605084), (7693015, 18579324), (7693015, 10195064), (7693015, 3849792), (7693015, 33447396), (7693015, 35485631), (7693015, 23367243), (7693015, 35303753), (7693015, 4633426), (7693015, 44302), (7693015, 6960205), (7693015, 1615208), (7693015, 20327613), (7693015, 5862072), (7693015, 4933146), (7693015, 3317799), (7693015, 733836), (5836236, 8605084), (5836236, 18579324), (5836236, 10195064), (5836236, 3849792), (5836236, 33447396), (5836236, 35485631), (5836236, 23367243), (5836236, 35303753), (5836236, 4633426), (5836236, 44302), (5836236, 6960205), (5836236, 1615208), (5836236, 20327613), (5836236, 5862072), (5836236, 4933146), (5836236, 3317799), (5836236, 733836), (8605084, 18579324), (8605084, 10195064), (8605084, 3849792), (8605084, 33447396), (8605084, 35485631), (8605084, 23367243), (8605084, 35303753), (8605084, 4633426), (8605084, 44302), (8605084, 6960205), (8605084, 1615208), (8605084, 20327613), (8605084, 5862072), (8605084, 4933146), (8605084, 3317799), (8605084, 733836), (18579324, 10195064), (18579324, 3849792), (18579324, 33447396), (18579324, 35485631), (18579324, 23367243), (18579324, 35303753), (18579324, 4633426), (18579324, 44302), (18579324, 6960205), (18579324, 1615208), (18579324, 20327613), (18579324, 5862072), (18579324, 4933146), (18579324, 3317799), (18579324, 733836), (10195064, 3849792), (10195064, 33447396), (10195064, 35485631), (10195064, 23367243), (10195064, 35303753), (10195064, 4633426), (10195064, 44302), (10195064, 6960205), (10195064, 1615208), (10195064, 20327613), (10195064, 5862072), (10195064, 4933146), (10195064, 3317799), (10195064, 733836), (3849792, 33447396), (3849792, 35485631), (3849792, 23367243), (3849792, 35303753), (3849792, 4633426), (3849792, 44302), (3849792, 6960205), (3849792, 1615208), (3849792, 20327613), (3849792, 5862072), (3849792, 4933146), (3849792, 3317799), (3849792, 733836), (33447396, 35485631), (33447396, 23367243), (33447396, 35303753), (33447396, 4633426), (33447396, 44302), (33447396, 6960205), (33447396, 1615208), (33447396, 20327613), (33447396, 5862072), (33447396, 4933146), (33447396, 3317799), (33447396, 733836), (35485631, 23367243), (35485631, 35303753), (35485631, 4633426), (35485631, 44302), (35485631, 6960205), (35485631, 1615208), (35485631, 20327613), (35485631, 5862072), (35485631, 4933146), (35485631, 3317799), (35485631, 733836), (23367243, 35303753), (23367243, 4633426), (23367243, 44302), (23367243, 6960205), (23367243, 1615208), (23367243, 20327613), (23367243, 5862072), (23367243, 4933146), (23367243, 3317799), (23367243, 733836), (35303753, 4633426), (35303753, 44302), (35303753, 6960205), (35303753, 1615208), (35303753, 20327613), (35303753, 5862072), (35303753, 4933146), (35303753, 3317799), (35303753, 733836), (4633426, 44302), (4633426, 6960205), (4633426, 1615208), (4633426, 20327613), (4633426, 5862072), (4633426, 4933146), (4633426, 3317799), (4633426, 733836), (44302, 6960205), (44302, 1615208), (44302, 20327613), (44302, 5862072), (44302, 4933146), (44302, 3317799), (44302, 733836), (6960205, 1615208), (6960205, 20327613), (6960205, 5862072), (6960205, 4933146), (6960205, 3317799), (6960205, 733836), (1615208, 20327613), (1615208, 5862072), (1615208, 4933146), (1615208, 3317799), (1615208, 733836), (20327613, 5862072), (20327613, 4933146), (20327613, 3317799), (20327613, 733836), (5862072, 4933146), (5862072, 3317799), (5862072, 733836), (4933146, 3317799), (4933146, 733836), (3317799, 733836)]), (698, [(595909, 10799612), (595909, 32558509), (595909, 26834911), (595909, 28687847), (595909, 34461601), (595909, 32699320), (595909, 13871052), (595909, 5794124), (595909, 31332187), (595909, 24469731), (595909, 21430607), (595909, 29702704), (595909, 19954197), (595909, 21028695), (595909, 12124469), (595909, 14186169), (595909, 4574509), (595909, 13445119), (595909, 9938476), (595909, 21150037), (595909, 30927581), (595909, 1986237), (595909, 19299640), (595909, 6852645), (595909, 6872687), (595909, 4290595), (595909, 33388421), (595909, 31839719), (595909, 24641896), (595909, 8657003), (595909, 4299508), (595909, 2539874), (595909, 11142423), (595909, 27537840), (595909, 29110209), (595909, 14910247), (595909, 3584031), (595909, 30217005), (595909, 26683710), (595909, 277158), (595909, 8949170), (595909, 29365217), (595909, 11896654), (595909, 547526), (595909, 7191769), (595909, 9627851), (595909, 438356), (595909, 11252503), (595909, 25060688), (595909, 16790346), (595909, 10250805), (595909, 8699491), (595909, 4021666), (595909, 8656846), (595909, 33477692), (595909, 8749884), (595909, 14544803), (595909, 7173935), (595909, 8247632), (595909, 23561477), (595909, 16691326), (595909, 31089974), (595909, 12200509), (595909, 14763504), (595909, 4679340), (595909, 25984661), (595909, 18987350), (595909, 4125153), (595909, 13263387), (595909, 770260), (595909, 33270747), (595909, 8134017), (595909, 34155927), (595909, 28210328), (595909, 14251601), (595909, 284957), (595909, 31022566), (595909, 34548840), (595909, 35203262), (595909, 14325877), (595909, 26120493), (595909, 3264802), (595909, 12333655), (595909, 8821816), (595909, 36033495), (595909, 2154704), (10799612, 32558509), (10799612, 26834911), (10799612, 28687847), (10799612, 34461601), (10799612, 32699320), (10799612, 13871052), (10799612, 5794124), (10799612, 31332187), (10799612, 24469731), (10799612, 21430607), (10799612, 29702704), (10799612, 19954197), (10799612, 21028695), (10799612, 12124469), (10799612, 14186169), (10799612, 4574509), (10799612, 13445119), (10799612, 9938476), (10799612, 21150037), (10799612, 30927581), (10799612, 1986237), (10799612, 19299640), (10799612, 6852645), (10799612, 6872687), (10799612, 4290595), (10799612, 33388421), (10799612, 31839719), (10799612, 24641896), (10799612, 8657003), (10799612, 4299508), (10799612, 2539874), (10799612, 11142423), (10799612, 27537840), (10799612, 29110209), (10799612, 14910247), (10799612, 3584031), (10799612, 30217005), (10799612, 26683710), (10799612, 277158), (10799612, 8949170), (10799612, 29365217), (10799612, 11896654), (10799612, 547526), (10799612, 7191769), (10799612, 9627851), (10799612, 438356), (10799612, 11252503), (10799612, 25060688), (10799612, 16790346), (10799612, 10250805), (10799612, 8699491), (10799612, 4021666), (10799612, 8656846), (10799612, 33477692), (10799612, 8749884), (10799612, 14544803), (10799612, 7173935), (10799612, 8247632), (10799612, 23561477), (10799612, 16691326), (10799612, 31089974), (10799612, 12200509), (10799612, 14763504), (10799612, 4679340), (10799612, 25984661), (10799612, 18987350), (10799612, 4125153), (10799612, 13263387), (10799612, 770260), (10799612, 33270747), (10799612, 8134017), (10799612, 34155927), (10799612, 28210328), (10799612, 14251601), (10799612, 284957), (10799612, 31022566), (10799612, 34548840), (10799612, 35203262), (10799612, 14325877), (10799612, 26120493), (10799612, 3264802), (10799612, 12333655), (10799612, 8821816), (10799612, 36033495), (10799612, 2154704), (32558509, 26834911), (32558509, 28687847), (32558509, 34461601), (32558509, 32699320), (32558509, 13871052), (32558509, 5794124), (32558509, 31332187), (32558509, 24469731), (32558509, 21430607), (32558509, 29702704), (32558509, 19954197), (32558509, 21028695), (32558509, 12124469), (32558509, 14186169), (32558509, 4574509), (32558509, 13445119), (32558509, 9938476), (32558509, 21150037), (32558509, 30927581), (32558509, 1986237), (32558509, 19299640), (32558509, 6852645), (32558509, 6872687), (32558509, 4290595), (32558509, 33388421), (32558509, 31839719), (32558509, 24641896), (32558509, 8657003), (32558509, 4299508), (32558509, 2539874), (32558509, 11142423), (32558509, 27537840), (32558509, 29110209), (32558509, 14910247), (32558509, 3584031), (32558509, 30217005), (32558509, 26683710), (32558509, 277158), (32558509, 8949170), (32558509, 29365217), (32558509, 11896654), (32558509, 547526), (32558509, 7191769), (32558509, 9627851), (32558509, 438356), (32558509, 11252503), (32558509, 25060688), (32558509, 16790346), (32558509, 10250805), (32558509, 8699491), (32558509, 4021666), (32558509, 8656846), (32558509, 33477692), (32558509, 8749884), (32558509, 14544803), (32558509, 7173935), (32558509, 8247632), (32558509, 23561477), (32558509, 16691326), (32558509, 31089974), (32558509, 12200509), (32558509, 14763504), (32558509, 4679340), (32558509, 25984661), (32558509, 18987350), (32558509, 4125153), (32558509, 13263387), (32558509, 770260), (32558509, 33270747), (32558509, 8134017), (32558509, 34155927), (32558509, 28210328), (32558509, 14251601), (32558509, 284957), (32558509, 31022566), (32558509, 34548840), (32558509, 35203262), (32558509, 14325877), (32558509, 26120493), (32558509, 3264802), (32558509, 12333655), (32558509, 8821816), (32558509, 36033495), (32558509, 2154704), (26834911, 28687847), (26834911, 34461601), (26834911, 32699320), (26834911, 13871052), (26834911, 5794124), (26834911, 31332187), (26834911, 24469731), (26834911, 21430607), (26834911, 29702704), (26834911, 19954197), (26834911, 21028695), (26834911, 12124469), (26834911, 14186169), (26834911, 4574509), (26834911, 13445119), (26834911, 9938476), (26834911, 21150037), (26834911, 30927581), (26834911, 1986237), (26834911, 19299640), (26834911, 6852645), (26834911, 6872687), (26834911, 4290595), (26834911, 33388421), (26834911, 31839719), (26834911, 24641896), (26834911, 8657003), (26834911, 4299508), (26834911, 2539874), (26834911, 11142423), (26834911, 27537840), (26834911, 29110209), (26834911, 14910247), (26834911, 3584031), (26834911, 30217005), (26834911, 26683710), (26834911, 277158), (26834911, 8949170), (26834911, 29365217), (26834911, 11896654), (26834911, 547526), (26834911, 7191769), (26834911, 9627851), (26834911, 438356), (26834911, 11252503), (26834911, 25060688), (26834911, 16790346), (26834911, 10250805), (26834911, 8699491), (26834911, 4021666), (26834911, 8656846), (26834911, 33477692), (26834911, 8749884), (26834911, 14544803), (26834911, 7173935), (26834911, 8247632), (26834911, 23561477), (26834911, 16691326), (26834911, 31089974), (26834911, 12200509), (26834911, 14763504), (26834911, 4679340), (26834911, 25984661), (26834911, 18987350), (26834911, 4125153), (26834911, 13263387), (26834911, 770260), (26834911, 33270747), (26834911, 8134017), (26834911, 34155927), (26834911, 28210328), (26834911, 14251601), (26834911, 284957), (26834911, 31022566), (26834911, 34548840), (26834911, 35203262), (26834911, 14325877), (26834911, 26120493), (26834911, 3264802), (26834911, 12333655), (26834911, 8821816), (26834911, 36033495), (26834911, 2154704), (28687847, 34461601), (28687847, 32699320), (28687847, 13871052), (28687847, 5794124), (28687847, 31332187), (28687847, 24469731), (28687847, 21430607), (28687847, 29702704), (28687847, 19954197), (28687847, 21028695), (28687847, 12124469), (28687847, 14186169), (28687847, 4574509), (28687847, 13445119), (28687847, 9938476), (28687847, 21150037), (28687847, 30927581), (28687847, 1986237), (28687847, 19299640), (28687847, 6852645), (28687847, 6872687), (28687847, 4290595), (28687847, 33388421), (28687847, 31839719), (28687847, 24641896), (28687847, 8657003), (28687847, 4299508), (28687847, 2539874), (28687847, 11142423), (28687847, 27537840), (28687847, 29110209), (28687847, 14910247), (28687847, 3584031), (28687847, 30217005), (28687847, 26683710), (28687847, 277158), (28687847, 8949170), (28687847, 29365217), (28687847, 11896654), (28687847, 547526), (28687847, 7191769), (28687847, 9627851), (28687847, 438356), (28687847, 11252503), (28687847, 25060688), (28687847, 16790346), (28687847, 10250805), (28687847, 8699491), (28687847, 4021666), (28687847, 8656846), (28687847, 33477692), (28687847, 8749884), (28687847, 14544803), (28687847, 7173935), (28687847, 8247632), (28687847, 23561477), (28687847, 16691326), (28687847, 31089974), (28687847, 12200509), (28687847, 14763504), (28687847, 4679340), (28687847, 25984661), (28687847, 18987350), (28687847, 4125153), (28687847, 13263387), (28687847, 770260), (28687847, 33270747), (28687847, 8134017), (28687847, 34155927), (28687847, 28210328), (28687847, 14251601), (28687847, 284957), (28687847, 31022566), (28687847, 34548840), (28687847, 35203262), (28687847, 14325877), (28687847, 26120493), (28687847, 3264802), (28687847, 12333655), (28687847, 8821816), (28687847, 36033495), (28687847, 2154704), (34461601, 32699320), (34461601, 13871052), (34461601, 5794124), (34461601, 31332187), (34461601, 24469731), (34461601, 21430607), (34461601, 29702704), (34461601, 19954197), (34461601, 21028695), (34461601, 12124469), (34461601, 14186169), (34461601, 4574509), (34461601, 13445119), (34461601, 9938476), (34461601, 21150037), (34461601, 30927581), (34461601, 1986237), (34461601, 19299640), (34461601, 6852645), (34461601, 6872687), (34461601, 4290595), (34461601, 33388421), (34461601, 31839719), (34461601, 24641896), (34461601, 8657003), (34461601, 4299508), (34461601, 2539874), (34461601, 11142423), (34461601, 27537840), (34461601, 29110209), (34461601, 14910247), (34461601, 3584031), (34461601, 30217005), (34461601, 26683710), (34461601, 277158), (34461601, 8949170), (34461601, 29365217), (34461601, 11896654), (34461601, 547526), (34461601, 7191769), (34461601, 9627851), (34461601, 438356), (34461601, 11252503), (34461601, 25060688), (34461601, 16790346), (34461601, 10250805), (34461601, 8699491), (34461601, 4021666), (34461601, 8656846), (34461601, 33477692), (34461601, 8749884), (34461601, 14544803), (34461601, 7173935), (34461601, 8247632), (34461601, 23561477), (34461601, 16691326), (34461601, 31089974), (34461601, 12200509), (34461601, 14763504), (34461601, 4679340), (34461601, 25984661), (34461601, 18987350), (34461601, 4125153), (34461601, 13263387), (34461601, 770260), (34461601, 33270747), (34461601, 8134017), (34461601, 34155927), (34461601, 28210328), (34461601, 14251601), (34461601, 284957), (34461601, 31022566), (34461601, 34548840), (34461601, 35203262), (34461601, 14325877), (34461601, 26120493), (34461601, 3264802), (34461601, 12333655), (34461601, 8821816), (34461601, 36033495), (34461601, 2154704), (32699320, 13871052), (32699320, 5794124), (32699320, 31332187), (32699320, 24469731), (32699320, 21430607), (32699320, 29702704), (32699320, 19954197), (32699320, 21028695), (32699320, 12124469), (32699320, 14186169), (32699320, 4574509), (32699320, 13445119), (32699320, 9938476), (32699320, 21150037), (32699320, 30927581), (32699320, 1986237), (32699320, 19299640), (32699320, 6852645), (32699320, 6872687), (32699320, 4290595), (32699320, 33388421), (32699320, 31839719), (32699320, 24641896), (32699320, 8657003), (32699320, 4299508), (32699320, 2539874), (32699320, 11142423), (32699320, 27537840), (32699320, 29110209), (32699320, 14910247), (32699320, 3584031), (32699320, 30217005), (32699320, 26683710), (32699320, 277158), (32699320, 8949170), (32699320, 29365217), (32699320, 11896654), (32699320, 547526), (32699320, 7191769), (32699320, 9627851), (32699320, 438356), (32699320, 11252503), (32699320, 25060688), (32699320, 16790346), (32699320, 10250805), (32699320, 8699491), (32699320, 4021666), (32699320, 8656846), (32699320, 33477692), (32699320, 8749884), (32699320, 14544803), (32699320, 7173935), (32699320, 8247632), (32699320, 23561477), (32699320, 16691326), (32699320, 31089974), (32699320, 12200509), (32699320, 14763504), (32699320, 4679340), (32699320, 25984661), (32699320, 18987350), (32699320, 4125153), (32699320, 13263387), (32699320, 770260), (32699320, 33270747), (32699320, 8134017), (32699320, 34155927), (32699320, 28210328), (32699320, 14251601), (32699320, 284957), (32699320, 31022566), (32699320, 34548840), (32699320, 35203262), (32699320, 14325877), (32699320, 26120493), (32699320, 3264802), (32699320, 12333655), (32699320, 8821816), (32699320, 36033495), (32699320, 2154704), (13871052, 5794124), (13871052, 31332187), (13871052, 24469731), (13871052, 21430607), (13871052, 29702704), (13871052, 19954197), (13871052, 21028695), (13871052, 12124469), (13871052, 14186169), (13871052, 4574509), (13871052, 13445119), (13871052, 9938476), (13871052, 21150037), (13871052, 30927581), (13871052, 1986237), (13871052, 19299640), (13871052, 6852645), (13871052, 6872687), (13871052, 4290595), (13871052, 33388421), (13871052, 31839719), (13871052, 24641896), (13871052, 8657003), (13871052, 4299508), (13871052, 2539874), (13871052, 11142423), (13871052, 27537840), (13871052, 29110209), (13871052, 14910247), (13871052, 3584031), (13871052, 30217005), (13871052, 26683710), (13871052, 277158), (13871052, 8949170), (13871052, 29365217), (13871052, 11896654), (13871052, 547526), (13871052, 7191769), (13871052, 9627851), (13871052, 438356), (13871052, 11252503), (13871052, 25060688), (13871052, 16790346), (13871052, 10250805), (13871052, 8699491), (13871052, 4021666), (13871052, 8656846), (13871052, 33477692), (13871052, 8749884), (13871052, 14544803), (13871052, 7173935), (13871052, 8247632), (13871052, 23561477), (13871052, 16691326), (13871052, 31089974), (13871052, 12200509), (13871052, 14763504), (13871052, 4679340), (13871052, 25984661), (13871052, 18987350), (13871052, 4125153), (13871052, 13263387), (13871052, 770260), (13871052, 33270747), (13871052, 8134017), (13871052, 34155927), (13871052, 28210328), (13871052, 14251601), (13871052, 284957), (13871052, 31022566), (13871052, 34548840), (13871052, 35203262), (13871052, 14325877), (13871052, 26120493), (13871052, 3264802), (13871052, 12333655), (13871052, 8821816), (13871052, 36033495), (13871052, 2154704), (5794124, 31332187), (5794124, 24469731), (5794124, 21430607), (5794124, 29702704), (5794124, 19954197), (5794124, 21028695), (5794124, 12124469), (5794124, 14186169), (5794124, 4574509), (5794124, 13445119), (5794124, 9938476), (5794124, 21150037), (5794124, 30927581), (5794124, 1986237), (5794124, 19299640), (5794124, 6852645), (5794124, 6872687), (5794124, 4290595), (5794124, 33388421), (5794124, 31839719), (5794124, 24641896), (5794124, 8657003), (5794124, 4299508), (5794124, 2539874), (5794124, 11142423), (5794124, 27537840), (5794124, 29110209), (5794124, 14910247), (5794124, 3584031), (5794124, 30217005), (5794124, 26683710), (5794124, 277158), (5794124, 8949170), (5794124, 29365217), (5794124, 11896654), (5794124, 547526), (5794124, 7191769), (5794124, 9627851), (5794124, 438356), (5794124, 11252503), (5794124, 25060688), (5794124, 16790346), (5794124, 10250805), (5794124, 8699491), (5794124, 4021666), (5794124, 8656846), (5794124, 33477692), (5794124, 8749884), (5794124, 14544803), (5794124, 7173935), (5794124, 8247632), (5794124, 23561477), (5794124, 16691326), (5794124, 31089974), (5794124, 12200509), (5794124, 14763504), (5794124, 4679340), (5794124, 25984661), (5794124, 18987350), (5794124, 4125153), (5794124, 13263387), (5794124, 770260), (5794124, 33270747), (5794124, 8134017), (5794124, 34155927), (5794124, 28210328), (5794124, 14251601), (5794124, 284957), (5794124, 31022566), (5794124, 34548840), (5794124, 35203262), (5794124, 14325877), (5794124, 26120493), (5794124, 3264802), (5794124, 12333655), (5794124, 8821816), (5794124, 36033495), (5794124, 2154704), (31332187, 24469731), (31332187, 21430607), (31332187, 29702704), (31332187, 19954197), (31332187, 21028695), (31332187, 12124469), (31332187, 14186169), (31332187, 4574509), (31332187, 13445119), (31332187, 9938476), (31332187, 21150037), (31332187, 30927581), (31332187, 1986237), (31332187, 19299640), (31332187, 6852645), (31332187, 6872687), (31332187, 4290595), (31332187, 33388421), (31332187, 31839719), (31332187, 24641896), (31332187, 8657003), (31332187, 4299508), (31332187, 2539874), (31332187, 11142423), (31332187, 27537840), (31332187, 29110209), (31332187, 14910247), (31332187, 3584031), (31332187, 30217005), (31332187, 26683710), (31332187, 277158), (31332187, 8949170), (31332187, 29365217), (31332187, 11896654), (31332187, 547526), (31332187, 7191769), (31332187, 9627851), (31332187, 438356), (31332187, 11252503), (31332187, 25060688), (31332187, 16790346), (31332187, 10250805), (31332187, 8699491), (31332187, 4021666), (31332187, 8656846), (31332187, 33477692), (31332187, 8749884), (31332187, 14544803), (31332187, 7173935), (31332187, 8247632), (31332187, 23561477), (31332187, 16691326), (31332187, 31089974), (31332187, 12200509), (31332187, 14763504), (31332187, 4679340), (31332187, 25984661), (31332187, 18987350), (31332187, 4125153), (31332187, 13263387), (31332187, 770260), (31332187, 33270747), (31332187, 8134017), (31332187, 34155927), (31332187, 28210328), (31332187, 14251601), (31332187, 284957), (31332187, 31022566), (31332187, 34548840), (31332187, 35203262), (31332187, 14325877), (31332187, 26120493), (31332187, 3264802), (31332187, 12333655), (31332187, 8821816), (31332187, 36033495), (31332187, 2154704), (24469731, 21430607), (24469731, 29702704), (24469731, 19954197), (24469731, 21028695), (24469731, 12124469), (24469731, 14186169), (24469731, 4574509), (24469731, 13445119), (24469731, 9938476), (24469731, 21150037), (24469731, 30927581), (24469731, 1986237), (24469731, 19299640), (24469731, 6852645), (24469731, 6872687), (24469731, 4290595), (24469731, 33388421), (24469731, 31839719), (24469731, 24641896), (24469731, 8657003), (24469731, 4299508), (24469731, 2539874), (24469731, 11142423), (24469731, 27537840), (24469731, 29110209), (24469731, 14910247), (24469731, 3584031), (24469731, 30217005), (24469731, 26683710), (24469731, 277158), (24469731, 8949170), (24469731, 29365217), (24469731, 11896654), (24469731, 547526), (24469731, 7191769), (24469731, 9627851), (24469731, 438356), (24469731, 11252503), (24469731, 25060688), (24469731, 16790346), (24469731, 10250805), (24469731, 8699491), (24469731, 4021666), (24469731, 8656846), (24469731, 33477692), (24469731, 8749884), (24469731, 14544803), (24469731, 7173935), (24469731, 8247632), (24469731, 23561477), (24469731, 16691326), (24469731, 31089974), (24469731, 12200509), (24469731, 14763504), (24469731, 4679340), (24469731, 25984661), (24469731, 18987350), (24469731, 4125153), (24469731, 13263387), (24469731, 770260), (24469731, 33270747), (24469731, 8134017), (24469731, 34155927), (24469731, 28210328), (24469731, 14251601), (24469731, 284957), (24469731, 31022566), (24469731, 34548840), (24469731, 35203262), (24469731, 14325877), (24469731, 26120493), (24469731, 3264802), (24469731, 12333655), (24469731, 8821816), (24469731, 36033495), (24469731, 2154704), (21430607, 29702704), (21430607, 19954197), (21430607, 21028695), (21430607, 12124469), (21430607, 14186169), (21430607, 4574509), (21430607, 13445119), (21430607, 9938476), (21430607, 21150037), (21430607, 30927581), (21430607, 1986237), (21430607, 19299640), (21430607, 6852645), (21430607, 6872687), (21430607, 4290595), (21430607, 33388421), (21430607, 31839719), (21430607, 24641896), (21430607, 8657003), (21430607, 4299508), (21430607, 2539874), (21430607, 11142423), (21430607, 27537840), (21430607, 29110209), (21430607, 14910247), (21430607, 3584031), (21430607, 30217005), (21430607, 26683710), (21430607, 277158), (21430607, 8949170), (21430607, 29365217), (21430607, 11896654), (21430607, 547526), (21430607, 7191769), (21430607, 9627851), (21430607, 438356), (21430607, 11252503), (21430607, 25060688), (21430607, 16790346), (21430607, 10250805), (21430607, 8699491), (21430607, 4021666), (21430607, 8656846), (21430607, 33477692), (21430607, 8749884), (21430607, 14544803), (21430607, 7173935), (21430607, 8247632), (21430607, 23561477), (21430607, 16691326), (21430607, 31089974), (21430607, 12200509), (21430607, 14763504), (21430607, 4679340), (21430607, 25984661), (21430607, 18987350), (21430607, 4125153), (21430607, 13263387), (21430607, 770260), (21430607, 33270747), (21430607, 8134017), (21430607, 34155927), (21430607, 28210328), (21430607, 14251601), (21430607, 284957), (21430607, 31022566), (21430607, 34548840), (21430607, 35203262), (21430607, 14325877), (21430607, 26120493), (21430607, 3264802), (21430607, 12333655), (21430607, 8821816), (21430607, 36033495), (21430607, 2154704), (29702704, 19954197), (29702704, 21028695), (29702704, 12124469), (29702704, 14186169), (29702704, 4574509), (29702704, 13445119), (29702704, 9938476), (29702704, 21150037), (29702704, 30927581), (29702704, 1986237), (29702704, 19299640), (29702704, 6852645), (29702704, 6872687), (29702704, 4290595), (29702704, 33388421), (29702704, 31839719), (29702704, 24641896), (29702704, 8657003), (29702704, 4299508), (29702704, 2539874), (29702704, 11142423), (29702704, 27537840), (29702704, 29110209), (29702704, 14910247), (29702704, 3584031), (29702704, 30217005), (29702704, 26683710), (29702704, 277158), (29702704, 8949170), (29702704, 29365217), (29702704, 11896654), (29702704, 547526), (29702704, 7191769), (29702704, 9627851), (29702704, 438356), (29702704, 11252503), (29702704, 25060688), (29702704, 16790346), (29702704, 10250805), (29702704, 8699491), (29702704, 4021666), (29702704, 8656846), (29702704, 33477692), (29702704, 8749884), (29702704, 14544803), (29702704, 7173935), (29702704, 8247632), (29702704, 23561477), (29702704, 16691326), (29702704, 31089974), (29702704, 12200509), (29702704, 14763504), (29702704, 4679340), (29702704, 25984661), (29702704, 18987350), (29702704, 4125153), (29702704, 13263387), (29702704, 770260), (29702704, 33270747), (29702704, 8134017), (29702704, 34155927), (29702704, 28210328), (29702704, 14251601), (29702704, 284957), (29702704, 31022566), (29702704, 34548840), (29702704, 35203262), (29702704, 14325877), (29702704, 26120493), (29702704, 3264802), (29702704, 12333655), (29702704, 8821816), (29702704, 36033495), (29702704, 2154704), (19954197, 21028695), (19954197, 12124469), (19954197, 14186169), (19954197, 4574509), (19954197, 13445119), (19954197, 9938476), (19954197, 21150037), (19954197, 30927581), (19954197, 1986237), (19954197, 19299640), (19954197, 6852645), (19954197, 6872687), (19954197, 4290595), (19954197, 33388421), (19954197, 31839719), (19954197, 24641896), (19954197, 8657003), (19954197, 4299508), (19954197, 2539874), (19954197, 11142423), (19954197, 27537840), (19954197, 29110209), (19954197, 14910247), (19954197, 3584031), (19954197, 30217005), (19954197, 26683710), (19954197, 277158), (19954197, 8949170), (19954197, 29365217), (19954197, 11896654), (19954197, 547526), (19954197, 7191769), (19954197, 9627851), (19954197, 438356), (19954197, 11252503), (19954197, 25060688), (19954197, 16790346), (19954197, 10250805), (19954197, 8699491), (19954197, 4021666), (19954197, 8656846), (19954197, 33477692), (19954197, 8749884), (19954197, 14544803), (19954197, 7173935), (19954197, 8247632), (19954197, 23561477), (19954197, 16691326), (19954197, 31089974), (19954197, 12200509), (19954197, 14763504), (19954197, 4679340), (19954197, 25984661), (19954197, 18987350), (19954197, 4125153), (19954197, 13263387), (19954197, 770260), (19954197, 33270747), (19954197, 8134017), (19954197, 34155927), (19954197, 28210328), (19954197, 14251601), (19954197, 284957), (19954197, 31022566), (19954197, 34548840), (19954197, 35203262), (19954197, 14325877), (19954197, 26120493), (19954197, 3264802), (19954197, 12333655), (19954197, 8821816), (19954197, 36033495), (19954197, 2154704), (21028695, 12124469), (21028695, 14186169), (21028695, 4574509), (21028695, 13445119), (21028695, 9938476), (21028695, 21150037), (21028695, 30927581), (21028695, 1986237), (21028695, 19299640), (21028695, 6852645), (21028695, 6872687), (21028695, 4290595), (21028695, 33388421), (21028695, 31839719), (21028695, 24641896), (21028695, 8657003), (21028695, 4299508), (21028695, 2539874), (21028695, 11142423), (21028695, 27537840), (21028695, 29110209), (21028695, 14910247), (21028695, 3584031), (21028695, 30217005), (21028695, 26683710), (21028695, 277158), (21028695, 8949170), (21028695, 29365217), (21028695, 11896654), (21028695, 547526), (21028695, 7191769), (21028695, 9627851), (21028695, 438356), (21028695, 11252503), (21028695, 25060688), (21028695, 16790346), (21028695, 10250805), (21028695, 8699491), (21028695, 4021666), (21028695, 8656846), (21028695, 33477692), (21028695, 8749884), (21028695, 14544803), (21028695, 7173935), (21028695, 8247632), (21028695, 23561477), (21028695, 16691326), (21028695, 31089974), (21028695, 12200509), (21028695, 14763504), (21028695, 4679340), (21028695, 25984661), (21028695, 18987350), (21028695, 4125153), (21028695, 13263387), (21028695, 770260), (21028695, 33270747), (21028695, 8134017), (21028695, 34155927), (21028695, 28210328), (21028695, 14251601), (21028695, 284957), (21028695, 31022566), (21028695, 34548840), (21028695, 35203262), (21028695, 14325877), (21028695, 26120493), (21028695, 3264802), (21028695, 12333655), (21028695, 8821816), (21028695, 36033495), (21028695, 2154704), (12124469, 14186169), (12124469, 4574509), (12124469, 13445119), (12124469, 9938476), (12124469, 21150037), (12124469, 30927581), (12124469, 1986237), (12124469, 19299640), (12124469, 6852645), (12124469, 6872687), (12124469, 4290595), (12124469, 33388421), (12124469, 31839719), (12124469, 24641896), (12124469, 8657003), (12124469, 4299508), (12124469, 2539874), (12124469, 11142423), (12124469, 27537840), (12124469, 29110209), (12124469, 14910247), (12124469, 3584031), (12124469, 30217005), (12124469, 26683710), (12124469, 277158), (12124469, 8949170), (12124469, 29365217), (12124469, 11896654), (12124469, 547526), (12124469, 7191769), (12124469, 9627851), (12124469, 438356), (12124469, 11252503), (12124469, 25060688), (12124469, 16790346), (12124469, 10250805), (12124469, 8699491), (12124469, 4021666), (12124469, 8656846), (12124469, 33477692), (12124469, 8749884), (12124469, 14544803), (12124469, 7173935), (12124469, 8247632), (12124469, 23561477), (12124469, 16691326), (12124469, 31089974), (12124469, 12200509), (12124469, 14763504), (12124469, 4679340), (12124469, 25984661), (12124469, 18987350), (12124469, 4125153), (12124469, 13263387), (12124469, 770260), (12124469, 33270747), (12124469, 8134017), (12124469, 34155927), (12124469, 28210328), (12124469, 14251601), (12124469, 284957), (12124469, 31022566), (12124469, 34548840), (12124469, 35203262), (12124469, 14325877), (12124469, 26120493), (12124469, 3264802), (12124469, 12333655), (12124469, 8821816), (12124469, 36033495), (12124469, 2154704), (14186169, 4574509), (14186169, 13445119), (14186169, 9938476), (14186169, 21150037), (14186169, 30927581), (14186169, 1986237), (14186169, 19299640), (14186169, 6852645), (14186169, 6872687), (14186169, 4290595), (14186169, 33388421), (14186169, 31839719), (14186169, 24641896), (14186169, 8657003), (14186169, 4299508), (14186169, 2539874), (14186169, 11142423), (14186169, 27537840), (14186169, 29110209), (14186169, 14910247), (14186169, 3584031), (14186169, 30217005), (14186169, 26683710), (14186169, 277158), (14186169, 8949170), (14186169, 29365217), (14186169, 11896654), (14186169, 547526), (14186169, 7191769), (14186169, 9627851), (14186169, 438356), (14186169, 11252503), (14186169, 25060688), (14186169, 16790346), (14186169, 10250805), (14186169, 8699491), (14186169, 4021666), (14186169, 8656846), (14186169, 33477692), (14186169, 8749884), (14186169, 14544803), (14186169, 7173935), (14186169, 8247632), (14186169, 23561477), (14186169, 16691326), (14186169, 31089974), (14186169, 12200509), (14186169, 14763504), (14186169, 4679340), (14186169, 25984661), (14186169, 18987350), (14186169, 4125153), (14186169, 13263387), (14186169, 770260), (14186169, 33270747), (14186169, 8134017), (14186169, 34155927), (14186169, 28210328), (14186169, 14251601), (14186169, 284957), (14186169, 31022566), (14186169, 34548840), (14186169, 35203262), (14186169, 14325877), (14186169, 26120493), (14186169, 3264802), (14186169, 12333655), (14186169, 8821816), (14186169, 36033495), (14186169, 2154704), (4574509, 13445119), (4574509, 9938476), (4574509, 21150037), (4574509, 30927581), (4574509, 1986237), (4574509, 19299640), (4574509, 6852645), (4574509, 6872687), (4574509, 4290595), (4574509, 33388421), (4574509, 31839719), (4574509, 24641896), (4574509, 8657003), (4574509, 4299508), (4574509, 2539874), (4574509, 11142423), (4574509, 27537840), (4574509, 29110209), (4574509, 14910247), (4574509, 3584031), (4574509, 30217005), (4574509, 26683710), (4574509, 277158), (4574509, 8949170), (4574509, 29365217), (4574509, 11896654), (4574509, 547526), (4574509, 7191769), (4574509, 9627851), (4574509, 438356), (4574509, 11252503), (4574509, 25060688), (4574509, 16790346), (4574509, 10250805), (4574509, 8699491), (4574509, 4021666), (4574509, 8656846), (4574509, 33477692), (4574509, 8749884), (4574509, 14544803), (4574509, 7173935), (4574509, 8247632), (4574509, 23561477), (4574509, 16691326), (4574509, 31089974), (4574509, 12200509), (4574509, 14763504), (4574509, 4679340), (4574509, 25984661), (4574509, 18987350), (4574509, 4125153), (4574509, 13263387), (4574509, 770260), (4574509, 33270747), (4574509, 8134017), (4574509, 34155927), (4574509, 28210328), (4574509, 14251601), (4574509, 284957), (4574509, 31022566), (4574509, 34548840), (4574509, 35203262), (4574509, 14325877), (4574509, 26120493), (4574509, 3264802), (4574509, 12333655), (4574509, 8821816), (4574509, 36033495), (4574509, 2154704), (13445119, 9938476), (13445119, 21150037), (13445119, 30927581), (13445119, 1986237), (13445119, 19299640), (13445119, 6852645), (13445119, 6872687), (13445119, 4290595), (13445119, 33388421), (13445119, 31839719), (13445119, 24641896), (13445119, 8657003), (13445119, 4299508), (13445119, 2539874), (13445119, 11142423), (13445119, 27537840), (13445119, 29110209), (13445119, 14910247), (13445119, 3584031), (13445119, 30217005), (13445119, 26683710), (13445119, 277158), (13445119, 8949170), (13445119, 29365217), (13445119, 11896654), (13445119, 547526), (13445119, 7191769), (13445119, 9627851), (13445119, 438356), (13445119, 11252503), (13445119, 25060688), (13445119, 16790346), (13445119, 10250805), (13445119, 8699491), (13445119, 4021666), (13445119, 8656846), (13445119, 33477692), (13445119, 8749884), (13445119, 14544803), (13445119, 7173935), (13445119, 8247632), (13445119, 23561477), (13445119, 16691326), (13445119, 31089974), (13445119, 12200509), (13445119, 14763504), (13445119, 4679340), (13445119, 25984661), (13445119, 18987350), (13445119, 4125153), (13445119, 13263387), (13445119, 770260), (13445119, 33270747), (13445119, 8134017), (13445119, 34155927), (13445119, 28210328), (13445119, 14251601), (13445119, 284957), (13445119, 31022566), (13445119, 34548840), (13445119, 35203262), (13445119, 14325877), (13445119, 26120493), (13445119, 3264802), (13445119, 12333655), (13445119, 8821816), (13445119, 36033495), (13445119, 2154704), (9938476, 21150037), (9938476, 30927581), (9938476, 1986237), (9938476, 19299640), (9938476, 6852645), (9938476, 6872687), (9938476, 4290595), (9938476, 33388421), (9938476, 31839719), (9938476, 24641896), (9938476, 8657003), (9938476, 4299508), (9938476, 2539874), (9938476, 11142423), (9938476, 27537840), (9938476, 29110209), (9938476, 14910247), (9938476, 3584031), (9938476, 30217005), (9938476, 26683710), (9938476, 277158), (9938476, 8949170), (9938476, 29365217), (9938476, 11896654), (9938476, 547526), (9938476, 7191769), (9938476, 9627851), (9938476, 438356), (9938476, 11252503), (9938476, 25060688), (9938476, 16790346), (9938476, 10250805), (9938476, 8699491), (9938476, 4021666), (9938476, 8656846), (9938476, 33477692), (9938476, 8749884), (9938476, 14544803), (9938476, 7173935), (9938476, 8247632), (9938476, 23561477), (9938476, 16691326), (9938476, 31089974), (9938476, 12200509), (9938476, 14763504), (9938476, 4679340), (9938476, 25984661), (9938476, 18987350), (9938476, 4125153), (9938476, 13263387), (9938476, 770260), (9938476, 33270747), (9938476, 8134017), (9938476, 34155927), (9938476, 28210328), (9938476, 14251601), (9938476, 284957), (9938476, 31022566), (9938476, 34548840), (9938476, 35203262), (9938476, 14325877), (9938476, 26120493), (9938476, 3264802), (9938476, 12333655), (9938476, 8821816), (9938476, 36033495), (9938476, 2154704), (21150037, 30927581), (21150037, 1986237), (21150037, 19299640), (21150037, 6852645), (21150037, 6872687), (21150037, 4290595), (21150037, 33388421), (21150037, 31839719), (21150037, 24641896), (21150037, 8657003), (21150037, 4299508), (21150037, 2539874), (21150037, 11142423), (21150037, 27537840), (21150037, 29110209), (21150037, 14910247), (21150037, 3584031), (21150037, 30217005), (21150037, 26683710), (21150037, 277158), (21150037, 8949170), (21150037, 29365217), (21150037, 11896654), (21150037, 547526), (21150037, 7191769), (21150037, 9627851), (21150037, 438356), (21150037, 11252503), (21150037, 25060688), (21150037, 16790346), (21150037, 10250805), (21150037, 8699491), (21150037, 4021666), (21150037, 8656846), (21150037, 33477692), (21150037, 8749884), (21150037, 14544803), (21150037, 7173935), (21150037, 8247632), (21150037, 23561477), (21150037, 16691326), (21150037, 31089974), (21150037, 12200509), (21150037, 14763504), (21150037, 4679340), (21150037, 25984661), (21150037, 18987350), (21150037, 4125153), (21150037, 13263387), (21150037, 770260), (21150037, 33270747), (21150037, 8134017), (21150037, 34155927), (21150037, 28210328), (21150037, 14251601), (21150037, 284957), (21150037, 31022566), (21150037, 34548840), (21150037, 35203262), (21150037, 14325877), (21150037, 26120493), (21150037, 3264802), (21150037, 12333655), (21150037, 8821816), (21150037, 36033495), (21150037, 2154704), (30927581, 1986237), (30927581, 19299640), (30927581, 6852645), (30927581, 6872687), (30927581, 4290595), (30927581, 33388421), (30927581, 31839719), (30927581, 24641896), (30927581, 8657003), (30927581, 4299508), (30927581, 2539874), (30927581, 11142423), (30927581, 27537840), (30927581, 29110209), (30927581, 14910247), (30927581, 3584031), (30927581, 30217005), (30927581, 26683710), (30927581, 277158), (30927581, 8949170), (30927581, 29365217), (30927581, 11896654), (30927581, 547526), (30927581, 7191769), (30927581, 9627851), (30927581, 438356), (30927581, 11252503), (30927581, 25060688), (30927581, 16790346), (30927581, 10250805), (30927581, 8699491), (30927581, 4021666), (30927581, 8656846), (30927581, 33477692), (30927581, 8749884), (30927581, 14544803), (30927581, 7173935), (30927581, 8247632), (30927581, 23561477), (30927581, 16691326), (30927581, 31089974), (30927581, 12200509), (30927581, 14763504), (30927581, 4679340), (30927581, 25984661), (30927581, 18987350), (30927581, 4125153), (30927581, 13263387), (30927581, 770260), (30927581, 33270747), (30927581, 8134017), (30927581, 34155927), (30927581, 28210328), (30927581, 14251601), (30927581, 284957), (30927581, 31022566), (30927581, 34548840), (30927581, 35203262), (30927581, 14325877), (30927581, 26120493), (30927581, 3264802), (30927581, 12333655), (30927581, 8821816), (30927581, 36033495), (30927581, 2154704), (1986237, 19299640), (1986237, 6852645), (1986237, 6872687), (1986237, 4290595), (1986237, 33388421), (1986237, 31839719), (1986237, 24641896), (1986237, 8657003), (1986237, 4299508), (1986237, 2539874), (1986237, 11142423), (1986237, 27537840), (1986237, 29110209), (1986237, 14910247), (1986237, 3584031), (1986237, 30217005), (1986237, 26683710), (1986237, 277158), (1986237, 8949170), (1986237, 29365217), (1986237, 11896654), (1986237, 547526), (1986237, 7191769), (1986237, 9627851), (1986237, 438356), (1986237, 11252503), (1986237, 25060688), (1986237, 16790346), (1986237, 10250805), (1986237, 8699491), (1986237, 4021666), (1986237, 8656846), (1986237, 33477692), (1986237, 8749884), (1986237, 14544803), (1986237, 7173935), (1986237, 8247632), (1986237, 23561477), (1986237, 16691326), (1986237, 31089974), (1986237, 12200509), (1986237, 14763504), (1986237, 4679340), (1986237, 25984661), (1986237, 18987350), (1986237, 4125153), (1986237, 13263387), (1986237, 770260), (1986237, 33270747), (1986237, 8134017), (1986237, 34155927), (1986237, 28210328), (1986237, 14251601), (1986237, 284957), (1986237, 31022566), (1986237, 34548840), (1986237, 35203262), (1986237, 14325877), (1986237, 26120493), (1986237, 3264802), (1986237, 12333655), (1986237, 8821816), (1986237, 36033495), (1986237, 2154704), (19299640, 6852645), (19299640, 6872687), (19299640, 4290595), (19299640, 33388421), (19299640, 31839719), (19299640, 24641896), (19299640, 8657003), (19299640, 4299508), (19299640, 2539874), (19299640, 11142423), (19299640, 27537840), (19299640, 29110209), (19299640, 14910247), (19299640, 3584031), (19299640, 30217005), (19299640, 26683710), (19299640, 277158), (19299640, 8949170), (19299640, 29365217), (19299640, 11896654), (19299640, 547526), (19299640, 7191769), (19299640, 9627851), (19299640, 438356), (19299640, 11252503), (19299640, 25060688), (19299640, 16790346), (19299640, 10250805), (19299640, 8699491), (19299640, 4021666), (19299640, 8656846), (19299640, 33477692), (19299640, 8749884), (19299640, 14544803), (19299640, 7173935), (19299640, 8247632), (19299640, 23561477), (19299640, 16691326), (19299640, 31089974), (19299640, 12200509), (19299640, 14763504), (19299640, 4679340), (19299640, 25984661), (19299640, 18987350), (19299640, 4125153), (19299640, 13263387), (19299640, 770260), (19299640, 33270747), (19299640, 8134017), (19299640, 34155927), (19299640, 28210328), (19299640, 14251601), (19299640, 284957), (19299640, 31022566), (19299640, 34548840), (19299640, 35203262), (19299640, 14325877), (19299640, 26120493), (19299640, 3264802), (19299640, 12333655), (19299640, 8821816), (19299640, 36033495), (19299640, 2154704), (6852645, 6872687), (6852645, 4290595), (6852645, 33388421), (6852645, 31839719), (6852645, 24641896), (6852645, 8657003), (6852645, 4299508), (6852645, 2539874), (6852645, 11142423), (6852645, 27537840), (6852645, 29110209), (6852645, 14910247), (6852645, 3584031), (6852645, 30217005), (6852645, 26683710), (6852645, 277158), (6852645, 8949170), (6852645, 29365217), (6852645, 11896654), (6852645, 547526), (6852645, 7191769), (6852645, 9627851), (6852645, 438356), (6852645, 11252503), (6852645, 25060688), (6852645, 16790346), (6852645, 10250805), (6852645, 8699491), (6852645, 4021666), (6852645, 8656846), (6852645, 33477692), (6852645, 8749884), (6852645, 14544803), (6852645, 7173935), (6852645, 8247632), (6852645, 23561477), (6852645, 16691326), (6852645, 31089974), (6852645, 12200509), (6852645, 14763504), (6852645, 4679340), (6852645, 25984661), (6852645, 18987350), (6852645, 4125153), (6852645, 13263387), (6852645, 770260), (6852645, 33270747), (6852645, 8134017), (6852645, 34155927), (6852645, 28210328), (6852645, 14251601), (6852645, 284957), (6852645, 31022566), (6852645, 34548840), (6852645, 35203262), (6852645, 14325877), (6852645, 26120493), (6852645, 3264802), (6852645, 12333655), (6852645, 8821816), (6852645, 36033495), (6852645, 2154704), (6872687, 4290595), (6872687, 33388421), (6872687, 31839719), (6872687, 24641896), (6872687, 8657003), (6872687, 4299508), (6872687, 2539874), (6872687, 11142423), (6872687, 27537840), (6872687, 29110209), (6872687, 14910247), (6872687, 3584031), (6872687, 30217005), (6872687, 26683710), (6872687, 277158), (6872687, 8949170), (6872687, 29365217), (6872687, 11896654), (6872687, 547526), (6872687, 7191769), (6872687, 9627851), (6872687, 438356), (6872687, 11252503), (6872687, 25060688), (6872687, 16790346), (6872687, 10250805), (6872687, 8699491), (6872687, 4021666), (6872687, 8656846), (6872687, 33477692), (6872687, 8749884), (6872687, 14544803), (6872687, 7173935), (6872687, 8247632), (6872687, 23561477), (6872687, 16691326), (6872687, 31089974), (6872687, 12200509), (6872687, 14763504), (6872687, 4679340), (6872687, 25984661), (6872687, 18987350), (6872687, 4125153), (6872687, 13263387), (6872687, 770260), (6872687, 33270747), (6872687, 8134017), (6872687, 34155927), (6872687, 28210328), (6872687, 14251601), (6872687, 284957), (6872687, 31022566), (6872687, 34548840), (6872687, 35203262), (6872687, 14325877), (6872687, 26120493), (6872687, 3264802), (6872687, 12333655), (6872687, 8821816), (6872687, 36033495), (6872687, 2154704), (4290595, 33388421), (4290595, 31839719), (4290595, 24641896), (4290595, 8657003), (4290595, 4299508), (4290595, 2539874), (4290595, 11142423), (4290595, 27537840), (4290595, 29110209), (4290595, 14910247), (4290595, 3584031), (4290595, 30217005), (4290595, 26683710), (4290595, 277158), (4290595, 8949170), (4290595, 29365217), (4290595, 11896654), (4290595, 547526), (4290595, 7191769), (4290595, 9627851), (4290595, 438356), (4290595, 11252503), (4290595, 25060688), (4290595, 16790346), (4290595, 10250805), (4290595, 8699491), (4290595, 4021666), (4290595, 8656846), (4290595, 33477692), (4290595, 8749884), (4290595, 14544803), (4290595, 7173935), (4290595, 8247632), (4290595, 23561477), (4290595, 16691326), (4290595, 31089974), (4290595, 12200509), (4290595, 14763504), (4290595, 4679340), (4290595, 25984661), (4290595, 18987350), (4290595, 4125153), (4290595, 13263387), (4290595, 770260), (4290595, 33270747), (4290595, 8134017), (4290595, 34155927), (4290595, 28210328), (4290595, 14251601), (4290595, 284957), (4290595, 31022566), (4290595, 34548840), (4290595, 35203262), (4290595, 14325877), (4290595, 26120493), (4290595, 3264802), (4290595, 12333655), (4290595, 8821816), (4290595, 36033495), (4290595, 2154704), (33388421, 31839719), (33388421, 24641896), (33388421, 8657003), (33388421, 4299508), (33388421, 2539874), (33388421, 11142423), (33388421, 27537840), (33388421, 29110209), (33388421, 14910247), (33388421, 3584031), (33388421, 30217005), (33388421, 26683710), (33388421, 277158), (33388421, 8949170), (33388421, 29365217), (33388421, 11896654), (33388421, 547526), (33388421, 7191769), (33388421, 9627851), (33388421, 438356), (33388421, 11252503), (33388421, 25060688), (33388421, 16790346), (33388421, 10250805), (33388421, 8699491), (33388421, 4021666), (33388421, 8656846), (33388421, 33477692), (33388421, 8749884), (33388421, 14544803), (33388421, 7173935), (33388421, 8247632), (33388421, 23561477), (33388421, 16691326), (33388421, 31089974), (33388421, 12200509), (33388421, 14763504), (33388421, 4679340), (33388421, 25984661), (33388421, 18987350), (33388421, 4125153), (33388421, 13263387), (33388421, 770260), (33388421, 33270747), (33388421, 8134017), (33388421, 34155927), (33388421, 28210328), (33388421, 14251601), (33388421, 284957), (33388421, 31022566), (33388421, 34548840), (33388421, 35203262), (33388421, 14325877), (33388421, 26120493), (33388421, 3264802), (33388421, 12333655), (33388421, 8821816), (33388421, 36033495), (33388421, 2154704), (31839719, 24641896), (31839719, 8657003), (31839719, 4299508), (31839719, 2539874), (31839719, 11142423), (31839719, 27537840), (31839719, 29110209), (31839719, 14910247), (31839719, 3584031), (31839719, 30217005), (31839719, 26683710), (31839719, 277158), (31839719, 8949170), (31839719, 29365217), (31839719, 11896654), (31839719, 547526), (31839719, 7191769), (31839719, 9627851), (31839719, 438356), (31839719, 11252503), (31839719, 25060688), (31839719, 16790346), (31839719, 10250805), (31839719, 8699491), (31839719, 4021666), (31839719, 8656846), (31839719, 33477692), (31839719, 8749884), (31839719, 14544803), (31839719, 7173935), (31839719, 8247632), (31839719, 23561477), (31839719, 16691326), (31839719, 31089974), (31839719, 12200509), (31839719, 14763504), (31839719, 4679340), (31839719, 25984661), (31839719, 18987350), (31839719, 4125153), (31839719, 13263387), (31839719, 770260), (31839719, 33270747), (31839719, 8134017), (31839719, 34155927), (31839719, 28210328), (31839719, 14251601), (31839719, 284957), (31839719, 31022566), (31839719, 34548840), (31839719, 35203262), (31839719, 14325877), (31839719, 26120493), (31839719, 3264802), (31839719, 12333655), (31839719, 8821816), (31839719, 36033495), (31839719, 2154704), (24641896, 8657003), (24641896, 4299508), (24641896, 2539874), (24641896, 11142423), (24641896, 27537840), (24641896, 29110209), (24641896, 14910247), (24641896, 3584031), (24641896, 30217005), (24641896, 26683710), (24641896, 277158), (24641896, 8949170), (24641896, 29365217), (24641896, 11896654), (24641896, 547526), (24641896, 7191769), (24641896, 9627851), (24641896, 438356), (24641896, 11252503), (24641896, 25060688), (24641896, 16790346), (24641896, 10250805), (24641896, 8699491), (24641896, 4021666), (24641896, 8656846), (24641896, 33477692), (24641896, 8749884), (24641896, 14544803), (24641896, 7173935), (24641896, 8247632), (24641896, 23561477), (24641896, 16691326), (24641896, 31089974), (24641896, 12200509), (24641896, 14763504), (24641896, 4679340), (24641896, 25984661), (24641896, 18987350), (24641896, 4125153), (24641896, 13263387), (24641896, 770260), (24641896, 33270747), (24641896, 8134017), (24641896, 34155927), (24641896, 28210328), (24641896, 14251601), (24641896, 284957), (24641896, 31022566), (24641896, 34548840), (24641896, 35203262), (24641896, 14325877), (24641896, 26120493), (24641896, 3264802), (24641896, 12333655), (24641896, 8821816), (24641896, 36033495), (24641896, 2154704), (8657003, 4299508), (8657003, 2539874), (8657003, 11142423), (8657003, 27537840), (8657003, 29110209), (8657003, 14910247), (8657003, 3584031), (8657003, 30217005), (8657003, 26683710), (8657003, 277158), (8657003, 8949170), (8657003, 29365217), (8657003, 11896654), (8657003, 547526), (8657003, 7191769), (8657003, 9627851), (8657003, 438356), (8657003, 11252503), (8657003, 25060688), (8657003, 16790346), (8657003, 10250805), (8657003, 8699491), (8657003, 4021666), (8657003, 8656846), (8657003, 33477692), (8657003, 8749884), (8657003, 14544803), (8657003, 7173935), (8657003, 8247632), (8657003, 23561477), (8657003, 16691326), (8657003, 31089974), (8657003, 12200509), (8657003, 14763504), (8657003, 4679340), (8657003, 25984661), (8657003, 18987350), (8657003, 4125153), (8657003, 13263387), (8657003, 770260), (8657003, 33270747), (8657003, 8134017), (8657003, 34155927), (8657003, 28210328), (8657003, 14251601), (8657003, 284957), (8657003, 31022566), (8657003, 34548840), (8657003, 35203262), (8657003, 14325877), (8657003, 26120493), (8657003, 3264802), (8657003, 12333655), (8657003, 8821816), (8657003, 36033495), (8657003, 2154704), (4299508, 2539874), (4299508, 11142423), (4299508, 27537840), (4299508, 29110209), (4299508, 14910247), (4299508, 3584031), (4299508, 30217005), (4299508, 26683710), (4299508, 277158), (4299508, 8949170), (4299508, 29365217), (4299508, 11896654), (4299508, 547526), (4299508, 7191769), (4299508, 9627851), (4299508, 438356), (4299508, 11252503), (4299508, 25060688), (4299508, 16790346), (4299508, 10250805), (4299508, 8699491), (4299508, 4021666), (4299508, 8656846), (4299508, 33477692), (4299508, 8749884), (4299508, 14544803), (4299508, 7173935), (4299508, 8247632), (4299508, 23561477), (4299508, 16691326), (4299508, 31089974), (4299508, 12200509), (4299508, 14763504), (4299508, 4679340), (4299508, 25984661), (4299508, 18987350), (4299508, 4125153), (4299508, 13263387), (4299508, 770260), (4299508, 33270747), (4299508, 8134017), (4299508, 34155927), (4299508, 28210328), (4299508, 14251601), (4299508, 284957), (4299508, 31022566), (4299508, 34548840), (4299508, 35203262), (4299508, 14325877), (4299508, 26120493), (4299508, 3264802), (4299508, 12333655), (4299508, 8821816), (4299508, 36033495), (4299508, 2154704), (2539874, 11142423), (2539874, 27537840), (2539874, 29110209), (2539874, 14910247), (2539874, 3584031), (2539874, 30217005), (2539874, 26683710), (2539874, 277158), (2539874, 8949170), (2539874, 29365217), (2539874, 11896654), (2539874, 547526), (2539874, 7191769), (2539874, 9627851), (2539874, 438356), (2539874, 11252503), (2539874, 25060688), (2539874, 16790346), (2539874, 10250805), (2539874, 8699491), (2539874, 4021666), (2539874, 8656846), (2539874, 33477692), (2539874, 8749884), (2539874, 14544803), (2539874, 7173935), (2539874, 8247632), (2539874, 23561477), (2539874, 16691326), (2539874, 31089974), (2539874, 12200509), (2539874, 14763504), (2539874, 4679340), (2539874, 25984661), (2539874, 18987350), (2539874, 4125153), (2539874, 13263387), (2539874, 770260), (2539874, 33270747), (2539874, 8134017), (2539874, 34155927), (2539874, 28210328), (2539874, 14251601), (2539874, 284957), (2539874, 31022566), (2539874, 34548840), (2539874, 35203262), (2539874, 14325877), (2539874, 26120493), (2539874, 3264802), (2539874, 12333655), (2539874, 8821816), (2539874, 36033495), (2539874, 2154704), (11142423, 27537840), (11142423, 29110209), (11142423, 14910247), (11142423, 3584031), (11142423, 30217005), (11142423, 26683710), (11142423, 277158), (11142423, 8949170), (11142423, 29365217), (11142423, 11896654), (11142423, 547526), (11142423, 7191769), (11142423, 9627851), (11142423, 438356), (11142423, 11252503), (11142423, 25060688), (11142423, 16790346), (11142423, 10250805), (11142423, 8699491), (11142423, 4021666), (11142423, 8656846), (11142423, 33477692), (11142423, 8749884), (11142423, 14544803), (11142423, 7173935), (11142423, 8247632), (11142423, 23561477), (11142423, 16691326), (11142423, 31089974), (11142423, 12200509), (11142423, 14763504), (11142423, 4679340), (11142423, 25984661), (11142423, 18987350), (11142423, 4125153), (11142423, 13263387), (11142423, 770260), (11142423, 33270747), (11142423, 8134017), (11142423, 34155927), (11142423, 28210328), (11142423, 14251601), (11142423, 284957), (11142423, 31022566), (11142423, 34548840), (11142423, 35203262), (11142423, 14325877), (11142423, 26120493), (11142423, 3264802), (11142423, 12333655), (11142423, 8821816), (11142423, 36033495), (11142423, 2154704), (27537840, 29110209), (27537840, 14910247), (27537840, 3584031), (27537840, 30217005), (27537840, 26683710), (27537840, 277158), (27537840, 8949170), (27537840, 29365217), (27537840, 11896654), (27537840, 547526), (27537840, 7191769), (27537840, 9627851), (27537840, 438356), (27537840, 11252503), (27537840, 25060688), (27537840, 16790346), (27537840, 10250805), (27537840, 8699491), (27537840, 4021666), (27537840, 8656846), (27537840, 33477692), (27537840, 8749884), (27537840, 14544803), (27537840, 7173935), (27537840, 8247632), (27537840, 23561477), (27537840, 16691326), (27537840, 31089974), (27537840, 12200509), (27537840, 14763504), (27537840, 4679340), (27537840, 25984661), (27537840, 18987350), (27537840, 4125153), (27537840, 13263387), (27537840, 770260), (27537840, 33270747), (27537840, 8134017), (27537840, 34155927), (27537840, 28210328), (27537840, 14251601), (27537840, 284957), (27537840, 31022566), (27537840, 34548840), (27537840, 35203262), (27537840, 14325877), (27537840, 26120493), (27537840, 3264802), (27537840, 12333655), (27537840, 8821816), (27537840, 36033495), (27537840, 2154704), (29110209, 14910247), (29110209, 3584031), (29110209, 30217005), (29110209, 26683710), (29110209, 277158), (29110209, 8949170), (29110209, 29365217), (29110209, 11896654), (29110209, 547526), (29110209, 7191769), (29110209, 9627851), (29110209, 438356), (29110209, 11252503), (29110209, 25060688), (29110209, 16790346), (29110209, 10250805), (29110209, 8699491), (29110209, 4021666), (29110209, 8656846), (29110209, 33477692), (29110209, 8749884), (29110209, 14544803), (29110209, 7173935), (29110209, 8247632), (29110209, 23561477), (29110209, 16691326), (29110209, 31089974), (29110209, 12200509), (29110209, 14763504), (29110209, 4679340), (29110209, 25984661), (29110209, 18987350), (29110209, 4125153), (29110209, 13263387), (29110209, 770260), (29110209, 33270747), (29110209, 8134017), (29110209, 34155927), (29110209, 28210328), (29110209, 14251601), (29110209, 284957), (29110209, 31022566), (29110209, 34548840), (29110209, 35203262), (29110209, 14325877), (29110209, 26120493), (29110209, 3264802), (29110209, 12333655), (29110209, 8821816), (29110209, 36033495), (29110209, 2154704), (14910247, 3584031), (14910247, 30217005), (14910247, 26683710), (14910247, 277158), (14910247, 8949170), (14910247, 29365217), (14910247, 11896654), (14910247, 547526), (14910247, 7191769), (14910247, 9627851), (14910247, 438356), (14910247, 11252503), (14910247, 25060688), (14910247, 16790346), (14910247, 10250805), (14910247, 8699491), (14910247, 4021666), (14910247, 8656846), (14910247, 33477692), (14910247, 8749884), (14910247, 14544803), (14910247, 7173935), (14910247, 8247632), (14910247, 23561477), (14910247, 16691326), (14910247, 31089974), (14910247, 12200509), (14910247, 14763504), (14910247, 4679340), (14910247, 25984661), (14910247, 18987350), (14910247, 4125153), (14910247, 13263387), (14910247, 770260), (14910247, 33270747), (14910247, 8134017), (14910247, 34155927), (14910247, 28210328), (14910247, 14251601), (14910247, 284957), (14910247, 31022566), (14910247, 34548840), (14910247, 35203262), (14910247, 14325877), (14910247, 26120493), (14910247, 3264802), (14910247, 12333655), (14910247, 8821816), (14910247, 36033495), (14910247, 2154704), (3584031, 30217005), (3584031, 26683710), (3584031, 277158), (3584031, 8949170), (3584031, 29365217), (3584031, 11896654), (3584031, 547526), (3584031, 7191769), (3584031, 9627851), (3584031, 438356), (3584031, 11252503), (3584031, 25060688), (3584031, 16790346), (3584031, 10250805), (3584031, 8699491), (3584031, 4021666), (3584031, 8656846), (3584031, 33477692), (3584031, 8749884), (3584031, 14544803), (3584031, 7173935), (3584031, 8247632), (3584031, 23561477), (3584031, 16691326), (3584031, 31089974), (3584031, 12200509), (3584031, 14763504), (3584031, 4679340), (3584031, 25984661), (3584031, 18987350), (3584031, 4125153), (3584031, 13263387), (3584031, 770260), (3584031, 33270747), (3584031, 8134017), (3584031, 34155927), (3584031, 28210328), (3584031, 14251601), (3584031, 284957), (3584031, 31022566), (3584031, 34548840), (3584031, 35203262), (3584031, 14325877), (3584031, 26120493), (3584031, 3264802), (3584031, 12333655), (3584031, 8821816), (3584031, 36033495), (3584031, 2154704), (30217005, 26683710), (30217005, 277158), (30217005, 8949170), (30217005, 29365217), (30217005, 11896654), (30217005, 547526), (30217005, 7191769), (30217005, 9627851), (30217005, 438356), (30217005, 11252503), (30217005, 25060688), (30217005, 16790346), (30217005, 10250805), (30217005, 8699491), (30217005, 4021666), (30217005, 8656846), (30217005, 33477692), (30217005, 8749884), (30217005, 14544803), (30217005, 7173935), (30217005, 8247632), (30217005, 23561477), (30217005, 16691326), (30217005, 31089974), (30217005, 12200509), (30217005, 14763504), (30217005, 4679340), (30217005, 25984661), (30217005, 18987350), (30217005, 4125153), (30217005, 13263387), (30217005, 770260), (30217005, 33270747), (30217005, 8134017), (30217005, 34155927), (30217005, 28210328), (30217005, 14251601), (30217005, 284957), (30217005, 31022566), (30217005, 34548840), (30217005, 35203262), (30217005, 14325877), (30217005, 26120493), (30217005, 3264802), (30217005, 12333655), (30217005, 8821816), (30217005, 36033495), (30217005, 2154704), (26683710, 277158), (26683710, 8949170), (26683710, 29365217), (26683710, 11896654), (26683710, 547526), (26683710, 7191769), (26683710, 9627851), (26683710, 438356), (26683710, 11252503), (26683710, 25060688), (26683710, 16790346), (26683710, 10250805), (26683710, 8699491), (26683710, 4021666), (26683710, 8656846), (26683710, 33477692), (26683710, 8749884), (26683710, 14544803), (26683710, 7173935), (26683710, 8247632), (26683710, 23561477), (26683710, 16691326), (26683710, 31089974), (26683710, 12200509), (26683710, 14763504), (26683710, 4679340), (26683710, 25984661), (26683710, 18987350), (26683710, 4125153), (26683710, 13263387), (26683710, 770260), (26683710, 33270747), (26683710, 8134017), (26683710, 34155927), (26683710, 28210328), (26683710, 14251601), (26683710, 284957), (26683710, 31022566), (26683710, 34548840), (26683710, 35203262), (26683710, 14325877), (26683710, 26120493), (26683710, 3264802), (26683710, 12333655), (26683710, 8821816), (26683710, 36033495), (26683710, 2154704), (277158, 8949170), (277158, 29365217), (277158, 11896654), (277158, 547526), (277158, 7191769), (277158, 9627851), (277158, 438356), (277158, 11252503), (277158, 25060688), (277158, 16790346), (277158, 10250805), (277158, 8699491), (277158, 4021666), (277158, 8656846), (277158, 33477692), (277158, 8749884), (277158, 14544803), (277158, 7173935), (277158, 8247632), (277158, 23561477), (277158, 16691326), (277158, 31089974), (277158, 12200509), (277158, 14763504), (277158, 4679340), (277158, 25984661), (277158, 18987350), (277158, 4125153), (277158, 13263387), (277158, 770260), (277158, 33270747), (277158, 8134017), (277158, 34155927), (277158, 28210328), (277158, 14251601), (277158, 284957), (277158, 31022566), (277158, 34548840), (277158, 35203262), (277158, 14325877), (277158, 26120493), (277158, 3264802), (277158, 12333655), (277158, 8821816), (277158, 36033495), (277158, 2154704), (8949170, 29365217), (8949170, 11896654), (8949170, 547526), (8949170, 7191769), (8949170, 9627851), (8949170, 438356), (8949170, 11252503), (8949170, 25060688), (8949170, 16790346), (8949170, 10250805), (8949170, 8699491), (8949170, 4021666), (8949170, 8656846), (8949170, 33477692), (8949170, 8749884), (8949170, 14544803), (8949170, 7173935), (8949170, 8247632), (8949170, 23561477), (8949170, 16691326), (8949170, 31089974), (8949170, 12200509), (8949170, 14763504), (8949170, 4679340), (8949170, 25984661), (8949170, 18987350), (8949170, 4125153), (8949170, 13263387), (8949170, 770260), (8949170, 33270747), (8949170, 8134017), (8949170, 34155927), (8949170, 28210328), (8949170, 14251601), (8949170, 284957), (8949170, 31022566), (8949170, 34548840), (8949170, 35203262), (8949170, 14325877), (8949170, 26120493), (8949170, 3264802), (8949170, 12333655), (8949170, 8821816), (8949170, 36033495), (8949170, 2154704), (29365217, 11896654), (29365217, 547526), (29365217, 7191769), (29365217, 9627851), (29365217, 438356), (29365217, 11252503), (29365217, 25060688), (29365217, 16790346), (29365217, 10250805), (29365217, 8699491), (29365217, 4021666), (29365217, 8656846), (29365217, 33477692), (29365217, 8749884), (29365217, 14544803), (29365217, 7173935), (29365217, 8247632), (29365217, 23561477), (29365217, 16691326), (29365217, 31089974), (29365217, 12200509), (29365217, 14763504), (29365217, 4679340), (29365217, 25984661), (29365217, 18987350), (29365217, 4125153), (29365217, 13263387), (29365217, 770260), (29365217, 33270747), (29365217, 8134017), (29365217, 34155927), (29365217, 28210328), (29365217, 14251601), (29365217, 284957), (29365217, 31022566), (29365217, 34548840), (29365217, 35203262), (29365217, 14325877), (29365217, 26120493), (29365217, 3264802), (29365217, 12333655), (29365217, 8821816), (29365217, 36033495), (29365217, 2154704), (11896654, 547526), (11896654, 7191769), (11896654, 9627851), (11896654, 438356), (11896654, 11252503), (11896654, 25060688), (11896654, 16790346), (11896654, 10250805), (11896654, 8699491), (11896654, 4021666), (11896654, 8656846), (11896654, 33477692), (11896654, 8749884), (11896654, 14544803), (11896654, 7173935), (11896654, 8247632), (11896654, 23561477), (11896654, 16691326), (11896654, 31089974), (11896654, 12200509), (11896654, 14763504), (11896654, 4679340), (11896654, 25984661), (11896654, 18987350), (11896654, 4125153), (11896654, 13263387), (11896654, 770260), (11896654, 33270747), (11896654, 8134017), (11896654, 34155927), (11896654, 28210328), (11896654, 14251601), (11896654, 284957), (11896654, 31022566), (11896654, 34548840), (11896654, 35203262), (11896654, 14325877), (11896654, 26120493), (11896654, 3264802), (11896654, 12333655), (11896654, 8821816), (11896654, 36033495), (11896654, 2154704), (547526, 7191769), (547526, 9627851), (547526, 438356), (547526, 11252503), (547526, 25060688), (547526, 16790346), (547526, 10250805), (547526, 8699491), (547526, 4021666), (547526, 8656846), (547526, 33477692), (547526, 8749884), (547526, 14544803), (547526, 7173935), (547526, 8247632), (547526, 23561477), (547526, 16691326), (547526, 31089974), (547526, 12200509), (547526, 14763504), (547526, 4679340), (547526, 25984661), (547526, 18987350), (547526, 4125153), (547526, 13263387), (547526, 770260), (547526, 33270747), (547526, 8134017), (547526, 34155927), (547526, 28210328), (547526, 14251601), (547526, 284957), (547526, 31022566), (547526, 34548840), (547526, 35203262), (547526, 14325877), (547526, 26120493), (547526, 3264802), (547526, 12333655), (547526, 8821816), (547526, 36033495), (547526, 2154704), (7191769, 9627851), (7191769, 438356), (7191769, 11252503), (7191769, 25060688), (7191769, 16790346), (7191769, 10250805), (7191769, 8699491), (7191769, 4021666), (7191769, 8656846), (7191769, 33477692), (7191769, 8749884), (7191769, 14544803), (7191769, 7173935), (7191769, 8247632), (7191769, 23561477), (7191769, 16691326), (7191769, 31089974), (7191769, 12200509), (7191769, 14763504), (7191769, 4679340), (7191769, 25984661), (7191769, 18987350), (7191769, 4125153), (7191769, 13263387), (7191769, 770260), (7191769, 33270747), (7191769, 8134017), (7191769, 34155927), (7191769, 28210328), (7191769, 14251601), (7191769, 284957), (7191769, 31022566), (7191769, 34548840), (7191769, 35203262), (7191769, 14325877), (7191769, 26120493), (7191769, 3264802), (7191769, 12333655), (7191769, 8821816), (7191769, 36033495), (7191769, 2154704), (9627851, 438356), (9627851, 11252503), (9627851, 25060688), (9627851, 16790346), (9627851, 10250805), (9627851, 8699491), (9627851, 4021666), (9627851, 8656846), (9627851, 33477692), (9627851, 8749884), (9627851, 14544803), (9627851, 7173935), (9627851, 8247632), (9627851, 23561477), (9627851, 16691326), (9627851, 31089974), (9627851, 12200509), (9627851, 14763504), (9627851, 4679340), (9627851, 25984661), (9627851, 18987350), (9627851, 4125153), (9627851, 13263387), (9627851, 770260), (9627851, 33270747), (9627851, 8134017), (9627851, 34155927), (9627851, 28210328), (9627851, 14251601), (9627851, 284957), (9627851, 31022566), (9627851, 34548840), (9627851, 35203262), (9627851, 14325877), (9627851, 26120493), (9627851, 3264802), (9627851, 12333655), (9627851, 8821816), (9627851, 36033495), (9627851, 2154704), (438356, 11252503), (438356, 25060688), (438356, 16790346), (438356, 10250805), (438356, 8699491), (438356, 4021666), (438356, 8656846), (438356, 33477692), (438356, 8749884), (438356, 14544803), (438356, 7173935), (438356, 8247632), (438356, 23561477), (438356, 16691326), (438356, 31089974), (438356, 12200509), (438356, 14763504), (438356, 4679340), (438356, 25984661), (438356, 18987350), (438356, 4125153), (438356, 13263387), (438356, 770260), (438356, 33270747), (438356, 8134017), (438356, 34155927), (438356, 28210328), (438356, 14251601), (438356, 284957), (438356, 31022566), (438356, 34548840), (438356, 35203262), (438356, 14325877), (438356, 26120493), (438356, 3264802), (438356, 12333655), (438356, 8821816), (438356, 36033495), (438356, 2154704), (11252503, 25060688), (11252503, 16790346), (11252503, 10250805), (11252503, 8699491), (11252503, 4021666), (11252503, 8656846), (11252503, 33477692), (11252503, 8749884), (11252503, 14544803), (11252503, 7173935), (11252503, 8247632), (11252503, 23561477), (11252503, 16691326), (11252503, 31089974), (11252503, 12200509), (11252503, 14763504), (11252503, 4679340), (11252503, 25984661), (11252503, 18987350), (11252503, 4125153), (11252503, 13263387), (11252503, 770260), (11252503, 33270747), (11252503, 8134017), (11252503, 34155927), (11252503, 28210328), (11252503, 14251601), (11252503, 284957), (11252503, 31022566), (11252503, 34548840), (11252503, 35203262), (11252503, 14325877), (11252503, 26120493), (11252503, 3264802), (11252503, 12333655), (11252503, 8821816), (11252503, 36033495), (11252503, 2154704), (25060688, 16790346), (25060688, 10250805), (25060688, 8699491), (25060688, 4021666), (25060688, 8656846), (25060688, 33477692), (25060688, 8749884), (25060688, 14544803), (25060688, 7173935), (25060688, 8247632), (25060688, 23561477), (25060688, 16691326), (25060688, 31089974), (25060688, 12200509), (25060688, 14763504), (25060688, 4679340), (25060688, 25984661), (25060688, 18987350), (25060688, 4125153), (25060688, 13263387), (25060688, 770260), (25060688, 33270747), (25060688, 8134017), (25060688, 34155927), (25060688, 28210328), (25060688, 14251601), (25060688, 284957), (25060688, 31022566), (25060688, 34548840), (25060688, 35203262), (25060688, 14325877), (25060688, 26120493), (25060688, 3264802), (25060688, 12333655), (25060688, 8821816), (25060688, 36033495), (25060688, 2154704), (16790346, 10250805), (16790346, 8699491), (16790346, 4021666), (16790346, 8656846), (16790346, 33477692), (16790346, 8749884), (16790346, 14544803), (16790346, 7173935), (16790346, 8247632), (16790346, 23561477), (16790346, 16691326), (16790346, 31089974), (16790346, 12200509), (16790346, 14763504), (16790346, 4679340), (16790346, 25984661), (16790346, 18987350), (16790346, 4125153), (16790346, 13263387), (16790346, 770260), (16790346, 33270747), (16790346, 8134017), (16790346, 34155927), (16790346, 28210328), (16790346, 14251601), (16790346, 284957), (16790346, 31022566), (16790346, 34548840), (16790346, 35203262), (16790346, 14325877), (16790346, 26120493), (16790346, 3264802), (16790346, 12333655), (16790346, 8821816), (16790346, 36033495), (16790346, 2154704), (10250805, 8699491), (10250805, 4021666), (10250805, 8656846), (10250805, 33477692), (10250805, 8749884), (10250805, 14544803), (10250805, 7173935), (10250805, 8247632), (10250805, 23561477), (10250805, 16691326), (10250805, 31089974), (10250805, 12200509), (10250805, 14763504), (10250805, 4679340), (10250805, 25984661), (10250805, 18987350), (10250805, 4125153), (10250805, 13263387), (10250805, 770260), (10250805, 33270747), (10250805, 8134017), (10250805, 34155927), (10250805, 28210328), (10250805, 14251601), (10250805, 284957), (10250805, 31022566), (10250805, 34548840), (10250805, 35203262), (10250805, 14325877), (10250805, 26120493), (10250805, 3264802), (10250805, 12333655), (10250805, 8821816), (10250805, 36033495), (10250805, 2154704), (8699491, 4021666), (8699491, 8656846), (8699491, 33477692), (8699491, 8749884), (8699491, 14544803), (8699491, 7173935), (8699491, 8247632), (8699491, 23561477), (8699491, 16691326), (8699491, 31089974), (8699491, 12200509), (8699491, 14763504), (8699491, 4679340), (8699491, 25984661), (8699491, 18987350), (8699491, 4125153), (8699491, 13263387), (8699491, 770260), (8699491, 33270747), (8699491, 8134017), (8699491, 34155927), (8699491, 28210328), (8699491, 14251601), (8699491, 284957), (8699491, 31022566), (8699491, 34548840), (8699491, 35203262), (8699491, 14325877), (8699491, 26120493), (8699491, 3264802), (8699491, 12333655), (8699491, 8821816), (8699491, 36033495), (8699491, 2154704), (4021666, 8656846), (4021666, 33477692), (4021666, 8749884), (4021666, 14544803), (4021666, 7173935), (4021666, 8247632), (4021666, 23561477), (4021666, 16691326), (4021666, 31089974), (4021666, 12200509), (4021666, 14763504), (4021666, 4679340), (4021666, 25984661), (4021666, 18987350), (4021666, 4125153), (4021666, 13263387), (4021666, 770260), (4021666, 33270747), (4021666, 8134017), (4021666, 34155927), (4021666, 28210328), (4021666, 14251601), (4021666, 284957), (4021666, 31022566), (4021666, 34548840), (4021666, 35203262), (4021666, 14325877), (4021666, 26120493), (4021666, 3264802), (4021666, 12333655), (4021666, 8821816), (4021666, 36033495), (4021666, 2154704), (8656846, 33477692), (8656846, 8749884), (8656846, 14544803), (8656846, 7173935), (8656846, 8247632), (8656846, 23561477), (8656846, 16691326), (8656846, 31089974), (8656846, 12200509), (8656846, 14763504), (8656846, 4679340), (8656846, 25984661), (8656846, 18987350), (8656846, 4125153), (8656846, 13263387), (8656846, 770260), (8656846, 33270747), (8656846, 8134017), (8656846, 34155927), (8656846, 28210328), (8656846, 14251601), (8656846, 284957), (8656846, 31022566), (8656846, 34548840), (8656846, 35203262), (8656846, 14325877), (8656846, 26120493), (8656846, 3264802), (8656846, 12333655), (8656846, 8821816), (8656846, 36033495), (8656846, 2154704), (33477692, 8749884), (33477692, 14544803), (33477692, 7173935), (33477692, 8247632), (33477692, 23561477), (33477692, 16691326), (33477692, 31089974), (33477692, 12200509), (33477692, 14763504), (33477692, 4679340), (33477692, 25984661), (33477692, 18987350), (33477692, 4125153), (33477692, 13263387), (33477692, 770260), (33477692, 33270747), (33477692, 8134017), (33477692, 34155927), (33477692, 28210328), (33477692, 14251601), (33477692, 284957), (33477692, 31022566), (33477692, 34548840), (33477692, 35203262), (33477692, 14325877), (33477692, 26120493), (33477692, 3264802), (33477692, 12333655), (33477692, 8821816), (33477692, 36033495), (33477692, 2154704), (8749884, 14544803), (8749884, 7173935), (8749884, 8247632), (8749884, 23561477), (8749884, 16691326), (8749884, 31089974), (8749884, 12200509), (8749884, 14763504), (8749884, 4679340), (8749884, 25984661), (8749884, 18987350), (8749884, 4125153), (8749884, 13263387), (8749884, 770260), (8749884, 33270747), (8749884, 8134017), (8749884, 34155927), (8749884, 28210328), (8749884, 14251601), (8749884, 284957), (8749884, 31022566), (8749884, 34548840), (8749884, 35203262), (8749884, 14325877), (8749884, 26120493), (8749884, 3264802), (8749884, 12333655), (8749884, 8821816), (8749884, 36033495), (8749884, 2154704), (14544803, 7173935), (14544803, 8247632), (14544803, 23561477), (14544803, 16691326), (14544803, 31089974), (14544803, 12200509), (14544803, 14763504), (14544803, 4679340), (14544803, 25984661), (14544803, 18987350), (14544803, 4125153), (14544803, 13263387), (14544803, 770260), (14544803, 33270747), (14544803, 8134017), (14544803, 34155927), (14544803, 28210328), (14544803, 14251601), (14544803, 284957), (14544803, 31022566), (14544803, 34548840), (14544803, 35203262), (14544803, 14325877), (14544803, 26120493), (14544803, 3264802), (14544803, 12333655), (14544803, 8821816), (14544803, 36033495), (14544803, 2154704), (7173935, 8247632), (7173935, 23561477), (7173935, 16691326), (7173935, 31089974), (7173935, 12200509), (7173935, 14763504), (7173935, 4679340), (7173935, 25984661), (7173935, 18987350), (7173935, 4125153), (7173935, 13263387), (7173935, 770260), (7173935, 33270747), (7173935, 8134017), (7173935, 34155927), (7173935, 28210328), (7173935, 14251601), (7173935, 284957), (7173935, 31022566), (7173935, 34548840), (7173935, 35203262), (7173935, 14325877), (7173935, 26120493), (7173935, 3264802), (7173935, 12333655), (7173935, 8821816), (7173935, 36033495), (7173935, 2154704), (8247632, 23561477), (8247632, 16691326), (8247632, 31089974), (8247632, 12200509), (8247632, 14763504), (8247632, 4679340), (8247632, 25984661), (8247632, 18987350), (8247632, 4125153), (8247632, 13263387), (8247632, 770260), (8247632, 33270747), (8247632, 8134017), (8247632, 34155927), (8247632, 28210328), (8247632, 14251601), (8247632, 284957), (8247632, 31022566), (8247632, 34548840), (8247632, 35203262), (8247632, 14325877), (8247632, 26120493), (8247632, 3264802), (8247632, 12333655), (8247632, 8821816), (8247632, 36033495), (8247632, 2154704), (23561477, 16691326), (23561477, 31089974), (23561477, 12200509), (23561477, 14763504), (23561477, 4679340), (23561477, 25984661), (23561477, 18987350), (23561477, 4125153), (23561477, 13263387), (23561477, 770260), (23561477, 33270747), (23561477, 8134017), (23561477, 34155927), (23561477, 28210328), (23561477, 14251601), (23561477, 284957), (23561477, 31022566), (23561477, 34548840), (23561477, 35203262), (23561477, 14325877), (23561477, 26120493), (23561477, 3264802), (23561477, 12333655), (23561477, 8821816), (23561477, 36033495), (23561477, 2154704), (16691326, 31089974), (16691326, 12200509), (16691326, 14763504), (16691326, 4679340), (16691326, 25984661), (16691326, 18987350), (16691326, 4125153), (16691326, 13263387), (16691326, 770260), (16691326, 33270747), (16691326, 8134017), (16691326, 34155927), (16691326, 28210328), (16691326, 14251601), (16691326, 284957), (16691326, 31022566), (16691326, 34548840), (16691326, 35203262), (16691326, 14325877), (16691326, 26120493), (16691326, 3264802), (16691326, 12333655), (16691326, 8821816), (16691326, 36033495), (16691326, 2154704), (31089974, 12200509), (31089974, 14763504), (31089974, 4679340), (31089974, 25984661), (31089974, 18987350), (31089974, 4125153), (31089974, 13263387), (31089974, 770260), (31089974, 33270747), (31089974, 8134017), (31089974, 34155927), (31089974, 28210328), (31089974, 14251601), (31089974, 284957), (31089974, 31022566), (31089974, 34548840), (31089974, 35203262), (31089974, 14325877), (31089974, 26120493), (31089974, 3264802), (31089974, 12333655), (31089974, 8821816), (31089974, 36033495), (31089974, 2154704), (12200509, 14763504), (12200509, 4679340), (12200509, 25984661), (12200509, 18987350), (12200509, 4125153), (12200509, 13263387), (12200509, 770260), (12200509, 33270747), (12200509, 8134017), (12200509, 34155927), (12200509, 28210328), (12200509, 14251601), (12200509, 284957), (12200509, 31022566), (12200509, 34548840), (12200509, 35203262), (12200509, 14325877), (12200509, 26120493), (12200509, 3264802), (12200509, 12333655), (12200509, 8821816), (12200509, 36033495), (12200509, 2154704), (14763504, 4679340), (14763504, 25984661), (14763504, 18987350), (14763504, 4125153), (14763504, 13263387), (14763504, 770260), (14763504, 33270747), (14763504, 8134017), (14763504, 34155927), (14763504, 28210328), (14763504, 14251601), (14763504, 284957), (14763504, 31022566), (14763504, 34548840), (14763504, 35203262), (14763504, 14325877), (14763504, 26120493), (14763504, 3264802), (14763504, 12333655), (14763504, 8821816), (14763504, 36033495), (14763504, 2154704), (4679340, 25984661), (4679340, 18987350), (4679340, 4125153), (4679340, 13263387), (4679340, 770260), (4679340, 33270747), (4679340, 8134017), (4679340, 34155927), (4679340, 28210328), (4679340, 14251601), (4679340, 284957), (4679340, 31022566), (4679340, 34548840), (4679340, 35203262), (4679340, 14325877), (4679340, 26120493), (4679340, 3264802), (4679340, 12333655), (4679340, 8821816), (4679340, 36033495), (4679340, 2154704), (25984661, 18987350), (25984661, 4125153), (25984661, 13263387), (25984661, 770260), (25984661, 33270747), (25984661, 8134017), (25984661, 34155927), (25984661, 28210328), (25984661, 14251601), (25984661, 284957), (25984661, 31022566), (25984661, 34548840), (25984661, 35203262), (25984661, 14325877), (25984661, 26120493), (25984661, 3264802), (25984661, 12333655), (25984661, 8821816), (25984661, 36033495), (25984661, 2154704), (18987350, 4125153), (18987350, 13263387), (18987350, 770260), (18987350, 33270747), (18987350, 8134017), (18987350, 34155927), (18987350, 28210328), (18987350, 14251601), (18987350, 284957), (18987350, 31022566), (18987350, 34548840), (18987350, 35203262), (18987350, 14325877), (18987350, 26120493), (18987350, 3264802), (18987350, 12333655), (18987350, 8821816), (18987350, 36033495), (18987350, 2154704), (4125153, 13263387), (4125153, 770260), (4125153, 33270747), (4125153, 8134017), (4125153, 34155927), (4125153, 28210328), (4125153, 14251601), (4125153, 284957), (4125153, 31022566), (4125153, 34548840), (4125153, 35203262), (4125153, 14325877), (4125153, 26120493), (4125153, 3264802), (4125153, 12333655), (4125153, 8821816), (4125153, 36033495), (4125153, 2154704), (13263387, 770260), (13263387, 33270747), (13263387, 8134017), (13263387, 34155927), (13263387, 28210328), (13263387, 14251601), (13263387, 284957), (13263387, 31022566), (13263387, 34548840), (13263387, 35203262), (13263387, 14325877), (13263387, 26120493), (13263387, 3264802), (13263387, 12333655), (13263387, 8821816), (13263387, 36033495), (13263387, 2154704), (770260, 33270747), (770260, 8134017), (770260, 34155927), (770260, 28210328), (770260, 14251601), (770260, 284957), (770260, 31022566), (770260, 34548840), (770260, 35203262), (770260, 14325877), (770260, 26120493), (770260, 3264802), (770260, 12333655), (770260, 8821816), (770260, 36033495), (770260, 2154704), (33270747, 8134017), (33270747, 34155927), (33270747, 28210328), (33270747, 14251601), (33270747, 284957), (33270747, 31022566), (33270747, 34548840), (33270747, 35203262), (33270747, 14325877), (33270747, 26120493), (33270747, 3264802), (33270747, 12333655), (33270747, 8821816), (33270747, 36033495), (33270747, 2154704), (8134017, 34155927), (8134017, 28210328), (8134017, 14251601), (8134017, 284957), (8134017, 31022566), (8134017, 34548840), (8134017, 35203262), (8134017, 14325877), (8134017, 26120493), (8134017, 3264802), (8134017, 12333655), (8134017, 8821816), (8134017, 36033495), (8134017, 2154704), (34155927, 28210328), (34155927, 14251601), (34155927, 284957), (34155927, 31022566), (34155927, 34548840), (34155927, 35203262), (34155927, 14325877), (34155927, 26120493), (34155927, 3264802), (34155927, 12333655), (34155927, 8821816), (34155927, 36033495), (34155927, 2154704), (28210328, 14251601), (28210328, 284957), (28210328, 31022566), (28210328, 34548840), (28210328, 35203262), (28210328, 14325877), (28210328, 26120493), (28210328, 3264802), (28210328, 12333655), (28210328, 8821816), (28210328, 36033495), (28210328, 2154704), (14251601, 284957), (14251601, 31022566), (14251601, 34548840), (14251601, 35203262), (14251601, 14325877), (14251601, 26120493), (14251601, 3264802), (14251601, 12333655), (14251601, 8821816), (14251601, 36033495), (14251601, 2154704), (284957, 31022566), (284957, 34548840), (284957, 35203262), (284957, 14325877), (284957, 26120493), (284957, 3264802), (284957, 12333655), (284957, 8821816), (284957, 36033495), (284957, 2154704), (31022566, 34548840), (31022566, 35203262), (31022566, 14325877), (31022566, 26120493), (31022566, 3264802), (31022566, 12333655), (31022566, 8821816), (31022566, 36033495), (31022566, 2154704), (34548840, 35203262), (34548840, 14325877), (34548840, 26120493), (34548840, 3264802), (34548840, 12333655), (34548840, 8821816), (34548840, 36033495), (34548840, 2154704), (35203262, 14325877), (35203262, 26120493), (35203262, 3264802), (35203262, 12333655), (35203262, 8821816), (35203262, 36033495), (35203262, 2154704), (14325877, 26120493), (14325877, 3264802), (14325877, 12333655), (14325877, 8821816), (14325877, 36033495), (14325877, 2154704), (26120493, 3264802), (26120493, 12333655), (26120493, 8821816), (26120493, 36033495), (26120493, 2154704), (3264802, 12333655), (3264802, 8821816), (3264802, 36033495), (3264802, 2154704), (12333655, 8821816), (12333655, 36033495), (12333655, 2154704), (8821816, 36033495), (8821816, 2154704), (36033495, 2154704)])]"
     ]
    }
   ],
   "source": [
    "candidate_proximity_rdd.take(1)"
   ]
  },
  {
   "cell_type": "code",
   "execution_count": 60,
   "id": "joined-label",
   "metadata": {},
   "outputs": [
    {
     "data": {
      "application/vnd.jupyter.widget-view+json": {
       "model_id": "ec66bdb4939c4ca6a348284d40b9a9f2",
       "version_major": 2,
       "version_minor": 0
      },
      "text/plain": [
       "VBox()"
      ]
     },
     "metadata": {},
     "output_type": "display_data"
    },
    {
     "data": {
      "application/vnd.jupyter.widget-view+json": {
       "model_id": "",
       "version_major": 2,
       "version_minor": 0
      },
      "text/plain": [
       "FloatProgress(value=0.0, bar_style='info', description='Progress:', layout=Layout(height='25px', width='50%'),…"
      ]
     },
     "metadata": {},
     "output_type": "display_data"
    },
    {
     "name": "stdout",
     "output_type": "stream",
     "text": [
      "[((23430023, 15814364), 0.8348623853211009)]"
     ]
    }
   ],
   "source": [
    "sig_dict = sc.broadcast(movie_signatures.collectAsMap())\n",
    "\n",
    "real_pairs = candidate_proximity_rdd.flatMap(lambda candidates: [(c,compare_signatures(*c)) for c in candidates[1]]).filter(lambda a: a[1]>=similarity_threshold and a[1]<0.98).distinct()\n",
    "real_pairs.take(10)"
   ]
  },
  {
   "cell_type": "code",
   "execution_count": 61,
   "id": "aging-omaha",
   "metadata": {},
   "outputs": [
    {
     "data": {
      "application/vnd.jupyter.widget-view+json": {
       "model_id": "913d8c26a1814318b6fcc37e7e267667",
       "version_major": 2,
       "version_minor": 0
      },
      "text/plain": [
       "VBox()"
      ]
     },
     "metadata": {},
     "output_type": "display_data"
    },
    {
     "data": {
      "application/vnd.jupyter.widget-view+json": {
       "model_id": "",
       "version_major": 2,
       "version_minor": 0
      },
      "text/plain": [
       "FloatProgress(value=0.0, bar_style='info', description='Progress:', layout=Layout(height='25px', width='50%'),…"
      ]
     },
     "metadata": {},
     "output_type": "display_data"
    }
   ],
   "source": [
    "shingles_dict = sc.broadcast(movie_shingles.collectAsMap())"
   ]
  },
  {
   "cell_type": "code",
   "execution_count": 62,
   "id": "excellent-spencer",
   "metadata": {},
   "outputs": [
    {
     "data": {
      "application/vnd.jupyter.widget-view+json": {
       "model_id": "aa0e53ff76044119afdf3e599e6c6c76",
       "version_major": 2,
       "version_minor": 0
      },
      "text/plain": [
       "VBox()"
      ]
     },
     "metadata": {},
     "output_type": "display_data"
    },
    {
     "data": {
      "application/vnd.jupyter.widget-view+json": {
       "model_id": "",
       "version_major": 2,
       "version_minor": 0
      },
      "text/plain": [
       "FloatProgress(value=0.0, bar_style='info', description='Progress:', layout=Layout(height='25px', width='50%'),…"
      ]
     },
     "metadata": {},
     "output_type": "display_data"
    }
   ],
   "source": [
    "def exact_comparison(docid_1,docid_2):\n",
    "    set_1 = set(shingles_dict.value[docid_1])\n",
    "    set_2 = set(shingles_dict.value[docid_2])\n",
    "    return jaccard_similarity(set_1,set_2)"
   ]
  },
  {
   "cell_type": "code",
   "execution_count": 63,
   "id": "suburban-performance",
   "metadata": {},
   "outputs": [
    {
     "data": {
      "application/vnd.jupyter.widget-view+json": {
       "model_id": "cf43ec30d2b24eb0a554ce91513aa321",
       "version_major": 2,
       "version_minor": 0
      },
      "text/plain": [
       "VBox()"
      ]
     },
     "metadata": {},
     "output_type": "display_data"
    },
    {
     "data": {
      "application/vnd.jupyter.widget-view+json": {
       "model_id": "",
       "version_major": 2,
       "version_minor": 0
      },
      "text/plain": [
       "FloatProgress(value=0.0, bar_style='info', description='Progress:', layout=Layout(height='25px', width='50%'),…"
      ]
     },
     "metadata": {},
     "output_type": "display_data"
    },
    {
     "name": "stderr",
     "output_type": "stream",
     "text": [
      "An error was encountered:\n",
      "21859037\n",
      "Traceback (most recent call last):\n",
      "  File \"<stdin>\", line 2, in exact_comparison\n",
      "KeyError: 21859037\n",
      "\n"
     ]
    }
   ],
   "source": [
    "#example\n",
    "exact_comparison(21859037,21858973)"
   ]
  },
  {
   "cell_type": "code",
   "execution_count": 64,
   "id": "sublime-fleece",
   "metadata": {},
   "outputs": [
    {
     "data": {
      "application/vnd.jupyter.widget-view+json": {
       "model_id": "3c7881a309de434ba1c6815fe5288eb1",
       "version_major": 2,
       "version_minor": 0
      },
      "text/plain": [
       "VBox()"
      ]
     },
     "metadata": {},
     "output_type": "display_data"
    },
    {
     "data": {
      "application/vnd.jupyter.widget-view+json": {
       "model_id": "",
       "version_major": 2,
       "version_minor": 0
      },
      "text/plain": [
       "FloatProgress(value=0.0, bar_style='info', description='Progress:', layout=Layout(height='25px', width='50%'),…"
      ]
     },
     "metadata": {},
     "output_type": "display_data"
    }
   ],
   "source": [
    "####REMOVE/FILTER DUPLICATES"
   ]
  },
  {
   "cell_type": "code",
   "execution_count": 66,
   "id": "promotional-sterling",
   "metadata": {},
   "outputs": [
    {
     "data": {
      "application/vnd.jupyter.widget-view+json": {
       "model_id": "f402848ca18c4ed88aa6f21fbf244c09",
       "version_major": 2,
       "version_minor": 0
      },
      "text/plain": [
       "VBox()"
      ]
     },
     "metadata": {},
     "output_type": "display_data"
    },
    {
     "data": {
      "application/vnd.jupyter.widget-view+json": {
       "model_id": "",
       "version_major": 2,
       "version_minor": 0
      },
      "text/plain": [
       "FloatProgress(value=0.0, bar_style='info', description='Progress:', layout=Layout(height='25px', width='50%'),…"
      ]
     },
     "metadata": {},
     "output_type": "display_data"
    }
   ],
   "source": [
    "def given_a_movie(movie_id):\n",
    "    similar_movies = real_pairs.filter(lambda a: movie_id in list(a[0]) and 0.98>=a[1]>=0.8)\n",
    "    return similar_movies.collect()"
   ]
  },
  {
   "cell_type": "code",
   "execution_count": 67,
   "id": "fundamental-valuable",
   "metadata": {},
   "outputs": [
    {
     "data": {
      "application/vnd.jupyter.widget-view+json": {
       "model_id": "af2fbefbd75f404b907cdf47b14f6083",
       "version_major": 2,
       "version_minor": 0
      },
      "text/plain": [
       "VBox()"
      ]
     },
     "metadata": {},
     "output_type": "display_data"
    },
    {
     "data": {
      "application/vnd.jupyter.widget-view+json": {
       "model_id": "",
       "version_major": 2,
       "version_minor": 0
      },
      "text/plain": [
       "FloatProgress(value=0.0, bar_style='info', description='Progress:', layout=Layout(height='25px', width='50%'),…"
      ]
     },
     "metadata": {},
     "output_type": "display_data"
    },
    {
     "name": "stdout",
     "output_type": "stream",
     "text": [
      "[]"
     ]
    }
   ],
   "source": [
    "given_a_movie(21859037)"
   ]
  },
  {
   "cell_type": "code",
   "execution_count": null,
   "id": "proof-stuart",
   "metadata": {},
   "outputs": [],
   "source": []
  },
  {
   "cell_type": "code",
   "execution_count": null,
   "id": "based-evanescence",
   "metadata": {},
   "outputs": [],
   "source": []
  }
 ],
 "metadata": {
  "kernelspec": {
   "display_name": "PySpark",
   "language": "",
   "name": "pysparkkernel"
  },
  "language_info": {
   "codemirror_mode": {
    "name": "python",
    "version": 3
   },
   "mimetype": "text/x-python",
   "name": "pyspark",
   "pygments_lexer": "python3"
  }
 },
 "nbformat": 4,
 "nbformat_minor": 5
}
