{
 "cells": [
  {
   "cell_type": "markdown",
   "id": "hawaiian-venezuela",
   "metadata": {},
   "source": [
    "#### Libs"
   ]
  },
  {
   "cell_type": "code",
   "execution_count": 1,
   "id": "blocked-allah",
   "metadata": {},
   "outputs": [],
   "source": [
    "from pyspark import SparkContext\n",
    "from datetime import datetime"
   ]
  },
  {
   "cell_type": "markdown",
   "id": "pending-channels",
   "metadata": {},
   "source": [
    "### Spark\n",
    "\n",
    "\n",
    "Create a new SparkContext"
   ]
  },
  {
   "cell_type": "code",
   "execution_count": 2,
   "id": "turkish-snapshot",
   "metadata": {},
   "outputs": [],
   "source": [
    "sc = SparkContext(appName=\"Assignment_conditions\")"
   ]
  },
  {
   "cell_type": "code",
   "execution_count": 3,
   "id": "extreme-harvest",
   "metadata": {},
   "outputs": [],
   "source": [
    "threshold=10\n",
    "min_std_lift=0.2"
   ]
  },
  {
   "cell_type": "markdown",
   "id": "adverse-contrast",
   "metadata": {},
   "source": [
    "#### Read data\n",
    "\n",
    "Here we read the test data and map it by splitting by \",\" and ignoring the header row."
   ]
  },
  {
   "cell_type": "code",
   "execution_count": 4,
   "id": "coated-mexican",
   "metadata": {},
   "outputs": [
    {
     "data": {
      "text/plain": [
       "[['2017-01-14',\n",
       "  '2017-03-30',\n",
       "  '09e4e8cb-29c2-4ef4-86c0-a6ff0ba25d2a',\n",
       "  '88e540ab-a7d7-47de-93c1-720a06f3d601',\n",
       "  '65363002',\n",
       "  'Otitis media']]"
      ]
     },
     "execution_count": 4,
     "metadata": {},
     "output_type": "execute_result"
    }
   ],
   "source": [
    "data = sc.textFile(\"testing.csv\")\n",
    "data = data.map(lambda line: line.split(\",\")).filter(lambda v: v[0]!=\"START\")\n",
    "data.take(1)\n"
   ]
  },
  {
   "cell_type": "markdown",
   "id": "oriental-people",
   "metadata": {},
   "source": [
    "### Reorganize data\n",
    "\n",
    "Next we map the unique conditions by their code and respective description"
   ]
  },
  {
   "cell_type": "code",
   "execution_count": 5,
   "id": "handy-paris",
   "metadata": {},
   "outputs": [
    {
     "data": {
      "text/plain": [
       "[(65363002, 'Otitis media'),\n",
       " (444814009, 'Viral sinusitis (disorder)'),\n",
       " (233678006, 'Childhood asthma'),\n",
       " (232353008, 'Perennial allergic rhinitis with seasonal variation'),\n",
       " (446096008, 'Perennial allergic rhinitis')]"
      ]
     },
     "execution_count": 5,
     "metadata": {},
     "output_type": "execute_result"
    }
   ],
   "source": [
    "condition_map = data.map(lambda line: (int(line[4]),line[5])) \\\n",
    ".distinct()\n",
    "\n",
    "condition_map.take(5)"
   ]
  },
  {
   "cell_type": "markdown",
   "id": "convertible-treat",
   "metadata": {},
   "source": [
    "And save the data  to new file"
   ]
  },
  {
   "cell_type": "code",
   "execution_count": 6,
   "id": "foreign-instrument",
   "metadata": {},
   "outputs": [],
   "source": [
    "format_time = datetime.now().strftime(\"%Y-%m-%dT%H:%M:%S\")\n",
    "condition_map.saveAsTextFile(\"{0}/{1}\".format(\"condition_map\", format_time))\n"
   ]
  },
  {
   "cell_type": "markdown",
   "id": "alone-likelihood",
   "metadata": {},
   "source": [
    "Here we get all the unique patient-condition pairs to a map.\n",
    "\n",
    "?\n",
    "We map by patient-(condition) code, group it by key and "
   ]
  },
  {
   "cell_type": "code",
   "execution_count": 7,
   "id": "present-national",
   "metadata": {},
   "outputs": [
    {
     "data": {
      "text/plain": [
       "[[446096008, 283371005, 284551006, 444814009, 72892002, 195662009],\n",
       " [44465007, 307731004, 10509002, 444814009, 72892002, 195662009],\n",
       " [65966004, 55822004, 162864005, 24079001],\n",
       " [64859006, 70704007, 40055000, 59621000, 444814009, 162864005],\n",
       " [156073000,\n",
       "  19169002,\n",
       "  55822004,\n",
       "  82423001,\n",
       "  15777000,\n",
       "  10509002,\n",
       "  40055000,\n",
       "  72892002,\n",
       "  444814009,\n",
       "  75498004],\n",
       " [195662009, 444814009, 283385000],\n",
       " [195662009, 65363002, 43878008],\n",
       " [44465007, 10509002, 444814009, 58150001, 43878008, 195662009],\n",
       " [446096008,\n",
       "  44465007,\n",
       "  284549007,\n",
       "  72892002,\n",
       "  198992004,\n",
       "  53741008,\n",
       "  444814009,\n",
       "  43878008],\n",
       " [64859006, 162864005, 59621000]]"
      ]
     },
     "execution_count": 7,
     "metadata": {},
     "output_type": "execute_result"
    }
   ],
   "source": [
    "#Map by PATIENT-(CONDITION)CODE, \n",
    "patient_rdd2 = data.map(lambda line: (line[2],line[4])) \\\n",
    ".groupByKey() \\\n",
    ".map(lambda tp: [int(j) for j in set(tp[1])]) \n",
    "\n",
    "patient_rdd2.cache()\n",
    "n_buckets = patient_rdd2.count()\n",
    "patient_rdd2.take(10)"
   ]
  },
  {
   "cell_type": "markdown",
   "id": "joint-interim",
   "metadata": {},
   "source": [
    "### Most frequent"
   ]
  },
  {
   "cell_type": "markdown",
   "id": "provincial-malawi",
   "metadata": {},
   "source": [
    "Here we map the most frequent conditions and their counts.\n",
    "\n",
    "flatMap: We flatmap them by key, and set their value to 1;\n",
    "reduceByKey: We reduce by key and make all keys unique and their values their respective counts;\n",
    "sortBy: We sort it by decreasingly by their count;\n",
    "filter: And finally we apply the threshold, keeping only the ones that have higher counts than it. "
   ]
  },
  {
   "cell_type": "code",
   "execution_count": 8,
   "id": "acting-world",
   "metadata": {},
   "outputs": [
    {
     "data": {
      "text/plain": [
       "[(444814009, 95),\n",
       " (195662009, 69),\n",
       " (10509002, 58),\n",
       " (162864005, 43),\n",
       " (59621000, 34),\n",
       " (15777000, 32),\n",
       " (271737000, 32),\n",
       " (40055000, 30),\n",
       " (72892002, 25),\n",
       " (65363002, 22)]"
      ]
     },
     "execution_count": 8,
     "metadata": {},
     "output_type": "execute_result"
    }
   ],
   "source": [
    "frequent_singles = patient_rdd2 \\\n",
    ".flatMap(lambda l: [(i,1) for i in l]) \\\n",
    ".reduceByKey(lambda v1,v2:v1+v2) \\\n",
    ".sortBy(lambda a:a[1],False) \\\n",
    ".filter(lambda k: k[1]>threshold)\n",
    "\n",
    "frequent_singles.take(10)"
   ]
  },
  {
   "cell_type": "markdown",
   "id": "egyptian-technical",
   "metadata": {},
   "source": [
    "Once we have the most frequent items we create a set with them"
   ]
  },
  {
   "cell_type": "code",
   "execution_count": 9,
   "id": "greek-ticket",
   "metadata": {},
   "outputs": [
    {
     "name": "stdout",
     "output_type": "stream",
     "text": [
      "{444814009: 95, 195662009: 69, 10509002: 58, 162864005: 43, 59621000: 34, 15777000: 32, 271737000: 32, 40055000: 30, 72892002: 25, 65363002: 22, 43878008: 20, 19169002: 19, 44465007: 14, 75498004: 13, 55822004: 12}\n"
     ]
    }
   ],
   "source": [
    "freq_single_item_dict = frequent_singles.collectAsMap()\n",
    "print(freq_single_item_dict)"
   ]
  },
  {
   "cell_type": "markdown",
   "id": "collectible-bikini",
   "metadata": {},
   "source": [
    "### Build Pairs"
   ]
  },
  {
   "cell_type": "code",
   "execution_count": 10,
   "id": "former-account",
   "metadata": {},
   "outputs": [],
   "source": [
    "def pair_forming(l):\n",
    "    pairs=[]\n",
    "    l.sort()\n",
    "    for i in range(0,len(l)):\n",
    "        if l[i] in freq_single_item_dict.keys():\n",
    "            for j in range(i+1,len(l)):\n",
    "                if  l[i]!=l[j] and l[j] in freq_single_item_dict.keys():\n",
    "                    pairs.append((l[i],l[j]))\n",
    "    return pairs"
   ]
  },
  {
   "cell_type": "markdown",
   "id": "lonely-hampshire",
   "metadata": {},
   "source": [
    "### Build Triples"
   ]
  },
  {
   "cell_type": "code",
   "execution_count": 11,
   "id": "posted-making",
   "metadata": {},
   "outputs": [],
   "source": [
    "def triple_forming(l):\n",
    "    triples=[]\n",
    "    pairs = pair_forming(l)\n",
    "    for i,j in pairs:\n",
    "        for k in l:\n",
    "            if (i,j) in frequent_pairs_dict.keys() and k in freq_single_item_dict.keys() and k!=i and k!=j:#or (j,i) in frequent_pairs#prob unecessary\n",
    "                  triples.append(tuple(sorted([i,j,k])))\n",
    "    return triples"
   ]
  },
  {
   "cell_type": "code",
   "execution_count": 12,
   "id": "tough-wayne",
   "metadata": {},
   "outputs": [
    {
     "data": {
      "text/plain": [
       "[((195662009, 444814009), 44),\n",
       " ((10509002, 444814009), 39),\n",
       " ((10509002, 195662009), 31),\n",
       " ((15777000, 271737000), 27),\n",
       " ((162864005, 444814009), 23),\n",
       " ((59621000, 444814009), 23),\n",
       " ((15777000, 444814009), 23),\n",
       " ((271737000, 444814009), 22),\n",
       " ((10509002, 162864005), 18),\n",
       " ((162864005, 195662009), 17)]"
      ]
     },
     "execution_count": 12,
     "metadata": {},
     "output_type": "execute_result"
    }
   ],
   "source": [
    "###COUNTING PAIRS\n",
    "pair_count = patient_rdd2.flatMap(pair_forming).map(lambda p:(p,1)).reduceByKey(lambda v1,v2: v1+v2).filter(lambda tp:tp[1]>=threshold)\n",
    "pair_count.sortBy(lambda a: a[1],False).take(10)"
   ]
  },
  {
   "cell_type": "code",
   "execution_count": 13,
   "id": "sudden-stamp",
   "metadata": {},
   "outputs": [
    {
     "name": "stdout",
     "output_type": "stream",
     "text": [
      "dict_keys([(195662009, 444814009), (10509002, 72892002), (40055000, 59621000), (162864005, 444814009), (10509002, 15777000), (10509002, 19169002), (10509002, 40055000), (15777000, 40055000), (15777000, 59621000), (15777000, 271737000), (40055000, 271737000), (59621000, 271737000), (162864005, 195662009), (10509002, 271737000), (10509002, 59621000), (72892002, 195662009), (72892002, 444814009), (10509002, 195662009), (10509002, 444814009), (40055000, 162864005), (40055000, 444814009), (59621000, 162864005), (59621000, 444814009), (15777000, 444814009), (19169002, 444814009), (43878008, 444814009), (65363002, 444814009), (15777000, 162864005), (162864005, 271737000), (271737000, 444814009), (59621000, 195662009), (15777000, 195662009), (195662009, 271737000), (10509002, 162864005), (19169002, 195662009), (40055000, 195662009)])\n"
     ]
    }
   ],
   "source": [
    "###FREQUENT PAIR SET\n",
    "frequent_pairs_dict = pair_count.collectAsMap()\n",
    "print(frequent_pairs_dict.keys())"
   ]
  },
  {
   "cell_type": "code",
   "execution_count": 14,
   "id": "covered-strike",
   "metadata": {},
   "outputs": [
    {
     "data": {
      "text/plain": [
       "[((10509002, 195662009, 444814009), 63),\n",
       " ((15777000, 271737000, 444814009), 57),\n",
       " ((15777000, 195662009, 271737000), 42),\n",
       " ((59621000, 195662009, 444814009), 39),\n",
       " ((15777000, 195662009, 444814009), 36),\n",
       " ((15777000, 162864005, 271737000), 33),\n",
       " ((15777000, 59621000, 271737000), 33),\n",
       " ((195662009, 271737000, 444814009), 33),\n",
       " ((72892002, 195662009, 444814009), 30),\n",
       " ((10509002, 162864005, 444814009), 30)]"
      ]
     },
     "execution_count": 14,
     "metadata": {},
     "output_type": "execute_result"
    }
   ],
   "source": [
    "###COUNTING TRIPLES\n",
    "triple_count = patient_rdd2.flatMap(triple_forming).map(lambda p:(p,1)).reduceByKey(lambda v1,v2: v1+v2).filter(lambda tp:tp[1]>=threshold)\n",
    "triple_count.sortBy(lambda a: a[1], False).take(10)"
   ]
  },
  {
   "cell_type": "code",
   "execution_count": 15,
   "id": "laughing-albany",
   "metadata": {},
   "outputs": [],
   "source": [
    "###FREQUENT TRIPLE SET (PROBABLY NOT NEEDED)\n",
    "#frequent_triples_dict = triple_count.collectAsMap()\n",
    "#print(frequent_triples_dict.keys())"
   ]
  },
  {
   "cell_type": "code",
   "execution_count": 16,
   "id": "incomplete-truth",
   "metadata": {},
   "outputs": [],
   "source": [
    "min_std_lift = 0.2\n",
    "x=195662009\n",
    "# y=444814009"
   ]
  },
  {
   "cell_type": "markdown",
   "id": "competitive-proceeding",
   "metadata": {},
   "source": [
    "## Association Rules: Confidence\n"
   ]
  },
  {
   "cell_type": "code",
   "execution_count": 17,
   "id": "painful-exclusive",
   "metadata": {},
   "outputs": [],
   "source": [
    "def confidence_pairs(single_1, single_2,count):\n",
    "    den = freq_single_item_dict.get(single_1,0)\n",
    "    if den==0:\n",
    "        return 0\n",
    "    else:\n",
    "        return count/den"
   ]
  },
  {
   "cell_type": "code",
   "execution_count": 18,
   "id": "scenic-debut",
   "metadata": {},
   "outputs": [],
   "source": [
    "def confidence_triples(pair,single, count):\n",
    "    den = frequent_pairs_dict.get(pair,0)\n",
    "    if den==0:\n",
    "        return 0\n",
    "    else:\n",
    "        return count/den"
   ]
  },
  {
   "cell_type": "markdown",
   "id": "geographic-training",
   "metadata": {},
   "source": [
    "## Association Rules: Interest\n",
    "\n",
    "    interestI -> j = p(j|I) − p(j)\n",
    "    interestI -> j = confidence(I -> j)−baskets containing j / baskets\n",
    "\n",
    "high positive interest: presence of I indicates the presence of j.\n",
    "\n",
    "high negative interest: presence of I discourages the presence of j"
   ]
  },
  {
   "cell_type": "code",
   "execution_count": 19,
   "id": "suspended-token",
   "metadata": {},
   "outputs": [],
   "source": [
    "def interest_pairs(single_1, single_2,count):\n",
    "    return confidence_pairs(single_1, single_2,count) - (freq_single_item_dict[single_2]/n_buckets)"
   ]
  },
  {
   "cell_type": "code",
   "execution_count": 20,
   "id": "static-blank",
   "metadata": {},
   "outputs": [],
   "source": [
    "def interest_triples(pair,single,count):\n",
    "    return confidence_triples(pair,single,count) - (freq_single_item_dict[single]/n_buckets)"
   ]
  },
  {
   "cell_type": "markdown",
   "id": "potential-envelope",
   "metadata": {},
   "source": [
    "## Association rules: Lift\n",
    "\n",
    "    Lift(I) -> j = confidence(I -> j)/P(j) =P(I, j)/P(I)*P(j)\n",
    "\n",
    "Lift (also known as the observed/expected ratio) is a measure of the degree of dependence between I and j. \n",
    "\n",
    "A lift of 1 indicates that I and j are independent"
   ]
  },
  {
   "cell_type": "code",
   "execution_count": 21,
   "id": "lined-sequence",
   "metadata": {},
   "outputs": [],
   "source": [
    "def lift_pairs(single_1, single_2,count):\n",
    "    return confidence_pairs(single_1, single_2,count)/(freq_single_item_dict[single_2]/n_buckets)"
   ]
  },
  {
   "cell_type": "code",
   "execution_count": 22,
   "id": "organic-factor",
   "metadata": {},
   "outputs": [],
   "source": [
    "def lift_triples(pair,single,count):\n",
    "    return confidence_triples(pair,single,count)/(freq_single_item_dict[single]/n_buckets)"
   ]
  },
  {
   "cell_type": "markdown",
   "id": "royal-account",
   "metadata": {},
   "source": [
    "## Association rules: Standardised lift\n",
    "\n",
    "Standardised lift ranges from 0 to 1.\n",
    "\n",
    "This facilitates setting a fixed threshold for selecting the rules"
   ]
  },
  {
   "cell_type": "code",
   "execution_count": 23,
   "id": "popular-dancing",
   "metadata": {},
   "outputs": [],
   "source": [
    "def std_lift_pairs(single_1, single_2,count):\n",
    "    p_single_1 = freq_single_item_dict.get(single_1,0)/n_buckets\n",
    "    p_single_2 = freq_single_item_dict.get(single_2,0)/n_buckets\n",
    "    \n",
    "    if p_single_1!=0 and p_single_2!=0:\n",
    "        num = lift_pairs(single_1,single_2, count) - (max(p_single_1+p_single_2-1,1/n_buckets)/(p_single_1*p_single_2))\n",
    "        den = (1/p_single_1*p_single_2) - (max(p_single_1+p_single_2-1,1/n_buckets)/(p_single_1*p_single_2))\n",
    "        if den!=0:\n",
    "            return num/den\n",
    "        else:\n",
    "            return 0\n",
    "    else:\n",
    "        return 0"
   ]
  },
  {
   "cell_type": "code",
   "execution_count": 24,
   "id": "secondary-creativity",
   "metadata": {},
   "outputs": [],
   "source": [
    "def std_lift_triples(pair,single,count):\n",
    "    p_pair = frequent_pairs_dict.get(pair,0)/n_buckets\n",
    "    p_single = freq_single_item_dict[single]/n_buckets\n",
    "    if p_pair!=0 and p_single!=0:\n",
    "        num = lift_triples(pair,single, count) - (max(p_pair+p_single-1,1/n_buckets)/(p_pair*p_single))\n",
    "        den = (1/p_pair*p_single) - (max(p_pair+p_single-1,1/n_buckets)/(p_pair*p_single))\n",
    "        if den!=0:\n",
    "            return num/den\n",
    "        else:\n",
    "            return 0\n",
    "    else:\n",
    "        return 0"
   ]
  },
  {
   "cell_type": "markdown",
   "id": "bright-verse",
   "metadata": {},
   "source": [
    "Breaking frequent itemsets into rules with respective counts"
   ]
  },
  {
   "cell_type": "code",
   "execution_count": 25,
   "id": "blond-advice",
   "metadata": {},
   "outputs": [],
   "source": [
    "def break_doubles(pair):\n",
    "    single_1 = pair[0][0]\n",
    "    single_2 = pair[0][1]\n",
    "    count = pair[1]\n",
    "    return [((single_1,single_2),count),((single_2,single_1),count)]"
   ]
  },
  {
   "cell_type": "code",
   "execution_count": 26,
   "id": "balanced-birmingham",
   "metadata": {},
   "outputs": [],
   "source": [
    "def break_triples(triple_count):\n",
    "    \n",
    "    triple=triple_count[0]\n",
    "    count = triple_count[1]\n",
    "    first_pair = (triple[0],triple[1])\n",
    "    second_pair = (triple[0],triple[2])\n",
    "    third_pair = (triple[1],triple[2])\n",
    "    pairs = [first_pair, second_pair, third_pair]\n",
    "    singles = [2,1,0]\n",
    "    candidate_rules=[]\n",
    "    for i in range(3):\n",
    "        candidate_rules.append(((pairs[i],triple[singles[i]],count)))\n",
    "    \n",
    "    return candidate_rules"
   ]
  },
  {
   "cell_type": "code",
   "execution_count": null,
   "id": "incomplete-accuracy",
   "metadata": {},
   "outputs": [],
   "source": []
  },
  {
   "cell_type": "markdown",
   "id": "blessed-artist",
   "metadata": {},
   "source": [
    "Getting metrics for the rules in the format:\n",
    "left side of the rule,right side,standard lift,lift,confidence,interest"
   ]
  },
  {
   "cell_type": "code",
   "execution_count": 27,
   "id": "textile-hostel",
   "metadata": {},
   "outputs": [],
   "source": [
    "def get_metrics_double(pair):\n",
    "    single_1 = pair[0][0]\n",
    "    single_2 = pair[0][1]\n",
    "    count = pair[1]\n",
    "    \n",
    "    confidence = confidence_pairs(single_1, single_2,count)\n",
    "    interest = interest_pairs(single_1, single_2,count)\n",
    "    lift = lift_pairs(single_1, single_2,count)\n",
    "    std_lift = std_lift_pairs(single_1, single_2,count)\n",
    "    return ([single_1],single_2,std_lift,lift,confidence,interest)"
   ]
  },
  {
   "cell_type": "code",
   "execution_count": 28,
   "id": "vanilla-administrator",
   "metadata": {},
   "outputs": [],
   "source": [
    "def get_metrics_triple(triple):\n",
    "    pair = triple[0]\n",
    "    single = triple[1]\n",
    "    count = triple[2]\n",
    "    confidence = confidence_triples(pair, single,count)\n",
    "    interest = interest_triples(pair, single,count)\n",
    "    lift = lift_triples(pair, single,count)\n",
    "    std_lift = std_lift_triples(pair, single,count)\n",
    "    return (list(pair),single,std_lift,lift,confidence,interest)"
   ]
  },
  {
   "cell_type": "code",
   "execution_count": 29,
   "id": "burning-circuit",
   "metadata": {},
   "outputs": [
    {
     "data": {
      "text/plain": [
       "[((10509002, 72892002), 195662009, 18),\n",
       " ((10509002, 195662009), 72892002, 18),\n",
       " ((72892002, 195662009), 10509002, 18),\n",
       " ((10509002, 72892002), 444814009, 21),\n",
       " ((10509002, 444814009), 72892002, 21),\n",
       " ((72892002, 444814009), 10509002, 21),\n",
       " ((40055000, 59621000), 162864005, 18),\n",
       " ((40055000, 162864005), 59621000, 18),\n",
       " ((59621000, 162864005), 40055000, 18),\n",
       " ((40055000, 59621000), 444814009, 27)]"
      ]
     },
     "execution_count": 29,
     "metadata": {},
     "output_type": "execute_result"
    }
   ],
   "source": [
    "possible_triple_rules = triple_count.flatMap(break_triples)\n",
    "possible_triple_rules.take(10)"
   ]
  },
  {
   "cell_type": "code",
   "execution_count": 30,
   "id": "specific-newman",
   "metadata": {},
   "outputs": [
    {
     "data": {
      "text/plain": [
       "[([10509002, 444814009],\n",
       "  19169002,\n",
       "  18.909090909090907,\n",
       "  5.538461538461538,\n",
       "  0.6923076923076923,\n",
       "  0.5673076923076923),\n",
       " ([10509002, 195662009],\n",
       "  19169002,\n",
       "  16.727272727272727,\n",
       "  6.193548387096774,\n",
       "  0.7741935483870968,\n",
       "  0.6491935483870968),\n",
       " ([195662009, 444814009],\n",
       "  19169002,\n",
       "  16.727272727272727,\n",
       "  4.363636363636363,\n",
       "  0.5454545454545454,\n",
       "  0.4204545454545454),\n",
       " ([15777000, 444814009],\n",
       "  271737000,\n",
       "  9.761467889908257,\n",
       "  11.771739130434783,\n",
       "  2.4782608695652173,\n",
       "  2.2677345537757434),\n",
       " ([271737000, 444814009],\n",
       "  15777000,\n",
       "  9.761467889908255,\n",
       "  12.306818181818182,\n",
       "  2.590909090909091,\n",
       "  2.3803827751196174),\n",
       " ([15777000, 444814009],\n",
       "  19169002,\n",
       "  9.454545454545455,\n",
       "  4.869565217391305,\n",
       "  0.6086956521739131,\n",
       "  0.4836956521739131),\n",
       " ([195662009, 444814009],\n",
       "  72892002,\n",
       "  9.319238900634247,\n",
       "  4.145454545454545,\n",
       "  0.6818181818181818,\n",
       "  0.5173444976076554),\n",
       " ([10509002, 162864005],\n",
       "  19169002,\n",
       "  7.999999999999998,\n",
       "  5.333333333333333,\n",
       "  0.6666666666666666,\n",
       "  0.5416666666666666),\n",
       " ([195662009, 444814009],\n",
       "  43878008,\n",
       "  7.967741935483872,\n",
       "  2.4181818181818184,\n",
       "  0.3181818181818182,\n",
       "  0.18660287081339713),\n",
       " ([10509002, 444814009],\n",
       "  43878008,\n",
       "  7.967741935483871,\n",
       "  2.7282051282051283,\n",
       "  0.358974358974359,\n",
       "  0.22739541160593793)]"
      ]
     },
     "execution_count": 30,
     "metadata": {},
     "output_type": "execute_result"
    }
   ],
   "source": [
    "resulting_triples = possible_triple_rules.map(get_metrics_triple).filter(lambda a: a[2]>=min_std_lift).sortBy(lambda a: a[2], False)\n",
    "resulting_triples.take(10)"
   ]
  },
  {
   "cell_type": "code",
   "execution_count": 31,
   "id": "junior-spare",
   "metadata": {},
   "outputs": [],
   "source": [
    "candidate_double_rules = pair_count.flatMap(break_doubles)"
   ]
  },
  {
   "cell_type": "code",
   "execution_count": 32,
   "id": "viral-gothic",
   "metadata": {},
   "outputs": [
    {
     "data": {
      "text/plain": [
       "[([19169002],\n",
       "  444814009,\n",
       "  0.18843683083511778,\n",
       "  1.0105263157894737,\n",
       "  0.631578947368421,\n",
       "  0.006578947368421018),\n",
       " ([65363002],\n",
       "  444814009,\n",
       "  0.20556745182012848,\n",
       "  0.9454545454545455,\n",
       "  0.5909090909090909,\n",
       "  -0.03409090909090906),\n",
       " ([72892002],\n",
       "  444814009,\n",
       "  0.23982869379014995,\n",
       "  0.96,\n",
       "  0.6,\n",
       "  -0.025000000000000022),\n",
       " ([43878008], 444814009, 0.2569593147751606, 1.28, 0.8, 0.17500000000000004),\n",
       " ([40055000],\n",
       "  444814009,\n",
       "  0.27408993576017127,\n",
       "  0.9066666666666666,\n",
       "  0.5666666666666667,\n",
       "  -0.05833333333333335),\n",
       " ([271737000], 444814009, 0.35974304068522484, 1.1, 0.6875, 0.0625),\n",
       " ([19169002],\n",
       "  195662009,\n",
       "  0.3627684964200477,\n",
       "  1.391304347826087,\n",
       "  0.631578947368421,\n",
       "  0.17763157894736836),\n",
       " ([162864005],\n",
       "  444814009,\n",
       "  0.3768736616702355,\n",
       "  0.855813953488372,\n",
       "  0.5348837209302325,\n",
       "  -0.09011627906976749),\n",
       " ([15777000], 444814009, 0.3768736616702355, 1.15, 0.71875, 0.09375),\n",
       " ([59621000],\n",
       "  444814009,\n",
       "  0.37687366167023556,\n",
       "  1.0823529411764707,\n",
       "  0.6764705882352942,\n",
       "  0.05147058823529416)]"
      ]
     },
     "execution_count": 32,
     "metadata": {},
     "output_type": "execute_result"
    }
   ],
   "source": [
    "resulting_pairs = candidate_double_rules.map(get_metrics_double).filter(lambda a: a[2]).sortBy(lambda a: a[2])\n",
    "resulting_pairs.take(10)"
   ]
  },
  {
   "cell_type": "markdown",
   "id": "proper-magic",
   "metadata": {},
   "source": [
    "Uniting both types of rules X -> Y and X,Y -> Z to a single rdd"
   ]
  },
  {
   "cell_type": "code",
   "execution_count": 33,
   "id": "modified-victor",
   "metadata": {},
   "outputs": [
    {
     "data": {
      "text/plain": [
       "[([19169002],\n",
       "  444814009,\n",
       "  0.18843683083511778,\n",
       "  1.0105263157894737,\n",
       "  0.631578947368421,\n",
       "  0.006578947368421018),\n",
       " ([65363002],\n",
       "  444814009,\n",
       "  0.20556745182012848,\n",
       "  0.9454545454545455,\n",
       "  0.5909090909090909,\n",
       "  -0.03409090909090906),\n",
       " ([72892002],\n",
       "  444814009,\n",
       "  0.23982869379014995,\n",
       "  0.96,\n",
       "  0.6,\n",
       "  -0.025000000000000022),\n",
       " ([43878008], 444814009, 0.2569593147751606, 1.28, 0.8, 0.17500000000000004),\n",
       " ([40055000],\n",
       "  444814009,\n",
       "  0.27408993576017127,\n",
       "  0.9066666666666666,\n",
       "  0.5666666666666667,\n",
       "  -0.05833333333333335),\n",
       " ([65363002, 444814009],\n",
       "  195662009,\n",
       "  0.296810587980039,\n",
       "  1.6945373467112597,\n",
       "  0.7692307692307693,\n",
       "  0.3152834008097166),\n",
       " ([10509002, 72892002],\n",
       "  444814009,\n",
       "  0.34261241970021417,\n",
       "  3.3600000000000003,\n",
       "  2.1,\n",
       "  1.475),\n",
       " ([40055000, 195662009],\n",
       "  444814009,\n",
       "  0.34261241970021417,\n",
       "  2.5846153846153848,\n",
       "  1.6153846153846154,\n",
       "  0.9903846153846154),\n",
       " ([271737000], 444814009, 0.35974304068522484, 1.1, 0.6875, 0.0625),\n",
       " ([15777000, 59621000],\n",
       "  195662009,\n",
       "  0.36276849642004766,\n",
       "  1.888198757763975,\n",
       "  0.8571428571428571,\n",
       "  0.40319548872180444)]"
      ]
     },
     "execution_count": 33,
     "metadata": {},
     "output_type": "execute_result"
    }
   ],
   "source": [
    "final_rules = resulting_triples.union(resulting_pairs).sortBy(lambda a: a[2])\n",
    "final_rules.take(10)"
   ]
  },
  {
   "cell_type": "code",
   "execution_count": 34,
   "id": "gorgeous-filename",
   "metadata": {},
   "outputs": [],
   "source": [
    "conds = sc.broadcast(condition_map.collectAsMap())"
   ]
  },
  {
   "cell_type": "markdown",
   "id": "caring-intelligence",
   "metadata": {},
   "source": [
    "Function to translate condition ids to names"
   ]
  },
  {
   "cell_type": "code",
   "execution_count": 35,
   "id": "bronze-kitchen",
   "metadata": {},
   "outputs": [],
   "source": [
    "def translate_conditions(line):\n",
    "    temp_list = list(line)\n",
    "    left_side = line[0]\n",
    "    right_side = line[1]\n",
    "    translated_left = [conds.value[i] for i in left_side]\n",
    "    translated_right = conds.value[right_side]\n",
    "    temp_list[0] = translated_left\n",
    "    temp_list[1] = translated_right\n",
    "    return tuple(temp_list)\n",
    "    "
   ]
  },
  {
   "cell_type": "markdown",
   "id": "blind-aggregate",
   "metadata": {},
   "source": [
    "Translating condition ids to their name in the final rules rdd"
   ]
  },
  {
   "cell_type": "code",
   "execution_count": 36,
   "id": "turkish-answer",
   "metadata": {},
   "outputs": [
    {
     "data": {
      "text/plain": [
       "[(['Miscarriage in first trimester'],\n",
       "  'Viral sinusitis (disorder)',\n",
       "  0.18843683083511778,\n",
       "  1.0105263157894737,\n",
       "  0.631578947368421,\n",
       "  0.006578947368421018),\n",
       " (['Otitis media'],\n",
       "  'Viral sinusitis (disorder)',\n",
       "  0.20556745182012848,\n",
       "  0.9454545454545455,\n",
       "  0.5909090909090909,\n",
       "  -0.03409090909090906),\n",
       " (['Normal pregnancy'],\n",
       "  'Viral sinusitis (disorder)',\n",
       "  0.23982869379014995,\n",
       "  0.96,\n",
       "  0.6,\n",
       "  -0.025000000000000022),\n",
       " (['Streptococcal sore throat (disorder)'],\n",
       "  'Viral sinusitis (disorder)',\n",
       "  0.2569593147751606,\n",
       "  1.28,\n",
       "  0.8,\n",
       "  0.17500000000000004),\n",
       " (['Chronic sinusitis (disorder)'],\n",
       "  'Viral sinusitis (disorder)',\n",
       "  0.27408993576017127,\n",
       "  0.9066666666666666,\n",
       "  0.5666666666666667,\n",
       "  -0.05833333333333335),\n",
       " (['Otitis media', 'Viral sinusitis (disorder)'],\n",
       "  'Acute viral pharyngitis (disorder)',\n",
       "  0.296810587980039,\n",
       "  1.6945373467112597,\n",
       "  0.7692307692307693,\n",
       "  0.3152834008097166),\n",
       " (['Acute bronchitis (disorder)', 'Normal pregnancy'],\n",
       "  'Viral sinusitis (disorder)',\n",
       "  0.34261241970021417,\n",
       "  3.3600000000000003,\n",
       "  2.1,\n",
       "  1.475),\n",
       " (['Chronic sinusitis (disorder)', 'Acute viral pharyngitis (disorder)'],\n",
       "  'Viral sinusitis (disorder)',\n",
       "  0.34261241970021417,\n",
       "  2.5846153846153848,\n",
       "  1.6153846153846154,\n",
       "  0.9903846153846154),\n",
       " (['Anemia (disorder)'],\n",
       "  'Viral sinusitis (disorder)',\n",
       "  0.35974304068522484,\n",
       "  1.1,\n",
       "  0.6875,\n",
       "  0.0625),\n",
       " (['Prediabetes', 'Hypertension'],\n",
       "  'Acute viral pharyngitis (disorder)',\n",
       "  0.36276849642004766,\n",
       "  1.888198757763975,\n",
       "  0.8571428571428571,\n",
       "  0.40319548872180444)]"
      ]
     },
     "execution_count": 36,
     "metadata": {},
     "output_type": "execute_result"
    }
   ],
   "source": [
    "final_rules = final_rules.map(translate_conditions)\n",
    "final_rules.take(10)"
   ]
  },
  {
   "cell_type": "markdown",
   "id": "olympic-equivalent",
   "metadata": {},
   "source": [
    "Saving results to a folder and stopping spark context"
   ]
  },
  {
   "cell_type": "code",
   "execution_count": 37,
   "id": "framed-belief",
   "metadata": {},
   "outputs": [],
   "source": [
    "#FILES ARE STRUCTURED AS left_rule_side,right_rule_side,std_lift,lift,confidence,interest\n",
    "final_rules.saveAsTextFile(\"{0}/{1}\".format(\"extracted_rules\", format_time))\n",
    "sc.stop()"
   ]
  }
 ],
 "metadata": {
  "kernelspec": {
   "display_name": "Python 3",
   "language": "python",
   "name": "python3"
  },
  "language_info": {
   "codemirror_mode": {
    "name": "ipython",
    "version": 3
   },
   "file_extension": ".py",
   "mimetype": "text/x-python",
   "name": "python",
   "nbconvert_exporter": "python",
   "pygments_lexer": "ipython3",
   "version": "3.8.8"
  }
 },
 "nbformat": 4,
 "nbformat_minor": 5
}
