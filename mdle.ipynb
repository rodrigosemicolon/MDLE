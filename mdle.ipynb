{
 "cells": [
  {
   "cell_type": "code",
   "execution_count": 1,
   "id": "returning-station",
   "metadata": {},
   "outputs": [],
   "source": [
    "from pyspark import SparkContext\n",
    "from datetime import datetime"
   ]
  },
  {
   "cell_type": "code",
   "execution_count": 2,
   "id": "unlike-doctor",
   "metadata": {},
   "outputs": [],
   "source": [
    "sc = SparkContext(appName=\"Assignment_conditions\")"
   ]
  },
  {
   "cell_type": "code",
   "execution_count": 3,
   "id": "appreciated-rapid",
   "metadata": {},
   "outputs": [],
   "source": [
    "threshold=40"
   ]
  },
  {
   "cell_type": "code",
   "execution_count": 4,
   "id": "academic-luther",
   "metadata": {},
   "outputs": [
    {
     "data": {
      "text/plain": [
       "[(65363002, 'Otitis media'),\n",
       " (444814009, 'Viral sinusitis (disorder)'),\n",
       " (233678006, 'Childhood asthma'),\n",
       " (232353008, 'Perennial allergic rhinitis with seasonal variation'),\n",
       " (446096008, 'Perennial allergic rhinitis')]"
      ]
     },
     "execution_count": 4,
     "metadata": {},
     "output_type": "execute_result"
    }
   ],
   "source": [
    "data = sc.textFile(\"testing.csv\")\n",
    "data = data.map(lambda line: line.split(\",\")).filter(lambda v: v[0]!=\"START\")\n",
    "condition_map = data.map(lambda line: (int(line[4]),line[5])).distinct()#reduceByKey(lambda val1, val2: val1)\n",
    "condition_map.take(5)"
   ]
  },
  {
   "cell_type": "code",
   "execution_count": 5,
   "id": "stock-festival",
   "metadata": {},
   "outputs": [],
   "source": [
    "format_time = datetime.now().strftime(\"%Y-%m-%dT%H:%M:%S\")\n",
    "condition_map.saveAsTextFile(\"{0}/{1}\".format(\"condition_map\", format_time))\n"
   ]
  },
  {
   "cell_type": "code",
   "execution_count": 6,
   "id": "inappropriate-spell",
   "metadata": {},
   "outputs": [
    {
     "data": {
      "text/plain": [
       "[[446096008, 283371005, 284551006, 444814009, 72892002, 195662009],\n",
       " [44465007, 307731004, 10509002, 444814009, 72892002, 195662009],\n",
       " [65966004, 55822004, 162864005, 24079001],\n",
       " [64859006, 70704007, 40055000, 59621000, 444814009, 162864005],\n",
       " [156073000,\n",
       "  19169002,\n",
       "  55822004,\n",
       "  82423001,\n",
       "  15777000,\n",
       "  10509002,\n",
       "  40055000,\n",
       "  72892002,\n",
       "  444814009,\n",
       "  75498004],\n",
       " [195662009, 444814009, 283385000],\n",
       " [195662009, 65363002, 43878008],\n",
       " [44465007, 10509002, 444814009, 58150001, 43878008, 195662009],\n",
       " [446096008,\n",
       "  44465007,\n",
       "  284549007,\n",
       "  72892002,\n",
       "  198992004,\n",
       "  53741008,\n",
       "  444814009,\n",
       "  43878008],\n",
       " [64859006, 162864005, 59621000],\n",
       " [444814009, 10509002, 70704007, 43878008],\n",
       " [241929008, 24079001, 444814009, 233678006, 43878008, 232353008],\n",
       " [70704007, 10509002, 128613002, 195662009, 703151001],\n",
       " [446096008, 444814009, 43878008, 62106007, 65363002],\n",
       " [126906006,\n",
       "  92691004,\n",
       "  15777000,\n",
       "  68496003,\n",
       "  40055000,\n",
       "  59621000,\n",
       "  271737000,\n",
       "  162573006,\n",
       "  403190006,\n",
       "  444814009,\n",
       "  162864005,\n",
       "  370143000,\n",
       "  235919008,\n",
       "  67811000119102,\n",
       "  254632001,\n",
       "  49436004,\n",
       "  65275009],\n",
       " [59621000,\n",
       "  72892002,\n",
       "  198992004,\n",
       "  444814009,\n",
       "  39848009,\n",
       "  162864005,\n",
       "  195662009,\n",
       "  283385000],\n",
       " [195662009, 15777000, 53741008, 271737000],\n",
       " [19169002,\n",
       "  64859006,\n",
       "  15777000,\n",
       "  26929004,\n",
       "  40055000,\n",
       "  10509002,\n",
       "  444814009,\n",
       "  230690007,\n",
       "  162864005,\n",
       "  195662009,\n",
       "  55680006,\n",
       "  16114001,\n",
       "  75498004,\n",
       "  49436004],\n",
       " [195662009],\n",
       " [19169002,\n",
       "  398254007,\n",
       "  195662009,\n",
       "  35999006,\n",
       "  10509002,\n",
       "  72892002,\n",
       "  444814009,\n",
       "  198992004,\n",
       "  232353008],\n",
       " [40275004,\n",
       "  15777000,\n",
       "  10509002,\n",
       "  271737000,\n",
       "  444814009,\n",
       "  162864005,\n",
       "  195662009,\n",
       "  62106007],\n",
       " [55822004, 15777000, 59621000, 271737000, 230690007, 162864005, 49436004],\n",
       " [444814009, 241929008, 70704007],\n",
       " [195662009, 444814009, 39848009],\n",
       " [444814009, 10509002, 43878008],\n",
       " [19169002,\n",
       "  64859006,\n",
       "  68496003,\n",
       "  15777000,\n",
       "  59621000,\n",
       "  10509002,\n",
       "  444814009,\n",
       "  162864005],\n",
       " [55822004,\n",
       "  88805009,\n",
       "  15777000,\n",
       "  307731004,\n",
       "  271737000,\n",
       "  444814009,\n",
       "  162864005,\n",
       "  195662009,\n",
       "  239872002,\n",
       "  75498004],\n",
       " [444814009, 403190006, 62106007],\n",
       " [444814009, 75498004, 40055000],\n",
       " [75498004, 70704007],\n",
       " [15777000,\n",
       "  40055000,\n",
       "  59621000,\n",
       "  271737000,\n",
       "  444814009,\n",
       "  162864005,\n",
       "  128613002,\n",
       "  62564004,\n",
       "  703151001],\n",
       " [156073000, 19169002, 10509002, 72892002, 162864005, 195662009],\n",
       " [15777000,\n",
       "  10509002,\n",
       "  271737000,\n",
       "  444814009,\n",
       "  230690007,\n",
       "  162864005,\n",
       "  263102004,\n",
       "  195662009,\n",
       "  239872002],\n",
       " [36971009, 59621000],\n",
       " [88805009,\n",
       "  68496003,\n",
       "  15777000,\n",
       "  109838007,\n",
       "  59621000,\n",
       "  271737000,\n",
       "  65363002,\n",
       "  49436004],\n",
       " [19169002,\n",
       "  40055000,\n",
       "  271737000,\n",
       "  10509002,\n",
       "  444814009,\n",
       "  403190006,\n",
       "  72892002,\n",
       "  198992004,\n",
       "  162864005,\n",
       "  201834006],\n",
       " [283371005, 70704007, 24079001, 10509002, 233678006, 367498001, 162864005],\n",
       " [15777000, 70704007, 59621000],\n",
       " [444814009, 162864005, 10509002],\n",
       " [10509002, 40055000, 59621000, 444814009, 195662009],\n",
       " [363406005,\n",
       "  283371005,\n",
       "  64859006,\n",
       "  443165006,\n",
       "  68496003,\n",
       "  713197008,\n",
       "  40055000,\n",
       "  230690007,\n",
       "  359817006,\n",
       "  195662009,\n",
       "  55680006],\n",
       " [70704007, 88805009, 62564004, 162864005, 195662009, 62106007, 16114001],\n",
       " [195662009, 444814009, 10509002],\n",
       " [262574004, 65363002],\n",
       " [284549007, 15777000, 59621000, 271737000, 444814009],\n",
       " [40055000, 72892002, 198992004, 47693006, 74400008, 428251008],\n",
       " [444814009, 55822004, 10509002, 263102004],\n",
       " [15777000,\n",
       "  68496003,\n",
       "  40055000,\n",
       "  271737000,\n",
       "  10509002,\n",
       "  444814009,\n",
       "  84757009,\n",
       "  128613002,\n",
       "  43878008,\n",
       "  195662009,\n",
       "  703151001],\n",
       " [195662009, 444814009, 284551006],\n",
       " [156073000,\n",
       "  19169002,\n",
       "  70704007,\n",
       "  36971009,\n",
       "  59621000,\n",
       "  40055000,\n",
       "  72892002,\n",
       "  195662009]]"
      ]
     },
     "execution_count": 6,
     "metadata": {},
     "output_type": "execute_result"
    }
   ],
   "source": [
    "patient_rdd2 = data.map(lambda line: (line[2],line[4])).groupByKey().map(lambda tp: [int(j) for j in set(tp[1])])#.map(lambda k: (k[0],[int[j] for j in k[1]]))\n",
    "n_baskets = patient_rdd2.count()\n",
    "patient_rdd2.take(50)"
   ]
  },
  {
   "cell_type": "code",
   "execution_count": null,
   "id": "recent-straight",
   "metadata": {},
   "outputs": [],
   "source": []
  },
  {
   "cell_type": "code",
   "execution_count": 7,
   "id": "desirable-flooring",
   "metadata": {},
   "outputs": [
    {
     "data": {
      "text/plain": [
       "[(444814009, 95), (195662009, 69), (10509002, 58), (162864005, 43)]"
      ]
     },
     "execution_count": 7,
     "metadata": {},
     "output_type": "execute_result"
    }
   ],
   "source": [
    "\n",
    "frequent_singles = patient_rdd2.flatMap(lambda l: [(i,1) for i in l]).reduceByKey(lambda v1,v2:v1+v2).sortBy(lambda a:a[1],False).filter(lambda k: k[1]>threshold)\n",
    "frequent_singles.take(10)"
   ]
  },
  {
   "cell_type": "code",
   "execution_count": null,
   "id": "important-hygiene",
   "metadata": {},
   "outputs": [],
   "source": []
  },
  {
   "cell_type": "code",
   "execution_count": null,
   "id": "cooked-rider",
   "metadata": {},
   "outputs": [],
   "source": []
  },
  {
   "cell_type": "code",
   "execution_count": null,
   "id": "about-luther",
   "metadata": {},
   "outputs": [],
   "source": []
  },
  {
   "cell_type": "code",
   "execution_count": 8,
   "id": "honest-soldier",
   "metadata": {},
   "outputs": [
    {
     "name": "stdout",
     "output_type": "stream",
     "text": [
      "{444814009, 10509002, 195662009, 162864005}\n"
     ]
    }
   ],
   "source": [
    "freq_single_item_set = set([k[0] for k in frequent_singles.collect()])\n",
    "print(freq_single_item_set)"
   ]
  },
  {
   "cell_type": "code",
   "execution_count": 9,
   "id": "fuzzy-suite",
   "metadata": {},
   "outputs": [],
   "source": [
    "def pair_forming(list):\n",
    "    pairs=[]\n",
    "    list.sort()\n",
    "    for i in range(0,len(list)):\n",
    "        if list[i] in freq_single_item_set:\n",
    "            for j in range(i+1,len(list)):\n",
    "                if  list[i]!=list[j] and list[j] in freq_single_item_set:\n",
    "                    pairs.append((list[i],list[j]))\n",
    "    return pairs"
   ]
  },
  {
   "cell_type": "code",
   "execution_count": 10,
   "id": "accomplished-butterfly",
   "metadata": {},
   "outputs": [],
   "source": [
    "def triple_forming(list):\n",
    "    triples=[]\n",
    "    pairs = pair_forming(list)\n",
    "    for i,j in pairs:\n",
    "        for k in list:\n",
    "            if (i,j) in frequent_pairs and k in freq_single_item_set and k!=i and k!=j:#or (j,i) in frequent_pairs#prob unecessary\n",
    "                  triples.append(tuple(sorted([i,j,k])))\n",
    "    return triples"
   ]
  },
  {
   "cell_type": "code",
   "execution_count": 11,
   "id": "judicial-forum",
   "metadata": {},
   "outputs": [
    {
     "data": {
      "text/plain": [
       "[((195662009, 444814009), 44)]"
      ]
     },
     "execution_count": 11,
     "metadata": {},
     "output_type": "execute_result"
    }
   ],
   "source": [
    "###COUNTING PAIRS\n",
    "pair_count = patient_rdd2.flatMap(pair_forming).map(lambda p:(p,1)).reduceByKey(lambda v1,v2: v1+v2).filter(lambda tp:tp[1]>=threshold)\n",
    "pair_count.sortBy(lambda a: a[1],False).take(10)"
   ]
  },
  {
   "cell_type": "code",
   "execution_count": 12,
   "id": "behind-gothic",
   "metadata": {},
   "outputs": [
    {
     "name": "stdout",
     "output_type": "stream",
     "text": [
      "{(195662009, 444814009)}\n"
     ]
    }
   ],
   "source": [
    "###FREQUENT PAIR SET\n",
    "frequent_pairs = set(pair_count.map(lambda tp:tp[0]).collect())\n",
    "print(frequent_pairs)"
   ]
  },
  {
   "cell_type": "code",
   "execution_count": 13,
   "id": "lesser-princeton",
   "metadata": {},
   "outputs": [
    {
     "data": {
      "text/plain": [
       "[]"
      ]
     },
     "execution_count": 13,
     "metadata": {},
     "output_type": "execute_result"
    }
   ],
   "source": [
    "###COUNTING TRIPLES\n",
    "triple_count = patient_rdd2.flatMap(triple_forming).map(lambda p:(p,1)).reduceByKey(lambda v1,v2: v1+v2).filter(lambda tp:tp[1]>=threshold)\n",
    "triple_count.sortBy(lambda a: a[1], False).take(10)"
   ]
  },
  {
   "cell_type": "code",
   "execution_count": 14,
   "id": "about-olive",
   "metadata": {},
   "outputs": [
    {
     "name": "stdout",
     "output_type": "stream",
     "text": [
      "set()\n"
     ]
    }
   ],
   "source": [
    "###FREQUENT TRIPLE SET\n",
    "frequent_triples = set(triple_count.map(lambda tp:tp[0]).collect())\n",
    "print(frequent_triples)"
   ]
  },
  {
   "cell_type": "code",
   "execution_count": 15,
   "id": "saving-seeking",
   "metadata": {},
   "outputs": [
    {
     "data": {
      "text/plain": [
       "152"
      ]
     },
     "execution_count": 15,
     "metadata": {},
     "output_type": "execute_result"
    }
   ],
   "source": [
    "min_std_lift = 0.2\n",
    "n_baskets"
   ]
  },
  {
   "cell_type": "code",
   "execution_count": 16,
   "id": "suspended-girlfriend",
   "metadata": {},
   "outputs": [],
   "source": [
    "def confidence_1to1(item1, item2):\n",
    "    pass\n"
   ]
  },
  {
   "cell_type": "code",
   "execution_count": null,
   "id": "absolute-blogger",
   "metadata": {},
   "outputs": [],
   "source": []
  },
  {
   "cell_type": "code",
   "execution_count": null,
   "id": "proper-wonder",
   "metadata": {},
   "outputs": [],
   "source": []
  },
  {
   "cell_type": "code",
   "execution_count": null,
   "id": "composite-plaza",
   "metadata": {},
   "outputs": [],
   "source": []
  },
  {
   "cell_type": "code",
   "execution_count": null,
   "id": "modular-swing",
   "metadata": {},
   "outputs": [],
   "source": []
  },
  {
   "cell_type": "code",
   "execution_count": null,
   "id": "strategic-madonna",
   "metadata": {},
   "outputs": [],
   "source": []
  },
  {
   "cell_type": "code",
   "execution_count": null,
   "id": "equipped-subscription",
   "metadata": {},
   "outputs": [],
   "source": []
  },
  {
   "cell_type": "code",
   "execution_count": null,
   "id": "manual-duration",
   "metadata": {},
   "outputs": [],
   "source": []
  },
  {
   "cell_type": "code",
   "execution_count": null,
   "id": "hearing-decimal",
   "metadata": {},
   "outputs": [],
   "source": []
  },
  {
   "cell_type": "code",
   "execution_count": null,
   "id": "sunset-tissue",
   "metadata": {},
   "outputs": [],
   "source": []
  },
  {
   "cell_type": "code",
   "execution_count": null,
   "id": "egyptian-exclusive",
   "metadata": {},
   "outputs": [],
   "source": []
  },
  {
   "cell_type": "code",
   "execution_count": null,
   "id": "departmental-pavilion",
   "metadata": {},
   "outputs": [],
   "source": []
  }
 ],
 "metadata": {
  "kernelspec": {
   "display_name": "Python 3",
   "language": "python",
   "name": "python3"
  },
  "language_info": {
   "codemirror_mode": {
    "name": "ipython",
    "version": 3
   },
   "file_extension": ".py",
   "mimetype": "text/x-python",
   "name": "python",
   "nbconvert_exporter": "python",
   "pygments_lexer": "ipython3",
   "version": "3.8.8"
  }
 },
 "nbformat": 4,
 "nbformat_minor": 5
}
