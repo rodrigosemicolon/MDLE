{
 "cells": [
  {
   "cell_type": "markdown",
   "id": "hawaiian-venezuela",
   "metadata": {},
   "source": [
    "#### Libs"
   ]
  },
  {
   "cell_type": "code",
   "execution_count": 1,
   "id": "blocked-allah",
   "metadata": {},
   "outputs": [],
   "source": [
    "from pyspark import SparkContext\n",
    "from datetime import datetime"
   ]
  },
  {
   "cell_type": "markdown",
   "id": "pending-channels",
   "metadata": {},
   "source": [
    "### Spark\n",
    "\n",
    "\n",
    "Create a new SparkContext"
   ]
  },
  {
   "cell_type": "code",
   "execution_count": 2,
   "id": "turkish-snapshot",
   "metadata": {},
   "outputs": [],
   "source": [
    "sc = SparkContext(appName=\"Assignment_conditions\")"
   ]
  },
  {
   "cell_type": "code",
   "execution_count": 3,
   "id": "extreme-harvest",
   "metadata": {},
   "outputs": [],
   "source": [
    "threshold=10"
   ]
  },
  {
   "cell_type": "markdown",
   "id": "adverse-contrast",
   "metadata": {},
   "source": [
    "#### Read data\n",
    "\n",
    "Here we read the test data and map it by splitting by \",\" and ignoring the header row."
   ]
  },
  {
   "cell_type": "code",
   "execution_count": 4,
   "id": "coated-mexican",
   "metadata": {},
   "outputs": [
    {
     "data": {
      "text/plain": [
       "[['2017-01-14',\n",
       "  '2017-03-30',\n",
       "  '09e4e8cb-29c2-4ef4-86c0-a6ff0ba25d2a',\n",
       "  '88e540ab-a7d7-47de-93c1-720a06f3d601',\n",
       "  '65363002',\n",
       "  'Otitis media']]"
      ]
     },
     "execution_count": 4,
     "metadata": {},
     "output_type": "execute_result"
    }
   ],
   "source": [
    "data = sc.textFile(\"testing.csv\")\n",
    "data = data.map(lambda line: line.split(\",\")).filter(lambda v: v[0]!=\"START\")\n",
    "data.take(1)\n"
   ]
  },
  {
   "cell_type": "markdown",
   "id": "oriental-people",
   "metadata": {},
   "source": [
    "### Reorganize data\n",
    "\n",
    "Next we map the unique conditions by their code and respective description"
   ]
  },
  {
   "cell_type": "code",
   "execution_count": 5,
   "id": "handy-paris",
   "metadata": {},
   "outputs": [
    {
     "data": {
      "text/plain": [
       "[(65363002, 'Otitis media'),\n",
       " (444814009, 'Viral sinusitis (disorder)'),\n",
       " (233678006, 'Childhood asthma'),\n",
       " (232353008, 'Perennial allergic rhinitis with seasonal variation'),\n",
       " (446096008, 'Perennial allergic rhinitis')]"
      ]
     },
     "execution_count": 5,
     "metadata": {},
     "output_type": "execute_result"
    }
   ],
   "source": [
    "condition_map = data.map(lambda line: (int(line[4]),line[5])) \\\n",
    ".distinct()#reduceByKey(lambda val1, val2: val1)\n",
    "\n",
    "condition_map.take(5)"
   ]
  },
  {
   "cell_type": "markdown",
   "id": "convertible-treat",
   "metadata": {},
   "source": [
    "And save the data  to new file"
   ]
  },
  {
   "cell_type": "code",
   "execution_count": 6,
   "id": "foreign-instrument",
   "metadata": {},
   "outputs": [],
   "source": [
    "format_time = datetime.now().strftime(\"%Y-%m-%dT%H:%M:%S\")\n",
    "condition_map.saveAsTextFile(\"{0}/{1}\".format(\"condition_map\", format_time))\n"
   ]
  },
  {
   "cell_type": "markdown",
   "id": "alone-likelihood",
   "metadata": {},
   "source": [
    "Here we get all the unique patient-condition pairs to a map.\n",
    "\n",
    "?\n",
    "We map by patient-(condition) code, group it by key and "
   ]
  },
  {
   "cell_type": "code",
   "execution_count": 16,
   "id": "present-national",
   "metadata": {},
   "outputs": [
    {
     "data": {
      "text/plain": [
       "[[446096008, 283371005, 284551006, 444814009, 72892002, 195662009],\n",
       " [44465007, 307731004, 10509002, 444814009, 72892002, 195662009],\n",
       " [65966004, 55822004, 162864005, 24079001],\n",
       " [64859006, 70704007, 40055000, 59621000, 444814009, 162864005],\n",
       " [156073000,\n",
       "  19169002,\n",
       "  55822004,\n",
       "  82423001,\n",
       "  15777000,\n",
       "  10509002,\n",
       "  40055000,\n",
       "  72892002,\n",
       "  444814009,\n",
       "  75498004],\n",
       " [195662009, 444814009, 283385000],\n",
       " [195662009, 65363002, 43878008],\n",
       " [44465007, 10509002, 444814009, 58150001, 43878008, 195662009],\n",
       " [446096008,\n",
       "  44465007,\n",
       "  284549007,\n",
       "  72892002,\n",
       "  198992004,\n",
       "  53741008,\n",
       "  444814009,\n",
       "  43878008],\n",
       " [64859006, 162864005, 59621000]]"
      ]
     },
     "execution_count": 16,
     "metadata": {},
     "output_type": "execute_result"
    }
   ],
   "source": [
    "#Map by PATIENT-(CONDITION)CODE, \n",
    "patient_rdd2 = data.map(lambda line: (line[2],line[4])) \\\n",
    ".groupByKey() \\\n",
    ".map(lambda tp: [int(j) for j in set(tp[1])]) \n",
    "# .map(lambda k: (k[0],[int[j] for j in k[1]]))\n",
    "\n",
    "patient_rdd2.take(10)"
   ]
  },
  {
   "cell_type": "markdown",
   "id": "joint-interim",
   "metadata": {},
   "source": [
    "### Most frequent"
   ]
  },
  {
   "cell_type": "markdown",
   "id": "provincial-malawi",
   "metadata": {},
   "source": [
    "Here we map the most frequent conditions and their counts.\n",
    "\n",
    "flatMap: We flatmap them by key, and set their value to 1;\n",
    "reduceByKey: We reduce by key and make all keys unique and their values their respective counts;\n",
    "sortBy: We sort it by decreasingly by their count;\n",
    "filter: And finally we apply the threshold, keeping only the ones that have higher counts than it. "
   ]
  },
  {
   "cell_type": "code",
   "execution_count": 8,
   "id": "acting-world",
   "metadata": {},
   "outputs": [
    {
     "data": {
      "text/plain": [
       "[(444814009, 95),\n",
       " (195662009, 69),\n",
       " (10509002, 58),\n",
       " (162864005, 43),\n",
       " (59621000, 34),\n",
       " (15777000, 32),\n",
       " (271737000, 32),\n",
       " (40055000, 30),\n",
       " (72892002, 25),\n",
       " (65363002, 22)]"
      ]
     },
     "execution_count": 8,
     "metadata": {},
     "output_type": "execute_result"
    }
   ],
   "source": [
    "frequent_singles = patient_rdd2 \\\n",
    ".flatMap(lambda l: [(i,1) for i in l]) \\\n",
    ".reduceByKey(lambda v1,v2:v1+v2) \\\n",
    ".sortBy(lambda a:a[1],False) \\\n",
    ".filter(lambda k: k[1]>threshold)\n",
    "\n",
    "frequent_singles.take(10)"
   ]
  },
  {
   "cell_type": "markdown",
   "id": "egyptian-technical",
   "metadata": {},
   "source": [
    "Once we have the most frequent items we create a set with them"
   ]
  },
  {
   "cell_type": "code",
   "execution_count": 9,
   "id": "greek-ticket",
   "metadata": {},
   "outputs": [
    {
     "name": "stdout",
     "output_type": "stream",
     "text": [
      "{72892002, 195662009, 162864005, 59621000, 15777000, 10509002, 271737000, 43878008, 19169002, 44465007, 75498004, 55822004, 40055000, 444814009, 65363002}\n"
     ]
    }
   ],
   "source": [
    "freq_single_item_set = set([k[0] for k in frequent_singles.collect()])\n",
    "print(freq_single_item_set)"
   ]
  },
  {
   "cell_type": "markdown",
   "id": "collectible-bikini",
   "metadata": {},
   "source": [
    "### Build Pairs"
   ]
  },
  {
   "cell_type": "code",
   "execution_count": 10,
   "id": "former-account",
   "metadata": {},
   "outputs": [],
   "source": [
    "def pair_forming(l):\n",
    "    pairs=[]\n",
    "    list.sort()\n",
    "    for i in range(0,len(l)):\n",
    "        if l[i] in freq_single_item_set:\n",
    "            for j in range(i+1,len(l)):\n",
    "                if  l[i]!=l[j] and l[j] in freq_single_item_set:\n",
    "                    pairs.append((l[i],l[j]))\n",
    "    return pairs"
   ]
  },
  {
   "cell_type": "markdown",
   "id": "lonely-hampshire",
   "metadata": {},
   "source": [
    "### Build Triples"
   ]
  },
  {
   "cell_type": "code",
   "execution_count": 11,
   "id": "posted-making",
   "metadata": {},
   "outputs": [],
   "source": [
    "def triple_forming(list):\n",
    "    triples=[]\n",
    "    pairs = pair_forming(list)\n",
    "    for i,j in pairs:\n",
    "        for k in list:\n",
    "            if (i,j) in frequent_pairs and k in freq_single_item_set and k!=i and k!=j:#or (j,i) in frequent_pairs#prob unecessary\n",
    "                  triples.append(tuple(sorted([i,j,k])))\n",
    "    return triples"
   ]
  },
  {
   "cell_type": "code",
   "execution_count": 12,
   "id": "tough-wayne",
   "metadata": {},
   "outputs": [
    {
     "data": {
      "text/plain": [
       "[((195662009, 444814009), 44),\n",
       " ((10509002, 444814009), 39),\n",
       " ((10509002, 195662009), 31),\n",
       " ((15777000, 271737000), 27),\n",
       " ((162864005, 444814009), 23),\n",
       " ((59621000, 444814009), 23),\n",
       " ((15777000, 444814009), 23),\n",
       " ((271737000, 444814009), 22),\n",
       " ((10509002, 162864005), 18),\n",
       " ((162864005, 195662009), 17)]"
      ]
     },
     "execution_count": 12,
     "metadata": {},
     "output_type": "execute_result"
    }
   ],
   "source": [
    "###COUNTING PAIRS\n",
    "pair_count = patient_rdd2.flatMap(pair_forming).map(lambda p:(p,1)).reduceByKey(lambda v1,v2: v1+v2).filter(lambda tp:tp[1]>=threshold)\n",
    "pair_count.sortBy(lambda a: a[1],False).take(10)"
   ]
  },
  {
   "cell_type": "code",
   "execution_count": 13,
   "id": "sudden-stamp",
   "metadata": {},
   "outputs": [
    {
     "name": "stdout",
     "output_type": "stream",
     "text": [
      "[(195662009, 271737000), (10509002, 271737000), (10509002, 162864005), (10509002, 59621000), (10509002, 19169002), (195662009, 444814009), (10509002, 444814009), (162864005, 271737000), (10509002, 40055000), (72892002, 444814009)]\n"
     ]
    }
   ],
   "source": [
    "###FREQUENT PAIR SET\n",
    "frequent_pairs = list(set(pair_count.map(lambda tp:tp[0]).collect()))\n",
    "\n",
    "print(frequent_pairs[0:10])"
   ]
  },
  {
   "cell_type": "code",
   "execution_count": 14,
   "id": "covered-strike",
   "metadata": {},
   "outputs": [
    {
     "data": {
      "text/plain": [
       "[((10509002, 195662009, 444814009), 63),\n",
       " ((15777000, 271737000, 444814009), 57),\n",
       " ((15777000, 195662009, 271737000), 42),\n",
       " ((59621000, 195662009, 444814009), 39),\n",
       " ((15777000, 195662009, 444814009), 36),\n",
       " ((15777000, 162864005, 271737000), 33),\n",
       " ((15777000, 59621000, 271737000), 33),\n",
       " ((195662009, 271737000, 444814009), 33),\n",
       " ((72892002, 195662009, 444814009), 30),\n",
       " ((10509002, 162864005, 444814009), 30)]"
      ]
     },
     "execution_count": 14,
     "metadata": {},
     "output_type": "execute_result"
    }
   ],
   "source": [
    "###COUNTING TRIPLES\n",
    "triple_count = patient_rdd2.flatMap(triple_forming).map(lambda p:(p,1)).reduceByKey(lambda v1,v2: v1+v2).filter(lambda tp:tp[1]>=threshold)\n",
    "triple_count.sortBy(lambda a: a[1], False).take(10)"
   ]
  },
  {
   "cell_type": "code",
   "execution_count": 15,
   "id": "laughing-albany",
   "metadata": {},
   "outputs": [
    {
     "name": "stdout",
     "output_type": "stream",
     "text": [
      "[(40055000, 59621000, 195662009), (59621000, 162864005, 444814009), (15777000, 162864005, 271737000), (10509002, 59621000, 162864005), (10509002, 162864005, 195662009), (10509002, 40055000, 444814009), (10509002, 19169002, 195662009), (19169002, 59621000, 195662009), (15777000, 162864005, 444814009), (15777000, 40055000, 162864005)]\n"
     ]
    }
   ],
   "source": [
    "###FREQUENT TRIPLE SET\n",
    "frequent_triples = list(set(triple_count.map(lambda tp:tp[0]).collect()))\n",
    "print(frequent_triples[0:10])"
   ]
  },
  {
   "cell_type": "code",
   "execution_count": 19,
   "id": "incomplete-truth",
   "metadata": {},
   "outputs": [],
   "source": [
    "min_std_lift = 0.2\n",
    "x=195662009\n",
    "# y=444814009"
   ]
  },
  {
   "cell_type": "markdown",
   "id": "competitive-proceeding",
   "metadata": {},
   "source": [
    "## Association Rules: Confidence\n"
   ]
  },
  {
   "cell_type": "code",
   "execution_count": 34,
   "id": "increased-front",
   "metadata": {},
   "outputs": [],
   "source": [
    "# buckets = data.map()\n",
    "# buckets.take(5)\n",
    "def measure_confidence_pairs(item):\n",
    "    count =0\n",
    "    for pair in frequent_pairs: #usar dataset inteiro ou so pareS?\n",
    "        if pair[0] == item or pair[1] == item:\n",
    "            count+=1\n",
    "    return count, count/len(frequent_pairs)\n"
   ]
  },
  {
   "cell_type": "code",
   "execution_count": 43,
   "id": "former-locator",
   "metadata": {},
   "outputs": [
    {
     "data": {
      "text/plain": [
       "(9, 0.25)"
      ]
     },
     "execution_count": 43,
     "metadata": {},
     "output_type": "execute_result"
    }
   ],
   "source": [
    "c_p,conf_p = measure_confidence_pairs(x)\n",
    "c_p,conf_p"
   ]
  },
  {
   "cell_type": "code",
   "execution_count": 36,
   "id": "detected-cursor",
   "metadata": {},
   "outputs": [],
   "source": [
    "def measure_confidence_triples(item):\n",
    "    count =0\n",
    "    for pair in frequent_triples: #usar dataset inteiro ou so pareS?\n",
    "        if pair[0] == item or pair[1] == item:\n",
    "            count+=1\n",
    "    return count, count/len(frequent_triples)"
   ]
  },
  {
   "cell_type": "code",
   "execution_count": 44,
   "id": "exotic-america",
   "metadata": {},
   "outputs": [
    {
     "data": {
      "text/plain": [
       "(15, 0.2054794520547945)"
      ]
     },
     "execution_count": 44,
     "metadata": {},
     "output_type": "execute_result"
    }
   ],
   "source": [
    "c_t,conf_t = measure_confidence_triples(x)\n",
    "c_t,conf_t"
   ]
  },
  {
   "cell_type": "markdown",
   "id": "geographic-training",
   "metadata": {},
   "source": [
    "## Association Rules: Interest\n",
    "\n",
    "    interestI -> j = p(j|I) − p(j)\n",
    "    interestI -> j = confidence(I -> j)−baskets containing j / baskets\n",
    "\n",
    "high positive interest: presence of I indicates the presence of j.\n",
    "\n",
    "high negative interest: presence of I discourages the presence of j"
   ]
  },
  {
   "cell_type": "code",
   "execution_count": 40,
   "id": "operating-briefs",
   "metadata": {},
   "outputs": [],
   "source": [
    "def measure_interest_pairs(count,conf):\n",
    "    return conf-count/len(frequent_pairs)\n",
    "    "
   ]
  },
  {
   "cell_type": "code",
   "execution_count": 41,
   "id": "industrial-coating",
   "metadata": {},
   "outputs": [
    {
     "data": {
      "text/plain": [
       "0.0"
      ]
     },
     "execution_count": 41,
     "metadata": {},
     "output_type": "execute_result"
    }
   ],
   "source": [
    "measure_interest_pairs(c_p,conf_p)"
   ]
  },
  {
   "cell_type": "markdown",
   "id": "potential-envelope",
   "metadata": {},
   "source": [
    "## Association rules: Lift\n",
    "\n",
    "    Lift(I) -> j = confidence(I -> j)/P(j) =P(I, j)/P(I)*P(j)\n",
    "\n",
    "Lift (also known as the observed/expected ratio) is a measure of the degree of dependence between I and j. \n",
    "\n",
    "A lift of 1 indicates that I and j are independent"
   ]
  },
  {
   "cell_type": "code",
   "execution_count": 45,
   "id": "discrete-soundtrack",
   "metadata": {},
   "outputs": [],
   "source": [
    "def measure_lift(count,conf):\n",
    "    return conf/count\n",
    "    "
   ]
  },
  {
   "cell_type": "code",
   "execution_count": 47,
   "id": "necessary-threat",
   "metadata": {},
   "outputs": [
    {
     "data": {
      "text/plain": [
       "0.027777777777777776"
      ]
     },
     "execution_count": 47,
     "metadata": {},
     "output_type": "execute_result"
    }
   ],
   "source": [
    "lift = measure_lift(c_p,conf_p)\n",
    "lift"
   ]
  },
  {
   "cell_type": "markdown",
   "id": "royal-account",
   "metadata": {},
   "source": [
    "## Association rules: Standardised lift\n",
    "\n",
    "Standardised lift ranges from 0 to 1.\n",
    "\n",
    "This facilitates setting a fixed threshold for selecting the rules"
   ]
  },
  {
   "cell_type": "code",
   "execution_count": null,
   "id": "aware-bride",
   "metadata": {},
   "outputs": [],
   "source": [
    "def measure_stand_lift(lift,p_i,p_j,n):\n",
    "    common = (max(p_i+p_j-1,1/n) /(p_i*p_j))\n",
    "    num = lift-common\n",
    "    denom = 1/(p_i * p_j)-common\n",
    "    return num/denom\n",
    "    "
   ]
  },
  {
   "cell_type": "code",
   "execution_count": null,
   "id": "motivated-thirty",
   "metadata": {},
   "outputs": [],
   "source": [
    "#measure_stand_lift(lift,c_p,)"
   ]
  }
 ],
 "metadata": {
  "kernelspec": {
   "display_name": "Python 3",
   "language": "python",
   "name": "python3"
  },
  "language_info": {
   "codemirror_mode": {
    "name": "ipython",
    "version": 3
   },
   "file_extension": ".py",
   "mimetype": "text/x-python",
   "name": "python",
   "nbconvert_exporter": "python",
   "pygments_lexer": "ipython3",
   "version": "3.8.8"
  }
 },
 "nbformat": 4,
 "nbformat_minor": 5
}
