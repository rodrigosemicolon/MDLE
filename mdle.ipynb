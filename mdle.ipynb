{
 "cells": [
  {
   "cell_type": "markdown",
   "id": "hawaiian-venezuela",
   "metadata": {},
   "source": [
    "#### Libs"
   ]
  },
  {
   "cell_type": "code",
   "execution_count": 1,
   "id": "blocked-allah",
   "metadata": {},
   "outputs": [],
   "source": [
    "from pyspark import SparkContext\n",
    "from datetime import datetime"
   ]
  },
  {
   "cell_type": "markdown",
   "id": "pending-channels",
   "metadata": {},
   "source": [
    "### Spark\n",
    "\n",
    "\n",
    "Create a new SparkContext"
   ]
  },
  {
   "cell_type": "code",
   "execution_count": 2,
   "id": "turkish-snapshot",
   "metadata": {},
   "outputs": [],
   "source": [
    "sc = SparkContext(appName=\"Assignment_conditions\")"
   ]
  },
  {
   "cell_type": "code",
   "execution_count": 8,
   "id": "extreme-harvest",
   "metadata": {},
   "outputs": [],
   "source": [
    "threshold=10"
   ]
  },
  {
   "cell_type": "markdown",
   "id": "adverse-contrast",
   "metadata": {},
   "source": [
    "#### Read data\n",
    "\n",
    "Here we read the test data and map it by splitting by \",\" and ignoring the header row."
   ]
  },
  {
   "cell_type": "code",
   "execution_count": 4,
   "id": "coated-mexican",
   "metadata": {},
   "outputs": [
    {
     "data": {
      "text/plain": [
       "[['2017-01-14',\n",
       "  '2017-03-30',\n",
       "  '09e4e8cb-29c2-4ef4-86c0-a6ff0ba25d2a',\n",
       "  '88e540ab-a7d7-47de-93c1-720a06f3d601',\n",
       "  '65363002',\n",
       "  'Otitis media']]"
      ]
     },
     "execution_count": 4,
     "metadata": {},
     "output_type": "execute_result"
    }
   ],
   "source": [
    "data = sc.textFile(\"testing.csv\")\n",
    "data = data.map(lambda line: line.split(\",\")).filter(lambda v: v[0]!=\"START\")\n",
    "data.take(1)\n"
   ]
  },
  {
   "cell_type": "markdown",
   "id": "oriental-people",
   "metadata": {},
   "source": [
    "### Reorganize data\n",
    "\n",
    "Next we map the unique conditions by their code and respective description"
   ]
  },
  {
   "cell_type": "code",
   "execution_count": 5,
   "id": "handy-paris",
   "metadata": {},
   "outputs": [
    {
     "data": {
      "text/plain": [
       "[(65363002, 'Otitis media'),\n",
       " (444814009, 'Viral sinusitis (disorder)'),\n",
       " (233678006, 'Childhood asthma'),\n",
       " (232353008, 'Perennial allergic rhinitis with seasonal variation'),\n",
       " (446096008, 'Perennial allergic rhinitis')]"
      ]
     },
     "execution_count": 5,
     "metadata": {},
     "output_type": "execute_result"
    }
   ],
   "source": [
    "condition_map = data.map(lambda line: (int(line[4]),line[5])) \\\n",
    ".distinct()#reduceByKey(lambda val1, val2: val1)\n",
    "\n",
    "condition_map.take(5)"
   ]
  },
  {
   "cell_type": "markdown",
   "id": "convertible-treat",
   "metadata": {},
   "source": [
    "And save the data  to new file"
   ]
  },
  {
   "cell_type": "code",
   "execution_count": 6,
   "id": "foreign-instrument",
   "metadata": {},
   "outputs": [],
   "source": [
    "format_time = datetime.now().strftime(\"%Y-%m-%dT%H:%M:%S\")\n",
    "condition_map.saveAsTextFile(\"{0}/{1}\".format(\"condition_map\", format_time))\n"
   ]
  },
  {
   "cell_type": "markdown",
   "id": "alone-likelihood",
   "metadata": {},
   "source": [
    "Here we get all the unique patient-condition pairs to a map.\n",
    "\n",
    "?\n",
    "We map by patient-(condition) code, group it by key and "
   ]
  },
  {
   "cell_type": "code",
   "execution_count": 44,
   "id": "present-national",
   "metadata": {},
   "outputs": [
    {
     "data": {
      "text/plain": [
       "[[446096008, 283371005, 284551006, 444814009, 72892002, 195662009],\n",
       " [44465007, 307731004, 10509002, 444814009, 72892002, 195662009],\n",
       " [65966004, 55822004, 162864005, 24079001],\n",
       " [64859006, 70704007, 40055000, 59621000, 444814009, 162864005],\n",
       " [156073000,\n",
       "  19169002,\n",
       "  55822004,\n",
       "  82423001,\n",
       "  15777000,\n",
       "  10509002,\n",
       "  40055000,\n",
       "  72892002,\n",
       "  444814009,\n",
       "  75498004]]"
      ]
     },
     "execution_count": 44,
     "metadata": {},
     "output_type": "execute_result"
    }
   ],
   "source": [
    "#Map by PATIENT-(CONDITION)CODE, \n",
    "patient_rdd2 = data.map(lambda line: (line[2],line[4])) \\\n",
    ".groupByKey() \\\n",
    ".map(lambda tp: [int(j) for j in set(tp[1])]) \n",
    "# .map(lambda k: (k[0],[int[j] for j in k[1]]))\n",
    "\n",
    "patient_rdd2.take(5)"
   ]
  },
  {
   "cell_type": "markdown",
   "id": "joint-interim",
   "metadata": {},
   "source": [
    "### Most frequent"
   ]
  },
  {
   "cell_type": "raw",
   "id": "assisted-anniversary",
   "metadata": {},
   "source": [
    "Here we map the most frequent conditions and their counts.\n",
    "\n",
    "flatMap: We flatmap them by key, and set their value to 1;\n",
    "reduceByKey: We reduce by key and make all keys unique and their values their respective counts;\n",
    "sortBy: We sort it by decreasingly by their count;\n",
    "filter: And finally we apply the threshold, keeping only the ones that have higher counts than it. "
   ]
  },
  {
   "cell_type": "code",
   "execution_count": 59,
   "id": "acting-world",
   "metadata": {},
   "outputs": [
    {
     "data": {
      "text/plain": [
       "[(444814009, 95),\n",
       " (195662009, 69),\n",
       " (10509002, 58),\n",
       " (162864005, 43),\n",
       " (59621000, 34),\n",
       " (15777000, 32),\n",
       " (271737000, 32),\n",
       " (40055000, 30),\n",
       " (72892002, 25),\n",
       " (65363002, 22)]"
      ]
     },
     "execution_count": 59,
     "metadata": {},
     "output_type": "execute_result"
    }
   ],
   "source": [
    "frequent_singles = patient_rdd2 \\\n",
    ".flatMap(lambda l: [(i,1) for i in l]) \\\n",
    ".reduceByKey(lambda v1,v2:v1+v2) \\\n",
    ".sortBy(lambda a:a[1],False) \\\n",
    ".filter(lambda k: k[1]>threshold)\n",
    "\n",
    "frequent_singles.take(10)"
   ]
  },
  {
   "cell_type": "markdown",
   "id": "egyptian-technical",
   "metadata": {},
   "source": [
    "# coment here"
   ]
  },
  {
   "cell_type": "code",
   "execution_count": 30,
   "id": "greek-ticket",
   "metadata": {},
   "outputs": [
    {
     "name": "stdout",
     "output_type": "stream",
     "text": [
      "{444814009, 10509002, 195662009, 162864005}\n"
     ]
    }
   ],
   "source": [
    "freq_single_item_set = set([k[0] for k in frequent_singles.collect()])\n",
    "print(freq_single_item_set)"
   ]
  },
  {
   "cell_type": "code",
   "execution_count": 31,
   "id": "former-account",
   "metadata": {},
   "outputs": [],
   "source": [
    "def pair_forming(list):\n",
    "    pairs=[]\n",
    "    list.sort()\n",
    "    for i in range(0,len(list)):\n",
    "        if list[i] in freq_single_item_set:\n",
    "            for j in range(i+1,len(list)):\n",
    "                if  list[i]!=list[j] and list[j] in freq_single_item_set:\n",
    "                    pairs.append((list[i],list[j]))\n",
    "    return pairs"
   ]
  },
  {
   "cell_type": "code",
   "execution_count": 32,
   "id": "posted-making",
   "metadata": {},
   "outputs": [],
   "source": [
    "def triple_forming(list):\n",
    "    triples=[]\n",
    "    pairs = pair_forming(list)\n",
    "    for i,j in pairs:\n",
    "        for k in list:\n",
    "            if (i,j) in frequent_pairs and k in freq_single_item_set and k!=i and k!=j:#or (j,i) in frequent_pairs#prob unecessary\n",
    "                  triples.append(tuple(sorted([i,j,k])))\n",
    "    return triples"
   ]
  },
  {
   "cell_type": "code",
   "execution_count": 23,
   "id": "tough-wayne",
   "metadata": {},
   "outputs": [
    {
     "data": {
      "text/plain": [
       "[((195662009, 444814009), 44)]"
      ]
     },
     "execution_count": 23,
     "metadata": {},
     "output_type": "execute_result"
    }
   ],
   "source": [
    "###COUNTING PAIRS\n",
    "pair_count = patient_rdd2.flatMap(pair_forming).map(lambda p:(p,1)).reduceByKey(lambda v1,v2: v1+v2).filter(lambda tp:tp[1]>=threshold)\n",
    "pair_count.sortBy(lambda a: a[1],False).take(10)"
   ]
  },
  {
   "cell_type": "code",
   "execution_count": 24,
   "id": "sudden-stamp",
   "metadata": {},
   "outputs": [
    {
     "name": "stdout",
     "output_type": "stream",
     "text": [
      "{(195662009, 444814009)}\n"
     ]
    }
   ],
   "source": [
    "###FREQUENT PAIR SET\n",
    "frequent_pairs = set(pair_count.map(lambda tp:tp[0]).collect())\n",
    "print(frequent_pairs)"
   ]
  },
  {
   "cell_type": "code",
   "execution_count": 25,
   "id": "covered-strike",
   "metadata": {},
   "outputs": [
    {
     "data": {
      "text/plain": [
       "[]"
      ]
     },
     "execution_count": 25,
     "metadata": {},
     "output_type": "execute_result"
    }
   ],
   "source": [
    "###COUNTING TRIPLES\n",
    "triple_count = patient_rdd2.flatMap(triple_forming).map(lambda p:(p,1)).reduceByKey(lambda v1,v2: v1+v2).filter(lambda tp:tp[1]>=threshold)\n",
    "triple_count.sortBy(lambda a: a[1], False).take(10)"
   ]
  },
  {
   "cell_type": "code",
   "execution_count": 26,
   "id": "laughing-albany",
   "metadata": {},
   "outputs": [
    {
     "name": "stdout",
     "output_type": "stream",
     "text": [
      "set()\n"
     ]
    }
   ],
   "source": [
    "###FREQUENT TRIPLE SET\n",
    "frequent_triples = set(triple_count.map(lambda tp:tp[0]).collect())\n",
    "print(frequent_triples)"
   ]
  },
  {
   "cell_type": "code",
   "execution_count": 27,
   "id": "incomplete-truth",
   "metadata": {},
   "outputs": [
    {
     "data": {
      "text/plain": [
       "152"
      ]
     },
     "execution_count": 27,
     "metadata": {},
     "output_type": "execute_result"
    }
   ],
   "source": [
    "min_std_lift = 0.2\n",
    "n_baskets"
   ]
  },
  {
   "cell_type": "code",
   "execution_count": 28,
   "id": "increased-front",
   "metadata": {},
   "outputs": [],
   "source": [
    "def confidence_1to1(item1, item2):\n",
    "    pass\n"
   ]
  },
  {
   "cell_type": "code",
   "execution_count": null,
   "id": "former-locator",
   "metadata": {},
   "outputs": [],
   "source": []
  },
  {
   "cell_type": "code",
   "execution_count": null,
   "id": "detected-cursor",
   "metadata": {},
   "outputs": [],
   "source": []
  },
  {
   "cell_type": "code",
   "execution_count": null,
   "id": "exotic-america",
   "metadata": {},
   "outputs": [],
   "source": []
  },
  {
   "cell_type": "code",
   "execution_count": null,
   "id": "necessary-accounting",
   "metadata": {},
   "outputs": [],
   "source": []
  },
  {
   "cell_type": "code",
   "execution_count": null,
   "id": "operating-briefs",
   "metadata": {},
   "outputs": [],
   "source": []
  },
  {
   "cell_type": "code",
   "execution_count": null,
   "id": "industrial-coating",
   "metadata": {},
   "outputs": [],
   "source": []
  },
  {
   "cell_type": "code",
   "execution_count": null,
   "id": "professional-founder",
   "metadata": {},
   "outputs": [],
   "source": []
  },
  {
   "cell_type": "code",
   "execution_count": null,
   "id": "discrete-soundtrack",
   "metadata": {},
   "outputs": [],
   "source": []
  },
  {
   "cell_type": "code",
   "execution_count": null,
   "id": "necessary-threat",
   "metadata": {},
   "outputs": [],
   "source": []
  },
  {
   "cell_type": "code",
   "execution_count": null,
   "id": "catholic-vector",
   "metadata": {},
   "outputs": [],
   "source": []
  },
  {
   "cell_type": "code",
   "execution_count": null,
   "id": "aware-bride",
   "metadata": {},
   "outputs": [],
   "source": []
  }
 ],
 "metadata": {
  "kernelspec": {
   "display_name": "Python 3",
   "language": "python",
   "name": "python3"
  },
  "language_info": {
   "codemirror_mode": {
    "name": "ipython",
    "version": 3
   },
   "file_extension": ".py",
   "mimetype": "text/x-python",
   "name": "python",
   "nbconvert_exporter": "python",
   "pygments_lexer": "ipython3",
   "version": "3.8.8"
  }
 },
 "nbformat": 4,
 "nbformat_minor": 5
}
